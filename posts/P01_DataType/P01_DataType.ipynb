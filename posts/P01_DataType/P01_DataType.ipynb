{
 "cells": [
  {
   "cell_type": "raw",
   "metadata": {},
   "source": [
    "---\n",
    "title: \"P01_DataType\"\n",
    "author: \"김수환\"\n",
    "date: \"12/16/2024\"\n",
    "---"
   ]
  },
  {
   "cell_type": "markdown",
   "metadata": {
    "id": "sBWtwXYUy91m"
   },
   "source": [
    "\n",
    "<h1><center></center></h1>\n",
    "<div align=\"center\">\n",
    "<h1>  데이터과학프로그래밍 (Python) </h1>\n",
    "</div>\n",
    "\n",
    "<h3><center>2024년 2학기</center></h3>\n",
    "\n",
    "<h3><center> 전북대 통계학과 김광수 </center></h3>\n",
    "\n",
    "##Python의 기초##"
   ]
  },
  {
   "cell_type": "markdown",
   "metadata": {
    "id": "Gn_0PrQzy91q"
   },
   "source": [
    "**Python**는 1980년대 후반에 Guido Van Rossum이 개발한 인터프리터 언어(한 줄씩 소스 코드를 해석해서 실행해 결과를 바로 확인할 수 있는 언어)로 문법이 쉬워 빨리 배울 수 있고, 공동 작업과 유지 보수가 매우 쉽고 편한 언어이다.\n",
    "\n",
    "본 강의에서는 **Python**의 기본적인 사용법을 익히고, `Numpy`, `Pandas`, `Matplotlib`, `Seaborn`, `Plotnine`등 데이터 사이언스(Data Science)에 필요한 기초적인 핵심 패키지의 사용법에 대해 학습한다."
   ]
  },
  {
   "cell_type": "markdown",
   "metadata": {
    "id": "J4kaKSCey91q"
   },
   "source": [
    "## Python 설치\n",
    "\n",
    "**Python**의 설치는 직접 홈페이지(https://www.python.org) 에 들어가 프로그램을 다운받아 설치하는 방법과 **Anaconda** (https://www.anaconda.com) 를 설치하는 방법이 있다."
   ]
  },
  {
   "cell_type": "markdown",
   "metadata": {
    "id": "Qb3U_kUOy91r"
   },
   "source": [
    "## Python 에디터\n",
    "\n",
    "**Python**프로그램을 작성하기 위해서는 인터프리터보다 에디터를 이용해서 작성하는 것이 편하다. 다음은 잘 알려진 에디터이다.\n",
    "\n",
    "1. PyCharm\n",
    "2. Spyder\n",
    "3. Atom\n",
    "4. Notepad++\n",
    "5. Sublimetext\n",
    "6. etc.\n",
    "\n",
    "**크게 리눅스 계열과 윈도우 계열 두 개로 구분된다.**"
   ]
  },
  {
   "cell_type": "markdown",
   "metadata": {
    "id": "Xir_BoCry91r"
   },
   "source": [
    "## Python 실행"
   ]
  },
  {
   "cell_type": "code",
   "execution_count": null,
   "metadata": {
    "colab": {
     "base_uri": "https://localhost:8080/"
    },
    "executionInfo": {
     "elapsed": 648,
     "status": "ok",
     "timestamp": 1725170565864,
     "user": {
      "displayName": "김광수",
      "userId": "04260902725982947063"
     },
     "user_tz": -540
    },
    "id": "fto6RMq0y91s",
    "outputId": "62dbfdc8-e562-420f-9c71-972f5b435cba"
   },
   "outputs": [
    {
     "name": "stdout",
     "output_type": "stream",
     "text": [
      "Hello world!\n"
     ]
    }
   ],
   "source": [
    "print(\"Hello world!\")  # Hello world!를 화면에 출력한다."
   ]
  },
  {
   "cell_type": "code",
   "execution_count": null,
   "metadata": {
    "colab": {
     "base_uri": "https://localhost:8080/"
    },
    "executionInfo": {
     "elapsed": 6,
     "status": "ok",
     "timestamp": 1725170565864,
     "user": {
      "displayName": "김광수",
      "userId": "04260902725982947063"
     },
     "user_tz": -540
    },
    "id": "UFWRuP5-y91t",
    "outputId": "b84d686d-ded7-4861-994a-4f5bfdb57b03"
   },
   "outputs": [
    {
     "data": {
      "text/plain": [
       "3"
      ]
     },
     "execution_count": 2,
     "metadata": {},
     "output_type": "execute_result"
    }
   ],
   "source": [
    "1 + 2"
   ]
  },
  {
   "cell_type": "code",
   "execution_count": null,
   "metadata": {
    "colab": {
     "base_uri": "https://localhost:8080/"
    },
    "executionInfo": {
     "elapsed": 499,
     "status": "ok",
     "timestamp": 1725170566359,
     "user": {
      "displayName": "김광수",
      "userId": "04260902725982947063"
     },
     "user_tz": -540
    },
    "id": "XaLmRe-Ry91u",
    "outputId": "801d7e25-aa00-41c2-a03f-a7310be5101e"
   },
   "outputs": [
    {
     "data": {
      "text/plain": [
       "1.25"
      ]
     },
     "execution_count": 3,
     "metadata": {},
     "output_type": "execute_result"
    }
   ],
   "source": [
    "3 / 2.4"
   ]
  },
  {
   "cell_type": "code",
   "execution_count": null,
   "metadata": {
    "colab": {
     "base_uri": "https://localhost:8080/"
    },
    "executionInfo": {
     "elapsed": 4,
     "status": "ok",
     "timestamp": 1725170566359,
     "user": {
      "displayName": "김광수",
      "userId": "04260902725982947063"
     },
     "user_tz": -540
    },
    "id": "USeFBh4Uy91v",
    "outputId": "d728f5ad-e89a-4931-f82d-b964da5e44d8"
   },
   "outputs": [
    {
     "data": {
      "text/plain": [
       "3"
      ]
     },
     "execution_count": 4,
     "metadata": {},
     "output_type": "execute_result"
    }
   ],
   "source": [
    "a = 1\n",
    "b = 2\n",
    "a + b"
   ]
  },
  {
   "cell_type": "code",
   "execution_count": null,
   "metadata": {
    "colab": {
     "base_uri": "https://localhost:8080/"
    },
    "executionInfo": {
     "elapsed": 486,
     "status": "ok",
     "timestamp": 1725170568999,
     "user": {
      "displayName": "김광수",
      "userId": "04260902725982947063"
     },
     "user_tz": -540
    },
    "id": "KxAgUWKMuev7",
    "outputId": "e3a8906e-a117-4d38-c9dd-b9b2028046e6"
   },
   "outputs": [
    {
     "data": {
      "text/plain": [
       "1.5"
      ]
     },
     "execution_count": 5,
     "metadata": {},
     "output_type": "execute_result"
    }
   ],
   "source": [
    "3/2.0"
   ]
  },
  {
   "cell_type": "markdown",
   "metadata": {
    "id": "GKzyAy6sy91v"
   },
   "source": [
    "## Python의 자료형"
   ]
  },
  {
   "cell_type": "markdown",
   "metadata": {
    "id": "brLzAPWCy91w"
   },
   "source": [
    "### 객체 (변수)\n",
    "\n",
    "**객체(변수)**란 값을 저장하는 공간을 말한다. 예를 들어 ``a = 3``에서 ``a``는 정수 ``3``이라는 값을 가지는 변수이다. 변수는 값이 저장된 메모리의 위치를 가리키는 **레퍼런스 (Reference)**라고도 한다."
   ]
  },
  {
   "cell_type": "markdown",
   "metadata": {
    "id": "CkVqfclsy91w"
   },
   "source": [
    "### 변수명\n",
    "\n",
    "변수명은 숫자, 문자(대문자, 소문자), 밑줄을 사용하여 정의할 수 있다. 단, 시작은 문자 혹은 밑줄로 시작하여야 하며, 대소문자를 구분한다(*case sensitive*)."
   ]
  },
  {
   "cell_type": "code",
   "execution_count": null,
   "metadata": {
    "colab": {
     "base_uri": "https://localhost:8080/"
    },
    "executionInfo": {
     "elapsed": 497,
     "status": "ok",
     "timestamp": 1725170599367,
     "user": {
      "displayName": "김광수",
      "userId": "04260902725982947063"
     },
     "user_tz": -540
    },
    "id": "r9RR2RGey91w",
    "outputId": "9c15fd42-78f9-4718-b193-cf1893d13a7a"
   },
   "outputs": [
    {
     "name": "stdout",
     "output_type": "stream",
     "text": [
      "1 1.0 1.0 1.0 1.0 3\n"
     ]
    }
   ],
   "source": [
    "x = 1\n",
    "X = 1.0\n",
    "X1 = 1.0\n",
    "x1 = 1.0\n",
    "_x = 1.0\n",
    "x_ = 3\n",
    "\n",
    "print(x, X, X1, x1, _x, x_)"
   ]
  },
  {
   "cell_type": "markdown",
   "metadata": {
    "id": "R0geroFcy91x"
   },
   "source": [
    "여러 변수들을 한번에 정의할 수 있다. 이를 *unpacking*이라고 한다.  "
   ]
  },
  {
   "cell_type": "code",
   "execution_count": null,
   "metadata": {
    "id": "uDqKNaWiy91x"
   },
   "outputs": [],
   "source": [
    "[x, y, z] = [1, 3.14, 2.0]"
   ]
  },
  {
   "cell_type": "code",
   "execution_count": null,
   "metadata": {
    "colab": {
     "base_uri": "https://localhost:8080/"
    },
    "executionInfo": {
     "elapsed": 8,
     "status": "ok",
     "timestamp": 1725170613176,
     "user": {
      "displayName": "김광수",
      "userId": "04260902725982947063"
     },
     "user_tz": -540
    },
    "id": "3zbEw1e6y91x",
    "outputId": "ceeac95b-d1c3-498e-f06f-5e24eace3c5e"
   },
   "outputs": [
    {
     "name": "stdout",
     "output_type": "stream",
     "text": [
      "1 3.14 2.0\n"
     ]
    }
   ],
   "source": [
    "print(x, y, z)"
   ]
  },
  {
   "cell_type": "markdown",
   "metadata": {
    "id": "HVcet4kUy91y"
   },
   "source": [
    "### 숫자형\n",
    "\n",
    "숫자형(number)이란 숫자 형태로 이루어진 자료형으로, 정수(integer), 실수(floating-point), 복소수(complex)등이 있다."
   ]
  },
  {
   "cell_type": "markdown",
   "metadata": {
    "id": "nlEfPILty91y"
   },
   "source": [
    "#### 실수(float)\n",
    "\n",
    "수치계산을 위해 가장 중요한 숫자형으로 점(**dot**)을 포함하여 정의한다."
   ]
  },
  {
   "cell_type": "code",
   "execution_count": null,
   "metadata": {
    "colab": {
     "base_uri": "https://localhost:8080/"
    },
    "executionInfo": {
     "elapsed": 547,
     "status": "ok",
     "timestamp": 1725170632647,
     "user": {
      "displayName": "김광수",
      "userId": "04260902725982947063"
     },
     "user_tz": -540
    },
    "id": "ZCCQHH7ky91y",
    "outputId": "90ceb8f7-2e04-40ea-e141-7599719937a1"
   },
   "outputs": [
    {
     "data": {
      "text/plain": [
       "int"
      ]
     },
     "execution_count": 9,
     "metadata": {},
     "output_type": "execute_result"
    }
   ],
   "source": [
    "x = 1\n",
    "type(x)"
   ]
  },
  {
   "cell_type": "code",
   "execution_count": null,
   "metadata": {
    "colab": {
     "base_uri": "https://localhost:8080/"
    },
    "executionInfo": {
     "elapsed": 472,
     "status": "ok",
     "timestamp": 1725170635620,
     "user": {
      "displayName": "김광수",
      "userId": "04260902725982947063"
     },
     "user_tz": -540
    },
    "id": "47u5y2CWy91y",
    "outputId": "7fb09ed5-a418-48dc-8907-cc81e2b47dfa"
   },
   "outputs": [
    {
     "data": {
      "text/plain": [
       "float"
      ]
     },
     "execution_count": 10,
     "metadata": {},
     "output_type": "execute_result"
    }
   ],
   "source": [
    "x = 1.0\n",
    "type(x)"
   ]
  },
  {
   "cell_type": "code",
   "execution_count": null,
   "metadata": {
    "colab": {
     "base_uri": "https://localhost:8080/"
    },
    "executionInfo": {
     "elapsed": 471,
     "status": "ok",
     "timestamp": 1725170639137,
     "user": {
      "displayName": "김광수",
      "userId": "04260902725982947063"
     },
     "user_tz": -540
    },
    "id": "5C_T5yR4y91z",
    "outputId": "ae462c86-3a42-4602-c29e-3b1b74333874"
   },
   "outputs": [
    {
     "data": {
      "text/plain": [
       "float"
      ]
     },
     "execution_count": 11,
     "metadata": {},
     "output_type": "execute_result"
    }
   ],
   "source": [
    "x = float(1)\n",
    "type(x)"
   ]
  },
  {
   "cell_type": "code",
   "execution_count": null,
   "metadata": {
    "colab": {
     "base_uri": "https://localhost:8080/"
    },
    "executionInfo": {
     "elapsed": 485,
     "status": "ok",
     "timestamp": 1725170642913,
     "user": {
      "displayName": "김광수",
      "userId": "04260902725982947063"
     },
     "user_tz": -540
    },
    "id": "KdaHmgNty91z",
    "outputId": "fb0a7146-8e86-484b-d212-cec05cc686e4"
   },
   "outputs": [
    {
     "name": "stdout",
     "output_type": "stream",
     "text": [
      "42400000000.0\n"
     ]
    }
   ],
   "source": [
    "x = 4.24E10\n",
    "print(x)"
   ]
  },
  {
   "cell_type": "code",
   "execution_count": null,
   "metadata": {
    "colab": {
     "base_uri": "https://localhost:8080/"
    },
    "executionInfo": {
     "elapsed": 3,
     "status": "ok",
     "timestamp": 1725170644438,
     "user": {
      "displayName": "김광수",
      "userId": "04260902725982947063"
     },
     "user_tz": -540
    },
    "id": "7AXs5Pley91z",
    "outputId": "a3ea0657-57b6-4f51-dd7a-20e7edba4f1e"
   },
   "outputs": [
    {
     "name": "stdout",
     "output_type": "stream",
     "text": [
      "4.24e-10\n"
     ]
    }
   ],
   "source": [
    "x = 4.24e-10\n",
    "print(x)"
   ]
  },
  {
   "cell_type": "markdown",
   "metadata": {
    "id": "VUaIZQFiy91z"
   },
   "source": [
    "#### 복소수\n",
    "\n",
    "복소수는 `j` 또는 `complex()`를 이용하여 정의한다."
   ]
  },
  {
   "cell_type": "code",
   "execution_count": null,
   "metadata": {
    "colab": {
     "base_uri": "https://localhost:8080/"
    },
    "executionInfo": {
     "elapsed": 494,
     "status": "ok",
     "timestamp": 1725170646724,
     "user": {
      "displayName": "김광수",
      "userId": "04260902725982947063"
     },
     "user_tz": -540
    },
    "id": "COFkq_Fhy91z",
    "outputId": "9449e10a-81c5-4221-9d1d-b6eae7b98fc2"
   },
   "outputs": [
    {
     "data": {
      "text/plain": [
       "float"
      ]
     },
     "execution_count": 14,
     "metadata": {},
     "output_type": "execute_result"
    }
   ],
   "source": [
    "x = 1.0\n",
    "type(x)"
   ]
  },
  {
   "cell_type": "code",
   "execution_count": null,
   "metadata": {
    "colab": {
     "base_uri": "https://localhost:8080/"
    },
    "executionInfo": {
     "elapsed": 491,
     "status": "ok",
     "timestamp": 1725170649769,
     "user": {
      "displayName": "김광수",
      "userId": "04260902725982947063"
     },
     "user_tz": -540
    },
    "id": "gbOJkGu-y91z",
    "outputId": "2cf88e41-16e8-4a2a-b770-e56101befea1"
   },
   "outputs": [
    {
     "data": {
      "text/plain": [
       "complex"
      ]
     },
     "execution_count": 15,
     "metadata": {},
     "output_type": "execute_result"
    }
   ],
   "source": [
    "x = 1j\n",
    "type(x)"
   ]
  },
  {
   "cell_type": "code",
   "execution_count": null,
   "metadata": {
    "colab": {
     "base_uri": "https://localhost:8080/"
    },
    "executionInfo": {
     "elapsed": 2,
     "status": "ok",
     "timestamp": 1722785606661,
     "user": {
      "displayName": "김광수",
      "userId": "04260902725982947063"
     },
     "user_tz": -540
    },
    "id": "s47umMMKy910",
    "outputId": "0877553c-97c5-4a4c-9e18-a966bb6b3ac0"
   },
   "outputs": [
    {
     "name": "stdout",
     "output_type": "stream",
     "text": [
      "(2+3j)\n"
     ]
    }
   ],
   "source": [
    "x = 2 + 3j\n",
    "print(x)"
   ]
  },
  {
   "cell_type": "code",
   "execution_count": null,
   "metadata": {
    "colab": {
     "base_uri": "https://localhost:8080/"
    },
    "executionInfo": {
     "elapsed": 527,
     "status": "ok",
     "timestamp": 1725170661423,
     "user": {
      "displayName": "김광수",
      "userId": "04260902725982947063"
     },
     "user_tz": -540
    },
    "id": "esh4EGjWy910",
    "outputId": "f4240b9b-8581-4299-90de-937eeb596d76"
   },
   "outputs": [
    {
     "name": "stdout",
     "output_type": "stream",
     "text": [
      "0.0 1.0\n"
     ]
    }
   ],
   "source": [
    "# real and imginary parts.\n",
    "print(x.real, x.imag)"
   ]
  },
  {
   "cell_type": "code",
   "execution_count": null,
   "metadata": {
    "colab": {
     "base_uri": "https://localhost:8080/"
    },
    "executionInfo": {
     "elapsed": 479,
     "status": "ok",
     "timestamp": 1725170691337,
     "user": {
      "displayName": "김광수",
      "userId": "04260902725982947063"
     },
     "user_tz": -540
    },
    "id": "9S1e7Zsqy910",
    "outputId": "664685af-9848-446f-bf35-c6bba217dfe7"
   },
   "outputs": [
    {
     "name": "stdout",
     "output_type": "stream",
     "text": [
      "(1+0j)\n"
     ]
    }
   ],
   "source": [
    "x = complex(1)\n",
    "print(x)"
   ]
  },
  {
   "cell_type": "markdown",
   "metadata": {
    "id": "JcEvPS7ly910"
   },
   "source": [
    "#### 정수\n",
    "\n",
    "정수형은 실수와 달리 근사치를 사용하지 않는다. 즉, 정확한 숫자를 저장한다."
   ]
  },
  {
   "cell_type": "code",
   "execution_count": null,
   "metadata": {
    "colab": {
     "base_uri": "https://localhost:8080/"
    },
    "executionInfo": {
     "elapsed": 607,
     "status": "ok",
     "timestamp": 1725170695089,
     "user": {
      "displayName": "김광수",
      "userId": "04260902725982947063"
     },
     "user_tz": -540
    },
    "id": "LWjjHV-ry910",
    "outputId": "d13c509e-ac2f-4e83-f958-81a21aef1ef0"
   },
   "outputs": [
    {
     "data": {
      "text/plain": [
       "int"
      ]
     },
     "execution_count": 18,
     "metadata": {},
     "output_type": "execute_result"
    }
   ],
   "source": [
    "x = 1\n",
    "type(x)"
   ]
  },
  {
   "cell_type": "code",
   "execution_count": null,
   "metadata": {
    "colab": {
     "base_uri": "https://localhost:8080/"
    },
    "executionInfo": {
     "elapsed": 485,
     "status": "ok",
     "timestamp": 1725170699004,
     "user": {
      "displayName": "김광수",
      "userId": "04260902725982947063"
     },
     "user_tz": -540
    },
    "id": "ZMC1rP08y910",
    "outputId": "5b393b2a-8389-419c-c750-4f15ce83870f"
   },
   "outputs": [
    {
     "data": {
      "text/plain": [
       "float"
      ]
     },
     "execution_count": 19,
     "metadata": {},
     "output_type": "execute_result"
    }
   ],
   "source": [
    "x = 1.0\n",
    "type(x)"
   ]
  },
  {
   "cell_type": "code",
   "execution_count": null,
   "metadata": {
    "colab": {
     "base_uri": "https://localhost:8080/"
    },
    "executionInfo": {
     "elapsed": 454,
     "status": "ok",
     "timestamp": 1725170701105,
     "user": {
      "displayName": "김광수",
      "userId": "04260902725982947063"
     },
     "user_tz": -540
    },
    "id": "hSJuu9Eay910",
    "outputId": "4a6d1391-3874-44fa-a4d4-67b0db4834f7"
   },
   "outputs": [
    {
     "data": {
      "text/plain": [
       "int"
      ]
     },
     "execution_count": 20,
     "metadata": {},
     "output_type": "execute_result"
    }
   ],
   "source": [
    "x = int(x)\n",
    "type(x)"
   ]
  },
  {
   "cell_type": "markdown",
   "metadata": {
    "id": "uJyQPLjUy911"
   },
   "source": [
    "**bold text**정수를 저장하는 공간은 동적(dynamic)이기 때문에 범위의 제한이 상대적으로 적다."
   ]
  },
  {
   "cell_type": "code",
   "execution_count": null,
   "metadata": {
    "colab": {
     "base_uri": "https://localhost:8080/"
    },
    "executionInfo": {
     "elapsed": 465,
     "status": "ok",
     "timestamp": 1725170711795,
     "user": {
      "displayName": "김광수",
      "userId": "04260902725982947063"
     },
     "user_tz": -540
    },
    "id": "UDz5yiNMy911",
    "outputId": "39801f16-d913-4495-c0c7-bbddf3232bc0"
   },
   "outputs": [
    {
     "name": "stdout",
     "output_type": "stream",
     "text": [
      "178405961588244985132285783074675039466946560\n"
     ]
    }
   ],
   "source": [
    "x = 2 ** 147 + 2 ** 65  # **는 거듭제곱을 나타낸다.\n",
    "print(x)"
   ]
  },
  {
   "cell_type": "markdown",
   "metadata": {
    "id": "3lV2I02Iy911"
   },
   "source": [
    "논리형 내지 불리언(Boolean)형\n",
    "\n",
    "불리언(boolean) 자료형은 참(true)과 거짓(false)을 나타내기 위해 사용하는 자료형으로 키워드(keyword) ``True``와 ``False``를 사용하여 정의한다. 불리언 자료는 논리연산에 중요한 역활을 한다."
   ]
  },
  {
   "cell_type": "code",
   "execution_count": null,
   "metadata": {
    "colab": {
     "base_uri": "https://localhost:8080/"
    },
    "executionInfo": {
     "elapsed": 4,
     "status": "ok",
     "timestamp": 1725170720076,
     "user": {
      "displayName": "김광수",
      "userId": "04260902725982947063"
     },
     "user_tz": -540
    },
    "id": "N4mkcGxiy911",
    "outputId": "c3a9c415-0871-4c09-f55c-bb25ce68cea6"
   },
   "outputs": [
    {
     "data": {
      "text/plain": [
       "bool"
      ]
     },
     "execution_count": 23,
     "metadata": {},
     "output_type": "execute_result"
    }
   ],
   "source": [
    "x = True\n",
    "type(x)"
   ]
  },
  {
   "cell_type": "code",
   "execution_count": null,
   "metadata": {
    "colab": {
     "base_uri": "https://localhost:8080/"
    },
    "executionInfo": {
     "elapsed": 605,
     "status": "ok",
     "timestamp": 1725170724582,
     "user": {
      "displayName": "김광수",
      "userId": "04260902725982947063"
     },
     "user_tz": -540
    },
    "id": "sgp-8Ntqy911",
    "outputId": "d85d0dde-47e6-41e2-b727-07ad337af090"
   },
   "outputs": [
    {
     "data": {
      "text/plain": [
       "bool"
      ]
     },
     "execution_count": 24,
     "metadata": {},
     "output_type": "execute_result"
    }
   ],
   "source": [
    "x = bool(1)\n",
    "type(x)"
   ]
  },
  {
   "cell_type": "code",
   "execution_count": null,
   "metadata": {
    "colab": {
     "base_uri": "https://localhost:8080/"
    },
    "executionInfo": {
     "elapsed": 452,
     "status": "ok",
     "timestamp": 1725170727367,
     "user": {
      "displayName": "김광수",
      "userId": "04260902725982947063"
     },
     "user_tz": -540
    },
    "id": "aDJmESzhy911",
    "outputId": "b7a2c0a5-1657-4837-c4d4-f0dd657949aa"
   },
   "outputs": [
    {
     "name": "stdout",
     "output_type": "stream",
     "text": [
      "False\n"
     ]
    },
    {
     "data": {
      "text/plain": [
       "bool"
      ]
     },
     "execution_count": 25,
     "metadata": {},
     "output_type": "execute_result"
    }
   ],
   "source": [
    "x = bool(0)\n",
    "print(x)\n",
    "type(x)"
   ]
  },
  {
   "cell_type": "code",
   "execution_count": null,
   "metadata": {
    "colab": {
     "base_uri": "https://localhost:8080/"
    },
    "executionInfo": {
     "elapsed": 463,
     "status": "ok",
     "timestamp": 1725170734051,
     "user": {
      "displayName": "김광수",
      "userId": "04260902725982947063"
     },
     "user_tz": -540
    },
    "id": "8bMrIU1ky912",
    "outputId": "3647985d-9ff0-44eb-ded0-ecad460a6d8e"
   },
   "outputs": [
    {
     "name": "stdout",
     "output_type": "stream",
     "text": [
      "True False\n"
     ]
    }
   ],
   "source": [
    "print(bool(1), bool(0))"
   ]
  },
  {
   "cell_type": "markdown",
   "metadata": {
    "id": "P0kbN52Ky912"
   },
   "source": [
    "### 문자형\n",
    "\n",
    "문자열(string)이란 문자, 단어 등으로 구성된 문자들의 집합을 의하는 것으로 작은 따옴표(' ')와 큰 따옴표(\" \")를 이용하여 정의한다. 둘 중 하나로만 정의해서 사용해야 한다.  "
   ]
  },
  {
   "cell_type": "code",
   "execution_count": null,
   "metadata": {
    "colab": {
     "base_uri": "https://localhost:8080/"
    },
    "executionInfo": {
     "elapsed": 509,
     "status": "ok",
     "timestamp": 1725170737966,
     "user": {
      "displayName": "김광수",
      "userId": "04260902725982947063"
     },
     "user_tz": -540
    },
    "id": "tNzRjTNpy912",
    "outputId": "d7a387fb-90c3-4fe6-899c-12fa611e1239"
   },
   "outputs": [
    {
     "data": {
      "text/plain": [
       "str"
      ]
     },
     "execution_count": 27,
     "metadata": {},
     "output_type": "execute_result"
    }
   ],
   "source": [
    "x = 'abc'\n",
    "type(x)"
   ]
  },
  {
   "cell_type": "code",
   "execution_count": null,
   "metadata": {
    "colab": {
     "base_uri": "https://localhost:8080/"
    },
    "executionInfo": {
     "elapsed": 535,
     "status": "ok",
     "timestamp": 1725170742009,
     "user": {
      "displayName": "김광수",
      "userId": "04260902725982947063"
     },
     "user_tz": -540
    },
    "id": "KTlIHBC7y912",
    "outputId": "f9997393-b617-43a9-8480-42c2c47a9acb"
   },
   "outputs": [
    {
     "name": "stdout",
     "output_type": "stream",
     "text": [
      "\"A quotation!\"\n"
     ]
    }
   ],
   "source": [
    "y = '\"A quotation!\"'\n",
    "print(y)"
   ]
  },
  {
   "cell_type": "code",
   "execution_count": null,
   "metadata": {
    "colab": {
     "base_uri": "https://localhost:8080/"
    },
    "executionInfo": {
     "elapsed": 7,
     "status": "ok",
     "timestamp": 1725170744218,
     "user": {
      "displayName": "김광수",
      "userId": "04260902725982947063"
     },
     "user_tz": -540
    },
    "id": "ZBgtit6dy912",
    "outputId": "43b5534e-18b1-45ba-a0dc-0da2f64a2efb"
   },
   "outputs": [
    {
     "name": "stdout",
     "output_type": "stream",
     "text": [
      "\n",
      "multiple\n",
      "lines\n",
      "\n"
     ]
    }
   ],
   "source": [
    "z = \"\"\"\n",
    "multiple\n",
    "lines\n",
    "\"\"\"\n",
    "# 여러 줄의 문자들을 입력하는 방법\n",
    "print(z)"
   ]
  },
  {
   "cell_type": "markdown",
   "metadata": {
    "id": "wHvjefZ1y912"
   },
   "source": [
    "#### 인덱싱과 슬라이싱\n",
    "\n",
    "인덱싱(indexing)은 특정한 문자(또는 값)를 가리키는 것이고, 슬라이싱(slicing)은 부분 문자열을 추출하는 것이다. 시작은 0이고 마지막은 n-1이다.\n",
    "다음은 슬라이싱의 규칙이다.\n",
    "\n",
    "| 슬라이싱 | 추출된 문자열 |\n",
    "| --- | --- |\n",
    "| s[:] | 전제 문자열 |\n",
    "| s[i] | i+1번째 문자 |\n",
    "| s[i:] | i+1번째 부터 n번째 까지의 문자열 |\n",
    "| s[:i] | 처음부터 (i번째 까지의 문자열 |\n",
    "| s[i:j] | i+1번째 부터 j번째 까지의 문자열 |\n",
    "| s[i:j:m] | i+1번째 부터 j번째 까지 m개 마다 추출된 문자열 |\n",
    "| s[-i] | n-i+1번째 문자 |\n",
    "| s[-i:] | n-i+1번째 부터 n번째 까지의 문자열 |\n",
    "| s[:-i] | 처음부터 n-i번째 까지의 문자열 |\n",
    "| s[-j:-i] | n-j+1번째 부터 n-i번째 까지의 문자열, 단 -j < -i |\n",
    "| s[-j:-i:m] | n-j+1번째 부터 n-i+1번째 까지 m개 마다 추출된 문자열 |\n",
    "\n",
    "- 인텍싱은 특정 첨자 값을 반환, 슬라이싱은 특정 구간 첨자들 값을 반환, 필터링은 특정 조건을 만족하는 첨자들의 값을 반환 하는 것을 의미\n",
    "- 구문의 기본 규칙은 a:b라고 하면 (a+1)번째부터 시작해서 총 (b-a)개의 첨자를 선택 / 각 첨자는 -1씩 위치를 옮겨 놓은 것임 (R 대비)\n",
    "-  -1 첨자는 0 바로 뒤로 끝 위치를 의미  \n"
   ]
  },
  {
   "cell_type": "code",
   "execution_count": null,
   "metadata": {
    "colab": {
     "base_uri": "https://localhost:8080/"
    },
    "executionInfo": {
     "elapsed": 636,
     "status": "ok",
     "timestamp": 1725170814846,
     "user": {
      "displayName": "김광수",
      "userId": "04260902725982947063"
     },
     "user_tz": -540
    },
    "id": "i5Wh7e8py912",
    "outputId": "6f257c56-994c-4053-bd21-5258ac6e7c75"
   },
   "outputs": [
    {
     "name": "stdout",
     "output_type": "stream",
     "text": [
      "P\n",
      "e.\n",
      "Python strins are sliceabl\n"
     ]
    }
   ],
   "source": [
    "text = \"Python strins are sliceable.\"\n",
    "print(text[0])\n",
    "print(text[-2:])\n",
    "print(text[:-2])  # 양수로 첨자를 확인하고 규칙을 따름"
   ]
  },
  {
   "cell_type": "code",
   "execution_count": null,
   "metadata": {
    "colab": {
     "base_uri": "https://localhost:8080/",
     "height": 56
    },
    "executionInfo": {
     "elapsed": 649,
     "status": "ok",
     "timestamp": 1725170818908,
     "user": {
      "displayName": "김광수",
      "userId": "04260902725982947063"
     },
     "user_tz": -540
    },
    "id": "UaCB2uxYy913",
    "outputId": "811081b5-d862-447a-cbcd-d112f2503a0f"
   },
   "outputs": [
    {
     "data": {
      "application/vnd.google.colaboratory.intrinsic+json": {
       "type": "string"
      },
      "text/plain": [
       "'.'"
      ]
     },
     "execution_count": 32,
     "metadata": {},
     "output_type": "execute_result"
    }
   ],
   "source": [
    "text[-1]"
   ]
  },
  {
   "cell_type": "code",
   "execution_count": null,
   "metadata": {
    "colab": {
     "base_uri": "https://localhost:8080/",
     "height": 56
    },
    "executionInfo": {
     "elapsed": 691,
     "status": "ok",
     "timestamp": 1725170869081,
     "user": {
      "displayName": "김광수",
      "userId": "04260902725982947063"
     },
     "user_tz": -540
    },
    "id": "cZwwIeMQy913",
    "outputId": "abcb60f3-421f-4600-8ee5-1dffcee93a05"
   },
   "outputs": [
    {
     "data": {
      "application/vnd.google.colaboratory.intrinsic+json": {
       "type": "string"
      },
      "text/plain": [
       "'P'"
      ]
     },
     "execution_count": 37,
     "metadata": {},
     "output_type": "execute_result"
    }
   ],
   "source": [
    "L = len(text)\n",
    "text[-L]"
   ]
  },
  {
   "cell_type": "code",
   "execution_count": null,
   "metadata": {
    "colab": {
     "base_uri": "https://localhost:8080/",
     "height": 56
    },
    "executionInfo": {
     "elapsed": 636,
     "status": "ok",
     "timestamp": 1725170872874,
     "user": {
      "displayName": "김광수",
      "userId": "04260902725982947063"
     },
     "user_tz": -540
    },
    "id": "j7guLTRoy913",
    "outputId": "e4b8d0b0-74df-40c6-eefa-50619eedcc36"
   },
   "outputs": [
    {
     "data": {
      "application/vnd.google.colaboratory.intrinsic+json": {
       "type": "string"
      },
      "text/plain": [
       "'.'"
      ]
     },
     "execution_count": 38,
     "metadata": {},
     "output_type": "execute_result"
    }
   ],
   "source": [
    "text[L-1]"
   ]
  },
  {
   "cell_type": "code",
   "execution_count": null,
   "metadata": {
    "colab": {
     "base_uri": "https://localhost:8080/",
     "height": 56
    },
    "executionInfo": {
     "elapsed": 707,
     "status": "ok",
     "timestamp": 1725170876868,
     "user": {
      "displayName": "김광수",
      "userId": "04260902725982947063"
     },
     "user_tz": -540
    },
    "id": "LAm89aT2y913",
    "outputId": "1aef9a36-1973-4447-ec6d-7cab352cafd5"
   },
   "outputs": [
    {
     "data": {
      "application/vnd.google.colaboratory.intrinsic+json": {
       "type": "string"
      },
      "text/plain": [
       "'Python str'"
      ]
     },
     "execution_count": 39,
     "metadata": {},
     "output_type": "execute_result"
    }
   ],
   "source": [
    "text[:10]  # from 0 to 9"
   ]
  },
  {
   "cell_type": "code",
   "execution_count": null,
   "metadata": {
    "colab": {
     "base_uri": "https://localhost:8080/",
     "height": 56
    },
    "executionInfo": {
     "elapsed": 636,
     "status": "ok",
     "timestamp": 1725170891628,
     "user": {
      "displayName": "김광수",
      "userId": "04260902725982947063"
     },
     "user_tz": -540
    },
    "id": "0xiN-Vuyy913",
    "outputId": "bd0f63cd-1905-4707-b6eb-5868ea543feb"
   },
   "outputs": [
    {
     "data": {
      "application/vnd.google.colaboratory.intrinsic+json": {
       "type": "string"
      },
      "text/plain": [
       "'ins are sliceable.'"
      ]
     },
     "execution_count": 40,
     "metadata": {},
     "output_type": "execute_result"
    }
   ],
   "source": [
    "text[10:]  # from 10 to L-1"
   ]
  },
  {
   "cell_type": "markdown",
   "metadata": {
    "id": "tHeOL3-_y913"
   },
   "source": [
    "### 리스트형\n",
    "\n",
    "리스트(list)는 **Python**의 핵심이 되는 자료형으로 실수, 정수, 복소수, 문자형 혹은 리스트의 모임이다. 리스트는 슬라이싱을 사용하여 특정 위치의 값이나 부분 리스트를 추출할 수 있다.\n",
    "\n",
    "- 리스트는 벡터와 다르게 여러 유형을 담아 넣는 것으로 리스트 안에 리스트도 집어 넣을 수 있다."
   ]
  },
  {
   "cell_type": "code",
   "execution_count": null,
   "metadata": {
    "colab": {
     "base_uri": "https://localhost:8080/"
    },
    "executionInfo": {
     "elapsed": 421,
     "status": "ok",
     "timestamp": 1722785924460,
     "user": {
      "displayName": "김광수",
      "userId": "04260902725982947063"
     },
     "user_tz": -540
    },
    "id": "ES1a5eCky913",
    "outputId": "87c47334-e134-498c-9e7d-36aef44579a6"
   },
   "outputs": [
    {
     "data": {
      "text/plain": [
       "list"
      ]
     },
     "execution_count": 41,
     "metadata": {},
     "output_type": "execute_result"
    }
   ],
   "source": [
    "x = []\n",
    "type(x)"
   ]
  },
  {
   "cell_type": "code",
   "execution_count": null,
   "metadata": {
    "colab": {
     "base_uri": "https://localhost:8080/"
    },
    "executionInfo": {
     "elapsed": 1175,
     "status": "ok",
     "timestamp": 1725170911377,
     "user": {
      "displayName": "김광수",
      "userId": "04260902725982947063"
     },
     "user_tz": -540
    },
    "id": "TXzFqs5my914",
    "outputId": "6a1de8f5-c23a-42ce-b4c9-de65cf067785"
   },
   "outputs": [
    {
     "name": "stdout",
     "output_type": "stream",
     "text": [
      "[1, 2, 3, 4]\n"
     ]
    }
   ],
   "source": [
    "x = [1, 2, 3, 4]\n",
    "print(x)"
   ]
  },
  {
   "cell_type": "code",
   "execution_count": null,
   "metadata": {
    "colab": {
     "base_uri": "https://localhost:8080/"
    },
    "executionInfo": {
     "elapsed": 476,
     "status": "ok",
     "timestamp": 1725170914499,
     "user": {
      "displayName": "김광수",
      "userId": "04260902725982947063"
     },
     "user_tz": -540
    },
    "id": "nLam9vY8y914",
    "outputId": "95e07fa5-35ff-46ba-9d45-e575573076c8"
   },
   "outputs": [
    {
     "name": "stdout",
     "output_type": "stream",
     "text": [
      "2\n"
     ]
    }
   ],
   "source": [
    "x = [[1, 2, 3, 4], [5, 6, 7,8]]\n",
    "print(x[0][1])"
   ]
  },
  {
   "cell_type": "code",
   "execution_count": null,
   "metadata": {
    "colab": {
     "base_uri": "https://localhost:8080/"
    },
    "executionInfo": {
     "elapsed": 680,
     "status": "ok",
     "timestamp": 1725170950313,
     "user": {
      "displayName": "김광수",
      "userId": "04260902725982947063"
     },
     "user_tz": -540
    },
    "id": "pkX3uai2y914",
    "outputId": "7f96c231-c95b-4752-8141-52dd26f29a85"
   },
   "outputs": [
    {
     "name": "stdout",
     "output_type": "stream",
     "text": [
      "one\n"
     ]
    }
   ],
   "source": [
    "x = [[1, 1.0, 1+0j], 'one', None, True]\n",
    "print(x[1])"
   ]
  },
  {
   "cell_type": "markdown",
   "metadata": {
    "id": "ErCbUuuLy914"
   },
   "source": [
    "#### 인덱싱과 슬라이싱"
   ]
  },
  {
   "cell_type": "code",
   "execution_count": null,
   "metadata": {
    "colab": {
     "base_uri": "https://localhost:8080/"
    },
    "executionInfo": {
     "elapsed": 586,
     "status": "ok",
     "timestamp": 1725170956193,
     "user": {
      "displayName": "김광수",
      "userId": "04260902725982947063"
     },
     "user_tz": -540
    },
    "id": "cFTIhua5y914",
    "outputId": "0dfe8580-1030-43d6-fbe6-2e350520091b"
   },
   "outputs": [
    {
     "name": "stdout",
     "output_type": "stream",
     "text": [
      "[0, 1, 2, 3, 4, 5, 6, 7, 8, 9]\n"
     ]
    }
   ],
   "source": [
    "x = [0, 1, 2, 3, 4, 5, 6, 7, 8, 9]\n",
    "print(x)"
   ]
  },
  {
   "cell_type": "code",
   "execution_count": null,
   "metadata": {
    "colab": {
     "base_uri": "https://localhost:8080/"
    },
    "executionInfo": {
     "elapsed": 517,
     "status": "ok",
     "timestamp": 1725170959563,
     "user": {
      "displayName": "김광수",
      "userId": "04260902725982947063"
     },
     "user_tz": -540
    },
    "id": "vmqZkH7ky914",
    "outputId": "b1cc5831-a8e9-4a02-820e-6fc53df004ac"
   },
   "outputs": [
    {
     "data": {
      "text/plain": [
       "0"
      ]
     },
     "execution_count": 47,
     "metadata": {},
     "output_type": "execute_result"
    }
   ],
   "source": [
    "x[0]"
   ]
  },
  {
   "cell_type": "code",
   "execution_count": null,
   "metadata": {
    "colab": {
     "base_uri": "https://localhost:8080/",
     "height": 158
    },
    "executionInfo": {
     "elapsed": 254,
     "status": "error",
     "timestamp": 1725170960983,
     "user": {
      "displayName": "김광수",
      "userId": "04260902725982947063"
     },
     "user_tz": -540
    },
    "id": "MsjyEssDy914",
    "outputId": "3f1d4b3d-257a-4580-a072-50d31afc1222"
   },
   "outputs": [
    {
     "ename": "IndexError",
     "evalue": "list index out of range",
     "output_type": "error",
     "traceback": [
      "\u001b[0;31m---------------------------------------------------------------------------\u001b[0m",
      "\u001b[0;31mIndexError\u001b[0m                                Traceback (most recent call last)",
      "\u001b[0;32m<ipython-input-48-0bcbedae9f7e>\u001b[0m in \u001b[0;36m<cell line: 1>\u001b[0;34m()\u001b[0m\n\u001b[0;32m----> 1\u001b[0;31m \u001b[0mx\u001b[0m\u001b[0;34m[\u001b[0m\u001b[0;36m10\u001b[0m\u001b[0;34m]\u001b[0m\u001b[0;34m\u001b[0m\u001b[0;34m\u001b[0m\u001b[0m\n\u001b[0m",
      "\u001b[0;31mIndexError\u001b[0m: list index out of range"
     ]
    }
   ],
   "source": [
    "x[10]"
   ]
  },
  {
   "cell_type": "code",
   "execution_count": null,
   "metadata": {
    "colab": {
     "base_uri": "https://localhost:8080/"
    },
    "executionInfo": {
     "elapsed": 691,
     "status": "ok",
     "timestamp": 1725170965808,
     "user": {
      "displayName": "김광수",
      "userId": "04260902725982947063"
     },
     "user_tz": -540
    },
    "id": "Y7_ZDkify914",
    "outputId": "64915c48-8d42-4a4e-99f8-77fb7485eb76"
   },
   "outputs": [
    {
     "data": {
      "text/plain": [
       "[4, 5, 6, 7, 8, 9]"
      ]
     },
     "execution_count": 49,
     "metadata": {},
     "output_type": "execute_result"
    }
   ],
   "source": [
    "x[4:]"
   ]
  },
  {
   "cell_type": "code",
   "execution_count": null,
   "metadata": {
    "colab": {
     "base_uri": "https://localhost:8080/"
    },
    "executionInfo": {
     "elapsed": 487,
     "status": "ok",
     "timestamp": 1725170967761,
     "user": {
      "displayName": "김광수",
      "userId": "04260902725982947063"
     },
     "user_tz": -540
    },
    "id": "ZaXlfG-Sy915",
    "outputId": "fb67493f-49fb-4ab5-ac7f-bec55cdd3d7f"
   },
   "outputs": [
    {
     "data": {
      "text/plain": [
       "[0, 1, 2, 3]"
      ]
     },
     "execution_count": 50,
     "metadata": {},
     "output_type": "execute_result"
    }
   ],
   "source": [
    "x[:4]"
   ]
  },
  {
   "cell_type": "code",
   "execution_count": null,
   "metadata": {
    "colab": {
     "base_uri": "https://localhost:8080/"
    },
    "executionInfo": {
     "elapsed": 1,
     "status": "ok",
     "timestamp": 1722785949596,
     "user": {
      "displayName": "김광수",
      "userId": "04260902725982947063"
     },
     "user_tz": -540
    },
    "id": "AqAfjU_6y915",
    "outputId": "af6d2af1-ce3c-4c2a-ef7b-d6ee57f362c0"
   },
   "outputs": [
    {
     "data": {
      "text/plain": [
       "[1, 2, 3]"
      ]
     },
     "execution_count": 50,
     "metadata": {},
     "output_type": "execute_result"
    }
   ],
   "source": [
    "x[1:4]"
   ]
  },
  {
   "cell_type": "code",
   "execution_count": null,
   "metadata": {
    "colab": {
     "base_uri": "https://localhost:8080/"
    },
    "executionInfo": {
     "elapsed": 622,
     "status": "ok",
     "timestamp": 1725170984398,
     "user": {
      "displayName": "김광수",
      "userId": "04260902725982947063"
     },
     "user_tz": -540
    },
    "id": "C2h2cP3my915",
    "outputId": "4e301df4-3a5c-451b-9b3c-a1cd23f0b8e2"
   },
   "outputs": [
    {
     "data": {
      "text/plain": [
       "0"
      ]
     },
     "execution_count": 51,
     "metadata": {},
     "output_type": "execute_result"
    }
   ],
   "source": [
    "x[-0]"
   ]
  },
  {
   "cell_type": "markdown",
   "metadata": {
    "id": "CwVS-vrlSaK7"
   },
   "source": [
    "-0는 0과 동일하게 취급"
   ]
  },
  {
   "cell_type": "code",
   "execution_count": null,
   "metadata": {
    "colab": {
     "base_uri": "https://localhost:8080/"
    },
    "executionInfo": {
     "elapsed": 517,
     "status": "ok",
     "timestamp": 1725170987315,
     "user": {
      "displayName": "김광수",
      "userId": "04260902725982947063"
     },
     "user_tz": -540
    },
    "id": "qd2Qlx6hy915",
    "outputId": "58f7836a-9bbe-4c2d-e7f3-f5d17932834f"
   },
   "outputs": [
    {
     "data": {
      "text/plain": [
       "9"
      ]
     },
     "execution_count": 52,
     "metadata": {},
     "output_type": "execute_result"
    }
   ],
   "source": [
    "x[-1]"
   ]
  },
  {
   "cell_type": "code",
   "execution_count": null,
   "metadata": {
    "colab": {
     "base_uri": "https://localhost:8080/"
    },
    "executionInfo": {
     "elapsed": 519,
     "status": "ok",
     "timestamp": 1725171018653,
     "user": {
      "displayName": "김광수",
      "userId": "04260902725982947063"
     },
     "user_tz": -540
    },
    "id": "tkrTRxQwy915",
    "outputId": "3602f1f4-2158-4c10-a048-9123b766bd09"
   },
   "outputs": [
    {
     "data": {
      "text/plain": [
       "[0, 1, 2, 3, 4, 5, 6, 7, 8]"
      ]
     },
     "execution_count": 54,
     "metadata": {},
     "output_type": "execute_result"
    }
   ],
   "source": [
    "x[-10:-1]\n",
    "# 처음부터 마지막 앞까지 반환"
   ]
  },
  {
   "cell_type": "markdown",
   "metadata": {
    "id": "nGZReV7rSrg-"
   },
   "source": [
    "길이가 -1+10 = 9 개이며 최종 도착점이 리스트의 마지막 원소 바로 앞임\n"
   ]
  },
  {
   "cell_type": "markdown",
   "metadata": {
    "id": "ibw7qbrdy915"
   },
   "source": [
    "2차원 리스트의 예"
   ]
  },
  {
   "cell_type": "code",
   "execution_count": null,
   "metadata": {
    "colab": {
     "base_uri": "https://localhost:8080/"
    },
    "executionInfo": {
     "elapsed": 522,
     "status": "ok",
     "timestamp": 1725171482836,
     "user": {
      "displayName": "김광수",
      "userId": "04260902725982947063"
     },
     "user_tz": -540
    },
    "id": "gTIcHEL6y915",
    "outputId": "a8e75c40-2a90-4599-df16-736ee85bd912"
   },
   "outputs": [
    {
     "name": "stdout",
     "output_type": "stream",
     "text": [
      "[[1, 2, 3, 4], [5, 6, 7, 8]]\n"
     ]
    }
   ],
   "source": [
    "x = [[1, 2, 3, 4], [5, 6, 7, 8]]\n",
    "print(x)"
   ]
  },
  {
   "cell_type": "markdown",
   "metadata": {
    "id": "verGzYZBSzYb"
   },
   "source": [
    "기본 유형은 꺽쇠 안에 꺽쇠로 구별함 / 이는 행렬과 다름\n",
    "먄약에 a = [[[2,3],[4,5]],[[4,5],[6,9]]] 라고 하면\n",
    "앞뒤 세 개의 꺽쇠는 [:,:,:]형태의 리스트임을 암시\n",
    "\n",
    "a[0][1][1] = 5"
   ]
  },
  {
   "cell_type": "code",
   "execution_count": null,
   "metadata": {
    "colab": {
     "base_uri": "https://localhost:8080/"
    },
    "executionInfo": {
     "elapsed": 487,
     "status": "ok",
     "timestamp": 1725171486381,
     "user": {
      "displayName": "김광수",
      "userId": "04260902725982947063"
     },
     "user_tz": -540
    },
    "id": "TJDl19K1y916",
    "outputId": "0889a3fd-8647-4893-d250-0954e79d22b4"
   },
   "outputs": [
    {
     "name": "stdout",
     "output_type": "stream",
     "text": [
      "5\n"
     ]
    }
   ],
   "source": [
    "x[0]\n",
    "a = [[[2,3],[4,5]],[[4,5],[6,9]]]\n",
    "print( a[0][1][1] ) # 5\n",
    "# print(a[0,1,1])"
   ]
  },
  {
   "cell_type": "markdown",
   "metadata": {
    "id": "V26swynEUZCj"
   },
   "source": [
    "인데싱을 할 때 모든 차원에 대해서 한꺼번에 하면 안됨\n",
    "하나의 차원에 대해서 진행하고 그 객체에서 다시 인덱싱을 함 (한번에 하는 경우도 존재)  "
   ]
  },
  {
   "cell_type": "code",
   "execution_count": null,
   "metadata": {
    "colab": {
     "base_uri": "https://localhost:8080/"
    },
    "executionInfo": {
     "elapsed": 530,
     "status": "ok",
     "timestamp": 1725171489789,
     "user": {
      "displayName": "김광수",
      "userId": "04260902725982947063"
     },
     "user_tz": -540
    },
    "id": "yTkfsYSWy916",
    "outputId": "e4a42815-7db0-4487-fe4a-29b33d4f6d61"
   },
   "outputs": [
    {
     "data": {
      "text/plain": [
       "[5, 6, 7, 8]"
      ]
     },
     "execution_count": 70,
     "metadata": {},
     "output_type": "execute_result"
    }
   ],
   "source": [
    "x[1]"
   ]
  },
  {
   "cell_type": "code",
   "execution_count": null,
   "metadata": {
    "colab": {
     "base_uri": "https://localhost:8080/"
    },
    "executionInfo": {
     "elapsed": 448,
     "status": "ok",
     "timestamp": 1725171492578,
     "user": {
      "displayName": "김광수",
      "userId": "04260902725982947063"
     },
     "user_tz": -540
    },
    "id": "DoLpMXBmy916",
    "outputId": "eb6a404a-8067-4c85-8728-5badec440526"
   },
   "outputs": [
    {
     "data": {
      "text/plain": [
       "1"
      ]
     },
     "execution_count": 71,
     "metadata": {},
     "output_type": "execute_result"
    }
   ],
   "source": [
    "x[0][0]"
   ]
  },
  {
   "cell_type": "code",
   "execution_count": null,
   "metadata": {
    "colab": {
     "base_uri": "https://localhost:8080/"
    },
    "executionInfo": {
     "elapsed": 3,
     "status": "ok",
     "timestamp": 1725171493776,
     "user": {
      "displayName": "김광수",
      "userId": "04260902725982947063"
     },
     "user_tz": -540
    },
    "id": "8_eR6g_0y916",
    "outputId": "236a7a0c-ade7-4ca0-8602-19b15e74597c"
   },
   "outputs": [
    {
     "data": {
      "text/plain": [
       "[2, 3, 4]"
      ]
     },
     "execution_count": 72,
     "metadata": {},
     "output_type": "execute_result"
    }
   ],
   "source": [
    "x[0][1:4]\n",
    "#a[0][1:4]"
   ]
  },
  {
   "cell_type": "code",
   "execution_count": null,
   "metadata": {
    "colab": {
     "base_uri": "https://localhost:8080/"
    },
    "executionInfo": {
     "elapsed": 680,
     "status": "ok",
     "timestamp": 1725171302300,
     "user": {
      "displayName": "김광수",
      "userId": "04260902725982947063"
     },
     "user_tz": -540
    },
    "id": "wSUeJRHKy916",
    "outputId": "e87f46c6-79ef-414b-96ad-a94f2a659792"
   },
   "outputs": [
    {
     "data": {
      "text/plain": [
       "[5, 6, 7]"
      ]
     },
     "execution_count": 60,
     "metadata": {},
     "output_type": "execute_result"
    }
   ],
   "source": [
    "x[1][-4:-1]"
   ]
  },
  {
   "cell_type": "markdown",
   "metadata": {
    "id": "G1aWyeMky916"
   },
   "source": [
    "#### 리스트 관련 함수들\n",
    "\n",
    "| 함수명 | 메소드 | 설명 |\n",
    "| ---- | ---- | ----|\n",
    "| list.append(x, value) | x.append(value) | 리스트의 마지막에 값을 추가 |\n",
    "| len(x) | - | 리스트안의 값의 갯수를 반환 |\n",
    "| list.extend(x, list) | x.extend(list) | 리스트를 추가 |\n",
    "| list.pop(x, index) | x.pop(index) | 리스트의 index위치에 있는 값을 제거하고, 해당값을 반환 |\n",
    "| list.remove(x, value) | x.remove(value) | 리스트에서 첫번째 value를 제거 |\n",
    "| list.count(x, value) | x.count(value) | 리스트에서 value의 갯수를 반환 |\n",
    "| del x[slice] | | slice안의 값을 제거 |"
   ]
  },
  {
   "cell_type": "code",
   "execution_count": null,
   "metadata": {
    "colab": {
     "base_uri": "https://localhost:8080/"
    },
    "executionInfo": {
     "elapsed": 1001,
     "status": "ok",
     "timestamp": 1725171500924,
     "user": {
      "displayName": "김광수",
      "userId": "04260902725982947063"
     },
     "user_tz": -540
    },
    "id": "pjhIA1jMy916",
    "outputId": "732a372a-d069-4c71-aa4b-4991d0a997eb"
   },
   "outputs": [
    {
     "name": "stdout",
     "output_type": "stream",
     "text": [
      "[0, 1, 2, 3, 4, 5, 6, 7, 8, 9]\n"
     ]
    }
   ],
   "source": [
    "x = [0, 1, 2, 3, 4, 5, 6, 7, 8, 9]\n",
    "print(x)"
   ]
  },
  {
   "cell_type": "code",
   "execution_count": null,
   "metadata": {
    "colab": {
     "base_uri": "https://localhost:8080/"
    },
    "executionInfo": {
     "elapsed": 516,
     "status": "ok",
     "timestamp": 1725171507096,
     "user": {
      "displayName": "김광수",
      "userId": "04260902725982947063"
     },
     "user_tz": -540
    },
    "id": "gw4OSW2xy917",
    "outputId": "0b071c13-d730-4912-b8f7-e3d28aba6cb6"
   },
   "outputs": [
    {
     "name": "stdout",
     "output_type": "stream",
     "text": [
      "[0, 9]\n"
     ]
    }
   ],
   "source": [
    "x = []\n",
    "x.append(0)\n",
    "x.append(9)\n",
    "print(x)"
   ]
  },
  {
   "cell_type": "markdown",
   "metadata": {
    "id": "6sK-lwxKUznG"
   },
   "source": [
    "\n",
    "\n",
    "리스트 뒤에 값을 추가"
   ]
  },
  {
   "cell_type": "code",
   "execution_count": null,
   "metadata": {
    "colab": {
     "base_uri": "https://localhost:8080/"
    },
    "executionInfo": {
     "elapsed": 516,
     "status": "ok",
     "timestamp": 1725171511192,
     "user": {
      "displayName": "김광수",
      "userId": "04260902725982947063"
     },
     "user_tz": -540
    },
    "id": "ceLPe3aty917",
    "outputId": "e32f59fe-241e-46bd-cf49-d42b35626d78"
   },
   "outputs": [
    {
     "name": "stdout",
     "output_type": "stream",
     "text": [
      "2\n",
      "[0, 9]\n"
     ]
    }
   ],
   "source": [
    "print(len(x))\n",
    "print(x)"
   ]
  },
  {
   "cell_type": "code",
   "execution_count": null,
   "metadata": {
    "colab": {
     "base_uri": "https://localhost:8080/"
    },
    "executionInfo": {
     "elapsed": 468,
     "status": "ok",
     "timestamp": 1725171514567,
     "user": {
      "displayName": "김광수",
      "userId": "04260902725982947063"
     },
     "user_tz": -540
    },
    "id": "Dexjeniqy917",
    "outputId": "f5e1254e-ce1f-469b-83e1-7077498c8a44"
   },
   "outputs": [
    {
     "name": "stdout",
     "output_type": "stream",
     "text": [
      "[0, 9, 11, 12, 13]\n"
     ]
    }
   ],
   "source": [
    "x.extend([11, 12, 13]) # 여러 개의 값을 뒤에 붙임\n",
    "print(x)"
   ]
  },
  {
   "cell_type": "code",
   "execution_count": null,
   "metadata": {
    "colab": {
     "base_uri": "https://localhost:8080/"
    },
    "executionInfo": {
     "elapsed": 524,
     "status": "ok",
     "timestamp": 1725171534961,
     "user": {
      "displayName": "김광수",
      "userId": "04260902725982947063"
     },
     "user_tz": -540
    },
    "id": "7esEpiRKy917",
    "outputId": "db85a2f9-25c9-4d77-abd8-7d8c0b8fa915"
   },
   "outputs": [
    {
     "name": "stdout",
     "output_type": "stream",
     "text": [
      "[0, 12, 13]\n"
     ]
    }
   ],
   "source": [
    "x.pop(1) # 2번째 원소를 제외시킴\n",
    "print(x)"
   ]
  },
  {
   "cell_type": "markdown",
   "metadata": {
    "id": "m8ii1l48VKM9"
   },
   "source": [
    "첨자 0/1에 있는 값을 없앰"
   ]
  },
  {
   "cell_type": "code",
   "execution_count": null,
   "metadata": {
    "colab": {
     "base_uri": "https://localhost:8080/"
    },
    "executionInfo": {
     "elapsed": 466,
     "status": "ok",
     "timestamp": 1725171544729,
     "user": {
      "displayName": "김광수",
      "userId": "04260902725982947063"
     },
     "user_tz": -540
    },
    "id": "FqXzOr1yy917",
    "outputId": "f21bf106-956a-4da5-8f36-d9dae656b3a4"
   },
   "outputs": [
    {
     "name": "stdout",
     "output_type": "stream",
     "text": [
      "[12, 13]\n"
     ]
    },
    {
     "data": {
      "text/plain": [
       "0"
      ]
     },
     "execution_count": 79,
     "metadata": {},
     "output_type": "execute_result"
    }
   ],
   "source": [
    "x.remove(0)  # 0의 값을 찾아서 지움\n",
    "print(x)\n",
    "x.count(1)"
   ]
  },
  {
   "cell_type": "markdown",
   "metadata": {
    "id": "zunEqs3QVn8N"
   },
   "source": [
    "특정한 값에 해당하는 것을 찾아서 다 삭제 / 특정한 값이 몇 개 있는지를 확인"
   ]
  },
  {
   "cell_type": "markdown",
   "metadata": {
    "id": "L4TYLV_iy917"
   },
   "source": [
    "리스트의 값은 `del`함수와 슬라이싱을 이용하여 제거할 수 있다."
   ]
  },
  {
   "cell_type": "code",
   "execution_count": null,
   "metadata": {
    "colab": {
     "base_uri": "https://localhost:8080/"
    },
    "executionInfo": {
     "elapsed": 533,
     "status": "ok",
     "timestamp": 1725171582993,
     "user": {
      "displayName": "김광수",
      "userId": "04260902725982947063"
     },
     "user_tz": -540
    },
    "id": "qqrny3jLy918",
    "outputId": "f324c336-be24-4a82-e709-284433fcf940"
   },
   "outputs": [
    {
     "name": "stdout",
     "output_type": "stream",
     "text": [
      "[0, 1, 2, 3, 4, 5, 6, 7, 8, 9, 11]\n"
     ]
    }
   ],
   "source": [
    "x = [0, 1, 2, 3, 4, 5, 6, 7, 8, 9, 11]\n",
    "print(x)"
   ]
  },
  {
   "cell_type": "code",
   "execution_count": null,
   "metadata": {
    "colab": {
     "base_uri": "https://localhost:8080/"
    },
    "executionInfo": {
     "elapsed": 491,
     "status": "ok",
     "timestamp": 1725171586465,
     "user": {
      "displayName": "김광수",
      "userId": "04260902725982947063"
     },
     "user_tz": -540
    },
    "id": "uTFM-ywOy918",
    "outputId": "01c0b53a-ca8d-4f3d-c196-6ee8a1e5c771"
   },
   "outputs": [
    {
     "name": "stdout",
     "output_type": "stream",
     "text": [
      "[0, 1, 2, 3, 4, 5, 6, 7, 8, 9]\n"
     ]
    }
   ],
   "source": [
    "del x[10]\n",
    "print(x)"
   ]
  },
  {
   "cell_type": "code",
   "execution_count": null,
   "metadata": {
    "colab": {
     "base_uri": "https://localhost:8080/"
    },
    "executionInfo": {
     "elapsed": 646,
     "status": "ok",
     "timestamp": 1725171589085,
     "user": {
      "displayName": "김광수",
      "userId": "04260902725982947063"
     },
     "user_tz": -540
    },
    "id": "XtfSF_r8y918",
    "outputId": "8cb3dd54-c8ae-4e06-d3b0-0b10eac851cf"
   },
   "outputs": [
    {
     "data": {
      "text/plain": [
       "[0, 1, 2]"
      ]
     },
     "execution_count": 82,
     "metadata": {},
     "output_type": "execute_result"
    }
   ],
   "source": [
    "x[:3]"
   ]
  },
  {
   "cell_type": "code",
   "execution_count": null,
   "metadata": {
    "colab": {
     "base_uri": "https://localhost:8080/"
    },
    "executionInfo": {
     "elapsed": 3,
     "status": "ok",
     "timestamp": 1725171590755,
     "user": {
      "displayName": "김광수",
      "userId": "04260902725982947063"
     },
     "user_tz": -540
    },
    "id": "vLdGvn2Dy918",
    "outputId": "ac197a97-2f7e-4d44-f9fb-182a6d6d36c5"
   },
   "outputs": [
    {
     "name": "stdout",
     "output_type": "stream",
     "text": [
      "[3, 4, 5, 6, 7, 8, 9]\n"
     ]
    }
   ],
   "source": [
    "del x[:3]\n",
    "print(x)"
   ]
  },
  {
   "cell_type": "code",
   "execution_count": null,
   "metadata": {
    "colab": {
     "base_uri": "https://localhost:8080/"
    },
    "executionInfo": {
     "elapsed": 459,
     "status": "ok",
     "timestamp": 1725171593355,
     "user": {
      "displayName": "김광수",
      "userId": "04260902725982947063"
     },
     "user_tz": -540
    },
    "id": "X3D_RFZCy918",
    "outputId": "0beb78c2-a6ea-4194-d7d1-7c9f23a7bb16"
   },
   "outputs": [
    {
     "name": "stdout",
     "output_type": "stream",
     "text": [
      "[3, 6, 7, 8, 9]\n"
     ]
    }
   ],
   "source": [
    "del x[1:3]\n",
    "print(x)"
   ]
  },
  {
   "cell_type": "code",
   "execution_count": null,
   "metadata": {
    "colab": {
     "base_uri": "https://localhost:8080/"
    },
    "executionInfo": {
     "elapsed": 6,
     "status": "ok",
     "timestamp": 1725171603527,
     "user": {
      "displayName": "김광수",
      "userId": "04260902725982947063"
     },
     "user_tz": -540
    },
    "id": "XnRDX_WFy918",
    "outputId": "fafcc11c-f004-4990-d67f-c847c4199474"
   },
   "outputs": [
    {
     "name": "stdout",
     "output_type": "stream",
     "text": [
      "[]\n"
     ]
    }
   ],
   "source": [
    "del x[:]\n",
    "print(x)"
   ]
  },
  {
   "cell_type": "markdown",
   "metadata": {
    "id": "MkSlFvGRy918"
   },
   "source": [
    "**주의: 리스트는 수정이 가능하기 때문에 별도의 복사를 만들지 않는다. 따라서 리스트로 할당된 리스트는 값은 동시에 변한다. 이는 R과 다른 점.**"
   ]
  },
  {
   "cell_type": "code",
   "execution_count": null,
   "metadata": {
    "colab": {
     "base_uri": "https://localhost:8080/"
    },
    "executionInfo": {
     "elapsed": 638,
     "status": "ok",
     "timestamp": 1725171645360,
     "user": {
      "displayName": "김광수",
      "userId": "04260902725982947063"
     },
     "user_tz": -540
    },
    "id": "Hj0BEhDmy919",
    "outputId": "7497df66-dc17-44ac-d959-a3613dcaab41"
   },
   "outputs": [
    {
     "name": "stdout",
     "output_type": "stream",
     "text": [
      "[-10, 2, 3] [-10, 2, 3]\n"
     ]
    }
   ],
   "source": [
    "x = [1, 2, 3]\n",
    "y = x # 여기에서 y 객체는 x와 연동되어 있음\n",
    "y[0] = -10\n",
    "print(y, x)"
   ]
  },
  {
   "cell_type": "code",
   "execution_count": null,
   "metadata": {
    "colab": {
     "base_uri": "https://localhost:8080/"
    },
    "executionInfo": {
     "elapsed": 470,
     "status": "ok",
     "timestamp": 1725171649780,
     "user": {
      "displayName": "김광수",
      "userId": "04260902725982947063"
     },
     "user_tz": -540
    },
    "id": "lPnO2sXmy919",
    "outputId": "5ae9c7a7-7ef6-4915-df0f-057b5e52fc6a"
   },
   "outputs": [
    {
     "name": "stdout",
     "output_type": "stream",
     "text": [
      "134269777843520 134269777843520\n"
     ]
    }
   ],
   "source": [
    "print(id(y), id(x))"
   ]
  },
  {
   "cell_type": "markdown",
   "metadata": {
    "id": "J2ml_ZAQV0ff"
   },
   "source": [
    "id(x), id(y) 는 값이 저장되 물리적 위치에 대한 주소같은 것임"
   ]
  },
  {
   "cell_type": "code",
   "execution_count": null,
   "metadata": {
    "colab": {
     "base_uri": "https://localhost:8080/"
    },
    "executionInfo": {
     "elapsed": 992,
     "status": "ok",
     "timestamp": 1725171656416,
     "user": {
      "displayName": "김광수",
      "userId": "04260902725982947063"
     },
     "user_tz": -540
    },
    "id": "rPI00Zwwy919",
    "outputId": "6fe27d79-1091-496d-ec51-d37ba4eed651"
   },
   "outputs": [
    {
     "name": "stdout",
     "output_type": "stream",
     "text": [
      "134270613754048 134270613655360\n",
      "[1, 2, 3] [1, 2, 3, 3, 3, 3]\n"
     ]
    }
   ],
   "source": [
    "x = [1, 2, 3]\n",
    "y = x[:]\n",
    "y = y + [3,3,3] # 여기서부터 다른 객체로 인식됨\n",
    "print(id(y), id(x))\n",
    "print(x,y)"
   ]
  },
  {
   "cell_type": "markdown",
   "metadata": {
    "id": "cMs2nzfLy919"
   },
   "source": [
    "**리스트 안의 리스트는 슬라이싱 방법으로 복사를 만들 수 없다. 따라서 리스트 안의 리스트를 복사하기 위해서는 모듈을 사용해야 한다.**"
   ]
  },
  {
   "cell_type": "code",
   "execution_count": null,
   "metadata": {
    "colab": {
     "base_uri": "https://localhost:8080/"
    },
    "executionInfo": {
     "elapsed": 611,
     "status": "ok",
     "timestamp": 1725171704749,
     "user": {
      "displayName": "김광수",
      "userId": "04260902725982947063"
     },
     "user_tz": -540
    },
    "id": "iIIsPa5ly919",
    "outputId": "9bb0e0aa-84bc-434c-d694-b0a0a12f7db4"
   },
   "outputs": [
    {
     "name": "stdout",
     "output_type": "stream",
     "text": [
      "134270342909504 134270342909504\n"
     ]
    }
   ],
   "source": [
    "x = [[0, 1], [2, 3]]\n",
    "y = x[:]\n",
    "print(id(x[0]), id(y[0]))"
   ]
  },
  {
   "cell_type": "code",
   "execution_count": null,
   "metadata": {
    "colab": {
     "base_uri": "https://localhost:8080/"
    },
    "executionInfo": {
     "elapsed": 474,
     "status": "ok",
     "timestamp": 1725171709563,
     "user": {
      "displayName": "김광수",
      "userId": "04260902725982947063"
     },
     "user_tz": -540
    },
    "id": "DW4ReXhDy91-",
    "outputId": "09a81ebb-0a69-481b-bdd3-89b496df836a"
   },
   "outputs": [
    {
     "name": "stdout",
     "output_type": "stream",
     "text": [
      "134270827528400 134270827528400\n"
     ]
    }
   ],
   "source": [
    "print(id(x[0][0]), id(y[0][0]))"
   ]
  },
  {
   "cell_type": "code",
   "execution_count": null,
   "metadata": {
    "colab": {
     "base_uri": "https://localhost:8080/"
    },
    "executionInfo": {
     "elapsed": 552,
     "status": "ok",
     "timestamp": 1725171721426,
     "user": {
      "displayName": "김광수",
      "userId": "04260902725982947063"
     },
     "user_tz": -540
    },
    "id": "RdHaxZr_y91-",
    "outputId": "fe369fe5-ec39-464f-c2bf-6b1704ad1c12"
   },
   "outputs": [
    {
     "name": "stdout",
     "output_type": "stream",
     "text": [
      "[[-10, 1], [2, 3]] [[-10, 1], [2, 3]]\n",
      "134269777819904 134269777846080\n"
     ]
    }
   ],
   "source": [
    "y[0][0] = -10\n",
    "print(y, x)\n",
    "print(id(x),id(y))"
   ]
  },
  {
   "cell_type": "markdown",
   "metadata": {
    "id": "DS7Sh6tIWDdE"
   },
   "source": [
    "이것은 리스트안의 리스트를 거쳐서 최종 원소까지 내려가야 다른 것으로 지정함을 의미"
   ]
  },
  {
   "cell_type": "code",
   "execution_count": null,
   "metadata": {
    "colab": {
     "base_uri": "https://localhost:8080/"
    },
    "executionInfo": {
     "elapsed": 521,
     "status": "ok",
     "timestamp": 1725171745286,
     "user": {
      "displayName": "김광수",
      "userId": "04260902725982947063"
     },
     "user_tz": -540
    },
    "id": "usmRuhkMy91-",
    "outputId": "cbde7ef0-31bd-4718-b4db-a346029b8eef"
   },
   "outputs": [
    {
     "name": "stdout",
     "output_type": "stream",
     "text": [
      "[[-20.0, 1], [2, 3]] [[0, 1], [2, 3]]\n",
      "134270615143744 134270397329728\n"
     ]
    }
   ],
   "source": [
    "import copy as cp\n",
    "x = [[0, 1], [2, 3]]\n",
    "y = cp.deepcopy(x)\n",
    "y[0][0] = -20.0\n",
    "print(y, x)\n",
    "print(id(y),id(x))"
   ]
  },
  {
   "cell_type": "markdown",
   "metadata": {
    "id": "ifim95MBWRMO"
   },
   "source": [
    "deepcopy 명령문으로 메모리 주소를 다른 것으로 처음부터 잡음"
   ]
  },
  {
   "cell_type": "markdown",
   "metadata": {
    "id": "mBusIP1By91-"
   },
   "source": [
    "### 튜플형\n",
    "\n",
    "튜플(tuple)은 리스트와 비슷한 성질을 가진 자료형이다. 다만, **수정이 불가능하다.**\n",
    "만약에 수정을 원한다면 리스트로 바꾸어 놓고 수정하고 다시 튜플로 변환한다."
   ]
  },
  {
   "cell_type": "code",
   "execution_count": null,
   "metadata": {
    "colab": {
     "base_uri": "https://localhost:8080/"
    },
    "executionInfo": {
     "elapsed": 501,
     "status": "ok",
     "timestamp": 1725171760419,
     "user": {
      "displayName": "김광수",
      "userId": "04260902725982947063"
     },
     "user_tz": -540
    },
    "id": "nCYGAAlEy91-",
    "outputId": "2595523b-1f5d-46d2-f918-b1bf2db1db61"
   },
   "outputs": [
    {
     "data": {
      "text/plain": [
       "tuple"
      ]
     },
     "execution_count": 93,
     "metadata": {},
     "output_type": "execute_result"
    }
   ],
   "source": [
    "x = (0, 1, 2, 3, 4, 5, 6, 7, 8, 9)\n",
    "type(x)"
   ]
  },
  {
   "cell_type": "code",
   "execution_count": null,
   "metadata": {
    "colab": {
     "base_uri": "https://localhost:8080/"
    },
    "executionInfo": {
     "elapsed": 517,
     "status": "ok",
     "timestamp": 1725171764056,
     "user": {
      "displayName": "김광수",
      "userId": "04260902725982947063"
     },
     "user_tz": -540
    },
    "id": "t-GSVZQNy91-",
    "outputId": "456006d0-7ef2-4094-86fe-8cd0469295bf"
   },
   "outputs": [
    {
     "data": {
      "text/plain": [
       "0"
      ]
     },
     "execution_count": 94,
     "metadata": {},
     "output_type": "execute_result"
    }
   ],
   "source": [
    "x[0]"
   ]
  },
  {
   "cell_type": "code",
   "execution_count": null,
   "metadata": {
    "colab": {
     "base_uri": "https://localhost:8080/"
    },
    "executionInfo": {
     "elapsed": 615,
     "status": "ok",
     "timestamp": 1725171767500,
     "user": {
      "displayName": "김광수",
      "userId": "04260902725982947063"
     },
     "user_tz": -540
    },
    "id": "lbua9o0Sy91-",
    "outputId": "efa7ac0d-c700-486e-dda2-21a9aef44b80"
   },
   "outputs": [
    {
     "data": {
      "text/plain": [
       "(0, 1, 2, 3, 4)"
      ]
     },
     "execution_count": 95,
     "metadata": {},
     "output_type": "execute_result"
    }
   ],
   "source": [
    "x[-10:-5]"
   ]
  },
  {
   "cell_type": "code",
   "execution_count": null,
   "metadata": {
    "colab": {
     "base_uri": "https://localhost:8080/"
    },
    "executionInfo": {
     "elapsed": 4,
     "status": "ok",
     "timestamp": 1725171770175,
     "user": {
      "displayName": "김광수",
      "userId": "04260902725982947063"
     },
     "user_tz": -540
    },
    "id": "IHmhBqw-y91_",
    "outputId": "a58e31ac-d18b-4d3f-96aa-8ed676e4aff6"
   },
   "outputs": [
    {
     "data": {
      "text/plain": [
       "list"
      ]
     },
     "execution_count": 96,
     "metadata": {},
     "output_type": "execute_result"
    }
   ],
   "source": [
    "x = list(x)\n",
    "type(x)"
   ]
  },
  {
   "cell_type": "code",
   "execution_count": null,
   "metadata": {
    "colab": {
     "base_uri": "https://localhost:8080/"
    },
    "executionInfo": {
     "elapsed": 482,
     "status": "ok",
     "timestamp": 1725171772862,
     "user": {
      "displayName": "김광수",
      "userId": "04260902725982947063"
     },
     "user_tz": -540
    },
    "id": "8vMNPrAqy91_",
    "outputId": "1228e2e4-7d7b-4202-8dca-0a335f63935d"
   },
   "outputs": [
    {
     "data": {
      "text/plain": [
       "tuple"
      ]
     },
     "execution_count": 97,
     "metadata": {},
     "output_type": "execute_result"
    }
   ],
   "source": [
    "x = tuple(x)\n",
    "type(x)"
   ]
  },
  {
   "cell_type": "code",
   "execution_count": null,
   "metadata": {
    "colab": {
     "base_uri": "https://localhost:8080/",
     "height": 158
    },
    "executionInfo": {
     "elapsed": 652,
     "status": "error",
     "timestamp": 1725171776254,
     "user": {
      "displayName": "김광수",
      "userId": "04260902725982947063"
     },
     "user_tz": -540
    },
    "id": "qL8a2RcGy91_",
    "outputId": "7736e301-34ea-4941-dcc6-10ca7db820ab"
   },
   "outputs": [
    {
     "ename": "TypeError",
     "evalue": "'tuple' object does not support item assignment",
     "output_type": "error",
     "traceback": [
      "\u001b[0;31m---------------------------------------------------------------------------\u001b[0m",
      "\u001b[0;31mTypeError\u001b[0m                                 Traceback (most recent call last)",
      "\u001b[0;32m<ipython-input-98-cddb899faf03>\u001b[0m in \u001b[0;36m<cell line: 1>\u001b[0;34m()\u001b[0m\n\u001b[0;32m----> 1\u001b[0;31m \u001b[0mx\u001b[0m\u001b[0;34m[\u001b[0m\u001b[0;36m0\u001b[0m\u001b[0;34m]\u001b[0m \u001b[0;34m=\u001b[0m \u001b[0;34m-\u001b[0m\u001b[0;36m10\u001b[0m\u001b[0;34m\u001b[0m\u001b[0;34m\u001b[0m\u001b[0m\n\u001b[0m",
      "\u001b[0;31mTypeError\u001b[0m: 'tuple' object does not support item assignment"
     ]
    }
   ],
   "source": [
    "x[0] = -10"
   ]
  },
  {
   "cell_type": "markdown",
   "metadata": {
    "id": "69G23zDFXM3I"
   },
   "source": [
    "튜플에서는 값을 바꾸지 못한다."
   ]
  },
  {
   "cell_type": "markdown",
   "metadata": {
    "id": "zg0jaBCty91_"
   },
   "source": [
    "**주의. 하나의 값을 이용하여 튜플을 만들때는 콤마(,)를 포함해야 한다.**"
   ]
  },
  {
   "cell_type": "code",
   "execution_count": null,
   "metadata": {
    "colab": {
     "base_uri": "https://localhost:8080/"
    },
    "executionInfo": {
     "elapsed": 599,
     "status": "ok",
     "timestamp": 1725171787472,
     "user": {
      "displayName": "김광수",
      "userId": "04260902725982947063"
     },
     "user_tz": -540
    },
    "id": "_OS3Vtryy91_",
    "outputId": "23fbcf80-a1d5-4370-f20e-9a256f0a7737"
   },
   "outputs": [
    {
     "data": {
      "text/plain": [
       "4"
      ]
     },
     "execution_count": 99,
     "metadata": {},
     "output_type": "execute_result"
    }
   ],
   "source": [
    "x = (2)\n",
    "type(x)\n",
    "x + 2"
   ]
  },
  {
   "cell_type": "code",
   "execution_count": null,
   "metadata": {
    "colab": {
     "base_uri": "https://localhost:8080/"
    },
    "executionInfo": {
     "elapsed": 447,
     "status": "ok",
     "timestamp": 1725171791326,
     "user": {
      "displayName": "김광수",
      "userId": "04260902725982947063"
     },
     "user_tz": -540
    },
    "id": "3bmv5qZWy91_",
    "outputId": "734e336c-7c29-4fdc-d6a3-ff56b80cc7d1"
   },
   "outputs": [
    {
     "data": {
      "text/plain": [
       "tuple"
      ]
     },
     "execution_count": 100,
     "metadata": {},
     "output_type": "execute_result"
    }
   ],
   "source": [
    "x = (2,)\n",
    "type(x)"
   ]
  },
  {
   "cell_type": "markdown",
   "metadata": {
    "id": "5uNOG4TlXVMv"
   },
   "source": [
    "1차원 튜플의 표기법, 2차원의 경우는 (,)가 됨."
   ]
  },
  {
   "cell_type": "markdown",
   "metadata": {
    "id": "y6CMMiiLy91_"
   },
   "source": [
    "### 딕셔너리형\n",
    "\n",
    "딕셔너리(dictionary) 자료형은 자료들의 대응 관계를 나타낼 수 있는 자료형으로 리스트나 튜플과 같이 순차적으로 해당 요소값을 구하지 않고 키(key)와 값(value)으로 구성된다."
   ]
  },
  {
   "cell_type": "code",
   "execution_count": null,
   "metadata": {
    "colab": {
     "base_uri": "https://localhost:8080/"
    },
    "executionInfo": {
     "elapsed": 1253,
     "status": "ok",
     "timestamp": 1725171881224,
     "user": {
      "displayName": "김광수",
      "userId": "04260902725982947063"
     },
     "user_tz": -540
    },
    "id": "I29VD7uNy91_",
    "outputId": "9f1297cf-b4d6-4f4d-a5aa-f2fd8e2345ba"
   },
   "outputs": [
    {
     "data": {
      "text/plain": [
       "dict"
      ]
     },
     "execution_count": 105,
     "metadata": {},
     "output_type": "execute_result"
    }
   ],
   "source": [
    "data = {'age' : 34, 'children' : [1, 2], 1: 'apple'}\n",
    "type(data)"
   ]
  },
  {
   "cell_type": "code",
   "execution_count": null,
   "metadata": {
    "colab": {
     "base_uri": "https://localhost:8080/"
    },
    "executionInfo": {
     "elapsed": 5,
     "status": "ok",
     "timestamp": 1725171882907,
     "user": {
      "displayName": "김광수",
      "userId": "04260902725982947063"
     },
     "user_tz": -540
    },
    "id": "ueBLwhjfy92A",
    "outputId": "6e18166c-120b-412e-9a20-6133cde6cccb"
   },
   "outputs": [
    {
     "name": "stdout",
     "output_type": "stream",
     "text": [
      "{'age': 34, 'children': [1, 2], 1: 'apple'}\n"
     ]
    }
   ],
   "source": [
    "print(data)"
   ]
  },
  {
   "cell_type": "code",
   "execution_count": null,
   "metadata": {
    "colab": {
     "base_uri": "https://localhost:8080/"
    },
    "executionInfo": {
     "elapsed": 484,
     "status": "ok",
     "timestamp": 1725171894024,
     "user": {
      "displayName": "김광수",
      "userId": "04260902725982947063"
     },
     "user_tz": -540
    },
    "id": "qThjCBMNy92A",
    "outputId": "ebef3907-2e7c-404c-b368-50d0823c47dc"
   },
   "outputs": [
    {
     "data": {
      "text/plain": [
       "34"
      ]
     },
     "execution_count": 107,
     "metadata": {},
     "output_type": "execute_result"
    }
   ],
   "source": [
    "data['age']"
   ]
  },
  {
   "cell_type": "markdown",
   "metadata": {
    "id": "VQu0Pkv6Xfm2"
   },
   "source": [
    "변수명을 이용하여 불러온다."
   ]
  },
  {
   "cell_type": "code",
   "execution_count": null,
   "metadata": {
    "colab": {
     "base_uri": "https://localhost:8080/"
    },
    "executionInfo": {
     "elapsed": 452,
     "status": "ok",
     "timestamp": 1725171900745,
     "user": {
      "displayName": "김광수",
      "userId": "04260902725982947063"
     },
     "user_tz": -540
    },
    "id": "mggfYWmey92B",
    "outputId": "2af15d3b-091b-4cc1-ad92-2f156cf3c46b"
   },
   "outputs": [
    {
     "name": "stdout",
     "output_type": "stream",
     "text": [
      "50\n"
     ]
    }
   ],
   "source": [
    "data['age'] = 50\n",
    "print(data['age'])"
   ]
  },
  {
   "cell_type": "markdown",
   "metadata": {
    "id": "KMLQfAFGy92B"
   },
   "source": [
    "변경"
   ]
  },
  {
   "cell_type": "code",
   "execution_count": null,
   "metadata": {
    "colab": {
     "base_uri": "https://localhost:8080/"
    },
    "executionInfo": {
     "elapsed": 517,
     "status": "ok",
     "timestamp": 1725171907690,
     "user": {
      "displayName": "김광수",
      "userId": "04260902725982947063"
     },
     "user_tz": -540
    },
    "id": "vixgH9fEy92B",
    "outputId": "2e9c5145-5629-4426-d9db-bc352e326a0d"
   },
   "outputs": [
    {
     "name": "stdout",
     "output_type": "stream",
     "text": [
      "{'age': 50, 'children': [1, 2], 1: 'apple', 'name': ['abc', 'fg']}\n"
     ]
    }
   ],
   "source": [
    "data['name'] = ['abc','fg']\n",
    "print(data)"
   ]
  },
  {
   "cell_type": "markdown",
   "metadata": {
    "id": "eH8nrUwZy92B"
   },
   "source": [
    "변수를 추가"
   ]
  },
  {
   "cell_type": "code",
   "execution_count": null,
   "metadata": {
    "colab": {
     "base_uri": "https://localhost:8080/"
    },
    "executionInfo": {
     "elapsed": 468,
     "status": "ok",
     "timestamp": 1725171911738,
     "user": {
      "displayName": "김광수",
      "userId": "04260902725982947063"
     },
     "user_tz": -540
    },
    "id": "hAMHyo1Ay92B",
    "outputId": "9713fc4b-50ea-4982-eb26-007efaedf0ab"
   },
   "outputs": [
    {
     "name": "stdout",
     "output_type": "stream",
     "text": [
      "{'children': [1, 2], 1: 'apple', 'name': ['abc', 'fg']}\n"
     ]
    }
   ],
   "source": [
    "del data['age']\n",
    "print(data)"
   ]
  },
  {
   "cell_type": "markdown",
   "metadata": {
    "id": "7ScBgLnwQZ2C"
   },
   "source": [
    "변수를 삭제"
   ]
  },
  {
   "cell_type": "markdown",
   "metadata": {
    "id": "iiCxrOwSy92B"
   },
   "source": [
    "### 집합형\n",
    "\n",
    "집합(set, frozenset)은 고유한 값들로 구성된 자료형이다. `set`은 고유한 값들로 구성된 리스트와 비슷한 특성을 가지고 있고, `frozenset`은 고유한 값들로 구성된 튜플과 비슷한 특성을 가지고 있다."
   ]
  },
  {
   "cell_type": "markdown",
   "metadata": {
    "id": "Zd114WYky92C"
   },
   "source": [
    "#### 집합 관련 함수들\n",
    "\n",
    "| 함수명 | 메소드 | 설명 |\n",
    "| ---- | ---- | ----|\n",
    "| set.add(x, element) | x.add(element) | 집합에 element를 추가 |\n",
    "| len(x) | - | 집합안의 element 갯수를 반환 |\n",
    "| set.difference(x, set) | x.difference(set) | 차집합 |\n",
    "| set.intersection(x, set) | x.intersection(set) | 교집합 |\n",
    "| set.remove(x, element) | x.remove(element) | 집합에서 element를 제거 |\n",
    "| set.union(x, set) | x.union(set) | 합집합 |"
   ]
  },
  {
   "cell_type": "code",
   "execution_count": 114,
   "metadata": {
    "colab": {
     "base_uri": "https://localhost:8080/"
    },
    "executionInfo": {
     "elapsed": 521,
     "status": "ok",
     "timestamp": 1725173071054,
     "user": {
      "displayName": "김광수",
      "userId": "04260902725982947063"
     },
     "user_tz": -540
    },
    "id": "YDpvCw6dy92C",
    "outputId": "04073eef-392f-48cf-9158-5901a60ec67b"
   },
   "outputs": [
    {
     "name": "stdout",
     "output_type": "stream",
     "text": [
      "{'GOOG', 'AAPL', 'MSFT', 'HPQ'}\n"
     ]
    }
   ],
   "source": [
    "x = set(['MSFT', 'GOOG', 'AAPL', 'HPQ', 'MSFT', 'MSFT'])\n",
    "print(x)"
   ]
  },
  {
   "cell_type": "markdown",
   "metadata": {
    "id": "Hn7qLYRNX22q"
   },
   "source": [
    "집합은 원소의 중복을 허용하지 않음"
   ]
  },
  {
   "cell_type": "code",
   "execution_count": 115,
   "metadata": {
    "colab": {
     "base_uri": "https://localhost:8080/"
    },
    "executionInfo": {
     "elapsed": 511,
     "status": "ok",
     "timestamp": 1725173081492,
     "user": {
      "displayName": "김광수",
      "userId": "04260902725982947063"
     },
     "user_tz": -540
    },
    "id": "wB4LuOndy92C",
    "outputId": "993ac9e2-ccd7-4238-e127-74b18e44ce49"
   },
   "outputs": [
    {
     "name": "stdout",
     "output_type": "stream",
     "text": [
      "{'CSCO', 'HPQ', 'AAPL', 'GOOG', 'MSFT'}\n"
     ]
    }
   ],
   "source": [
    "x.add('CSCO')\n",
    "print(x)"
   ]
  },
  {
   "cell_type": "code",
   "execution_count": 116,
   "metadata": {
    "colab": {
     "base_uri": "https://localhost:8080/"
    },
    "executionInfo": {
     "elapsed": 476,
     "status": "ok",
     "timestamp": 1725173085321,
     "user": {
      "displayName": "김광수",
      "userId": "04260902725982947063"
     },
     "user_tz": -540
    },
    "id": "2zVBFf5Hy92C",
    "outputId": "d84714fc-d120-4523-bd60-211a7517d169"
   },
   "outputs": [
    {
     "data": {
      "text/plain": [
       "{'GOOG'}"
      ]
     },
     "execution_count": 116,
     "metadata": {},
     "output_type": "execute_result"
    }
   ],
   "source": [
    "y = set(['XOM', 'GOOG'])\n",
    "x.intersection(y)"
   ]
  },
  {
   "cell_type": "markdown",
   "metadata": {
    "id": "HNOv_p3eX9BD"
   },
   "source": [
    "교집합 연산"
   ]
  },
  {
   "cell_type": "code",
   "execution_count": 117,
   "metadata": {
    "colab": {
     "base_uri": "https://localhost:8080/"
    },
    "executionInfo": {
     "elapsed": 604,
     "status": "ok",
     "timestamp": 1725173089984,
     "user": {
      "displayName": "김광수",
      "userId": "04260902725982947063"
     },
     "user_tz": -540
    },
    "id": "IbPnpBHAy92C",
    "outputId": "ef3d428d-ba68-4217-e502-dc1a0e717edb"
   },
   "outputs": [
    {
     "name": "stdout",
     "output_type": "stream",
     "text": [
      "{'CSCO', 'GOOG', 'HPQ', 'MSFT', 'AAPL', 'XOM'}\n"
     ]
    }
   ],
   "source": [
    "x = x.union(y)\n",
    "print(x)"
   ]
  },
  {
   "cell_type": "code",
   "execution_count": 118,
   "metadata": {
    "colab": {
     "base_uri": "https://localhost:8080/"
    },
    "executionInfo": {
     "elapsed": 528,
     "status": "ok",
     "timestamp": 1725173092853,
     "user": {
      "displayName": "김광수",
      "userId": "04260902725982947063"
     },
     "user_tz": -540
    },
    "id": "mHHKYouAy92C",
    "outputId": "5e0e114b-d609-400d-e8fb-53da8c0b21c7"
   },
   "outputs": [
    {
     "name": "stdout",
     "output_type": "stream",
     "text": [
      "{'CSCO', 'GOOG', 'HPQ', 'MSFT', 'AAPL'}\n"
     ]
    }
   ],
   "source": [
    "x.remove('XOM')\n",
    "print(x)"
   ]
  },
  {
   "cell_type": "markdown",
   "metadata": {
    "id": "gOhCeVB1y92C"
   },
   "source": [
    "**참고. `frozenset`은 `set`과 같은 메소드를 적용할 수 있지만, `add`와 `remove`는 적용되지 않는다. 즉, 값의 변화를 주지 않는다는 의미임.**"
   ]
  },
  {
   "cell_type": "markdown",
   "metadata": {
    "id": "GPkJtoS6y92C"
   },
   "source": [
    "### range\n",
    "\n",
    "range는 반복문에서 가장 많이 사용되는 자료형으로 열(sequence)을 생성한다."
   ]
  },
  {
   "cell_type": "code",
   "execution_count": 119,
   "metadata": {
    "colab": {
     "base_uri": "https://localhost:8080/"
    },
    "executionInfo": {
     "elapsed": 574,
     "status": "ok",
     "timestamp": 1725173108832,
     "user": {
      "displayName": "김광수",
      "userId": "04260902725982947063"
     },
     "user_tz": -540
    },
    "id": "547_jXPOy92D",
    "outputId": "f2a97b71-6cf5-4bd8-c917-a7700f0f806f"
   },
   "outputs": [
    {
     "data": {
      "text/plain": [
       "range"
      ]
     },
     "execution_count": 119,
     "metadata": {},
     "output_type": "execute_result"
    }
   ],
   "source": [
    "x = range(10)\n",
    "type(x)"
   ]
  },
  {
   "cell_type": "markdown",
   "metadata": {
    "id": "cUbzXlUMYHH_"
   },
   "source": [
    "특별히 range 라는 타입을 사용하며, 리스트와 유사함\n",
    "\n",
    "*   List item\n",
    "*   List item\n",
    "\n"
   ]
  },
  {
   "cell_type": "code",
   "execution_count": 120,
   "metadata": {
    "colab": {
     "base_uri": "https://localhost:8080/"
    },
    "executionInfo": {
     "elapsed": 9,
     "status": "ok",
     "timestamp": 1725173110683,
     "user": {
      "displayName": "김광수",
      "userId": "04260902725982947063"
     },
     "user_tz": -540
    },
    "id": "X48z8D2by92D",
    "outputId": "7f074ce7-28ad-40ba-ff26-f38fb065546e"
   },
   "outputs": [
    {
     "name": "stdout",
     "output_type": "stream",
     "text": [
      "range(0, 10)\n"
     ]
    }
   ],
   "source": [
    "print(x)"
   ]
  },
  {
   "cell_type": "code",
   "execution_count": 121,
   "metadata": {
    "colab": {
     "base_uri": "https://localhost:8080/"
    },
    "executionInfo": {
     "elapsed": 608,
     "status": "ok",
     "timestamp": 1725173119479,
     "user": {
      "displayName": "김광수",
      "userId": "04260902725982947063"
     },
     "user_tz": -540
    },
    "id": "I3--Pt95y92D",
    "outputId": "0d89a611-7b8f-4283-eda8-061e0457f43a"
   },
   "outputs": [
    {
     "data": {
      "text/plain": [
       "[0, 1, 2, 3, 4, 5, 6, 7, 8, 9]"
      ]
     },
     "execution_count": 121,
     "metadata": {},
     "output_type": "execute_result"
    }
   ],
   "source": [
    "list(x)"
   ]
  },
  {
   "cell_type": "code",
   "execution_count": 122,
   "metadata": {
    "colab": {
     "base_uri": "https://localhost:8080/"
    },
    "executionInfo": {
     "elapsed": 554,
     "status": "ok",
     "timestamp": 1725173121944,
     "user": {
      "displayName": "김광수",
      "userId": "04260902725982947063"
     },
     "user_tz": -540
    },
    "id": "HbkLB7fjy92D",
    "outputId": "b068fa72-80aa-460f-8d80-27e0494b5352"
   },
   "outputs": [
    {
     "data": {
      "text/plain": [
       "[3, 4, 5, 6, 7, 8, 9]"
      ]
     },
     "execution_count": 122,
     "metadata": {},
     "output_type": "execute_result"
    }
   ],
   "source": [
    "x = range(3,10)\n",
    "list(x)"
   ]
  },
  {
   "cell_type": "code",
   "execution_count": 123,
   "metadata": {
    "colab": {
     "base_uri": "https://localhost:8080/"
    },
    "executionInfo": {
     "elapsed": 4,
     "status": "ok",
     "timestamp": 1725173126922,
     "user": {
      "displayName": "김광수",
      "userId": "04260902725982947063"
     },
     "user_tz": -540
    },
    "id": "ic36EgkOy92D",
    "outputId": "7fccfec4-2121-4e8a-fa1f-4b6eb91c2176"
   },
   "outputs": [
    {
     "data": {
      "text/plain": [
       "[3, 6, 9]"
      ]
     },
     "execution_count": 123,
     "metadata": {},
     "output_type": "execute_result"
    }
   ],
   "source": [
    "x = range(3,10,3)\n",
    "list(x)"
   ]
  },
  {
   "cell_type": "markdown",
   "metadata": {
    "id": "pyHTaW_yYcrN"
   },
   "source": [
    "3부터 시작해서 3칸씩 건너가되 10-1까지 가는 것임."
   ]
  },
  {
   "cell_type": "markdown",
   "metadata": {
    "id": "beDwkLdSy92D"
   },
   "source": [
    "### 과제 P1"
   ]
  },
  {
   "cell_type": "code",
   "execution_count": null,
   "metadata": {
    "id": "MvdxnOuXy92D"
   },
   "outputs": [],
   "source": [
    "pin = \"881120-1068234\""
   ]
  },
  {
   "cell_type": "markdown",
   "metadata": {
    "id": "ADznWdP9y92D"
   },
   "source": [
    "\n",
    "1. 주민등록번호(pin)의 연월일 부분과 그 뒤의 숫자 부분으로 나누어 출력하시오.\n",
    "2. 주민등록번호(pin)에서 성별을 나타내는 숫자를 출력하시오."
   ]
  },
  {
   "cell_type": "code",
   "execution_count": null,
   "metadata": {
    "colab": {
     "base_uri": "https://localhost:8080/"
    },
    "id": "FSMZnheby92E",
    "outputId": "f8d7219e-e55c-47f5-fe31-714d8e54b21b"
   },
   "outputs": [
    {
     "data": {
      "text/plain": [
       "[5, 4, 3, 2, 1]"
      ]
     },
     "execution_count": 113,
     "metadata": {},
     "output_type": "execute_result"
    }
   ],
   "source": [
    "x = [1, 3, 5, 4, 2]"
   ]
  },
  {
   "cell_type": "markdown",
   "metadata": {
    "id": "XHOa9ogAy92E"
   },
   "source": [
    "3. [1, 3, 5, 4, 2]라는 리스트를 [5, 4, 2, 3, 1]로 만들어 보시오."
   ]
  },
  {
   "cell_type": "code",
   "execution_count": null,
   "metadata": {
    "colab": {
     "base_uri": "https://localhost:8080/"
    },
    "id": "d_l-Asvmy92E",
    "outputId": "6caa6881-a761-4daa-eafb-050b27bbaf06"
   },
   "outputs": [
    {
     "name": "stdout",
     "output_type": "stream",
     "text": [
      "[1, 2, 3, 4]\n"
     ]
    },
    {
     "data": {
      "text/plain": [
       "(1, 2, 3, 4)"
      ]
     },
     "execution_count": 104,
     "metadata": {},
     "output_type": "execute_result"
    }
   ],
   "source": [
    "x = (1, 2, 3) ;"
   ]
  },
  {
   "cell_type": "markdown",
   "metadata": {
    "id": "iYYZ7gqTy92E"
   },
   "source": [
    "4. (1, 2, 3)이라는 튜플에 4라는 값을 추가하여 (1, 2, 3, 4)처럼 만들어 출력해 보시오."
   ]
  },
  {
   "cell_type": "code",
   "execution_count": null,
   "metadata": {
    "colab": {
     "base_uri": "https://localhost:8080/"
    },
    "id": "gXzJSinfy92E",
    "outputId": "422eb940-d7af-4026-aeef-d91869279ee6"
   },
   "outputs": [
    {
     "data": {
      "text/plain": [
       "80"
      ]
     },
     "execution_count": 78,
     "metadata": {},
     "output_type": "execute_result"
    }
   ],
   "source": [
    "a = {'A': 90, 'B': 80, 'C': 70}"
   ]
  },
  {
   "cell_type": "markdown",
   "metadata": {
    "id": "a9HBSmrsy92E"
   },
   "source": [
    "5. 딕셔너리 a에서 'B'에 해당되는 값을 추출하고 삭제해 보시오."
   ]
  },
  {
   "cell_type": "code",
   "execution_count": null,
   "metadata": {
    "colab": {
     "base_uri": "https://localhost:8080/"
    },
    "id": "2adMDcFUy92E",
    "outputId": "0211d7f5-ccf3-46cf-b684-54b36260d4d1"
   },
   "outputs": [
    {
     "data": {
      "text/plain": [
       "{1, 2, 3, 4, 5}"
      ]
     },
     "execution_count": 79,
     "metadata": {},
     "output_type": "execute_result"
    }
   ],
   "source": [
    "a = [1, 1, 1, 2, 2, 3, 3, 3, 4, 4, 5]"
   ]
  },
  {
   "cell_type": "markdown",
   "metadata": {
    "id": "ki1t006Wy92E"
   },
   "source": [
    "6. 리스트에서 중복된 숫자들을 제거해 보시오."
   ]
  }
 ],
 "metadata": {
  "colab": {
   "provenance": []
  },
  "kernelspec": {
   "display_name": "Python 3",
   "language": "python",
   "name": "python3"
  },
  "language_info": {
   "codemirror_mode": {
    "name": "ipython",
    "version": 3
   },
   "file_extension": ".py",
   "mimetype": "text/x-python",
   "name": "python",
   "nbconvert_exporter": "python",
   "pygments_lexer": "ipython3",
   "version": "3.7.3"
  }
 },
 "nbformat": 4,
 "nbformat_minor": 0
}
