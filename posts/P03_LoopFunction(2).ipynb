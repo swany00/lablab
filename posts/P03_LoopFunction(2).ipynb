{
 "cells": [
  {
   "cell_type": "raw",
   "metadata": {
    "vscode": {
     "languageId": "raw"
    }
   },
   "source": [
    "---\n",
    "title: \"P03_LoopFunction(2)\"\n",
    "author: \"김수환\"\n",
    "date: \"12/16/2024\"\n",
    "---"
   ]
  },
  {
   "cell_type": "markdown",
   "metadata": {
    "id": "CX70W5CJ4YUL"
   },
   "source": [
    "# Python에서의 조건문, 반복문, 사용자 정의 함수\n",
    "\n",
    "이번 강의에서는 **if, while, for**등의 조건문, 반복문과 사용자 정의 함수에 대해 학습한다.  "
   ]
  },
  {
   "cell_type": "markdown",
   "metadata": {
    "id": "azhB1Qbp4YUO"
   },
   "source": [
    "## 논리 연산 (Logical operator)\n",
    "\n",
    "논리 연산(logical operation) 혹은 불 연산(boolean operation)은 참, 거짓 두 가지 원소(진리값으로 불림)만 존재하는 집합에서의 연산으로, 제어문(조건문, 반복문)에 필수적이다."
   ]
  },
  {
   "cell_type": "markdown",
   "metadata": {
    "id": "LOz0Ic2j4YUP"
   },
   "source": [
    "### 비교 연산\n",
    "\n",
    "| 부호 | 정의 |\n",
    "| --- | --- |\n",
    "| > | x > y : x가 y보다 크다 |\n",
    "| >= | x가 y보다 크거나 같다 |\n",
    "| < | x가 y보다 작다 |\n",
    "| <= | x가 y보다 작거나 같다 |\n",
    "| == | x와 y가 같다 |\n",
    "| != | x와 y가 같지 않다 |"
   ]
  },
  {
   "cell_type": "code",
   "execution_count": 2,
   "metadata": {
    "colab": {
     "base_uri": "https://localhost:8080/"
    },
    "executionInfo": {
     "elapsed": 536,
     "status": "ok",
     "timestamp": 1732511075857,
     "user": {
      "displayName": "김광수",
      "userId": "04260902725982947063"
     },
     "user_tz": -540
    },
    "id": "uOybPZu14YUP",
    "outputId": "663d86f3-800c-40e7-cfe2-7dc4c7874b8d"
   },
   "outputs": [
    {
     "data": {
      "text/plain": [
       "True"
      ]
     },
     "execution_count": 2,
     "metadata": {},
     "output_type": "execute_result"
    }
   ],
   "source": [
    "x = 1\n",
    "x == 1"
   ]
  },
  {
   "cell_type": "code",
   "execution_count": 3,
   "metadata": {
    "colab": {
     "base_uri": "https://localhost:8080/"
    },
    "executionInfo": {
     "elapsed": 342,
     "status": "ok",
     "timestamp": 1732511077633,
     "user": {
      "displayName": "김광수",
      "userId": "04260902725982947063"
     },
     "user_tz": -540
    },
    "id": "A-wSziNB4YUQ",
    "outputId": "5583f702-0adb-4e5b-e263-297f360162cc"
   },
   "outputs": [
    {
     "data": {
      "text/plain": [
       "False"
      ]
     },
     "execution_count": 3,
     "metadata": {},
     "output_type": "execute_result"
    }
   ],
   "source": [
    "x >= 2"
   ]
  },
  {
   "cell_type": "markdown",
   "metadata": {
    "id": "5hb5qIcy4YUQ"
   },
   "source": [
    "### 논리 연산\n",
    "\n",
    "| 키워드 | 비트 | 설명 |\n",
    "| ---- | ---- | ---- |\n",
    "| and | & | 논리식이 모두 참이면 참 |\n",
    "| or | \\| | 논리식 중에서 하나라도 참이면 참 |\n",
    "| not | ~ | 논리식의 결과가 참이면 거짓을, 거짓이면 참 |\n",
    "| | ^ | 논리식중 하나가 참이고 다른하나가 거짓이면 참 (XOR)  |"
   ]
  },
  {
   "cell_type": "code",
   "execution_count": 4,
   "metadata": {
    "colab": {
     "base_uri": "https://localhost:8080/"
    },
    "executionInfo": {
     "elapsed": 422,
     "status": "ok",
     "timestamp": 1732511079627,
     "user": {
      "displayName": "김광수",
      "userId": "04260902725982947063"
     },
     "user_tz": -540
    },
    "id": "1oZG29sr4YUR",
    "outputId": "fd4bda1b-8c3b-4615-e857-ee9675f8487c"
   },
   "outputs": [
    {
     "data": {
      "text/plain": [
       "False"
      ]
     },
     "execution_count": 4,
     "metadata": {},
     "output_type": "execute_result"
    }
   ],
   "source": [
    "x == 1 & x == 2"
   ]
  },
  {
   "cell_type": "code",
   "execution_count": 6,
   "metadata": {
    "colab": {
     "base_uri": "https://localhost:8080/"
    },
    "executionInfo": {
     "elapsed": 355,
     "status": "ok",
     "timestamp": 1732511091427,
     "user": {
      "displayName": "김광수",
      "userId": "04260902725982947063"
     },
     "user_tz": -540
    },
    "id": "mIhhTF0V4YUR",
    "outputId": "fbfc5215-849a-479f-8c3e-d3513a18f077"
   },
   "outputs": [
    {
     "name": "stdout",
     "output_type": "stream",
     "text": [
      "True\n"
     ]
    }
   ],
   "source": [
    "x == 1 and x == 2\n",
    "print((x == 1)^(x == 2))"
   ]
  },
  {
   "cell_type": "markdown",
   "metadata": {
    "id": "1F9gxGxA4YUR"
   },
   "source": [
    "### 기타 연산\n",
    "\n",
    "| in | not in |\n",
    "| --- | --- |\n",
    "| x in 리스트 | x not in 리스트 |\n",
    "| x in 튜플 | x not in 튜플 |\n",
    "| x in 문자열 | x not in 문자열 |"
   ]
  },
  {
   "cell_type": "code",
   "execution_count": 7,
   "metadata": {
    "colab": {
     "base_uri": "https://localhost:8080/"
    },
    "executionInfo": {
     "elapsed": 387,
     "status": "ok",
     "timestamp": 1732511095646,
     "user": {
      "displayName": "김광수",
      "userId": "04260902725982947063"
     },
     "user_tz": -540
    },
    "id": "HAEgXUry4YUS",
    "outputId": "79ee085c-0388-4e48-bb8a-d872e48701c9"
   },
   "outputs": [
    {
     "data": {
      "text/plain": [
       "True"
      ]
     },
     "execution_count": 7,
     "metadata": {},
     "output_type": "execute_result"
    }
   ],
   "source": [
    "1 in [1, 2, 3]"
   ]
  },
  {
   "cell_type": "code",
   "execution_count": 8,
   "metadata": {
    "colab": {
     "base_uri": "https://localhost:8080/"
    },
    "executionInfo": {
     "elapsed": 371,
     "status": "ok",
     "timestamp": 1732511097769,
     "user": {
      "displayName": "김광수",
      "userId": "04260902725982947063"
     },
     "user_tz": -540
    },
    "id": "pt3SNCnu4YUS",
    "outputId": "b59c5c0a-745d-4e4b-c5e4-743fb7c3d78a"
   },
   "outputs": [
    {
     "data": {
      "text/plain": [
       "False"
      ]
     },
     "execution_count": 8,
     "metadata": {},
     "output_type": "execute_result"
    }
   ],
   "source": [
    "1 not in [1, 2, 3]"
   ]
  },
  {
   "cell_type": "markdown",
   "metadata": {
    "id": "T1lqZEsb4YUS"
   },
   "source": [
    "## 조건문 (if문)\n",
    "\n",
    "**Python**프로그래밍에서 조건을 판단하여 해당 조건에 맞는 상황을 수행하는 데 쓰인다. ``if``문의 사용법은 다음과 같다.\n",
    "\n",
    "```python\n",
    "if 조건문:  \n",
    "\n",
    "    수행할 문장 1  \n",
    "    수행할 문장 2  \n",
    "    ...    \n",
    "    \n",
    "elif 조건문2:  \n",
    "\n",
    "    수행할 문장 2-1  \n",
    "    수행할 문장 2-2  \n",
    "    ...  \n",
    "\n",
    "elif 조건문N:  \n",
    "\n",
    "    수행할 문장 N-1  \n",
    "    수행할 문장 N-2  \n",
    "    ...  \n",
    "    \n",
    "else:  \n",
    "\n",
    "    수행할 문장 A  \n",
    "    수행할 문장 B  \n",
    "    ...  \n",
    "```"
   ]
  },
  {
   "cell_type": "markdown",
   "metadata": {
    "id": "7Y7ZyfLk4YUS"
   },
   "source": [
    "**주의. Python에서는 들여쓰기로 코드의 블럭을 나눈다.**"
   ]
  },
  {
   "cell_type": "code",
   "execution_count": 10,
   "metadata": {
    "colab": {
     "base_uri": "https://localhost:8080/"
    },
    "executionInfo": {
     "elapsed": 322,
     "status": "ok",
     "timestamp": 1732511105686,
     "user": {
      "displayName": "김광수",
      "userId": "04260902725982947063"
     },
     "user_tz": -540
    },
    "id": "MRQftzVJ4YUT",
    "outputId": "391a4476-0723-4f50-9b11-6ef80803218b"
   },
   "outputs": [
    {
     "name": "stdout",
     "output_type": "stream",
     "text": [
      "4\n"
     ]
    }
   ],
   "source": [
    "x = 5\n",
    "if x < 5:\n",
    "   x += 1\n",
    "else:\n",
    "   x -= 1\n",
    "\n",
    "print(x)"
   ]
  },
  {
   "cell_type": "code",
   "execution_count": 12,
   "metadata": {
    "colab": {
     "base_uri": "https://localhost:8080/"
    },
    "executionInfo": {
     "elapsed": 355,
     "status": "ok",
     "timestamp": 1732511118847,
     "user": {
      "displayName": "김광수",
      "userId": "04260902725982947063"
     },
     "user_tz": -540
    },
    "id": "Z7cg81h14YUT",
    "outputId": "60695288-77b4-42f0-8c3a-f7030ecc9e5e"
   },
   "outputs": [
    {
     "name": "stdout",
     "output_type": "stream",
     "text": [
      "10\n"
     ]
    }
   ],
   "source": [
    "x = 5\n",
    "if x < 5:\n",
    "    x = x + 1\n",
    "elif x > 5:\n",
    "    x = x - 1\n",
    "else:\n",
    "    x = x * 2\n",
    "\n",
    "print(x)"
   ]
  },
  {
   "cell_type": "markdown",
   "metadata": {
    "id": "CE4eq8814YUT"
   },
   "source": [
    "## 반복문 (for문, while문)\n",
    "\n",
    "반복문은 반복해서 문장을 수행해야 할 경우 사용된다. **Python**에서 사용되는 반복문은 ``for``문과 ``while``문이 있다."
   ]
  },
  {
   "cell_type": "markdown",
   "metadata": {
    "id": "8st4IjFg4YUT"
   },
   "source": [
    "### for 문\n",
    "\n",
    "``for``문의 기본구조는 다음과 같다.  \n",
    "\n",
    "```python\n",
    "for 변수 in 리스트(또는 튜플, 문자열, range):  \n",
    "\n",
    "    수행할 문장1\n",
    "    수행할 문장2\n",
    "    ...\n",
    "```"
   ]
  },
  {
   "cell_type": "markdown",
   "metadata": {
    "id": "mOrMICkB4YUT"
   },
   "source": [
    "0부터 99까지 더하는 예제\n",
    "\n",
    "0에서 시작하는 루프임에 유의"
   ]
  },
  {
   "cell_type": "code",
   "execution_count": 13,
   "metadata": {
    "colab": {
     "base_uri": "https://localhost:8080/"
    },
    "executionInfo": {
     "elapsed": 361,
     "status": "ok",
     "timestamp": 1732511123678,
     "user": {
      "displayName": "김광수",
      "userId": "04260902725982947063"
     },
     "user_tz": -540
    },
    "id": "deNA4Dr24YUU",
    "outputId": "bb3ac5de-6bd6-485f-e59b-be5cd9b58e33"
   },
   "outputs": [
    {
     "name": "stdout",
     "output_type": "stream",
     "text": [
      "0\n",
      "55\n",
      "210\n",
      "465\n",
      "820\n",
      "1275\n",
      "1830\n",
      "2485\n",
      "3240\n",
      "4095\n",
      "4950\n"
     ]
    }
   ],
   "source": [
    "count = 0\n",
    "for i in range(100):\n",
    "    count += i\n",
    "    if i % 10 == 0:\n",
    "      print(count)\n",
    "\n",
    "print(count)"
   ]
  },
  {
   "cell_type": "code",
   "execution_count": 14,
   "metadata": {
    "colab": {
     "base_uri": "https://localhost:8080/"
    },
    "executionInfo": {
     "elapsed": 354,
     "status": "ok",
     "timestamp": 1732511132240,
     "user": {
      "displayName": "김광수",
      "userId": "04260902725982947063"
     },
     "user_tz": -540
    },
    "id": "y2wXZoY54YUU",
    "outputId": "da72319c-6a6d-429c-9f1a-c8c0038f3664"
   },
   "outputs": [
    {
     "name": "stdout",
     "output_type": "stream",
     "text": [
      "[0, 1, 2, 3, 4, 5, 6, 7, 8, 9, 10, 11, 12, 13, 14, 15, 16, 17, 18, 19, 20, 21, 22, 23, 24, 25, 26, 27, 28, 29, 30]\n"
     ]
    }
   ],
   "source": [
    "count = 0\n",
    "x = list(range(31))\n",
    "print(x)"
   ]
  },
  {
   "cell_type": "code",
   "execution_count": 15,
   "metadata": {
    "colab": {
     "base_uri": "https://localhost:8080/"
    },
    "executionInfo": {
     "elapsed": 366,
     "status": "ok",
     "timestamp": 1732511143764,
     "user": {
      "displayName": "김광수",
      "userId": "04260902725982947063"
     },
     "user_tz": -540
    },
    "id": "u_qd0PZM4YUU",
    "outputId": "a0fdc9b0-e709-4829-e2f2-6c3797aead73"
   },
   "outputs": [
    {
     "name": "stdout",
     "output_type": "stream",
     "text": [
      "465\n"
     ]
    }
   ],
   "source": [
    "for i in x:\n",
    "    count += i\n",
    "\n",
    "print(count)"
   ]
  },
  {
   "cell_type": "markdown",
   "metadata": {
    "id": "mkUkzOvo4YUU"
   },
   "source": [
    "0부터 9까지 더하는 것을 10번 반복"
   ]
  },
  {
   "cell_type": "code",
   "execution_count": 16,
   "metadata": {
    "colab": {
     "base_uri": "https://localhost:8080/"
    },
    "executionInfo": {
     "elapsed": 450,
     "status": "ok",
     "timestamp": 1732511160992,
     "user": {
      "displayName": "김광수",
      "userId": "04260902725982947063"
     },
     "user_tz": -540
    },
    "id": "soidx6td4YUU",
    "outputId": "840df4dc-d0e2-48f2-8c05-876d92ee3e67"
   },
   "outputs": [
    {
     "name": "stdout",
     "output_type": "stream",
     "text": [
      "450\n"
     ]
    }
   ],
   "source": [
    "count = 0\n",
    "for i in range(10):\n",
    "    for j in range(10):\n",
    "        count += j\n",
    "\n",
    "print(count)"
   ]
  },
  {
   "cell_type": "markdown",
   "metadata": {
    "id": "O-OZKYKV4YUU"
   },
   "source": [
    "순서와 값을 이용하는 예제"
   ]
  },
  {
   "cell_type": "code",
   "execution_count": 18,
   "metadata": {
    "colab": {
     "base_uri": "https://localhost:8080/"
    },
    "executionInfo": {
     "elapsed": 393,
     "status": "ok",
     "timestamp": 1732511184560,
     "user": {
      "displayName": "김광수",
      "userId": "04260902725982947063"
     },
     "user_tz": -540
    },
    "id": "v8WikZEP4YUV",
    "outputId": "ab5e1457-8cfd-4c45-a7bf-d86590285b24"
   },
   "outputs": [
    {
     "name": "stdout",
     "output_type": "stream",
     "text": [
      "[0, 11, 22, 33, 44, 55, 66, 77, 88, 99]\n",
      "i (order) is :  0 , y (index) is :  0\n",
      "i (order) is :  1 , y (index) is :  11\n",
      "i (order) is :  2 , y (index) is :  22\n",
      "i (order) is :  3 , y (index) is :  33\n",
      "i (order) is :  4 , y (index) is :  44\n",
      "i (order) is :  5 , y (index) is :  55\n",
      "i (order) is :  6 , y (index) is :  66\n",
      "i (order) is :  7 , y (index) is :  77\n",
      "i (order) is :  8 , y (index) is :  88\n",
      "i (order) is :  9 , y (index) is :  99\n"
     ]
    }
   ],
   "source": [
    "x = range(0,100,11)\n",
    "print(list(x))\n",
    "for i, y in enumerate(x): # 순서와 값을 반환\n",
    "    print('i (order) is : ', i, ', y (index) is : ', y)"
   ]
  },
  {
   "cell_type": "markdown",
   "metadata": {
    "id": "choIdhne4YUV"
   },
   "source": [
    "튜플을 이용한 예제"
   ]
  },
  {
   "cell_type": "code",
   "execution_count": 19,
   "metadata": {
    "colab": {
     "base_uri": "https://localhost:8080/"
    },
    "executionInfo": {
     "elapsed": 357,
     "status": "ok",
     "timestamp": 1732511190464,
     "user": {
      "displayName": "김광수",
      "userId": "04260902725982947063"
     },
     "user_tz": -540
    },
    "id": "wnjqB7dA4YUV",
    "outputId": "5f9d534e-6741-4615-aaf8-29379f4c3d2e"
   },
   "outputs": [
    {
     "name": "stdout",
     "output_type": "stream",
     "text": [
      "3\n",
      "7\n",
      "11\n"
     ]
    }
   ],
   "source": [
    "x = [(1,2), (3,4), (5,6)]\n",
    "for (f,l) in x:\n",
    "    print(f+l)"
   ]
  },
  {
   "cell_type": "markdown",
   "metadata": {
    "id": "8xCchSCK4YUV"
   },
   "source": [
    "#### ``break``문\n",
    "\n",
    "``break``문은 반복문을 강제 종료할 때 사용된다."
   ]
  },
  {
   "cell_type": "code",
   "execution_count": 20,
   "metadata": {
    "colab": {
     "base_uri": "https://localhost:8080/"
    },
    "executionInfo": {
     "elapsed": 339,
     "status": "ok",
     "timestamp": 1732511198162,
     "user": {
      "displayName": "김광수",
      "userId": "04260902725982947063"
     },
     "user_tz": -540
    },
    "id": "UIx59rmU4YUV",
    "outputId": "f812aa7c-8daa-4c49-cdb0-47b22bd2cd05"
   },
   "outputs": [
    {
     "name": "stdout",
     "output_type": "stream",
     "text": [
      "0\n",
      "11\n",
      "22\n",
      "33\n",
      "44\n",
      "55\n"
     ]
    }
   ],
   "source": [
    "x = range(0,100,11)\n",
    "for i in x:\n",
    "    print(i)\n",
    "    if i > 50:\n",
    "        break"
   ]
  },
  {
   "cell_type": "markdown",
   "metadata": {
    "id": "iOqCF4Sa4YUV"
   },
   "source": [
    "#### ``continue``문\n",
    "\n",
    "``continue``문은 반복문에서 특정 반복을 건너뛸 때 사용된다."
   ]
  },
  {
   "cell_type": "code",
   "execution_count": 21,
   "metadata": {
    "colab": {
     "base_uri": "https://localhost:8080/"
    },
    "executionInfo": {
     "elapsed": 323,
     "status": "ok",
     "timestamp": 1732511203749,
     "user": {
      "displayName": "김광수",
      "userId": "04260902725982947063"
     },
     "user_tz": -540
    },
    "id": "v2JGRXuv4YUV",
    "outputId": "f6c64e4f-c6dd-4084-d8bd-8d1ac656ea0f"
   },
   "outputs": [
    {
     "name": "stdout",
     "output_type": "stream",
     "text": [
      "0\n",
      "1\n",
      "2\n",
      "3\n",
      "4\n",
      "5\n",
      "50\n",
      "6\n",
      "60\n",
      "7\n",
      "70\n",
      "8\n",
      "80\n",
      "9\n",
      "90\n"
     ]
    }
   ],
   "source": [
    "x = range(0, 10)\n",
    "for i in x:\n",
    "    print(i)\n",
    "    if i <= 4:\n",
    "        continue\n",
    "    # 여기에서 조건이 맞으면 위로 돌아감\n",
    "    print(10*i)\n",
    "    # 여기에서 조건이 안맞으면 계속 실행"
   ]
  },
  {
   "cell_type": "markdown",
   "metadata": {
    "id": "jiQHKp2u4YUV"
   },
   "source": [
    "#### 리스트 내포(List comprehension)\n",
    "\n",
    "리스트 안에 ``for``문을 포함하는 리스트 내포를 이용하면 편리하고 직관적인 프로그램을 만들 수 있다."
   ]
  },
  {
   "cell_type": "code",
   "execution_count": 22,
   "metadata": {
    "colab": {
     "base_uri": "https://localhost:8080/"
    },
    "executionInfo": {
     "elapsed": 413,
     "status": "ok",
     "timestamp": 1732511240637,
     "user": {
      "displayName": "김광수",
      "userId": "04260902725982947063"
     },
     "user_tz": -540
    },
    "id": "33hVgTfN4YUW",
    "outputId": "1ba7bd3f-9684-45db-b025-22bcfc0c435a"
   },
   "outputs": [
    {
     "name": "stdout",
     "output_type": "stream",
     "text": [
      "[3, 6, 9, 12]\n"
     ]
    }
   ],
   "source": [
    "x = [1, 2, 3, 4]\n",
    "r = []\n",
    "\n",
    "for i in x:\n",
    "    r.append(i*3)\n",
    "\n",
    "print(r)"
   ]
  },
  {
   "cell_type": "code",
   "execution_count": 23,
   "metadata": {
    "colab": {
     "base_uri": "https://localhost:8080/"
    },
    "executionInfo": {
     "elapsed": 366,
     "status": "ok",
     "timestamp": 1732511250169,
     "user": {
      "displayName": "김광수",
      "userId": "04260902725982947063"
     },
     "user_tz": -540
    },
    "id": "SCp_LMpJ4YUW",
    "outputId": "36912e84-6603-41bc-e2e4-0a9a6e41d2bf"
   },
   "outputs": [
    {
     "name": "stdout",
     "output_type": "stream",
     "text": [
      "[10, 20, 30, 40]\n"
     ]
    }
   ],
   "source": [
    "r = [i*10 for i in x]\n",
    "print(r)"
   ]
  },
  {
   "cell_type": "code",
   "execution_count": 24,
   "metadata": {
    "colab": {
     "base_uri": "https://localhost:8080/"
    },
    "executionInfo": {
     "elapsed": 364,
     "status": "ok",
     "timestamp": 1732511261744,
     "user": {
      "displayName": "김광수",
      "userId": "04260902725982947063"
     },
     "user_tz": -540
    },
    "id": "EqHYZdFP4YUW",
    "outputId": "58a78415-86c5-45c7-a1d2-7a41f4cce6e8"
   },
   "outputs": [
    {
     "name": "stdout",
     "output_type": "stream",
     "text": [
      "[6]\n"
     ]
    }
   ],
   "source": [
    "r = [i*3 for i in x if i == 2]\n",
    "print(r)"
   ]
  },
  {
   "cell_type": "markdown",
   "metadata": {
    "id": "hHku27lWYFvW"
   },
   "source": [
    "루프를 돌아가면서도 조건을 확인해서 조건이 맞을 떄만 작동"
   ]
  },
  {
   "cell_type": "code",
   "execution_count": 25,
   "metadata": {
    "colab": {
     "base_uri": "https://localhost:8080/"
    },
    "executionInfo": {
     "elapsed": 342,
     "status": "ok",
     "timestamp": 1732511281448,
     "user": {
      "displayName": "김광수",
      "userId": "04260902725982947063"
     },
     "user_tz": -540
    },
    "id": "13qQzeEw4YUW",
    "outputId": "48453030-8eec-4ed1-aa40-42540b929d01"
   },
   "outputs": [
    {
     "name": "stdout",
     "output_type": "stream",
     "text": [
      "[2, 4, 6, 8, 10, 12, 14, 16, 18, 3, 6, 9, 12, 15, 18, 21, 24, 27, 4, 8, 12, 16, 20, 24, 28, 32, 36, 5, 10, 15, 20, 25, 30, 35, 40, 45, 6, 12, 18, 24, 30, 36, 42, 48, 54, 7, 14, 21, 28, 35, 42, 49, 56, 63, 8, 16, 24, 32, 40, 48, 56, 64, 72, 9, 18, 27, 36, 45, 54, 63, 72, 81]\n"
     ]
    }
   ],
   "source": [
    "r = [x*y for x in range(2,10) for y in range(1,10)]\n",
    "print(r)"
   ]
  },
  {
   "cell_type": "markdown",
   "metadata": {
    "id": "k5rb378hYOKs"
   },
   "source": [
    "내포문에서 이중 루프도 가능함"
   ]
  },
  {
   "cell_type": "markdown",
   "metadata": {
    "id": "qwa7eqI84YUW"
   },
   "source": [
    "#### 튜플, 딕셔너리, 집합 내포"
   ]
  },
  {
   "cell_type": "code",
   "execution_count": 26,
   "metadata": {
    "colab": {
     "base_uri": "https://localhost:8080/"
    },
    "executionInfo": {
     "elapsed": 510,
     "status": "ok",
     "timestamp": 1732511307002,
     "user": {
      "displayName": "김광수",
      "userId": "04260902725982947063"
     },
     "user_tz": -540
    },
    "id": "yYUSH2bG4YUW",
    "outputId": "21fe2fae-7a70-4736-f533-6e47e5eb7d72"
   },
   "outputs": [
    {
     "name": "stdout",
     "output_type": "stream",
     "text": [
      "[-5, -4, -3, -2, -1, 0, 1, 2, 3, 4]\n"
     ]
    }
   ],
   "source": [
    "x = range(-5, 5)\n",
    "print(list(x))"
   ]
  },
  {
   "cell_type": "code",
   "execution_count": 27,
   "metadata": {
    "colab": {
     "base_uri": "https://localhost:8080/"
    },
    "executionInfo": {
     "elapsed": 343,
     "status": "ok",
     "timestamp": 1732511310472,
     "user": {
      "displayName": "김광수",
      "userId": "04260902725982947063"
     },
     "user_tz": -540
    },
    "id": "EWLa-o4l4YUW",
    "outputId": "f1445367-b9bc-4043-c080-5c3ecdc814f7"
   },
   "outputs": [
    {
     "name": "stdout",
     "output_type": "stream",
     "text": [
      "(-125, -64, -27, -8, -1, 0, 1, 8, 27, 64)\n"
     ]
    }
   ],
   "source": [
    "z_tuple = tuple(i**3 for i in x)\n",
    "print(z_tuple)\n",
    "# 튜프 내포"
   ]
  },
  {
   "cell_type": "code",
   "execution_count": 28,
   "metadata": {
    "colab": {
     "base_uri": "https://localhost:8080/"
    },
    "executionInfo": {
     "elapsed": 326,
     "status": "ok",
     "timestamp": 1732511317798,
     "user": {
      "displayName": "김광수",
      "userId": "04260902725982947063"
     },
     "user_tz": -540
    },
    "id": "nFhEa1eE4YUd",
    "outputId": "9dee6040-7f8a-4cad-902d-dc671758b5f2"
   },
   "outputs": [
    {
     "name": "stdout",
     "output_type": "stream",
     "text": [
      "[-5, -4, -3, -2, -1, 0, 1, 2, 3, 4]\n",
      "{0.0, 1.0, 4.0, 9.0, 16.0, 25.0}\n"
     ]
    }
   ],
   "source": [
    "print(list(x))\n",
    "z_set = {x[i]**2.0 for i in x}\n",
    "print(z_set)\n",
    "# 집합 내포"
   ]
  },
  {
   "cell_type": "code",
   "execution_count": 29,
   "metadata": {
    "colab": {
     "base_uri": "https://localhost:8080/"
    },
    "executionInfo": {
     "elapsed": 333,
     "status": "ok",
     "timestamp": 1732511321302,
     "user": {
      "displayName": "김광수",
      "userId": "04260902725982947063"
     },
     "user_tz": -540
    },
    "id": "aC9eJxk64YUd",
    "outputId": "2dc2598f-d5b6-4ecd-c430-f864205fff7c"
   },
   "outputs": [
    {
     "name": "stdout",
     "output_type": "stream",
     "text": [
      "{'-5': -10, '-4': -8, '-3': -6, '-2': -4, '-1': -2, '0': 0, '1': 2, '2': 4, '3': 6, '4': 8}\n"
     ]
    }
   ],
   "source": [
    "z_dict = {str(i):i*2 for i in x}\n",
    "print(z_dict)\n",
    "# dictionary: 이름-값"
   ]
  },
  {
   "cell_type": "markdown",
   "metadata": {
    "id": "KL9sz39h4YUd"
   },
   "source": [
    "#### 연습문제\n",
    "\n",
    "- 정수값을 받아서 짝수를 화면에 출력하는 코드를 작성하시오.\n",
    "- A학급에 총 10명의 학생에 대한 중간점수가 있다. 평균을 구하시오.\n",
    "```\n",
    "[70, 60, 55, 75, 95, 90, 80, 80, 85, 100]\n",
    "```"
   ]
  },
  {
   "cell_type": "code",
   "execution_count": 30,
   "metadata": {
    "colab": {
     "base_uri": "https://localhost:8080/"
    },
    "executionInfo": {
     "elapsed": 342,
     "status": "ok",
     "timestamp": 1732511325535,
     "user": {
      "displayName": "김광수",
      "userId": "04260902725982947063"
     },
     "user_tz": -540
    },
    "id": "coDe4phU4YUd",
    "outputId": "049430fc-bc14-4626-e284-0f225f9cb14d"
   },
   "outputs": [
    {
     "name": "stdout",
     "output_type": "stream",
     "text": [
      "10\n",
      "45\n"
     ]
    }
   ],
   "source": [
    "count = 0\n",
    "i = 1\n",
    "while i < 10:\n",
    "    count += i\n",
    "    i += 1\n",
    "\n",
    "print(i)\n",
    "print(count)"
   ]
  },
  {
   "cell_type": "code",
   "execution_count": 31,
   "metadata": {
    "colab": {
     "base_uri": "https://localhost:8080/"
    },
    "executionInfo": {
     "elapsed": 331,
     "status": "ok",
     "timestamp": 1732511328700,
     "user": {
      "displayName": "김광수",
      "userId": "04260902725982947063"
     },
     "user_tz": -540
    },
    "id": "UGWp5GOD4YUe",
    "outputId": "be8e67be-344f-46b2-b684-3a1575bd6ecf"
   },
   "outputs": [
    {
     "name": "stdout",
     "output_type": "stream",
     "text": [
      "9\n"
     ]
    }
   ],
   "source": [
    "count = 0\n",
    "for i in range(0,10):\n",
    "    count += i\n",
    "\n",
    "print(i)"
   ]
  },
  {
   "cell_type": "code",
   "execution_count": 32,
   "metadata": {
    "colab": {
     "base_uri": "https://localhost:8080/"
    },
    "executionInfo": {
     "elapsed": 403,
     "status": "ok",
     "timestamp": 1732511331464,
     "user": {
      "displayName": "김광수",
      "userId": "04260902725982947063"
     },
     "user_tz": -540
    },
    "id": "JxBFFxvv4YUe",
    "outputId": "b7d5a017-5d1e-450b-e019-14d577dede75"
   },
   "outputs": [
    {
     "name": "stdout",
     "output_type": "stream",
     "text": [
      "[-10  -9  -8  -7  -6  -5  -4  -3  -2  -1   0   1   2   3   4   5   6   7\n",
      "   8   9]\n",
      "-10\n",
      "-9\n",
      "-8\n",
      "-7\n",
      "-6\n",
      "-5\n",
      "-4\n",
      "-3\n",
      "-2\n",
      "-1\n",
      "0\n"
     ]
    }
   ],
   "source": [
    "import numpy as np\n",
    "condition = True\n",
    "i = 0\n",
    "x = range(-10,10)\n",
    "print(np.array(x))\n",
    "\n",
    "while condition:\n",
    "    if x[i] > 0:\n",
    "        break    # condition = False\n",
    "    print(x[i])\n",
    "    i += 1\n",
    "# 양수가 되는 순간 루프를 나오고 아래 구문을 작동시키지 않음"
   ]
  },
  {
   "cell_type": "markdown",
   "metadata": {
    "id": "VqXQ4Ohm4YUe"
   },
   "source": [
    "#### 연습문제\n",
    "- 1부터 50까지의 수 중 짝수를 화면에 출력하는 코드를 작성하시오.\n",
    "\n",
    "- ``while``문을 이용하여 아래와 같이 \\*를 표시하시오.\n",
    "\n",
    "    \\*  \n",
    "\\*\\*  \n",
    "\\*\\*\\*  \n",
    "\\*\\*\\*\\*  \n",
    "\\*\\*\\*\\*\\*  "
   ]
  },
  {
   "cell_type": "markdown",
   "metadata": {
    "id": "CrP7ySrj4YUe"
   },
   "source": [
    "**참고. 문자열에 상수를 곱하면 해당 문자가 반복된다.**"
   ]
  },
  {
   "cell_type": "code",
   "execution_count": 33,
   "metadata": {
    "colab": {
     "base_uri": "https://localhost:8080/",
     "height": 35
    },
    "executionInfo": {
     "elapsed": 357,
     "status": "ok",
     "timestamp": 1732511356413,
     "user": {
      "displayName": "김광수",
      "userId": "04260902725982947063"
     },
     "user_tz": -540
    },
    "id": "Xq4xCSA94YUe",
    "outputId": "58502573-695e-4046-96c4-303114cd7668"
   },
   "outputs": [
    {
     "data": {
      "application/vnd.google.colaboratory.intrinsic+json": {
       "type": "string"
      },
      "text/plain": [
       "'**********'"
      ]
     },
     "execution_count": 33,
     "metadata": {},
     "output_type": "execute_result"
    }
   ],
   "source": [
    "\"*\" * 10"
   ]
  },
  {
   "cell_type": "markdown",
   "metadata": {
    "id": "_VJBdQhs4YUe"
   },
   "source": [
    "## 사용자 정의 함수"
   ]
  },
  {
   "cell_type": "markdown",
   "metadata": {
    "id": "-9JgMNr44YUe"
   },
   "source": [
    "사용자 정의 함수는 사용자가 직접 새로운 함수를 정의하는 방법으로 똑같은 내용이 반복되는 부분을 주로 함수로 정의하여 사용한다.  \n",
    "**Python**에서 사용자 정의 함수를 정의하는 구조는 아래와 같다.\n",
    "\n",
    "```python\n",
    "def 함수명(입력 인수):\n",
    "\n",
    "    수행할 문장1\n",
    "    수행할 문장2\n",
    "    ...\n",
    "    return 결과값\n",
    "```"
   ]
  },
  {
   "cell_type": "markdown",
   "metadata": {
    "id": "ng7NB5KS4YUe"
   },
   "source": [
    "제곱"
   ]
  },
  {
   "cell_type": "code",
   "execution_count": 34,
   "metadata": {
    "executionInfo": {
     "elapsed": 363,
     "status": "ok",
     "timestamp": 1732511361364,
     "user": {
      "displayName": "김광수",
      "userId": "04260902725982947063"
     },
     "user_tz": -540
    },
    "id": "qe1LR0aS4YUf"
   },
   "outputs": [],
   "source": [
    "def square(x):\n",
    "    return x**2"
   ]
  },
  {
   "cell_type": "code",
   "execution_count": 35,
   "metadata": {
    "colab": {
     "base_uri": "https://localhost:8080/"
    },
    "executionInfo": {
     "elapsed": 326,
     "status": "ok",
     "timestamp": 1732511384043,
     "user": {
      "displayName": "김광수",
      "userId": "04260902725982947063"
     },
     "user_tz": -540
    },
    "id": "rHM92K9W4YUf",
    "outputId": "caeb171e-5b03-4760-e5de-18f7f5ed3c3a"
   },
   "outputs": [
    {
     "name": "stdout",
     "output_type": "stream",
     "text": [
      "2 4\n"
     ]
    }
   ],
   "source": [
    "x = 2\n",
    "y = square(x)\n",
    "print(x,y)"
   ]
  },
  {
   "cell_type": "markdown",
   "metadata": {
    "id": "TuWU8xFu4YUf"
   },
   "source": [
    "거리"
   ]
  },
  {
   "cell_type": "code",
   "execution_count": 36,
   "metadata": {
    "executionInfo": {
     "elapsed": 486,
     "status": "ok",
     "timestamp": 1732511387124,
     "user": {
      "displayName": "김광수",
      "userId": "04260902725982947063"
     },
     "user_tz": -540
    },
    "id": "UReqxz2S4YUf"
   },
   "outputs": [],
   "source": [
    "def l2dist(x,y):\n",
    "    return (x-y)**2"
   ]
  },
  {
   "cell_type": "code",
   "execution_count": 37,
   "metadata": {
    "colab": {
     "base_uri": "https://localhost:8080/"
    },
    "executionInfo": {
     "elapsed": 342,
     "status": "ok",
     "timestamp": 1732511389627,
     "user": {
      "displayName": "김광수",
      "userId": "04260902725982947063"
     },
     "user_tz": -540
    },
    "id": "px5LbPQm4YUf",
    "outputId": "0b957517-76a5-447d-d1d7-8294a8a3d1bb"
   },
   "outputs": [
    {
     "name": "stdout",
     "output_type": "stream",
     "text": [
      "3 10 49\n"
     ]
    }
   ],
   "source": [
    "x = 3\n",
    "y = 10\n",
    "z = l2dist(x,y)\n",
    "print(x,y,z)"
   ]
  },
  {
   "cell_type": "code",
   "execution_count": 38,
   "metadata": {
    "colab": {
     "base_uri": "https://localhost:8080/"
    },
    "executionInfo": {
     "elapsed": 333,
     "status": "ok",
     "timestamp": 1732511392144,
     "user": {
      "displayName": "김광수",
      "userId": "04260902725982947063"
     },
     "user_tz": -540
    },
    "id": "SPw7zQPC4YUf",
    "outputId": "0eb2d296-21d8-4a58-de2f-d03d352e908b"
   },
   "outputs": [
    {
     "name": "stdout",
     "output_type": "stream",
     "text": [
      "49\n"
     ]
    }
   ],
   "source": [
    "z = l2dist(y=10,x=3)\n",
    "print(z)"
   ]
  },
  {
   "cell_type": "markdown",
   "metadata": {
    "id": "1u8SeWrb4YUf"
   },
   "source": [
    "**Python에서 사용자 정의 함수는 입력 인수에 초기값을 설정할 수 있다. 단, 초기값을 가지는 인수는 맨 뒤에 위치해야 한다.**"
   ]
  },
  {
   "cell_type": "code",
   "execution_count": 39,
   "metadata": {
    "executionInfo": {
     "elapsed": 344,
     "status": "ok",
     "timestamp": 1732511394512,
     "user": {
      "displayName": "김광수",
      "userId": "04260902725982947063"
     },
     "user_tz": -540
    },
    "id": "tEllLCGb4YUg"
   },
   "outputs": [],
   "source": [
    "def lp_norm(x,y,p=2):\n",
    "    n = len(x)\n",
    "    d = []\n",
    "    for i in range(n):\n",
    "        d.append(abs(x[i] - y[i])**p)\n",
    "    return sum(d)**(1/p)"
   ]
  },
  {
   "cell_type": "code",
   "execution_count": 40,
   "metadata": {
    "colab": {
     "base_uri": "https://localhost:8080/"
    },
    "executionInfo": {
     "elapsed": 352,
     "status": "ok",
     "timestamp": 1732511397424,
     "user": {
      "displayName": "김광수",
      "userId": "04260902725982947063"
     },
     "user_tz": -540
    },
    "id": "cM1mi91F4YUg",
    "outputId": "e4ae1eaf-8c50-4900-fd44-14f49b1ca88a"
   },
   "outputs": [
    {
     "name": "stdout",
     "output_type": "stream",
     "text": [
      "[1, 2, 3, 4, 5, 6, 7, 8, 9]\n",
      "[10, 9, 8, 7, 6, 5, 4, 3, 2]\n",
      "41.0 15.7797338380595\n"
     ]
    }
   ],
   "source": [
    "x = list(range(1,10))\n",
    "y = list(range(10,1,-1))\n",
    "print(x)\n",
    "print(y)\n",
    "l2 = lp_norm(x,y)\n",
    "l1 = lp_norm(x,y,1)\n",
    "print(l1,l2)"
   ]
  },
  {
   "cell_type": "markdown",
   "metadata": {
    "id": "u4gDf4Jf4YUg"
   },
   "source": [
    "**입력 인수의 갯수를 변하도록 정의할 수 있다.**"
   ]
  },
  {
   "cell_type": "code",
   "execution_count": 41,
   "metadata": {
    "executionInfo": {
     "elapsed": 345,
     "status": "ok",
     "timestamp": 1732511401711,
     "user": {
      "displayName": "김광수",
      "userId": "04260902725982947063"
     },
     "user_tz": -540
    },
    "id": "CsiSwxum4YUg"
   },
   "outputs": [],
   "source": [
    "def lp_norm(x,y,p=2,*args):\n",
    "    n = len(x)\n",
    "    d = []\n",
    "    for i in range(n):\n",
    "        d.append(abs(x[i] - y[i])**p)\n",
    "    print('The L' + str(p) + ' distance is :', sum(d)**(1/p))\n",
    "    out = [sum(d)**(1/p)]\n",
    "\n",
    "    print('Number of *args:', len(args))\n",
    "    for p in args:\n",
    "        d = []\n",
    "        for i in range(n):\n",
    "            d.append(abs(x[i] - y[i])**p)\n",
    "        print('The L' + str(p) + ' distance is :', sum(d)**(1/p))\n",
    "        out.append(sum(d)**(1/p))\n",
    "\n",
    "    return tuple(out)"
   ]
  },
  {
   "cell_type": "code",
   "execution_count": 42,
   "metadata": {
    "executionInfo": {
     "elapsed": 349,
     "status": "ok",
     "timestamp": 1732511417205,
     "user": {
      "displayName": "김광수",
      "userId": "04260902725982947063"
     },
     "user_tz": -540
    },
    "id": "VJXpX16a4YUg"
   },
   "outputs": [],
   "source": [
    "x = list(range(1,10))\n",
    "y = list(range(10,1,-1))"
   ]
  },
  {
   "cell_type": "code",
   "execution_count": 43,
   "metadata": {
    "colab": {
     "base_uri": "https://localhost:8080/"
    },
    "executionInfo": {
     "elapsed": 384,
     "status": "ok",
     "timestamp": 1732511419736,
     "user": {
      "displayName": "김광수",
      "userId": "04260902725982947063"
     },
     "user_tz": -540
    },
    "id": "TnKhcqjm4YUg",
    "outputId": "7ac0e200-617e-4288-9166-25a4a2a62d5a"
   },
   "outputs": [
    {
     "name": "stdout",
     "output_type": "stream",
     "text": [
      "The L2 distance is : 15.7797338380595\n",
      "Number of *args: 0\n",
      "(15.7797338380595,)\n"
     ]
    }
   ],
   "source": [
    "lp = lp_norm(x,y)\n",
    "print(lp)"
   ]
  },
  {
   "cell_type": "code",
   "execution_count": 44,
   "metadata": {
    "colab": {
     "base_uri": "https://localhost:8080/"
    },
    "executionInfo": {
     "elapsed": 407,
     "status": "ok",
     "timestamp": 1732511426388,
     "user": {
      "displayName": "김광수",
      "userId": "04260902725982947063"
     },
     "user_tz": -540
    },
    "id": "3FCMOMV44YUg",
    "outputId": "59720d61-5f37-4493-86c3-059628374212"
   },
   "outputs": [
    {
     "name": "stdout",
     "output_type": "stream",
     "text": [
      "The L1 distance is : 41.0\n",
      "Number of *args: 0\n",
      "(41.0,)\n"
     ]
    }
   ],
   "source": [
    "lp = lp_norm(x,y,1)\n",
    "print(lp)"
   ]
  },
  {
   "cell_type": "code",
   "execution_count": 45,
   "metadata": {
    "colab": {
     "base_uri": "https://localhost:8080/"
    },
    "executionInfo": {
     "elapsed": 348,
     "status": "ok",
     "timestamp": 1732511444568,
     "user": {
      "displayName": "김광수",
      "userId": "04260902725982947063"
     },
     "user_tz": -540
    },
    "id": "HufuH_jb4YUg",
    "outputId": "47f8134f-5888-49c3-e6d6-e90673a31a1d"
   },
   "outputs": [
    {
     "name": "stdout",
     "output_type": "stream",
     "text": [
      "The L1 distance is : 41.0\n",
      "Number of *args: 6\n",
      "The L2 distance is : 15.7797338380595\n",
      "The L3 distance is : 11.983774366920516\n",
      "The L4 distance is : 10.631810414384907\n",
      "The L1.5 distance is : 21.370708630062115\n",
      "The L2.5 distance is : 13.317802359045247\n",
      "The L0.5 distance is : 332.2505125167682\n",
      "(41.0, 15.7797338380595, 11.983774366920516, 10.631810414384907, 21.370708630062115, 13.317802359045247, 332.2505125167682)\n"
     ]
    }
   ],
   "source": [
    "lp = lp_norm(x,y,1,2,3,4,1.5,2.5,0.5)\n",
    "print(lp)\n",
    "# number 역시 0부터 시작함"
   ]
  },
  {
   "cell_type": "markdown",
   "metadata": {
    "id": "sYZd4VYbZ3E3"
   },
   "source": [
    "1 이후가 새로운 인수가 됨"
   ]
  },
  {
   "cell_type": "markdown",
   "metadata": {
    "id": "wmRQzzBq4YUh"
   },
   "source": [
    "**정의된 함수의 설명을 추가 할 수 있다.**"
   ]
  },
  {
   "cell_type": "code",
   "execution_count": 46,
   "metadata": {
    "executionInfo": {
     "elapsed": 435,
     "status": "ok",
     "timestamp": 1732511457929,
     "user": {
      "displayName": "김광수",
      "userId": "04260902725982947063"
     },
     "user_tz": -540
    },
    "id": "U4w7snjs4YUh"
   },
   "outputs": [],
   "source": [
    "def lp_norm(x,y,p = 2):\n",
    "    r\"\"\" Compute the distance between vectors.\n",
    "\n",
    "    The Lp normed distance is sum(abs(x-y)**p)**(1/p)\n",
    "\n",
    "    Parameters\n",
    "    ----------\n",
    "    x : ndarray\n",
    "        First argument\n",
    "    y : ndarray\n",
    "        Second argument\n",
    "    p : float, optional\n",
    "        Power used in distance calculation, >=0\n",
    "\n",
    "    Returns\n",
    "    -------\n",
    "    output : scalar\n",
    "        Returns the Lp normed distance between x and y\n",
    "\n",
    "    Notes\n",
    "    -----\n",
    "\n",
    "    For p>=1, returns the Lp norm described above. For 0<=p<1,\n",
    "    returns sum(abs(x-y)**p). If p<0, p is set to 0.\n",
    "\n",
    "    Examples\n",
    "    --------\n",
    "    >>> x=[0,1,2]\n",
    "    >>> y=[1,2,3]\n",
    "\n",
    "    L2 norm is the default\n",
    "\n",
    "    >>> lp_norm(x,y)\n",
    "\n",
    "    Lp can be computed using the optional third input\n",
    "\n",
    "    >>> lp_norm(x,y,1)\n",
    "\n",
    "    \"\"\"\n",
    "\n",
    "    if p<0: p=0\n",
    "\n",
    "    n = len(x)\n",
    "    d = []\n",
    "    for i in range(n):\n",
    "        d.append(abs(x[i] - y[i])**p)\n",
    "\n",
    "    if p == 0:\n",
    "        count = 0\n",
    "        for i in range(n):\n",
    "            if d[i] != 0:\n",
    "                count += 1\n",
    "        return count\n",
    "    elif p < 1:\n",
    "        return sum(d)\n",
    "    else:\n",
    "        return sum(d)**(1/p)"
   ]
  },
  {
   "cell_type": "code",
   "execution_count": 47,
   "metadata": {
    "colab": {
     "base_uri": "https://localhost:8080/"
    },
    "executionInfo": {
     "elapsed": 363,
     "status": "ok",
     "timestamp": 1732511462612,
     "user": {
      "displayName": "김광수",
      "userId": "04260902725982947063"
     },
     "user_tz": -540
    },
    "id": "Y6Bo5Tlb4YUh",
    "outputId": "ad686fdb-28ea-49b0-e4d0-312138622319"
   },
   "outputs": [
    {
     "name": "stdout",
     "output_type": "stream",
     "text": [
      "Help on function lp_norm in module __main__:\n",
      "\n",
      "lp_norm(x, y, p=2)\n",
      "    Compute the distance between vectors.\n",
      "    \n",
      "    The Lp normed distance is sum(abs(x-y)**p)**(1/p)\n",
      "    \n",
      "    Parameters\n",
      "    ----------\n",
      "    x : ndarray\n",
      "        First argument\n",
      "    y : ndarray\n",
      "        Second argument\n",
      "    p : float, optional\n",
      "        Power used in distance calculation, >=0\n",
      "    \n",
      "    Returns\n",
      "    -------\n",
      "    output : scalar\n",
      "        Returns the Lp normed distance between x and y\n",
      "    \n",
      "    Notes\n",
      "    -----\n",
      "    \n",
      "    For p>=1, returns the Lp norm described above. For 0<=p<1,\n",
      "    returns sum(abs(x-y)**p). If p<0, p is set to 0.\n",
      "    \n",
      "    Examples\n",
      "    --------\n",
      "    >>> x=[0,1,2]\n",
      "    >>> y=[1,2,3]\n",
      "    \n",
      "    L2 norm is the default\n",
      "    \n",
      "    >>> lp_norm(x,y)\n",
      "    \n",
      "    Lp can be computed using the optional third input\n",
      "    \n",
      "    >>> lp_norm(x,y,1)\n",
      "\n"
     ]
    }
   ],
   "source": [
    "help(lp_norm)"
   ]
  },
  {
   "cell_type": "markdown",
   "metadata": {
    "id": "Yl1ZXUS24YUh"
   },
   "source": [
    "**변수의 적용 범위**\n",
    "  - 로컬과 글로벌이 존재\n",
    "  - 로컬은 함수 안에서 글로벌은 전체에 작용함  "
   ]
  },
  {
   "cell_type": "code",
   "execution_count": 48,
   "metadata": {
    "executionInfo": {
     "elapsed": 381,
     "status": "ok",
     "timestamp": 1732511467555,
     "user": {
      "displayName": "김광수",
      "userId": "04260902725982947063"
     },
     "user_tz": -540
    },
    "id": "VPYRtEXc4YUh"
   },
   "outputs": [],
   "source": [
    "def scope_local():\n",
    "    a = -1\n",
    "    print('Inside scope_local, a is ',a)\n",
    "\n",
    "def scope_global():\n",
    "    global a\n",
    "    a = -10\n",
    "    print('Inside scope_global, a is ',a)"
   ]
  },
  {
   "cell_type": "code",
   "execution_count": 50,
   "metadata": {
    "colab": {
     "base_uri": "https://localhost:8080/"
    },
    "executionInfo": {
     "elapsed": 324,
     "status": "ok",
     "timestamp": 1732511491795,
     "user": {
      "displayName": "김광수",
      "userId": "04260902725982947063"
     },
     "user_tz": -540
    },
    "id": "FpCzgkex4YUh",
    "outputId": "6e288274-4675-4b96-e586-1d66317fa948"
   },
   "outputs": [
    {
     "name": "stdout",
     "output_type": "stream",
     "text": [
      "a is  1\n",
      "\n",
      "Inside scope_local, a is  -1\n",
      "a is now  1\n",
      "\n",
      "Inside scope_global, a is  -10\n",
      "a is now  -10\n"
     ]
    }
   ],
   "source": [
    "a=1\n",
    "print('a is ',a)\n",
    "print('')\n",
    "scope_local()\n",
    "print('a is now ',a)\n",
    "print('')\n",
    "scope_global()\n",
    "print('a is now ',a)"
   ]
  },
  {
   "cell_type": "markdown",
   "metadata": {
    "id": "h1Mp2KRj4YUh"
   },
   "source": [
    "**``lambda``명령어를 사용하여 익명 함수를 정의할 수 있다.**"
   ]
  },
  {
   "cell_type": "code",
   "execution_count": 51,
   "metadata": {
    "executionInfo": {
     "elapsed": 360,
     "status": "ok",
     "timestamp": 1732511494004,
     "user": {
      "displayName": "김광수",
      "userId": "04260902725982947063"
     },
     "user_tz": -540
    },
    "id": "IW8N6_Vp4YUi"
   },
   "outputs": [],
   "source": [
    "nested = [('John','Doe','Oxford'),\\\n",
    "          ('Jane','Dearing','Cambridge'),\\\n",
    "          ('Jerry','Dawn','Harvard')]"
   ]
  },
  {
   "cell_type": "code",
   "execution_count": 52,
   "metadata": {
    "colab": {
     "base_uri": "https://localhost:8080/"
    },
    "executionInfo": {
     "elapsed": 337,
     "status": "ok",
     "timestamp": 1732511497040,
     "user": {
      "displayName": "김광수",
      "userId": "04260902725982947063"
     },
     "user_tz": -540
    },
    "id": "XXctyI184YUi",
    "outputId": "ca306027-5917-4874-a2a6-c3d9e2308fc8"
   },
   "outputs": [
    {
     "name": "stdout",
     "output_type": "stream",
     "text": [
      "[('Jane', 'Dearing', 'Cambridge'), ('Jerry', 'Dawn', 'Harvard'), ('John', 'Doe', 'Oxford')]\n"
     ]
    }
   ],
   "source": [
    "nested.sort()\n",
    "print(nested)"
   ]
  },
  {
   "cell_type": "code",
   "execution_count": 53,
   "metadata": {
    "colab": {
     "base_uri": "https://localhost:8080/"
    },
    "executionInfo": {
     "elapsed": 398,
     "status": "ok",
     "timestamp": 1732511526035,
     "user": {
      "displayName": "김광수",
      "userId": "04260902725982947063"
     },
     "user_tz": -540
    },
    "id": "MeOjZRRd4YUi",
    "outputId": "e0e0daa5-9c8a-499c-c3f2-a536ccf8982d"
   },
   "outputs": [
    {
     "name": "stdout",
     "output_type": "stream",
     "text": [
      "25\n",
      "[('Jerry', 'Dawn', 'Harvard'), ('Jane', 'Dearing', 'Cambridge'), ('John', 'Doe', 'Oxford')]\n"
     ]
    }
   ],
   "source": [
    "print( (lambda x:x**2)(5) )\n",
    "# 함수 정의\n",
    "nested.sort(key=lambda x:x[1])\n",
    "print(nested)\n",
    "# 1번 첨자로 소팅"
   ]
  },
  {
   "cell_type": "markdown",
   "metadata": {
    "id": "aMVrGxM14YUi"
   },
   "source": [
    "#### 연습문제\n",
    "\n",
    "- 입력을 정수 n으로 받았을 때, n이하까지의 피보나치 수열을 출력하는 함수를 작성하시오.\n",
    "\n",
    "    ```    0, 1, 1, 2, 3, 5, 8, 13, ... ```"
   ]
  },
  {
   "cell_type": "markdown",
   "metadata": {
    "id": "c8ecoGYb4YUi"
   },
   "source": [
    "- 다음의 값을 오름차순으로 정력하는 함수를 작성하시오.\n",
    "\n",
    "   ``` 3, 2, 8, 4, 9, 13, 5 ```"
   ]
  },
  {
   "cell_type": "markdown",
   "metadata": {
    "id": "n5pd6nu14YUi"
   },
   "source": [
    "## 모듈(Modules)\n",
    "\n",
    "모듈(module)이란 함수나 변수 또는 클래스(class) 들을 모아 놓은 파일로, 다른 **Python**프로그램에서 ``import``명령어를 통해 불러와 사용할 수 있다.\n",
    "\n",
    "모듈 사용 방법:\n",
    "1. ``import`` 모듈이름 ``as`` 별명\n",
    "2. ``from`` 모듈이름 ``import`` 모듈함수"
   ]
  },
  {
   "cell_type": "code",
   "execution_count": 54,
   "metadata": {
    "colab": {
     "base_uri": "https://localhost:8080/"
    },
    "executionInfo": {
     "elapsed": 375,
     "status": "ok",
     "timestamp": 1732511545300,
     "user": {
      "displayName": "김광수",
      "userId": "04260902725982947063"
     },
     "user_tz": -540
    },
    "id": "_T5zDNk_4YUi",
    "outputId": "66857f04-0360-42e1-8198-5adf45c642b7"
   },
   "outputs": [
    {
     "name": "stdout",
     "output_type": "stream",
     "text": [
      "[0.5037167  0.33736336 0.45905245 0.07396127 0.14505654 0.8153129\n",
      " 0.60459636 0.26636206 0.90918077 0.11907817]\n"
     ]
    }
   ],
   "source": [
    "import numpy as np\n",
    "\n",
    "x = np.random.rand(10)\n",
    "print(x)"
   ]
  },
  {
   "cell_type": "markdown",
   "metadata": {
    "id": "1WkMS_bJ4YUi"
   },
   "source": [
    "**사용자 정의 모듈**"
   ]
  },
  {
   "cell_type": "code",
   "execution_count": 55,
   "metadata": {
    "colab": {
     "base_uri": "https://localhost:8080/"
    },
    "executionInfo": {
     "elapsed": 341,
     "status": "ok",
     "timestamp": 1732511548588,
     "user": {
      "displayName": "김광수",
      "userId": "04260902725982947063"
     },
     "user_tz": -540
    },
    "id": "ohEueUoi4YUj",
    "outputId": "10df165f-c4e3-4cfd-cae4-bb82743abfa4"
   },
   "outputs": [
    {
     "name": "stdout",
     "output_type": "stream",
     "text": [
      "Writing core.py\n"
     ]
    }
   ],
   "source": [
    "%%writefile -a core.py\n",
    "r\"\"\"Demonstraion module.\n",
    "This is the module docstring.\n",
    "\"\"\"\n",
    "\n",
    "def square(x):\n",
    "    r\"\"\"Returns the square of a scalar input\n",
    "    \"\"\"\n",
    "    return x*x\n",
    "\n",
    "def cube(x):\n",
    "    r\"\"\"Returns the cube of a scalar input\n",
    "    \"\"\"\n",
    "    return x*x*x"
   ]
  },
  {
   "cell_type": "code",
   "execution_count": 56,
   "metadata": {
    "colab": {
     "base_uri": "https://localhost:8080/"
    },
    "executionInfo": {
     "elapsed": 358,
     "status": "ok",
     "timestamp": 1732511551451,
     "user": {
      "displayName": "김광수",
      "userId": "04260902725982947063"
     },
     "user_tz": -540
    },
    "id": "sCSDKRtD4YUj",
    "outputId": "3f5fad29-0482-44e0-8243-0d7c799bf9ca"
   },
   "outputs": [
    {
     "name": "stdout",
     "output_type": "stream",
     "text": [
      "/content\n"
     ]
    }
   ],
   "source": [
    "!pwd\n",
    "#현재 작동되는 위치를 표시"
   ]
  },
  {
   "cell_type": "code",
   "execution_count": 57,
   "metadata": {
    "colab": {
     "base_uri": "https://localhost:8080/"
    },
    "executionInfo": {
     "elapsed": 354,
     "status": "ok",
     "timestamp": 1732511554086,
     "user": {
      "displayName": "김광수",
      "userId": "04260902725982947063"
     },
     "user_tz": -540
    },
    "id": "3lT3VyIZ4YUj",
    "outputId": "73c87e9f-436f-438c-8505-f2da428fffbe"
   },
   "outputs": [
    {
     "name": "stdout",
     "output_type": "stream",
     "text": [
      "9\n",
      "-27\n"
     ]
    }
   ],
   "source": [
    "import core\n",
    "\n",
    "y = -3\n",
    "print(core.square(y))\n",
    "print(core.cube(y))"
   ]
  },
  {
   "cell_type": "markdown",
   "metadata": {
    "id": "Cnopq3q94YUj"
   },
   "source": [
    "**\\_\\_main\\_\\_의 역할**"
   ]
  },
  {
   "cell_type": "markdown",
   "metadata": {
    "id": "KYRCgSxF4YUj"
   },
   "source": [
    "\n",
    "모듈 자체에 실행이 가능한 프로그램을 포함할 수 있도록 도와준다. 단, 다른 프로그램에서 불러와 사용될 때는 모듈안에 있는 실행 가능한 코드는 실행되지 않는다 (모듈이 연결되어 있는 경우, 독립성을 최대한 유지)"
   ]
  },
  {
   "cell_type": "code",
   "execution_count": 58,
   "metadata": {
    "colab": {
     "base_uri": "https://localhost:8080/"
    },
    "executionInfo": {
     "elapsed": 370,
     "status": "ok",
     "timestamp": 1732511599142,
     "user": {
      "displayName": "김광수",
      "userId": "04260902725982947063"
     },
     "user_tz": -540
    },
    "id": "My0owJ1m4YUj",
    "outputId": "534ec3b1-04c6-48a8-b19d-df43234e4201"
   },
   "outputs": [
    {
     "name": "stdout",
     "output_type": "stream",
     "text": [
      "Writing core1.py\n"
     ]
    }
   ],
   "source": [
    "%%writefile -a core1.py\n",
    "\"\"\"Demonstraion module.\n",
    "This is the module docstring.\n",
    "\"\"\"\n",
    "\n",
    "def square(x):\n",
    "    r\"\"\"Returns the square of a scalar input\n",
    "    \"\"\"\n",
    "    return x*x\n",
    "\n",
    "def cube(x):\n",
    "    r\"\"\"Returns the cube of a scalar input\n",
    "    \"\"\"\n",
    "    return x*x*x\n",
    "\n",
    "if __name__ == \"__main__\":\n",
    "    print('Program called directly.')\n",
    "else:\n",
    "    print('Program called indirectly using name: ', __name__)\n"
   ]
  },
  {
   "cell_type": "code",
   "execution_count": 59,
   "metadata": {
    "colab": {
     "base_uri": "https://localhost:8080/"
    },
    "executionInfo": {
     "elapsed": 405,
     "status": "ok",
     "timestamp": 1732511602110,
     "user": {
      "displayName": "김광수",
      "userId": "04260902725982947063"
     },
     "user_tz": -540
    },
    "id": "n_32Zo0t4YUj",
    "outputId": "adbebc83-8018-49a7-d31e-0c4a1b1f248d"
   },
   "outputs": [
    {
     "name": "stdout",
     "output_type": "stream",
     "text": [
      "Program called directly.\n"
     ]
    }
   ],
   "source": [
    "!python3 core1.py"
   ]
  },
  {
   "cell_type": "markdown",
   "metadata": {
    "id": "y5eDS7CL4YUk"
   },
   "source": [
    "### 패키지(Package) 설치"
   ]
  },
  {
   "cell_type": "code",
   "execution_count": 60,
   "metadata": {
    "colab": {
     "base_uri": "https://localhost:8080/"
    },
    "executionInfo": {
     "elapsed": 3375,
     "status": "ok",
     "timestamp": 1732511606636,
     "user": {
      "displayName": "김광수",
      "userId": "04260902725982947063"
     },
     "user_tz": -540
    },
    "id": "BFLFlV6l4YUk",
    "outputId": "68580ea4-1298-4c36-e246-5346799ce951"
   },
   "outputs": [
    {
     "name": "stdout",
     "output_type": "stream",
     "text": [
      "Requirement already satisfied: numpy in /usr/local/lib/python3.10/dist-packages (1.26.4)\n"
     ]
    }
   ],
   "source": [
    "!pip3 install numpy"
   ]
  }
 ],
 "metadata": {
  "colab": {
   "provenance": []
  },
  "kernelspec": {
   "display_name": "Python 3",
   "language": "python",
   "name": "python3"
  },
  "language_info": {
   "codemirror_mode": {
    "name": "ipython",
    "version": 3
   },
   "file_extension": ".py",
   "mimetype": "text/x-python",
   "name": "python",
   "nbconvert_exporter": "python",
   "pygments_lexer": "ipython3",
   "version": "3.7.3"
  }
 },
 "nbformat": 4,
 "nbformat_minor": 0
}
