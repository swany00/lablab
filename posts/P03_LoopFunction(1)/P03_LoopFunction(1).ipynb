{
 "cells": [
  {
   "cell_type": "raw",
   "metadata": {
    "vscode": {
     "languageId": "raw"
    }
   },
   "source": [
    "---\n",
    "title: \"P03_LoopFunction(1)\"\n",
    "author: \"김수환\"\n",
    "date: \"12/16/2024\"\n",
    "---"
   ]
  },
  {
   "cell_type": "markdown",
   "metadata": {
    "id": "CX70W5CJ4YUL"
   },
   "source": [
    "# Python에서의 조건문, 반복문, 사용자 정의 함수\n",
    "\n",
    "이번 강의에서는 **if, while, for**등의 조건문, 반복문과 사용자 정의 함수에 대해 학습한다.  "
   ]
  },
  {
   "cell_type": "markdown",
   "metadata": {
    "id": "azhB1Qbp4YUO"
   },
   "source": [
    "## 논리 연산 (Logical operator)\n",
    "\n",
    "논리 연산(logical operation) 혹은 불 연산(boolean operation)은 참, 거짓 두 가지 원소(진리값으로 불림)만 존재하는 집합에서의 연산으로, 제어문(조건문, 반복문)에 필수적이다."
   ]
  },
  {
   "cell_type": "markdown",
   "metadata": {
    "id": "LOz0Ic2j4YUP"
   },
   "source": [
    "### 비교 연산\n",
    "\n",
    "| 부호 | 정의 |\n",
    "| --- | --- |\n",
    "| > | x > y : x가 y보다 크다 |\n",
    "| >= | x가 y보다 크거나 같다 |\n",
    "| < | x가 y보다 작다 |\n",
    "| <= | x가 y보다 작거나 같다 |\n",
    "| == | x와 y가 같다 |\n",
    "| != | x와 y가 같지 않다 |"
   ]
  },
  {
   "cell_type": "code",
   "execution_count": 1,
   "metadata": {
    "colab": {
     "base_uri": "https://localhost:8080/"
    },
    "executionInfo": {
     "elapsed": 1285,
     "status": "ok",
     "timestamp": 1725286553524,
     "user": {
      "displayName": "김광수",
      "userId": "04260902725982947063"
     },
     "user_tz": -540
    },
    "id": "uOybPZu14YUP",
    "outputId": "f8d47482-7d6d-4064-8391-2aaf25c12146"
   },
   "outputs": [
    {
     "data": {
      "text/plain": [
       "True"
      ]
     },
     "execution_count": 1,
     "metadata": {},
     "output_type": "execute_result"
    }
   ],
   "source": [
    "x = 1\n",
    "x == 1"
   ]
  },
  {
   "cell_type": "code",
   "execution_count": 2,
   "metadata": {
    "colab": {
     "base_uri": "https://localhost:8080/"
    },
    "executionInfo": {
     "elapsed": 8,
     "status": "ok",
     "timestamp": 1725286554773,
     "user": {
      "displayName": "김광수",
      "userId": "04260902725982947063"
     },
     "user_tz": -540
    },
    "id": "A-wSziNB4YUQ",
    "outputId": "1f57e50d-292c-4a85-d789-f53e81e9e410"
   },
   "outputs": [
    {
     "data": {
      "text/plain": [
       "False"
      ]
     },
     "execution_count": 2,
     "metadata": {},
     "output_type": "execute_result"
    }
   ],
   "source": [
    "x >= 2"
   ]
  },
  {
   "cell_type": "markdown",
   "metadata": {
    "id": "5hb5qIcy4YUQ"
   },
   "source": [
    "### 논리 연산\n",
    "\n",
    "| 키워드 | 비트 | 설명 |\n",
    "| ---- | ---- | ---- |\n",
    "| and | & | 논리식이 모두 참이면 참 |\n",
    "| or | \\| | 논리식 중에서 하나라도 참이면 참 |\n",
    "| not | ~ | 논리식의 결과가 참이면 거짓을, 거짓이면 참 |\n",
    "| | ^ | 논리식중 하나가 참이고 다른하나가 거짓이면 참 (XOR)  |"
   ]
  },
  {
   "cell_type": "code",
   "execution_count": 3,
   "metadata": {
    "colab": {
     "base_uri": "https://localhost:8080/"
    },
    "executionInfo": {
     "elapsed": 7,
     "status": "ok",
     "timestamp": 1725286554773,
     "user": {
      "displayName": "김광수",
      "userId": "04260902725982947063"
     },
     "user_tz": -540
    },
    "id": "1oZG29sr4YUR",
    "outputId": "900d2082-a995-47d9-b18f-ab58241dac89"
   },
   "outputs": [
    {
     "data": {
      "text/plain": [
       "False"
      ]
     },
     "execution_count": 3,
     "metadata": {},
     "output_type": "execute_result"
    }
   ],
   "source": [
    "x == 1 & x == 2"
   ]
  },
  {
   "cell_type": "code",
   "execution_count": 4,
   "metadata": {
    "colab": {
     "base_uri": "https://localhost:8080/"
    },
    "executionInfo": {
     "elapsed": 6,
     "status": "ok",
     "timestamp": 1725286554773,
     "user": {
      "displayName": "김광수",
      "userId": "04260902725982947063"
     },
     "user_tz": -540
    },
    "id": "mIhhTF0V4YUR",
    "outputId": "76bce4b0-8ab0-4501-ceb5-c2ee8b5b21e3"
   },
   "outputs": [
    {
     "name": "stdout",
     "output_type": "stream",
     "text": [
      "True\n"
     ]
    }
   ],
   "source": [
    "x == 1 and x == 2\n",
    "print((x == 1)^(x == 2))"
   ]
  },
  {
   "cell_type": "markdown",
   "metadata": {
    "id": "1F9gxGxA4YUR"
   },
   "source": [
    "### 기타 연산\n",
    "\n",
    "| in | not in |\n",
    "| --- | --- |\n",
    "| x in 리스트 | x not in 리스트 |\n",
    "| x in 튜플 | x not in 튜플 |\n",
    "| x in 문자열 | x not in 문자열 |"
   ]
  },
  {
   "cell_type": "code",
   "execution_count": 5,
   "metadata": {
    "colab": {
     "base_uri": "https://localhost:8080/"
    },
    "executionInfo": {
     "elapsed": 5,
     "status": "ok",
     "timestamp": 1725286554773,
     "user": {
      "displayName": "김광수",
      "userId": "04260902725982947063"
     },
     "user_tz": -540
    },
    "id": "HAEgXUry4YUS",
    "outputId": "4667e48b-be72-43a9-999f-a072577584fa"
   },
   "outputs": [
    {
     "data": {
      "text/plain": [
       "True"
      ]
     },
     "execution_count": 5,
     "metadata": {},
     "output_type": "execute_result"
    }
   ],
   "source": [
    "1 in [1, 2, 3]"
   ]
  },
  {
   "cell_type": "code",
   "execution_count": 6,
   "metadata": {
    "colab": {
     "base_uri": "https://localhost:8080/"
    },
    "executionInfo": {
     "elapsed": 4,
     "status": "ok",
     "timestamp": 1725286554773,
     "user": {
      "displayName": "김광수",
      "userId": "04260902725982947063"
     },
     "user_tz": -540
    },
    "id": "pt3SNCnu4YUS",
    "outputId": "e41c5a8c-e3ef-4b50-fba6-b5efa5cd827a"
   },
   "outputs": [
    {
     "data": {
      "text/plain": [
       "False"
      ]
     },
     "execution_count": 6,
     "metadata": {},
     "output_type": "execute_result"
    }
   ],
   "source": [
    "1 not in [1, 2, 3]"
   ]
  },
  {
   "cell_type": "markdown",
   "metadata": {
    "id": "T1lqZEsb4YUS"
   },
   "source": [
    "## 조건문 (if문)\n",
    "\n",
    "**Python**프로그래밍에서 조건을 판단하여 해당 조건에 맞는 상황을 수행하는 데 쓰인다. ``if``문의 사용법은 다음과 같다.\n",
    "\n",
    "```python\n",
    "if 조건문:  \n",
    "\n",
    "    수행할 문장 1  \n",
    "    수행할 문장 2  \n",
    "    ...    \n",
    "    \n",
    "elif 조건문2:  \n",
    "\n",
    "    수행할 문장 2-1  \n",
    "    수행할 문장 2-2  \n",
    "    ...  \n",
    "\n",
    "elif 조건문N:  \n",
    "\n",
    "    수행할 문장 N-1  \n",
    "    수행할 문장 N-2  \n",
    "    ...  \n",
    "    \n",
    "else:  \n",
    "\n",
    "    수행할 문장 A  \n",
    "    수행할 문장 B  \n",
    "    ...  \n",
    "```"
   ]
  },
  {
   "cell_type": "markdown",
   "metadata": {
    "id": "7Y7ZyfLk4YUS"
   },
   "source": [
    "**주의. Python에서는 들여쓰기로 코드의 블럭을 나눈다.**"
   ]
  },
  {
   "cell_type": "code",
   "execution_count": 7,
   "metadata": {
    "colab": {
     "base_uri": "https://localhost:8080/"
    },
    "executionInfo": {
     "elapsed": 3,
     "status": "ok",
     "timestamp": 1725286558309,
     "user": {
      "displayName": "김광수",
      "userId": "04260902725982947063"
     },
     "user_tz": -540
    },
    "id": "MRQftzVJ4YUT",
    "outputId": "df42b01e-3c20-4d9e-b159-cd39ea2d87a2"
   },
   "outputs": [
    {
     "name": "stdout",
     "output_type": "stream",
     "text": [
      "4\n"
     ]
    }
   ],
   "source": [
    "x = 5\n",
    "if x < 5:\n",
    "   x += 1\n",
    "else:\n",
    "   x -= 1\n",
    "\n",
    "print(x)"
   ]
  },
  {
   "cell_type": "code",
   "execution_count": 8,
   "metadata": {
    "colab": {
     "base_uri": "https://localhost:8080/"
    },
    "executionInfo": {
     "elapsed": 418,
     "status": "ok",
     "timestamp": 1725286568194,
     "user": {
      "displayName": "김광수",
      "userId": "04260902725982947063"
     },
     "user_tz": -540
    },
    "id": "Z7cg81h14YUT",
    "outputId": "b67f9f3e-4da8-49d5-b1ab-b18ce1e710a0"
   },
   "outputs": [
    {
     "name": "stdout",
     "output_type": "stream",
     "text": [
      "10\n"
     ]
    }
   ],
   "source": [
    "x = 5\n",
    "if x < 5:\n",
    "    x = x + 1\n",
    "elif x > 5:\n",
    "    x = x - 1\n",
    "else:\n",
    "    x = x * 2\n",
    "\n",
    "print(x)"
   ]
  },
  {
   "cell_type": "markdown",
   "metadata": {
    "id": "CE4eq8814YUT"
   },
   "source": [
    "## 반복문 (for문, while문)\n",
    "\n",
    "반복문은 반복해서 문장을 수행해야 할 경우 사용된다. **Python**에서 사용되는 반복문은 ``for``문과 ``while``문이 있다."
   ]
  },
  {
   "cell_type": "markdown",
   "metadata": {
    "id": "8st4IjFg4YUT"
   },
   "source": [
    "### for 문\n",
    "\n",
    "``for``문의 기본구조는 다음과 같다.  \n",
    "\n",
    "```python\n",
    "for 변수 in 리스트(또는 튜플, 문자열, range):  \n",
    "\n",
    "    수행할 문장1\n",
    "    수행할 문장2\n",
    "    ...\n",
    "```"
   ]
  },
  {
   "cell_type": "markdown",
   "metadata": {
    "id": "mOrMICkB4YUT"
   },
   "source": [
    "0부터 99까지 더하는 예제\n",
    "\n",
    "0에서 시작하는 루프임에 유의"
   ]
  },
  {
   "cell_type": "code",
   "execution_count": 9,
   "metadata": {
    "colab": {
     "base_uri": "https://localhost:8080/"
    },
    "executionInfo": {
     "elapsed": 405,
     "status": "ok",
     "timestamp": 1725286577144,
     "user": {
      "displayName": "김광수",
      "userId": "04260902725982947063"
     },
     "user_tz": -540
    },
    "id": "deNA4Dr24YUU",
    "outputId": "e3838c4f-bbaf-4261-f88d-bf2df971f197"
   },
   "outputs": [
    {
     "name": "stdout",
     "output_type": "stream",
     "text": [
      "0\n",
      "55\n",
      "210\n",
      "465\n",
      "820\n",
      "1275\n",
      "1830\n",
      "2485\n",
      "3240\n",
      "4095\n",
      "4950\n"
     ]
    }
   ],
   "source": [
    "count = 0\n",
    "for i in range(100):\n",
    "    count += i\n",
    "    if i % 10 == 0:\n",
    "      print(count)\n",
    "\n",
    "print(count)"
   ]
  },
  {
   "cell_type": "code",
   "execution_count": 13,
   "metadata": {
    "colab": {
     "base_uri": "https://localhost:8080/"
    },
    "executionInfo": {
     "elapsed": 410,
     "status": "ok",
     "timestamp": 1725286627077,
     "user": {
      "displayName": "김광수",
      "userId": "04260902725982947063"
     },
     "user_tz": -540
    },
    "id": "y2wXZoY54YUU",
    "outputId": "f4db3dd5-22f9-4b3c-c947-d5b9d2e454c1"
   },
   "outputs": [
    {
     "name": "stdout",
     "output_type": "stream",
     "text": [
      "[0, 1, 2, 3, 4, 5, 6, 7, 8, 9, 10, 11, 12, 13, 14, 15, 16, 17, 18, 19, 20, 21, 22, 23, 24, 25, 26, 27, 28, 29, 30]\n"
     ]
    }
   ],
   "source": [
    "count = 0\n",
    "x = list(range(31))\n",
    "print(x)"
   ]
  },
  {
   "cell_type": "code",
   "execution_count": 14,
   "metadata": {
    "colab": {
     "base_uri": "https://localhost:8080/"
    },
    "executionInfo": {
     "elapsed": 405,
     "status": "ok",
     "timestamp": 1725286629404,
     "user": {
      "displayName": "김광수",
      "userId": "04260902725982947063"
     },
     "user_tz": -540
    },
    "id": "u_qd0PZM4YUU",
    "outputId": "66b31640-8037-45c7-906c-285161d55753"
   },
   "outputs": [
    {
     "name": "stdout",
     "output_type": "stream",
     "text": [
      "465\n"
     ]
    }
   ],
   "source": [
    "for i in x:\n",
    "    count += i\n",
    "\n",
    "print(count)"
   ]
  },
  {
   "cell_type": "markdown",
   "metadata": {
    "id": "mkUkzOvo4YUU"
   },
   "source": [
    "0부터 9까지 더하는 것을 10번 반복"
   ]
  },
  {
   "cell_type": "code",
   "execution_count": 15,
   "metadata": {
    "colab": {
     "base_uri": "https://localhost:8080/"
    },
    "executionInfo": {
     "elapsed": 431,
     "status": "ok",
     "timestamp": 1725286643512,
     "user": {
      "displayName": "김광수",
      "userId": "04260902725982947063"
     },
     "user_tz": -540
    },
    "id": "soidx6td4YUU",
    "outputId": "8110f098-d3d8-41bc-c7a0-a6f65a89759c"
   },
   "outputs": [
    {
     "name": "stdout",
     "output_type": "stream",
     "text": [
      "450\n"
     ]
    }
   ],
   "source": [
    "count = 0\n",
    "for i in range(10):\n",
    "    for j in range(10):\n",
    "        count += j\n",
    "\n",
    "print(count)"
   ]
  },
  {
   "cell_type": "markdown",
   "metadata": {
    "id": "O-OZKYKV4YUU"
   },
   "source": [
    "순서와 값을 이용하는 예제"
   ]
  },
  {
   "cell_type": "code",
   "execution_count": 17,
   "metadata": {
    "colab": {
     "base_uri": "https://localhost:8080/"
    },
    "executionInfo": {
     "elapsed": 398,
     "status": "ok",
     "timestamp": 1725286673454,
     "user": {
      "displayName": "김광수",
      "userId": "04260902725982947063"
     },
     "user_tz": -540
    },
    "id": "v8WikZEP4YUV",
    "outputId": "2a8b565c-ebb7-43ac-8ed3-55de524e9b3c"
   },
   "outputs": [
    {
     "name": "stdout",
     "output_type": "stream",
     "text": [
      "[0, 11, 22, 33, 44, 55, 66, 77, 88, 99]\n",
      "i (order) is :  0 , y (index) is :  0\n",
      "i (order) is :  1 , y (index) is :  11\n",
      "i (order) is :  2 , y (index) is :  22\n",
      "i (order) is :  3 , y (index) is :  33\n",
      "i (order) is :  4 , y (index) is :  44\n",
      "i (order) is :  5 , y (index) is :  55\n",
      "i (order) is :  6 , y (index) is :  66\n",
      "i (order) is :  7 , y (index) is :  77\n",
      "i (order) is :  8 , y (index) is :  88\n",
      "i (order) is :  9 , y (index) is :  99\n"
     ]
    }
   ],
   "source": [
    "x = range(0,100,11)\n",
    "print(list(x))\n",
    "for i, y in enumerate(x): # 순서와 값을 반환\n",
    "    print('i (order) is : ', i, ', y (index) is : ', y)"
   ]
  },
  {
   "cell_type": "markdown",
   "metadata": {
    "id": "choIdhne4YUV"
   },
   "source": [
    "튜플을 이용한 예제"
   ]
  },
  {
   "cell_type": "code",
   "execution_count": 18,
   "metadata": {
    "colab": {
     "base_uri": "https://localhost:8080/"
    },
    "executionInfo": {
     "elapsed": 379,
     "status": "ok",
     "timestamp": 1725286703634,
     "user": {
      "displayName": "김광수",
      "userId": "04260902725982947063"
     },
     "user_tz": -540
    },
    "id": "wnjqB7dA4YUV",
    "outputId": "89b3f84e-16f8-4a35-b0ef-116a9b202e0b"
   },
   "outputs": [
    {
     "name": "stdout",
     "output_type": "stream",
     "text": [
      "3\n",
      "7\n",
      "11\n"
     ]
    }
   ],
   "source": [
    "x = [(1,2), (3,4), (5,6)]\n",
    "for (f,l) in x:\n",
    "    print(f+l)"
   ]
  },
  {
   "cell_type": "markdown",
   "metadata": {
    "id": "8xCchSCK4YUV"
   },
   "source": [
    "#### ``break``문\n",
    "\n",
    "``break``문은 반복문을 강제 종료할 때 사용된다."
   ]
  },
  {
   "cell_type": "code",
   "execution_count": 19,
   "metadata": {
    "colab": {
     "base_uri": "https://localhost:8080/"
    },
    "executionInfo": {
     "elapsed": 385,
     "status": "ok",
     "timestamp": 1725286722261,
     "user": {
      "displayName": "김광수",
      "userId": "04260902725982947063"
     },
     "user_tz": -540
    },
    "id": "UIx59rmU4YUV",
    "outputId": "4c2e0800-8657-4c9b-f0a0-1e01fee5d7de"
   },
   "outputs": [
    {
     "name": "stdout",
     "output_type": "stream",
     "text": [
      "0\n",
      "11\n",
      "22\n",
      "33\n",
      "44\n",
      "55\n"
     ]
    }
   ],
   "source": [
    "x = range(0,100,11)\n",
    "for i in x:\n",
    "    print(i)\n",
    "    if i > 50:\n",
    "        break"
   ]
  },
  {
   "cell_type": "markdown",
   "metadata": {
    "id": "iOqCF4Sa4YUV"
   },
   "source": [
    "#### ``continue``문\n",
    "\n",
    "``continue``문은 반복문에서 특정 반복을 건너뛸 때 사용된다."
   ]
  },
  {
   "cell_type": "code",
   "execution_count": 22,
   "metadata": {
    "colab": {
     "base_uri": "https://localhost:8080/"
    },
    "executionInfo": {
     "elapsed": 415,
     "status": "ok",
     "timestamp": 1725286817977,
     "user": {
      "displayName": "김광수",
      "userId": "04260902725982947063"
     },
     "user_tz": -540
    },
    "id": "v2JGRXuv4YUV",
    "outputId": "d29e0c0e-c6ac-44b3-9d15-ff18fd7a978f"
   },
   "outputs": [
    {
     "name": "stdout",
     "output_type": "stream",
     "text": [
      "0\n",
      "1\n",
      "2\n",
      "3\n",
      "4\n",
      "5\n",
      "50\n",
      "6\n",
      "60\n",
      "7\n",
      "70\n",
      "8\n",
      "80\n",
      "9\n",
      "90\n"
     ]
    }
   ],
   "source": [
    "x = range(0, 10)\n",
    "for i in x:\n",
    "    print(i)\n",
    "    if i <= 4:\n",
    "        continue\n",
    "    # 여기에서 조건이 맞으면 위로 돌아감\n",
    "    print(10*i)\n",
    "    # 여기에서 조건이 안맞으면 계속 실행"
   ]
  },
  {
   "cell_type": "markdown",
   "metadata": {
    "id": "jiQHKp2u4YUV"
   },
   "source": [
    "#### 리스트 내포(List comprehension)\n",
    "\n",
    "리스트 안에 ``for``문을 포함하는 리스트 내포를 이용하면 편리하고 직관적인 프로그램을 만들 수 있다."
   ]
  },
  {
   "cell_type": "code",
   "execution_count": 23,
   "metadata": {
    "colab": {
     "base_uri": "https://localhost:8080/"
    },
    "executionInfo": {
     "elapsed": 444,
     "status": "ok",
     "timestamp": 1725286822019,
     "user": {
      "displayName": "김광수",
      "userId": "04260902725982947063"
     },
     "user_tz": -540
    },
    "id": "33hVgTfN4YUW",
    "outputId": "ac4132dc-9e9d-44cd-ea3b-8fba86c3ac2e"
   },
   "outputs": [
    {
     "name": "stdout",
     "output_type": "stream",
     "text": [
      "[3, 6, 9, 12]\n"
     ]
    }
   ],
   "source": [
    "x = [1, 2, 3, 4]\n",
    "r = []\n",
    "\n",
    "for i in x:\n",
    "    r.append(i*3)\n",
    "\n",
    "print(r)"
   ]
  },
  {
   "cell_type": "code",
   "execution_count": 24,
   "metadata": {
    "colab": {
     "base_uri": "https://localhost:8080/"
    },
    "executionInfo": {
     "elapsed": 411,
     "status": "ok",
     "timestamp": 1725286830988,
     "user": {
      "displayName": "김광수",
      "userId": "04260902725982947063"
     },
     "user_tz": -540
    },
    "id": "SCp_LMpJ4YUW",
    "outputId": "91ef76c4-41f7-4580-d3bb-861aa0abd91d"
   },
   "outputs": [
    {
     "name": "stdout",
     "output_type": "stream",
     "text": [
      "[10, 20, 30, 40]\n"
     ]
    }
   ],
   "source": [
    "r = [i*10 for i in x]\n",
    "print(r)"
   ]
  },
  {
   "cell_type": "code",
   "execution_count": 25,
   "metadata": {
    "colab": {
     "base_uri": "https://localhost:8080/"
    },
    "executionInfo": {
     "elapsed": 394,
     "status": "ok",
     "timestamp": 1725286850066,
     "user": {
      "displayName": "김광수",
      "userId": "04260902725982947063"
     },
     "user_tz": -540
    },
    "id": "EqHYZdFP4YUW",
    "outputId": "159a4bf4-d892-490d-e29b-120cace35df1"
   },
   "outputs": [
    {
     "name": "stdout",
     "output_type": "stream",
     "text": [
      "[6]\n"
     ]
    }
   ],
   "source": [
    "r = [i*3 for i in x if i == 2]\n",
    "print(r)"
   ]
  },
  {
   "cell_type": "markdown",
   "metadata": {
    "id": "hHku27lWYFvW"
   },
   "source": [
    "루프를 돌아가면서도 조건을 확인해서 조건이 맞을 떄만 작동"
   ]
  },
  {
   "cell_type": "code",
   "execution_count": 26,
   "metadata": {
    "colab": {
     "base_uri": "https://localhost:8080/"
    },
    "executionInfo": {
     "elapsed": 387,
     "status": "ok",
     "timestamp": 1725286855389,
     "user": {
      "displayName": "김광수",
      "userId": "04260902725982947063"
     },
     "user_tz": -540
    },
    "id": "13qQzeEw4YUW",
    "outputId": "233db168-dfe6-41de-cce1-c4c75a96ebd8"
   },
   "outputs": [
    {
     "name": "stdout",
     "output_type": "stream",
     "text": [
      "[2, 4, 6, 8, 10, 12, 14, 16, 18, 3, 6, 9, 12, 15, 18, 21, 24, 27, 4, 8, 12, 16, 20, 24, 28, 32, 36, 5, 10, 15, 20, 25, 30, 35, 40, 45, 6, 12, 18, 24, 30, 36, 42, 48, 54, 7, 14, 21, 28, 35, 42, 49, 56, 63, 8, 16, 24, 32, 40, 48, 56, 64, 72, 9, 18, 27, 36, 45, 54, 63, 72, 81]\n"
     ]
    }
   ],
   "source": [
    "r = [x*y for x in range(2,10) for y in range(1,10)]\n",
    "print(r)"
   ]
  },
  {
   "cell_type": "markdown",
   "metadata": {
    "id": "k5rb378hYOKs"
   },
   "source": [
    "내포문에서 이중 루프도 가능함"
   ]
  },
  {
   "cell_type": "markdown",
   "metadata": {
    "id": "qwa7eqI84YUW"
   },
   "source": [
    "#### 튜플, 딕셔너리, 집합 내포"
   ]
  },
  {
   "cell_type": "code",
   "execution_count": 27,
   "metadata": {
    "colab": {
     "base_uri": "https://localhost:8080/"
    },
    "executionInfo": {
     "elapsed": 406,
     "status": "ok",
     "timestamp": 1725286866853,
     "user": {
      "displayName": "김광수",
      "userId": "04260902725982947063"
     },
     "user_tz": -540
    },
    "id": "yYUSH2bG4YUW",
    "outputId": "da1871bd-20ea-4ac9-bace-5f4f05400592"
   },
   "outputs": [
    {
     "name": "stdout",
     "output_type": "stream",
     "text": [
      "[-5, -4, -3, -2, -1, 0, 1, 2, 3, 4]\n"
     ]
    }
   ],
   "source": [
    "x = range(-5, 5)\n",
    "print(list(x))"
   ]
  },
  {
   "cell_type": "code",
   "execution_count": 28,
   "metadata": {
    "colab": {
     "base_uri": "https://localhost:8080/"
    },
    "executionInfo": {
     "elapsed": 402,
     "status": "ok",
     "timestamp": 1725286874756,
     "user": {
      "displayName": "김광수",
      "userId": "04260902725982947063"
     },
     "user_tz": -540
    },
    "id": "EWLa-o4l4YUW",
    "outputId": "b1555bc8-3652-4c9d-9659-bd7a4d5ffcac"
   },
   "outputs": [
    {
     "name": "stdout",
     "output_type": "stream",
     "text": [
      "(-125, -64, -27, -8, -1, 0, 1, 8, 27, 64)\n"
     ]
    }
   ],
   "source": [
    "z_tuple = tuple(i**3 for i in x)\n",
    "print(z_tuple)\n",
    "# 튜프 내포"
   ]
  },
  {
   "cell_type": "code",
   "execution_count": 30,
   "metadata": {
    "colab": {
     "base_uri": "https://localhost:8080/"
    },
    "executionInfo": {
     "elapsed": 391,
     "status": "ok",
     "timestamp": 1725286907003,
     "user": {
      "displayName": "김광수",
      "userId": "04260902725982947063"
     },
     "user_tz": -540
    },
    "id": "nFhEa1eE4YUd",
    "outputId": "d754c893-a242-4f82-ccfa-fce4bcaa44fc"
   },
   "outputs": [
    {
     "name": "stdout",
     "output_type": "stream",
     "text": [
      "[-5, -4, -3, -2, -1, 0, 1, 2, 3, 4]\n",
      "{0.0, 1.0, 4.0, 9.0, 16.0, 25.0}\n"
     ]
    }
   ],
   "source": [
    "print(list(x))\n",
    "z_set = {x[i]**2.0 for i in x}\n",
    "print(z_set)\n",
    "# 집합 내포"
   ]
  },
  {
   "cell_type": "code",
   "execution_count": 31,
   "metadata": {
    "colab": {
     "base_uri": "https://localhost:8080/"
    },
    "executionInfo": {
     "elapsed": 395,
     "status": "ok",
     "timestamp": 1725286940155,
     "user": {
      "displayName": "김광수",
      "userId": "04260902725982947063"
     },
     "user_tz": -540
    },
    "id": "aC9eJxk64YUd",
    "outputId": "d2d63eae-a839-4907-8a87-08e05183e16d"
   },
   "outputs": [
    {
     "name": "stdout",
     "output_type": "stream",
     "text": [
      "{'-5': -10, '-4': -8, '-3': -6, '-2': -4, '-1': -2, '0': 0, '1': 2, '2': 4, '3': 6, '4': 8}\n"
     ]
    }
   ],
   "source": [
    "z_dict = {str(i):i*2 for i in x}\n",
    "print(z_dict)\n",
    "# dictionary: 이름-값"
   ]
  },
  {
   "cell_type": "markdown",
   "metadata": {
    "id": "KL9sz39h4YUd"
   },
   "source": [
    "#### 연습문제\n",
    "\n",
    "- 정수값을 받아서 짝수를 화면에 출력하는 코드를 작성하시오.\n",
    "- A학급에 총 10명의 학생에 대한 중간점수가 있다. 평균을 구하시오.\n",
    "```\n",
    "[70, 60, 55, 75, 95, 90, 80, 80, 85, 100]\n",
    "```"
   ]
  },
  {
   "cell_type": "code",
   "execution_count": 33,
   "metadata": {
    "colab": {
     "base_uri": "https://localhost:8080/"
    },
    "executionInfo": {
     "elapsed": 414,
     "status": "ok",
     "timestamp": 1725287198960,
     "user": {
      "displayName": "김광수",
      "userId": "04260902725982947063"
     },
     "user_tz": -540
    },
    "id": "coDe4phU4YUd",
    "outputId": "3aac5535-6e76-46ca-b550-db8302cd5441"
   },
   "outputs": [
    {
     "name": "stdout",
     "output_type": "stream",
     "text": [
      "10\n",
      "45\n"
     ]
    }
   ],
   "source": [
    "count = 0\n",
    "i = 1\n",
    "while i < 10:\n",
    "    count += i\n",
    "    i += 1\n",
    "\n",
    "print(i)\n",
    "print(count)"
   ]
  },
  {
   "cell_type": "code",
   "execution_count": 34,
   "metadata": {
    "colab": {
     "base_uri": "https://localhost:8080/"
    },
    "executionInfo": {
     "elapsed": 404,
     "status": "ok",
     "timestamp": 1725287221590,
     "user": {
      "displayName": "김광수",
      "userId": "04260902725982947063"
     },
     "user_tz": -540
    },
    "id": "UGWp5GOD4YUe",
    "outputId": "f518d590-25fd-4306-faa2-abb6b31af3a1"
   },
   "outputs": [
    {
     "name": "stdout",
     "output_type": "stream",
     "text": [
      "9\n"
     ]
    }
   ],
   "source": [
    "count = 0\n",
    "for i in range(0,10):\n",
    "    count += i\n",
    "\n",
    "print(i)"
   ]
  },
  {
   "cell_type": "code",
   "execution_count": 35,
   "metadata": {
    "colab": {
     "base_uri": "https://localhost:8080/"
    },
    "executionInfo": {
     "elapsed": 423,
     "status": "ok",
     "timestamp": 1725287235799,
     "user": {
      "displayName": "김광수",
      "userId": "04260902725982947063"
     },
     "user_tz": -540
    },
    "id": "JxBFFxvv4YUe",
    "outputId": "312eaa36-15b7-496b-fd01-85409ef3b005"
   },
   "outputs": [
    {
     "name": "stdout",
     "output_type": "stream",
     "text": [
      "[-10  -9  -8  -7  -6  -5  -4  -3  -2  -1   0   1   2   3   4   5   6   7\n",
      "   8   9]\n",
      "-10\n",
      "-9\n",
      "-8\n",
      "-7\n",
      "-6\n",
      "-5\n",
      "-4\n",
      "-3\n",
      "-2\n",
      "-1\n",
      "0\n"
     ]
    }
   ],
   "source": [
    "import numpy as np\n",
    "condition = True\n",
    "i = 0\n",
    "x = range(-10,10)\n",
    "print(np.array(x))\n",
    "\n",
    "while condition:\n",
    "    if x[i] > 0:\n",
    "        break    # condition = False\n",
    "    print(x[i])\n",
    "    i += 1\n",
    "# 양수가 되는 순간 루프를 나오고 아래 구문을 작동시키지 않음"
   ]
  },
  {
   "cell_type": "markdown",
   "metadata": {
    "id": "VqXQ4Ohm4YUe"
   },
   "source": [
    "#### 연습문제\n",
    "- 1부터 50까지의 수 중 짝수를 화면에 출력하는 코드를 작성하시오.\n",
    "\n",
    "- ``while``문을 이용하여 아래와 같이 \\*를 표시하시오.\n",
    "\n",
    "    \\*  \n",
    "\\*\\*  \n",
    "\\*\\*\\*  \n",
    "\\*\\*\\*\\*  \n",
    "\\*\\*\\*\\*\\*  "
   ]
  },
  {
   "cell_type": "markdown",
   "metadata": {
    "id": "CrP7ySrj4YUe"
   },
   "source": [
    "**참고. 문자열에 상수를 곱하면 해당 문자가 반복된다.**"
   ]
  },
  {
   "cell_type": "code",
   "execution_count": 36,
   "metadata": {
    "colab": {
     "base_uri": "https://localhost:8080/",
     "height": 35
    },
    "executionInfo": {
     "elapsed": 410,
     "status": "ok",
     "timestamp": 1725287337922,
     "user": {
      "displayName": "김광수",
      "userId": "04260902725982947063"
     },
     "user_tz": -540
    },
    "id": "Xq4xCSA94YUe",
    "outputId": "5793e7f4-d0bb-4385-94ac-7485b4983f59"
   },
   "outputs": [
    {
     "data": {
      "application/vnd.google.colaboratory.intrinsic+json": {
       "type": "string"
      },
      "text/plain": [
       "'**********'"
      ]
     },
     "execution_count": 36,
     "metadata": {},
     "output_type": "execute_result"
    }
   ],
   "source": [
    "\"*\" * 10"
   ]
  },
  {
   "cell_type": "markdown",
   "metadata": {
    "id": "_VJBdQhs4YUe"
   },
   "source": [
    "## 사용자 정의 함수"
   ]
  },
  {
   "cell_type": "markdown",
   "metadata": {
    "id": "-9JgMNr44YUe"
   },
   "source": [
    "사용자 정의 함수는 사용자가 직접 새로운 함수를 정의하는 방법으로 똑같은 내용이 반복되는 부분을 주로 함수로 정의하여 사용한다.  \n",
    "**Python**에서 사용자 정의 함수를 정의하는 구조는 아래와 같다.\n",
    "\n",
    "```python\n",
    "def 함수명(입력 인수):\n",
    "\n",
    "    수행할 문장1\n",
    "    수행할 문장2\n",
    "    ...\n",
    "    return 결과값\n",
    "```"
   ]
  },
  {
   "cell_type": "markdown",
   "metadata": {
    "id": "ng7NB5KS4YUe"
   },
   "source": [
    "제곱"
   ]
  },
  {
   "cell_type": "code",
   "execution_count": 37,
   "metadata": {
    "executionInfo": {
     "elapsed": 408,
     "status": "ok",
     "timestamp": 1725287346607,
     "user": {
      "displayName": "김광수",
      "userId": "04260902725982947063"
     },
     "user_tz": -540
    },
    "id": "qe1LR0aS4YUf"
   },
   "outputs": [],
   "source": [
    "def square(x):\n",
    "    return x**2"
   ]
  },
  {
   "cell_type": "code",
   "execution_count": 38,
   "metadata": {
    "colab": {
     "base_uri": "https://localhost:8080/"
    },
    "executionInfo": {
     "elapsed": 430,
     "status": "ok",
     "timestamp": 1725287348461,
     "user": {
      "displayName": "김광수",
      "userId": "04260902725982947063"
     },
     "user_tz": -540
    },
    "id": "rHM92K9W4YUf",
    "outputId": "8a552d44-22d1-4668-c958-327e064754f1"
   },
   "outputs": [
    {
     "name": "stdout",
     "output_type": "stream",
     "text": [
      "2 4\n"
     ]
    }
   ],
   "source": [
    "x = 2\n",
    "y = square(x)\n",
    "print(x,y)"
   ]
  },
  {
   "cell_type": "markdown",
   "metadata": {
    "id": "TuWU8xFu4YUf"
   },
   "source": [
    "거리"
   ]
  },
  {
   "cell_type": "code",
   "execution_count": 39,
   "metadata": {
    "executionInfo": {
     "elapsed": 582,
     "status": "ok",
     "timestamp": 1725287350239,
     "user": {
      "displayName": "김광수",
      "userId": "04260902725982947063"
     },
     "user_tz": -540
    },
    "id": "UReqxz2S4YUf"
   },
   "outputs": [],
   "source": [
    "def l2dist(x,y):\n",
    "    return (x-y)**2"
   ]
  },
  {
   "cell_type": "code",
   "execution_count": 40,
   "metadata": {
    "colab": {
     "base_uri": "https://localhost:8080/"
    },
    "executionInfo": {
     "elapsed": 2,
     "status": "ok",
     "timestamp": 1725287351251,
     "user": {
      "displayName": "김광수",
      "userId": "04260902725982947063"
     },
     "user_tz": -540
    },
    "id": "px5LbPQm4YUf",
    "outputId": "77ce23b0-c562-47e0-f7e2-f8733ea5554d"
   },
   "outputs": [
    {
     "name": "stdout",
     "output_type": "stream",
     "text": [
      "3 10 49\n"
     ]
    }
   ],
   "source": [
    "x = 3\n",
    "y = 10\n",
    "z = l2dist(x,y)\n",
    "print(x,y,z)"
   ]
  },
  {
   "cell_type": "code",
   "execution_count": 41,
   "metadata": {
    "colab": {
     "base_uri": "https://localhost:8080/"
    },
    "executionInfo": {
     "elapsed": 390,
     "status": "ok",
     "timestamp": 1725287361543,
     "user": {
      "displayName": "김광수",
      "userId": "04260902725982947063"
     },
     "user_tz": -540
    },
    "id": "SPw7zQPC4YUf",
    "outputId": "83397d30-9c7b-4e19-cf44-8ce38d43c93d"
   },
   "outputs": [
    {
     "name": "stdout",
     "output_type": "stream",
     "text": [
      "49\n"
     ]
    }
   ],
   "source": [
    "z = l2dist(y=10,x=3)\n",
    "print(z)"
   ]
  },
  {
   "cell_type": "markdown",
   "metadata": {
    "id": "1u8SeWrb4YUf"
   },
   "source": [
    "**Python에서 사용자 정의 함수는 입력 인수에 초기값을 설정할 수 있다. 단, 초기값을 가지는 인수는 맨 뒤에 위치해야 한다.**"
   ]
  },
  {
   "cell_type": "code",
   "execution_count": 42,
   "metadata": {
    "executionInfo": {
     "elapsed": 391,
     "status": "ok",
     "timestamp": 1725287367922,
     "user": {
      "displayName": "김광수",
      "userId": "04260902725982947063"
     },
     "user_tz": -540
    },
    "id": "tEllLCGb4YUg"
   },
   "outputs": [],
   "source": [
    "def lp_norm(x,y,p=2):\n",
    "    n = len(x)\n",
    "    d = []\n",
    "    for i in range(n):\n",
    "        d.append(abs(x[i] - y[i])**p)\n",
    "    return sum(d)**(1/p)"
   ]
  },
  {
   "cell_type": "code",
   "execution_count": 43,
   "metadata": {
    "colab": {
     "base_uri": "https://localhost:8080/"
    },
    "executionInfo": {
     "elapsed": 419,
     "status": "ok",
     "timestamp": 1725287371690,
     "user": {
      "displayName": "김광수",
      "userId": "04260902725982947063"
     },
     "user_tz": -540
    },
    "id": "cM1mi91F4YUg",
    "outputId": "ef75607f-cd39-47e3-f295-b76d47b67a02"
   },
   "outputs": [
    {
     "name": "stdout",
     "output_type": "stream",
     "text": [
      "[1, 2, 3, 4, 5, 6, 7, 8, 9]\n",
      "[10, 9, 8, 7, 6, 5, 4, 3, 2]\n",
      "41.0 15.7797338380595\n"
     ]
    }
   ],
   "source": [
    "x = list(range(1,10))\n",
    "y = list(range(10,1,-1))\n",
    "print(x)\n",
    "print(y)\n",
    "l2 = lp_norm(x,y)\n",
    "l1 = lp_norm(x,y,1)\n",
    "print(l1,l2)"
   ]
  },
  {
   "cell_type": "markdown",
   "metadata": {
    "id": "u4gDf4Jf4YUg"
   },
   "source": [
    "**입력 인수의 갯수를 변하도록 정의할 수 있다.**"
   ]
  },
  {
   "cell_type": "code",
   "execution_count": 44,
   "metadata": {
    "executionInfo": {
     "elapsed": 407,
     "status": "ok",
     "timestamp": 1725287388165,
     "user": {
      "displayName": "김광수",
      "userId": "04260902725982947063"
     },
     "user_tz": -540
    },
    "id": "CsiSwxum4YUg"
   },
   "outputs": [],
   "source": [
    "def lp_norm(x,y,p=2,*args):\n",
    "    n = len(x)\n",
    "    d = []\n",
    "    for i in range(n):\n",
    "        d.append(abs(x[i] - y[i])**p)\n",
    "    print('The L' + str(p) + ' distance is :', sum(d)**(1/p))\n",
    "    out = [sum(d)**(1/p)]\n",
    "\n",
    "    print('Number of *args:', len(args))\n",
    "    for p in args:\n",
    "        d = []\n",
    "        for i in range(n):\n",
    "            d.append(abs(x[i] - y[i])**p)\n",
    "        print('The L' + str(p) + ' distance is :', sum(d)**(1/p))\n",
    "        out.append(sum(d)**(1/p))\n",
    "\n",
    "    return tuple(out)"
   ]
  },
  {
   "cell_type": "code",
   "execution_count": 45,
   "metadata": {
    "executionInfo": {
     "elapsed": 423,
     "status": "ok",
     "timestamp": 1725287393695,
     "user": {
      "displayName": "김광수",
      "userId": "04260902725982947063"
     },
     "user_tz": -540
    },
    "id": "VJXpX16a4YUg"
   },
   "outputs": [],
   "source": [
    "x = list(range(1,10))\n",
    "y = list(range(10,1,-1))"
   ]
  },
  {
   "cell_type": "code",
   "execution_count": 46,
   "metadata": {
    "colab": {
     "base_uri": "https://localhost:8080/"
    },
    "executionInfo": {
     "elapsed": 384,
     "status": "ok",
     "timestamp": 1725287395844,
     "user": {
      "displayName": "김광수",
      "userId": "04260902725982947063"
     },
     "user_tz": -540
    },
    "id": "TnKhcqjm4YUg",
    "outputId": "23abfde3-8e39-4df7-b397-e631dfad1ef3"
   },
   "outputs": [
    {
     "name": "stdout",
     "output_type": "stream",
     "text": [
      "The L2 distance is : 15.7797338380595\n",
      "Number of *args: 0\n",
      "(15.7797338380595,)\n"
     ]
    }
   ],
   "source": [
    "lp = lp_norm(x,y)\n",
    "print(lp)"
   ]
  },
  {
   "cell_type": "code",
   "execution_count": 47,
   "metadata": {
    "colab": {
     "base_uri": "https://localhost:8080/"
    },
    "executionInfo": {
     "elapsed": 413,
     "status": "ok",
     "timestamp": 1725287398961,
     "user": {
      "displayName": "김광수",
      "userId": "04260902725982947063"
     },
     "user_tz": -540
    },
    "id": "3FCMOMV44YUg",
    "outputId": "d3071fe6-39ba-4d6b-977d-6ed134007c8d"
   },
   "outputs": [
    {
     "name": "stdout",
     "output_type": "stream",
     "text": [
      "The L1 distance is : 41.0\n",
      "Number of *args: 0\n",
      "(41.0,)\n"
     ]
    }
   ],
   "source": [
    "lp = lp_norm(x,y,1)\n",
    "print(lp)"
   ]
  },
  {
   "cell_type": "code",
   "execution_count": 48,
   "metadata": {
    "colab": {
     "base_uri": "https://localhost:8080/"
    },
    "executionInfo": {
     "elapsed": 403,
     "status": "ok",
     "timestamp": 1725287437107,
     "user": {
      "displayName": "김광수",
      "userId": "04260902725982947063"
     },
     "user_tz": -540
    },
    "id": "HufuH_jb4YUg",
    "outputId": "6c6147cb-63a8-4fd8-ffd8-ca915b144550"
   },
   "outputs": [
    {
     "name": "stdout",
     "output_type": "stream",
     "text": [
      "The L1 distance is : 41.0\n",
      "Number of *args: 6\n",
      "The L2 distance is : 15.7797338380595\n",
      "The L3 distance is : 11.983774366920516\n",
      "The L4 distance is : 10.631810414384907\n",
      "The L1.5 distance is : 21.370708630062115\n",
      "The L2.5 distance is : 13.317802359045247\n",
      "The L0.5 distance is : 332.2505125167682\n",
      "(41.0, 15.7797338380595, 11.983774366920516, 10.631810414384907, 21.370708630062115, 13.317802359045247, 332.2505125167682)\n"
     ]
    }
   ],
   "source": [
    "lp = lp_norm(x,y,1,2,3,4,1.5,2.5,0.5)\n",
    "print(lp)\n",
    "# number 역시 0부터 시작함"
   ]
  },
  {
   "cell_type": "markdown",
   "metadata": {
    "id": "sYZd4VYbZ3E3"
   },
   "source": [
    "1 이후가 새로운 인수가 됨"
   ]
  },
  {
   "cell_type": "markdown",
   "metadata": {
    "id": "wmRQzzBq4YUh"
   },
   "source": [
    "**정의된 함수의 설명을 추가 할 수 있다.**"
   ]
  },
  {
   "cell_type": "code",
   "execution_count": 49,
   "metadata": {
    "executionInfo": {
     "elapsed": 423,
     "status": "ok",
     "timestamp": 1725287459082,
     "user": {
      "displayName": "김광수",
      "userId": "04260902725982947063"
     },
     "user_tz": -540
    },
    "id": "U4w7snjs4YUh"
   },
   "outputs": [],
   "source": [
    "def lp_norm(x,y,p = 2):\n",
    "    r\"\"\" Compute the distance between vectors.\n",
    "\n",
    "    The Lp normed distance is sum(abs(x-y)**p)**(1/p)\n",
    "\n",
    "    Parameters\n",
    "    ----------\n",
    "    x : ndarray\n",
    "        First argument\n",
    "    y : ndarray\n",
    "        Second argument\n",
    "    p : float, optional\n",
    "        Power used in distance calculation, >=0\n",
    "\n",
    "    Returns\n",
    "    -------\n",
    "    output : scalar\n",
    "        Returns the Lp normed distance between x and y\n",
    "\n",
    "    Notes\n",
    "    -----\n",
    "\n",
    "    For p>=1, returns the Lp norm described above. For 0<=p<1,\n",
    "    returns sum(abs(x-y)**p). If p<0, p is set to 0.\n",
    "\n",
    "    Examples\n",
    "    --------\n",
    "    >>> x=[0,1,2]\n",
    "    >>> y=[1,2,3]\n",
    "\n",
    "    L2 norm is the default\n",
    "\n",
    "    >>> lp_norm(x,y)\n",
    "\n",
    "    Lp can be computed using the optional third input\n",
    "\n",
    "    >>> lp_norm(x,y,1)\n",
    "\n",
    "    \"\"\"\n",
    "\n",
    "    if p<0: p=0\n",
    "\n",
    "    n = len(x)\n",
    "    d = []\n",
    "    for i in range(n):\n",
    "        d.append(abs(x[i] - y[i])**p)\n",
    "\n",
    "    if p == 0:\n",
    "        count = 0\n",
    "        for i in range(n):\n",
    "            if d[i] != 0:\n",
    "                count += 1\n",
    "        return count\n",
    "    elif p < 1:\n",
    "        return sum(d)\n",
    "    else:\n",
    "        return sum(d)**(1/p)"
   ]
  },
  {
   "cell_type": "code",
   "execution_count": 50,
   "metadata": {
    "colab": {
     "base_uri": "https://localhost:8080/"
    },
    "executionInfo": {
     "elapsed": 407,
     "status": "ok",
     "timestamp": 1725287464159,
     "user": {
      "displayName": "김광수",
      "userId": "04260902725982947063"
     },
     "user_tz": -540
    },
    "id": "Y6Bo5Tlb4YUh",
    "outputId": "a134afcb-5a87-4cf0-da64-9e7abf140ef8"
   },
   "outputs": [
    {
     "name": "stdout",
     "output_type": "stream",
     "text": [
      "Help on function lp_norm in module __main__:\n",
      "\n",
      "lp_norm(x, y, p=2)\n",
      "    Compute the distance between vectors.\n",
      "    \n",
      "    The Lp normed distance is sum(abs(x-y)**p)**(1/p)\n",
      "    \n",
      "    Parameters\n",
      "    ----------\n",
      "    x : ndarray\n",
      "        First argument\n",
      "    y : ndarray\n",
      "        Second argument\n",
      "    p : float, optional\n",
      "        Power used in distance calculation, >=0\n",
      "    \n",
      "    Returns\n",
      "    -------\n",
      "    output : scalar\n",
      "        Returns the Lp normed distance between x and y\n",
      "    \n",
      "    Notes\n",
      "    -----\n",
      "    \n",
      "    For p>=1, returns the Lp norm described above. For 0<=p<1,\n",
      "    returns sum(abs(x-y)**p). If p<0, p is set to 0.\n",
      "    \n",
      "    Examples\n",
      "    --------\n",
      "    >>> x=[0,1,2]\n",
      "    >>> y=[1,2,3]\n",
      "    \n",
      "    L2 norm is the default\n",
      "    \n",
      "    >>> lp_norm(x,y)\n",
      "    \n",
      "    Lp can be computed using the optional third input\n",
      "    \n",
      "    >>> lp_norm(x,y,1)\n",
      "\n"
     ]
    }
   ],
   "source": [
    "help(lp_norm)"
   ]
  },
  {
   "cell_type": "markdown",
   "metadata": {
    "id": "Yl1ZXUS24YUh"
   },
   "source": [
    "**변수의 적용 범위**\n",
    "  - 로컬과 글로벌이 존재\n",
    "  - 로컬은 함수 안에서 글로벌은 전체에 작용함  "
   ]
  },
  {
   "cell_type": "code",
   "execution_count": 53,
   "metadata": {
    "executionInfo": {
     "elapsed": 421,
     "status": "ok",
     "timestamp": 1725287520737,
     "user": {
      "displayName": "김광수",
      "userId": "04260902725982947063"
     },
     "user_tz": -540
    },
    "id": "VPYRtEXc4YUh"
   },
   "outputs": [],
   "source": [
    "def scope_local():\n",
    "    a = -1\n",
    "    print('Inside scope_local, a is ',a)\n",
    "\n",
    "def scope_global():\n",
    "    global a\n",
    "    a = -10\n",
    "    print('Inside scope_global, a is ',a)"
   ]
  },
  {
   "cell_type": "code",
   "execution_count": 56,
   "metadata": {
    "colab": {
     "base_uri": "https://localhost:8080/"
    },
    "executionInfo": {
     "elapsed": 438,
     "status": "ok",
     "timestamp": 1725287616644,
     "user": {
      "displayName": "김광수",
      "userId": "04260902725982947063"
     },
     "user_tz": -540
    },
    "id": "FpCzgkex4YUh",
    "outputId": "11b36909-6bf8-42f2-a17e-69a57c687f73"
   },
   "outputs": [
    {
     "name": "stdout",
     "output_type": "stream",
     "text": [
      "a is  1\n",
      "\n",
      "Inside scope_local, a is  -1\n",
      "a is now  1\n",
      "\n",
      "Inside scope_global, a is  -10\n",
      "a is now  -10\n"
     ]
    }
   ],
   "source": [
    "a=1\n",
    "print('a is ',a)\n",
    "print('')\n",
    "scope_local()\n",
    "print('a is now ',a)\n",
    "print('')\n",
    "scope_global()\n",
    "print('a is now ',a)"
   ]
  },
  {
   "cell_type": "markdown",
   "metadata": {
    "id": "h1Mp2KRj4YUh"
   },
   "source": [
    "**``lambda``명령어를 사용하여 익명 함수를 정의할 수 있다.**"
   ]
  },
  {
   "cell_type": "code",
   "execution_count": 57,
   "metadata": {
    "executionInfo": {
     "elapsed": 414,
     "status": "ok",
     "timestamp": 1725287622500,
     "user": {
      "displayName": "김광수",
      "userId": "04260902725982947063"
     },
     "user_tz": -540
    },
    "id": "IW8N6_Vp4YUi"
   },
   "outputs": [],
   "source": [
    "nested = [('John','Doe','Oxford'),\\\n",
    "          ('Jane','Dearing','Cambridge'),\\\n",
    "          ('Jerry','Dawn','Harvard')]"
   ]
  },
  {
   "cell_type": "code",
   "execution_count": 58,
   "metadata": {
    "colab": {
     "base_uri": "https://localhost:8080/"
    },
    "executionInfo": {
     "elapsed": 559,
     "status": "ok",
     "timestamp": 1725287624201,
     "user": {
      "displayName": "김광수",
      "userId": "04260902725982947063"
     },
     "user_tz": -540
    },
    "id": "XXctyI184YUi",
    "outputId": "a45c46af-3029-4c30-9740-a56c21ba9471"
   },
   "outputs": [
    {
     "name": "stdout",
     "output_type": "stream",
     "text": [
      "[('Jane', 'Dearing', 'Cambridge'), ('Jerry', 'Dawn', 'Harvard'), ('John', 'Doe', 'Oxford')]\n"
     ]
    }
   ],
   "source": [
    "nested.sort()\n",
    "print(nested)"
   ]
  },
  {
   "cell_type": "code",
   "execution_count": 60,
   "metadata": {
    "colab": {
     "base_uri": "https://localhost:8080/"
    },
    "executionInfo": {
     "elapsed": 408,
     "status": "ok",
     "timestamp": 1725287658030,
     "user": {
      "displayName": "김광수",
      "userId": "04260902725982947063"
     },
     "user_tz": -540
    },
    "id": "MeOjZRRd4YUi",
    "outputId": "99e64ef6-e22d-44f2-f5a7-a6eed64035eb"
   },
   "outputs": [
    {
     "name": "stdout",
     "output_type": "stream",
     "text": [
      "25\n",
      "[('Jerry', 'Dawn', 'Harvard'), ('Jane', 'Dearing', 'Cambridge'), ('John', 'Doe', 'Oxford')]\n"
     ]
    }
   ],
   "source": [
    "print( (lambda x:x**2)(5) )\n",
    "# 함수 정의\n",
    "nested.sort(key=lambda x:x[1])\n",
    "print(nested)\n",
    "# 1번 첨자로 소팅"
   ]
  },
  {
   "cell_type": "markdown",
   "metadata": {
    "id": "aMVrGxM14YUi"
   },
   "source": [
    "#### 연습문제\n",
    "\n",
    "- 입력을 정수 n으로 받았을 때, n이하까지의 피보나치 수열을 출력하는 함수를 작성하시오.\n",
    "\n",
    "    ```    0, 1, 1, 2, 3, 5, 8, 13, ... ```"
   ]
  },
  {
   "cell_type": "markdown",
   "metadata": {
    "id": "c8ecoGYb4YUi"
   },
   "source": [
    "- 다음의 값을 오름차순으로 정력하는 함수를 작성하시오.\n",
    "\n",
    "   ``` 3, 2, 8, 4, 9, 13, 5 ```"
   ]
  },
  {
   "cell_type": "markdown",
   "metadata": {
    "id": "n5pd6nu14YUi"
   },
   "source": [
    "## 모듈(Modules)\n",
    "\n",
    "모듈(module)이란 함수나 변수 또는 클래스(class) 들을 모아 놓은 파일로, 다른 **Python**프로그램에서 ``import``명령어를 통해 불러와 사용할 수 있다.\n",
    "\n",
    "모듈 사용 방법:\n",
    "1. ``import`` 모듈이름 ``as`` 별명\n",
    "2. ``from`` 모듈이름 ``import`` 모듈함수"
   ]
  },
  {
   "cell_type": "code",
   "execution_count": 61,
   "metadata": {
    "colab": {
     "base_uri": "https://localhost:8080/"
    },
    "executionInfo": {
     "elapsed": 439,
     "status": "ok",
     "timestamp": 1725287789837,
     "user": {
      "displayName": "김광수",
      "userId": "04260902725982947063"
     },
     "user_tz": -540
    },
    "id": "_T5zDNk_4YUi",
    "outputId": "4c3d312f-92df-4589-8171-098346dd0716"
   },
   "outputs": [
    {
     "name": "stdout",
     "output_type": "stream",
     "text": [
      "[0.80674241 0.89986497 0.04826    0.84636809 0.32832791 0.99544924\n",
      " 0.23648638 0.89739243 0.48834308 0.12587896]\n"
     ]
    }
   ],
   "source": [
    "import numpy as np\n",
    "\n",
    "x = np.random.rand(10)\n",
    "print(x)"
   ]
  },
  {
   "cell_type": "markdown",
   "metadata": {
    "id": "1WkMS_bJ4YUi"
   },
   "source": [
    "**사용자 정의 모듈**"
   ]
  },
  {
   "cell_type": "code",
   "execution_count": 62,
   "metadata": {
    "colab": {
     "base_uri": "https://localhost:8080/"
    },
    "executionInfo": {
     "elapsed": 432,
     "status": "ok",
     "timestamp": 1725287793271,
     "user": {
      "displayName": "김광수",
      "userId": "04260902725982947063"
     },
     "user_tz": -540
    },
    "id": "ohEueUoi4YUj",
    "outputId": "95e4e677-6e55-4f22-f7ed-ec77611ed212"
   },
   "outputs": [
    {
     "name": "stdout",
     "output_type": "stream",
     "text": [
      "Writing core.py\n"
     ]
    }
   ],
   "source": [
    "%%writefile -a core.py\n",
    "r\"\"\"Demonstraion module.\n",
    "This is the module docstring.\n",
    "\"\"\"\n",
    "\n",
    "def square(x):\n",
    "    r\"\"\"Returns the square of a scalar input\n",
    "    \"\"\"\n",
    "    return x*x\n",
    "\n",
    "def cube(x):\n",
    "    r\"\"\"Returns the cube of a scalar input\n",
    "    \"\"\"\n",
    "    return x*x*x"
   ]
  },
  {
   "cell_type": "code",
   "execution_count": 63,
   "metadata": {
    "colab": {
     "base_uri": "https://localhost:8080/"
    },
    "executionInfo": {
     "elapsed": 393,
     "status": "ok",
     "timestamp": 1725287802539,
     "user": {
      "displayName": "김광수",
      "userId": "04260902725982947063"
     },
     "user_tz": -540
    },
    "id": "sCSDKRtD4YUj",
    "outputId": "4a561481-3f58-475d-d956-581e0940978d"
   },
   "outputs": [
    {
     "name": "stdout",
     "output_type": "stream",
     "text": [
      "/content\n"
     ]
    }
   ],
   "source": [
    "!pwd\n",
    "#현재 작동되는 위치를 표시"
   ]
  },
  {
   "cell_type": "code",
   "execution_count": 64,
   "metadata": {
    "colab": {
     "base_uri": "https://localhost:8080/"
    },
    "executionInfo": {
     "elapsed": 425,
     "status": "ok",
     "timestamp": 1725287804899,
     "user": {
      "displayName": "김광수",
      "userId": "04260902725982947063"
     },
     "user_tz": -540
    },
    "id": "3lT3VyIZ4YUj",
    "outputId": "12803101-f5a3-4e9a-bc5e-56d193e5b21d"
   },
   "outputs": [
    {
     "name": "stdout",
     "output_type": "stream",
     "text": [
      "9\n",
      "-27\n"
     ]
    }
   ],
   "source": [
    "import core\n",
    "\n",
    "y = -3\n",
    "print(core.square(y))\n",
    "print(core.cube(y))"
   ]
  },
  {
   "cell_type": "markdown",
   "metadata": {
    "id": "Cnopq3q94YUj"
   },
   "source": [
    "**\\_\\_main\\_\\_의 역할**"
   ]
  },
  {
   "cell_type": "markdown",
   "metadata": {
    "id": "KYRCgSxF4YUj"
   },
   "source": [
    "\n",
    "\n",
    "```\n",
    "`# This is formatted as code`\n",
    "```\n",
    "\n",
    "\n",
    "\n",
    "모듈 자체에 실행이 가능한 프로그램을 포함할 수 있도록 도와준다. 단, 다른 프로그램에서 불러와 사용될 때는 모듈안에 있는 실행 가능한 코드는 실행되지 않는다 (모듈이 연결되어 있는 경우, 독립성을 최대한 유지)"
   ]
  },
  {
   "cell_type": "code",
   "execution_count": 66,
   "metadata": {
    "colab": {
     "base_uri": "https://localhost:8080/"
    },
    "executionInfo": {
     "elapsed": 446,
     "status": "ok",
     "timestamp": 1725287826920,
     "user": {
      "displayName": "김광수",
      "userId": "04260902725982947063"
     },
     "user_tz": -540
    },
    "id": "My0owJ1m4YUj",
    "outputId": "a87effd0-9ed9-4519-f05d-bdd49d00fe24"
   },
   "outputs": [
    {
     "name": "stdout",
     "output_type": "stream",
     "text": [
      "Appending to core1.py\n"
     ]
    }
   ],
   "source": [
    "%%writefile -a core1.py\n",
    "\"\"\"Demonstraion module.\n",
    "This is the module docstring.\n",
    "\"\"\"\n",
    "\n",
    "def square(x):\n",
    "    r\"\"\"Returns the square of a scalar input\n",
    "    \"\"\"\n",
    "    return x*x\n",
    "\n",
    "def cube(x):\n",
    "    r\"\"\"Returns the cube of a scalar input\n",
    "    \"\"\"\n",
    "    return x*x*x\n",
    "\n",
    "if __name__ == \"__main__\":\n",
    "    print('Program called directly.')\n",
    "else:\n",
    "    print('Program called indirectly using name: ', __name__)\n"
   ]
  },
  {
   "cell_type": "code",
   "execution_count": null,
   "metadata": {
    "colab": {
     "base_uri": "https://localhost:8080/"
    },
    "id": "n_32Zo0t4YUj",
    "outputId": "632e0216-19f7-4b86-e783-23cdc4a361c8"
   },
   "outputs": [
    {
     "name": "stdout",
     "output_type": "stream",
     "text": [
      "Program called directly.\n"
     ]
    }
   ],
   "source": [
    "!python3 core1.py"
   ]
  },
  {
   "cell_type": "markdown",
   "metadata": {
    "id": "y5eDS7CL4YUk"
   },
   "source": [
    "### 패키지(Package) 설치"
   ]
  },
  {
   "cell_type": "code",
   "execution_count": 67,
   "metadata": {
    "colab": {
     "base_uri": "https://localhost:8080/"
    },
    "executionInfo": {
     "elapsed": 4422,
     "status": "ok",
     "timestamp": 1725287842210,
     "user": {
      "displayName": "김광수",
      "userId": "04260902725982947063"
     },
     "user_tz": -540
    },
    "id": "BFLFlV6l4YUk",
    "outputId": "48b3a2ea-ee45-4037-9cd3-196459300cf1"
   },
   "outputs": [
    {
     "name": "stdout",
     "output_type": "stream",
     "text": [
      "Requirement already satisfied: numpy in /usr/local/lib/python3.10/dist-packages (1.26.4)\n"
     ]
    }
   ],
   "source": [
    "!pip3 install numpy"
   ]
  }
 ],
 "metadata": {
  "colab": {
   "provenance": []
  },
  "kernelspec": {
   "display_name": "Python 3",
   "language": "python",
   "name": "python3"
  },
  "language_info": {
   "codemirror_mode": {
    "name": "ipython",
    "version": 3
   },
   "file_extension": ".py",
   "mimetype": "text/x-python",
   "name": "python",
   "nbconvert_exporter": "python",
   "pygments_lexer": "ipython3",
   "version": "3.7.3"
  }
 },
 "nbformat": 4,
 "nbformat_minor": 0
}
