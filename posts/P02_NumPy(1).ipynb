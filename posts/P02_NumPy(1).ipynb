{
 "cells": [
  {
   "cell_type": "raw",
   "metadata": {
    "vscode": {
     "languageId": "raw"
    }
   },
   "source": [
    "---\n",
    "title: \"P02_Numpy\"\n",
    "author: \"김수환\"\n",
    "date: \"12/16/2024\"\n",
    "---"
   ]
  },
  {
   "cell_type": "markdown",
   "metadata": {
    "id": "PnTQ6W-LpqpL"
   },
   "source": [
    "# NumPy 소개"
   ]
  },
  {
   "cell_type": "markdown",
   "metadata": {
    "id": "2E-F_jHRpqpR"
   },
   "source": [
    "**NumPy**는 Numerical Python의 약자로 내장타입의 list와 비슷하다. 그러나, 데이터 배열을 사용하여 최적화된 연산을 위한 쉽고 유연한 인터페이스를 제공하여 배열의 규모가 커질수록 데이터 저장 및 처리에 훨씬 효과적이다. 자세한 사항은 https://numpy.org 에 나타나 있다."
   ]
  },
  {
   "cell_type": "markdown",
   "metadata": {
    "id": "3pHgDnSapqpR"
   },
   "source": [
    "**NumPy**를 사용하기 위해서는 ``import``를 이용하여 불러와야 한다. 다음은 별칭(alias) **np**를 사용하여 **NumPy**불러오는 코드이다."
   ]
  },
  {
   "cell_type": "code",
   "execution_count": 2,
   "metadata": {
    "colab": {
     "base_uri": "https://localhost:8080/",
     "height": 53
    },
    "executionInfo": {
     "elapsed": 5193,
     "status": "ok",
     "timestamp": 1729751478278,
     "user": {
      "displayName": "김광수",
      "userId": "04260902725982947063"
     },
     "user_tz": -540
    },
    "id": "9lY5WdGBpqpS",
    "outputId": "0981d3ec-5f76-4a55-b939-ea1006fd0ff2"
   },
   "outputs": [
    {
     "name": "stdout",
     "output_type": "stream",
     "text": [
      "Requirement already satisfied: numpy in /usr/local/lib/python3.10/dist-packages (1.26.4)\n"
     ]
    },
    {
     "data": {
      "application/vnd.google.colaboratory.intrinsic+json": {
       "type": "string"
      },
      "text/plain": [
       "'1.26.4'"
      ]
     },
     "execution_count": 2,
     "metadata": {},
     "output_type": "execute_result"
    }
   ],
   "source": [
    "!pip install numpy\n",
    "\n",
    "import numpy as np\n",
    "np.__version__"
   ]
  },
  {
   "cell_type": "markdown",
   "metadata": {
    "id": "zrSBWlH4pqpT"
   },
   "source": [
    "## Python List를 이용한 NumPy 배열 만들기\n",
    "\n",
    "가장 기본적으로 **NumPy**배열을 생성하는 방법은 리스트를 이용하는 것이다."
   ]
  },
  {
   "cell_type": "code",
   "execution_count": null,
   "metadata": {
    "colab": {
     "base_uri": "https://localhost:8080/"
    },
    "executionInfo": {
     "elapsed": 1211,
     "status": "ok",
     "timestamp": 1725240627412,
     "user": {
      "displayName": "김광수",
      "userId": "04260902725982947063"
     },
     "user_tz": -540
    },
    "id": "im83_3ccpqpU",
    "outputId": "8bb505f0-f48f-41ad-e3eb-61acb7de05d7"
   },
   "outputs": [
    {
     "data": {
      "text/plain": [
       "array([1, 4, 2, 5, 3])"
      ]
     },
     "execution_count": 3,
     "metadata": {},
     "output_type": "execute_result"
    }
   ],
   "source": [
    "np.array([1, 4, 2, 5, 3])"
   ]
  },
  {
   "cell_type": "markdown",
   "metadata": {
    "id": "v_YmPrHTpqpU"
   },
   "source": [
    "**주의. list와 달리 NumPy는 배열의 모든 요소가 같은 타입이어야 한다.**"
   ]
  },
  {
   "cell_type": "code",
   "execution_count": null,
   "metadata": {
    "colab": {
     "background_save": true,
     "base_uri": "https://localhost:8080/"
    },
    "executionInfo": {
     "elapsed": 2,
     "status": "ok",
     "timestamp": 1725240627806,
     "user": {
      "displayName": "김광수",
      "userId": "04260902725982947063"
     },
     "user_tz": -540
    },
    "id": "xSWb0VQkpqpV"
   },
   "outputs": [
    {
     "data": {
      "text/plain": [
       "array([3.14, 4.  , 2.  , 3.  ])"
      ]
     },
     "execution_count": 4,
     "metadata": {},
     "output_type": "execute_result"
    }
   ],
   "source": [
    "np.array([3.14, 4, 2, 3])"
   ]
  },
  {
   "cell_type": "markdown",
   "metadata": {
    "id": "nlfbzmNapqpW"
   },
   "source": [
    "참고. ``dtype``키워드를 사용하면 데이터 타입을 설정할 수 있다."
   ]
  },
  {
   "cell_type": "code",
   "execution_count": null,
   "metadata": {
    "colab": {
     "base_uri": "https://localhost:8080/"
    },
    "executionInfo": {
     "elapsed": 2,
     "status": "ok",
     "timestamp": 1725240629914,
     "user": {
      "displayName": "김광수",
      "userId": "04260902725982947063"
     },
     "user_tz": -540
    },
    "id": "z8LOHnN5pqpW",
    "outputId": "209a77b7-c350-41d9-b7da-202a818d042e"
   },
   "outputs": [
    {
     "data": {
      "text/plain": [
       "array([1., 2., 3., 4.], dtype=float32)"
      ]
     },
     "execution_count": 5,
     "metadata": {},
     "output_type": "execute_result"
    }
   ],
   "source": [
    "np.array([1, 2, 3, 4], dtype='float32')"
   ]
  },
  {
   "cell_type": "markdown",
   "metadata": {
    "id": "7amTZaWXpqpX"
   },
   "source": [
    "참고. 리스트와 달리 **NumPy** 배열은 명시적으로 다차원이 가능하다. 내부 리스트는 결과로 얻은 이차원 배열의 행으로 취급된다."
   ]
  },
  {
   "cell_type": "code",
   "execution_count": null,
   "metadata": {
    "colab": {
     "base_uri": "https://localhost:8080/"
    },
    "executionInfo": {
     "elapsed": 2,
     "status": "ok",
     "timestamp": 1725240630936,
     "user": {
      "displayName": "김광수",
      "userId": "04260902725982947063"
     },
     "user_tz": -540
    },
    "id": "Vvho4hLMpqpX",
    "outputId": "8c1c84c0-4937-41ff-b40b-f932456bea63"
   },
   "outputs": [
    {
     "data": {
      "text/plain": [
       "array([[2, 3, 4],\n",
       "       [4, 5, 6],\n",
       "       [6, 7, 8]])"
      ]
     },
     "execution_count": 6,
     "metadata": {},
     "output_type": "execute_result"
    }
   ],
   "source": [
    "np.array([range(i, i + 3) for i in [2, 4, 6]])"
   ]
  },
  {
   "cell_type": "markdown",
   "metadata": {
    "id": "iSyCecOFl_5P"
   },
   "source": [
    "range(2,5), range(4,7), range(6,9)를 각각 행 구조로 입력함"
   ]
  },
  {
   "cell_type": "markdown",
   "metadata": {
    "id": "JsOeEosxpqpY"
   },
   "source": [
    "## NumPy에 내장된 메소드를 사용하여 배열 만들기\n",
    "\n",
    "다음의 예제들은 내장된 메소드를 이용하여 **NumPy**배열을 만드는 방법을 나타낸다."
   ]
  },
  {
   "cell_type": "code",
   "execution_count": null,
   "metadata": {
    "colab": {
     "base_uri": "https://localhost:8080/"
    },
    "executionInfo": {
     "elapsed": 381,
     "status": "ok",
     "timestamp": 1725240636173,
     "user": {
      "displayName": "김광수",
      "userId": "04260902725982947063"
     },
     "user_tz": -540
    },
    "id": "NFm0TkSmpqpY",
    "outputId": "e0220b6d-6739-419e-d6b9-b3019bc71255"
   },
   "outputs": [
    {
     "data": {
      "text/plain": [
       "array([0, 0, 0, 0, 0, 0, 0, 0, 0, 0])"
      ]
     },
     "execution_count": 7,
     "metadata": {},
     "output_type": "execute_result"
    }
   ],
   "source": [
    "np.zeros(10, dtype=int)"
   ]
  },
  {
   "cell_type": "markdown",
   "metadata": {
    "id": "dtllprl3mUUr"
   },
   "source": [
    "np.ones, np.zeros 는 모든 원소의 값을 0이나 1로 하고 차원과 값의 유형을 지정한다.\n",
    "\n",
    "\n"
   ]
  },
  {
   "cell_type": "code",
   "execution_count": null,
   "metadata": {
    "colab": {
     "base_uri": "https://localhost:8080/"
    },
    "executionInfo": {
     "elapsed": 1,
     "status": "ok",
     "timestamp": 1725240637036,
     "user": {
      "displayName": "김광수",
      "userId": "04260902725982947063"
     },
     "user_tz": -540
    },
    "id": "YSFXSKk9pqpY",
    "outputId": "3552e1d3-5f8c-49fb-ed97-eae0bb5d33c5"
   },
   "outputs": [
    {
     "data": {
      "text/plain": [
       "array([[1., 1., 1., 1., 1.],\n",
       "       [1., 1., 1., 1., 1.],\n",
       "       [1., 1., 1., 1., 1.]])"
      ]
     },
     "execution_count": 8,
     "metadata": {},
     "output_type": "execute_result"
    }
   ],
   "source": [
    "np.ones((3, 5), dtype=float)"
   ]
  },
  {
   "cell_type": "code",
   "execution_count": null,
   "metadata": {
    "colab": {
     "base_uri": "https://localhost:8080/"
    },
    "executionInfo": {
     "elapsed": 504,
     "status": "ok",
     "timestamp": 1725240639157,
     "user": {
      "displayName": "김광수",
      "userId": "04260902725982947063"
     },
     "user_tz": -540
    },
    "id": "qpNL3rIVpqpZ",
    "outputId": "867ef2f5-5f86-493c-9025-5e899c6f0dd1"
   },
   "outputs": [
    {
     "data": {
      "text/plain": [
       "array([[3.14, 3.14, 3.14, 3.14, 3.14],\n",
       "       [3.14, 3.14, 3.14, 3.14, 3.14],\n",
       "       [3.14, 3.14, 3.14, 3.14, 3.14]])"
      ]
     },
     "execution_count": 9,
     "metadata": {},
     "output_type": "execute_result"
    }
   ],
   "source": [
    "np.full((3, 5), 3.14)"
   ]
  },
  {
   "cell_type": "markdown",
   "metadata": {
    "id": "OUjhs_eCml-v"
   },
   "source": [
    "0이나 1이 아닌 특정값을 채우고 싶다면 이 구문을 이용"
   ]
  },
  {
   "cell_type": "code",
   "execution_count": null,
   "metadata": {
    "colab": {
     "base_uri": "https://localhost:8080/"
    },
    "executionInfo": {
     "elapsed": 579,
     "status": "ok",
     "timestamp": 1725240640291,
     "user": {
      "displayName": "김광수",
      "userId": "04260902725982947063"
     },
     "user_tz": -540
    },
    "id": "L6d7K3-apqpZ",
    "outputId": "02ff9ac2-8743-4bfa-bef7-a0e3f1e122ff"
   },
   "outputs": [
    {
     "data": {
      "text/plain": [
       "array([ 0,  2,  4,  6,  8, 10, 12, 14, 16, 18])"
      ]
     },
     "execution_count": 10,
     "metadata": {},
     "output_type": "execute_result"
    }
   ],
   "source": [
    "np.arange(0, 20, 2)"
   ]
  },
  {
   "cell_type": "code",
   "execution_count": null,
   "metadata": {
    "colab": {
     "base_uri": "https://localhost:8080/"
    },
    "executionInfo": {
     "elapsed": 404,
     "status": "ok",
     "timestamp": 1725240642271,
     "user": {
      "displayName": "김광수",
      "userId": "04260902725982947063"
     },
     "user_tz": -540
    },
    "id": "vG4I2R4BpqpZ",
    "outputId": "4e86f8d0-5881-40d8-deab-fc940e01cdf3"
   },
   "outputs": [
    {
     "data": {
      "text/plain": [
       "array([0.  , 0.25, 0.5 , 0.75, 1.  ])"
      ]
     },
     "execution_count": 11,
     "metadata": {},
     "output_type": "execute_result"
    }
   ],
   "source": [
    "np.linspace(0, 1, 5)"
   ]
  },
  {
   "cell_type": "markdown",
   "metadata": {
    "id": "J-RGi2NnmsNj"
   },
   "source": [
    "그리드를 잡고 싶을 때 이용, 1부터 1까지 5개의 값으로 분할"
   ]
  },
  {
   "cell_type": "code",
   "execution_count": null,
   "metadata": {
    "colab": {
     "base_uri": "https://localhost:8080/"
    },
    "executionInfo": {
     "elapsed": 597,
     "status": "ok",
     "timestamp": 1725240643351,
     "user": {
      "displayName": "김광수",
      "userId": "04260902725982947063"
     },
     "user_tz": -540
    },
    "id": "rMkd4ZXMpqpZ",
    "outputId": "c239bfd0-3c5a-4903-c084-4c95059b8eac"
   },
   "outputs": [
    {
     "data": {
      "text/plain": [
       "array([[1., 0., 0.],\n",
       "       [0., 1., 0.],\n",
       "       [0., 0., 1.]])"
      ]
     },
     "execution_count": 12,
     "metadata": {},
     "output_type": "execute_result"
    }
   ],
   "source": [
    "np.eye(3)"
   ]
  },
  {
   "cell_type": "markdown",
   "metadata": {
    "id": "SjvxczF2mzhv"
   },
   "source": [
    "Identity 행렬을 만듬"
   ]
  },
  {
   "cell_type": "code",
   "execution_count": null,
   "metadata": {
    "colab": {
     "base_uri": "https://localhost:8080/"
    },
    "executionInfo": {
     "elapsed": 413,
     "status": "ok",
     "timestamp": 1725240646000,
     "user": {
      "displayName": "김광수",
      "userId": "04260902725982947063"
     },
     "user_tz": -540
    },
    "id": "ctPnbnfspqpa",
    "outputId": "8dd55fef-7132-46cf-fe09-e6aec5110856"
   },
   "outputs": [
    {
     "data": {
      "text/plain": [
       "array([1.])"
      ]
     },
     "execution_count": 13,
     "metadata": {},
     "output_type": "execute_result"
    }
   ],
   "source": [
    "np.empty(1)"
   ]
  },
  {
   "cell_type": "markdown",
   "metadata": {
    "id": "utWfzXvzpqpa"
   },
   "source": [
    "\n",
    "참고. ``np.empty``는 해당 메모리 위치에 이미 존재하고 있는 값으로 채운다. 메모리 번호를 알고 있어야 함"
   ]
  },
  {
   "cell_type": "markdown",
   "metadata": {
    "id": "kDocDerbpqpa"
   },
   "source": [
    "## NumPy 표준 데이터 타입\n",
    "\n",
    "**NumPy**는 **C**로 구현되어 있기 때문에 **NumPy**의 데이터 타입은 **C**와 **Fortran**언어 혹은 관련된 다른언어와 비슷하다."
   ]
  },
  {
   "cell_type": "markdown",
   "metadata": {
    "id": "2P4JOHMnpqpa"
   },
   "source": [
    "| Data type\t    | Description |\n",
    "|---------------|-------------|\n",
    "| ``bool_``     | Boolean (True or False) stored as a byte |\n",
    "| ``int_``      | Default integer type (same as C ``long``; normally either ``int64`` or ``int32``)|\n",
    "| ``intc``      | Identical to C ``int`` (normally ``int32`` or ``int64``)|\n",
    "| ``intp``      | Integer used for indexing (same as C ``ssize_t``; normally either ``int32`` or ``int64``)|\n",
    "| ``int8``      | Byte (-128 to 127)|\n",
    "| ``int16``     | Integer (-32768 to 32767)|\n",
    "| ``int32``     | Integer (-2147483648 to 2147483647)|\n",
    "| ``int64``     | Integer (-9223372036854775808 to 9223372036854775807)|\n",
    "| ``uint8``     | Unsigned integer (0 to 255)|\n",
    "| ``uint16``    | Unsigned integer (0 to 65535)|\n",
    "| ``uint32``    | Unsigned integer (0 to 4294967295)|\n",
    "| ``uint64``    | Unsigned integer (0 to 18446744073709551615)|\n",
    "| ``float_``    | Shorthand for ``float64``.|\n",
    "| ``float16``   | Half precision float: sign bit, 5 bits exponent, 10 bits mantissa|\n",
    "| ``float32``   | Single precision float: sign bit, 8 bits exponent, 23 bits mantissa|\n",
    "| ``float64``   | Double precision float: sign bit, 11 bits exponent, 52 bits mantissa|\n",
    "| ``complex_``  | Shorthand for ``complex128``.|\n",
    "| ``complex64`` | Complex number, represented by two 32-bit floats|\n",
    "| ``complex128``| Complex number, represented by two 64-bit floats|"
   ]
  },
  {
   "cell_type": "markdown",
   "metadata": {
    "id": "2wHHU-FLpqpb"
   },
   "source": [
    "## NumPy 배열 속성 지정\n",
    "\n",
    "배열의 속성을 지정해서 배열의 크기 혹은 데이터 타입을 정할 수 있다."
   ]
  },
  {
   "cell_type": "code",
   "execution_count": null,
   "metadata": {
    "colab": {
     "base_uri": "https://localhost:8080/"
    },
    "executionInfo": {
     "elapsed": 415,
     "status": "ok",
     "timestamp": 1725240649228,
     "user": {
      "displayName": "김광수",
      "userId": "04260902725982947063"
     },
     "user_tz": -540
    },
    "id": "Svl40k3jpqpb",
    "outputId": "d20df374-f442-4dbb-a6cb-e39ef3c33631"
   },
   "outputs": [
    {
     "name": "stdout",
     "output_type": "stream",
     "text": [
      "[[[5 0 3 3 7]\n",
      "  [9 3 5 2 4]\n",
      "  [7 6 8 8 1]\n",
      "  [6 7 7 8 1]]\n",
      "\n",
      " [[5 9 8 9 4]\n",
      "  [3 0 3 5 0]\n",
      "  [2 3 8 1 3]\n",
      "  [3 3 7 0 1]]\n",
      "\n",
      " [[9 9 0 4 7]\n",
      "  [3 2 7 2 0]\n",
      "  [0 4 5 5 6]\n",
      "  [8 4 1 4 9]]]\n"
     ]
    }
   ],
   "source": [
    "np.random.seed(0)  # 재현 가능성을 위한 시드 값\n",
    "\n",
    "x3 = np.random.randint(10, size=(3, 4, 5))\n",
    "print(x3)"
   ]
  },
  {
   "cell_type": "markdown",
   "metadata": {
    "id": "qrmb6_3knPWH"
   },
   "source": [
    "random.randint는 지정된 개수의 정수를 (0부터 시작) 랜덤하게 추출함"
   ]
  },
  {
   "cell_type": "code",
   "execution_count": null,
   "metadata": {
    "colab": {
     "base_uri": "https://localhost:8080/"
    },
    "executionInfo": {
     "elapsed": 399,
     "status": "ok",
     "timestamp": 1725240651433,
     "user": {
      "displayName": "김광수",
      "userId": "04260902725982947063"
     },
     "user_tz": -540
    },
    "id": "EXkZFheapqpb",
    "outputId": "b511c4fb-b95b-4013-f2c6-838bc414eb32"
   },
   "outputs": [
    {
     "name": "stdout",
     "output_type": "stream",
     "text": [
      "x3 ndim:  3\n",
      "x3 shape: (3, 4, 5)\n",
      "x3 size:  60\n"
     ]
    }
   ],
   "source": [
    "print(\"x3 ndim: \", x3.ndim)\n",
    "print(\"x3 shape:\", x3.shape)\n",
    "print(\"x3 size: \", x3.size)"
   ]
  },
  {
   "cell_type": "markdown",
   "metadata": {
    "id": "Ph9HMHhXntZY"
   },
   "source": [
    "dim: 배열의 차원, shape: 배열의 구조, size: 총 원소의 개수"
   ]
  },
  {
   "cell_type": "code",
   "execution_count": null,
   "metadata": {
    "colab": {
     "base_uri": "https://localhost:8080/"
    },
    "executionInfo": {
     "elapsed": 2,
     "status": "ok",
     "timestamp": 1725240652662,
     "user": {
      "displayName": "김광수",
      "userId": "04260902725982947063"
     },
     "user_tz": -540
    },
    "id": "TC6bs13Jpqpc",
    "outputId": "02f936f0-8425-4c25-b04e-3ad2da2082f3"
   },
   "outputs": [
    {
     "name": "stdout",
     "output_type": "stream",
     "text": [
      "dtype: int64\n",
      "int32\n",
      "[2 1]\n"
     ]
    }
   ],
   "source": [
    "print(\"dtype:\", x3.dtype)\n",
    "xx3 = np.array(x3, dtype='int32')\n",
    "print(xx3.dtype)\n",
    "xx3 = np.array([ [[3,4],[4,5]],[[3,4],[2,1]] ] )\n",
    "print(xx3[1,1,range(2)])"
   ]
  },
  {
   "cell_type": "markdown",
   "metadata": {
    "id": "P-rTK_PDoPuK"
   },
   "source": [
    "dtype 문을 이용하여 값의 유형을 지정"
   ]
  },
  {
   "cell_type": "markdown",
   "metadata": {
    "id": "uTRKYoNopqpc"
   },
   "source": [
    "## 배열 인덱싱: 단일 요소에 접근하기"
   ]
  },
  {
   "cell_type": "markdown",
   "metadata": {
    "id": "ocYLklOspqpd"
   },
   "source": [
    "일차원 배열"
   ]
  },
  {
   "cell_type": "code",
   "execution_count": null,
   "metadata": {
    "colab": {
     "base_uri": "https://localhost:8080/"
    },
    "executionInfo": {
     "elapsed": 403,
     "status": "ok",
     "timestamp": 1725240657449,
     "user": {
      "displayName": "김광수",
      "userId": "04260902725982947063"
     },
     "user_tz": -540
    },
    "id": "c5bTcOMopqpd",
    "outputId": "8be3fded-967d-4660-cb37-51c20161fc3c"
   },
   "outputs": [
    {
     "name": "stdout",
     "output_type": "stream",
     "text": [
      "[5 0 3 3 7 9]\n"
     ]
    }
   ],
   "source": [
    "np.random.seed(0)  # 재현 가능성을 위한 시드 값\n",
    "\n",
    "x1 = np.random.randint(10, size=6)\n",
    "print(x1)"
   ]
  },
  {
   "cell_type": "code",
   "execution_count": null,
   "metadata": {
    "colab": {
     "base_uri": "https://localhost:8080/"
    },
    "executionInfo": {
     "elapsed": 600,
     "status": "ok",
     "timestamp": 1725240660746,
     "user": {
      "displayName": "김광수",
      "userId": "04260902725982947063"
     },
     "user_tz": -540
    },
    "id": "KSh3ck50pqpd",
    "outputId": "fcb25874-a247-407d-a256-3ca8f360ecc6"
   },
   "outputs": [
    {
     "data": {
      "text/plain": [
       "5"
      ]
     },
     "execution_count": 18,
     "metadata": {},
     "output_type": "execute_result"
    }
   ],
   "source": [
    "x1[0]"
   ]
  },
  {
   "cell_type": "code",
   "execution_count": null,
   "metadata": {
    "colab": {
     "base_uri": "https://localhost:8080/"
    },
    "executionInfo": {
     "elapsed": 601,
     "status": "ok",
     "timestamp": 1725240661881,
     "user": {
      "displayName": "김광수",
      "userId": "04260902725982947063"
     },
     "user_tz": -540
    },
    "id": "EOCIcagApqpe",
    "outputId": "3f2e2222-f4bf-4b38-e8df-24094f25cdc9"
   },
   "outputs": [
    {
     "data": {
      "text/plain": [
       "7"
      ]
     },
     "execution_count": 19,
     "metadata": {},
     "output_type": "execute_result"
    }
   ],
   "source": [
    "x1[4]"
   ]
  },
  {
   "cell_type": "code",
   "execution_count": null,
   "metadata": {
    "colab": {
     "base_uri": "https://localhost:8080/"
    },
    "executionInfo": {
     "elapsed": 459,
     "status": "ok",
     "timestamp": 1725240664035,
     "user": {
      "displayName": "김광수",
      "userId": "04260902725982947063"
     },
     "user_tz": -540
    },
    "id": "7ESPQkVEpqpe",
    "outputId": "f040d9e6-a6fd-4163-bda9-5573356d8b8d"
   },
   "outputs": [
    {
     "data": {
      "text/plain": [
       "9"
      ]
     },
     "execution_count": 20,
     "metadata": {},
     "output_type": "execute_result"
    }
   ],
   "source": [
    "x1[-1]"
   ]
  },
  {
   "cell_type": "code",
   "execution_count": null,
   "metadata": {
    "colab": {
     "base_uri": "https://localhost:8080/"
    },
    "executionInfo": {
     "elapsed": 584,
     "status": "ok",
     "timestamp": 1725240665153,
     "user": {
      "displayName": "김광수",
      "userId": "04260902725982947063"
     },
     "user_tz": -540
    },
    "id": "_VRfZt_upqpe",
    "outputId": "0b9f6962-36f2-4f21-e604-320bccfabc5b"
   },
   "outputs": [
    {
     "data": {
      "text/plain": [
       "7"
      ]
     },
     "execution_count": 21,
     "metadata": {},
     "output_type": "execute_result"
    }
   ],
   "source": [
    "x1[-2]"
   ]
  },
  {
   "cell_type": "markdown",
   "metadata": {
    "id": "adC9jnc0oqHA"
   },
   "source": [
    "인덱싱의 규칙은 리스트와 동일"
   ]
  },
  {
   "cell_type": "markdown",
   "metadata": {
    "id": "0vcyAzATpqpe"
   },
   "source": [
    "다차원 배열"
   ]
  },
  {
   "cell_type": "code",
   "execution_count": null,
   "metadata": {
    "colab": {
     "base_uri": "https://localhost:8080/"
    },
    "executionInfo": {
     "elapsed": 403,
     "status": "ok",
     "timestamp": 1725240667040,
     "user": {
      "displayName": "김광수",
      "userId": "04260902725982947063"
     },
     "user_tz": -540
    },
    "id": "RqSUKnHfpqpe",
    "outputId": "70dab493-874a-4800-e7d4-ac313edfd8bf"
   },
   "outputs": [
    {
     "name": "stdout",
     "output_type": "stream",
     "text": [
      "[[5 0 3 3]\n",
      " [7 9 3 5]\n",
      " [2 4 7 6]]\n"
     ]
    }
   ],
   "source": [
    "np.random.seed(0)  # 재현 가능성을 위한 시드 값\n",
    "x2 = np.random.randint(10, size=(3, 4))\n",
    "print(x2)"
   ]
  },
  {
   "cell_type": "code",
   "execution_count": null,
   "metadata": {
    "colab": {
     "base_uri": "https://localhost:8080/"
    },
    "executionInfo": {
     "elapsed": 402,
     "status": "ok",
     "timestamp": 1725240673251,
     "user": {
      "displayName": "김광수",
      "userId": "04260902725982947063"
     },
     "user_tz": -540
    },
    "id": "XrDQC2bDpqpe",
    "outputId": "2d2fe6d1-dc74-4476-f88a-6a0bccbf5100"
   },
   "outputs": [
    {
     "data": {
      "text/plain": [
       "5"
      ]
     },
     "execution_count": 24,
     "metadata": {},
     "output_type": "execute_result"
    }
   ],
   "source": [
    "x2[0,0]"
   ]
  },
  {
   "cell_type": "markdown",
   "metadata": {
    "id": "NdAAJmQMoyN6"
   },
   "source": [
    "리스트와 다르게 2차원 인덱싱이 가능함"
   ]
  },
  {
   "cell_type": "code",
   "execution_count": null,
   "metadata": {
    "colab": {
     "base_uri": "https://localhost:8080/"
    },
    "executionInfo": {
     "elapsed": 390,
     "status": "ok",
     "timestamp": 1725240670233,
     "user": {
      "displayName": "김광수",
      "userId": "04260902725982947063"
     },
     "user_tz": -540
    },
    "id": "BuSDuMITpqpf",
    "outputId": "4c5f4ab9-8fa4-42af-e65e-a2357ba46fe0"
   },
   "outputs": [
    {
     "data": {
      "text/plain": [
       "2"
      ]
     },
     "execution_count": 23,
     "metadata": {},
     "output_type": "execute_result"
    }
   ],
   "source": [
    "x2[2,0]"
   ]
  },
  {
   "cell_type": "code",
   "execution_count": null,
   "metadata": {
    "colab": {
     "base_uri": "https://localhost:8080/",
     "height": 220
    },
    "executionInfo": {
     "elapsed": 387,
     "status": "error",
     "timestamp": 1725240676586,
     "user": {
      "displayName": "김광수",
      "userId": "04260902725982947063"
     },
     "user_tz": -540
    },
    "id": "_71Ari-Epqpf",
    "outputId": "ebcd01e7-46c9-45aa-95c8-a9796a463a8e"
   },
   "outputs": [
    {
     "name": "stdout",
     "output_type": "stream",
     "text": [
      "[5 7]\n",
      "[5 0]\n"
     ]
    },
    {
     "ename": "IndexError",
     "evalue": "too many indices for array: array is 1-dimensional, but 2 were indexed",
     "output_type": "error",
     "traceback": [
      "\u001b[0;31m---------------------------------------------------------------------------\u001b[0m",
      "\u001b[0;31mIndexError\u001b[0m                                Traceback (most recent call last)",
      "\u001b[0;32m<ipython-input-25-3503418328f1>\u001b[0m in \u001b[0;36m<cell line: 3>\u001b[0;34m()\u001b[0m\n\u001b[1;32m      1\u001b[0m \u001b[0mprint\u001b[0m\u001b[0;34m(\u001b[0m\u001b[0mx2\u001b[0m\u001b[0;34m[\u001b[0m\u001b[0mrange\u001b[0m\u001b[0;34m(\u001b[0m\u001b[0;36m2\u001b[0m\u001b[0;34m)\u001b[0m\u001b[0;34m,\u001b[0m\u001b[0;36m0\u001b[0m\u001b[0;34m]\u001b[0m\u001b[0;34m)\u001b[0m\u001b[0;34m\u001b[0m\u001b[0;34m\u001b[0m\u001b[0m\n\u001b[1;32m      2\u001b[0m \u001b[0mprint\u001b[0m\u001b[0;34m(\u001b[0m\u001b[0mx2\u001b[0m\u001b[0;34m[\u001b[0m\u001b[0;36m0\u001b[0m\u001b[0;34m,\u001b[0m\u001b[0mrange\u001b[0m\u001b[0;34m(\u001b[0m\u001b[0;36m2\u001b[0m\u001b[0;34m)\u001b[0m\u001b[0;34m]\u001b[0m\u001b[0;34m)\u001b[0m\u001b[0;34m\u001b[0m\u001b[0;34m\u001b[0m\u001b[0m\n\u001b[0;32m----> 3\u001b[0;31m \u001b[0mprint\u001b[0m\u001b[0;34m(\u001b[0m\u001b[0mx1\u001b[0m\u001b[0;34m[\u001b[0m\u001b[0mrange\u001b[0m\u001b[0;34m(\u001b[0m\u001b[0;36m2\u001b[0m\u001b[0;34m)\u001b[0m\u001b[0;34m,\u001b[0m\u001b[0mrange\u001b[0m\u001b[0;34m(\u001b[0m\u001b[0;36m2\u001b[0m\u001b[0;34m)\u001b[0m\u001b[0;34m]\u001b[0m\u001b[0;34m)\u001b[0m\u001b[0;34m\u001b[0m\u001b[0;34m\u001b[0m\u001b[0m\n\u001b[0m",
      "\u001b[0;31mIndexError\u001b[0m: too many indices for array: array is 1-dimensional, but 2 were indexed"
     ]
    }
   ],
   "source": [
    "print(x2[range(2),0])\n",
    "print(x2[0,range(2)])\n",
    "print(x1[range(2),range(2)])"
   ]
  },
  {
   "cell_type": "markdown",
   "metadata": {
    "id": "568PdjAfpC79"
   },
   "source": [
    "범위를 지정하는 경우 반드시 한 차원에서만 해야 함 (전체만 예외)\n",
    "\n"
   ]
  },
  {
   "cell_type": "code",
   "execution_count": null,
   "metadata": {
    "colab": {
     "base_uri": "https://localhost:8080/"
    },
    "executionInfo": {
     "elapsed": 397,
     "status": "ok",
     "timestamp": 1725240703959,
     "user": {
      "displayName": "김광수",
      "userId": "04260902725982947063"
     },
     "user_tz": -540
    },
    "id": "T5Z4dalA-CId",
    "outputId": "a52e1967-efba-4ced-8633-2d43db66d10c"
   },
   "outputs": [
    {
     "name": "stdout",
     "output_type": "stream",
     "text": [
      "[5 9]\n",
      "(2,)\n",
      "[[5 0]\n",
      " [7 9]]\n",
      "(2, 2)\n"
     ]
    }
   ],
   "source": [
    "print(x2[range(2),range(2)])\n",
    "print(x2[range(2),range(2)].shape)\n",
    "# 총 4개의 원소를 불러오려고 하나 두 개만 가져옴\n",
    "\n",
    "print(x2[range(2),:][:,range(2)])\n",
    "print(x2[range(2),:][:,range(2)].shape)\n",
    "# 영역을 설정할때는 반드시 쪼개서 해야 함"
   ]
  },
  {
   "cell_type": "code",
   "execution_count": null,
   "metadata": {
    "colab": {
     "base_uri": "https://localhost:8080/"
    },
    "executionInfo": {
     "elapsed": 401,
     "status": "ok",
     "timestamp": 1725240750239,
     "user": {
      "displayName": "김광수",
      "userId": "04260902725982947063"
     },
     "user_tz": -540
    },
    "id": "nHIcxD12pqpg",
    "outputId": "25ebf8d8-b41e-4e48-ce0e-b02523d863c3"
   },
   "outputs": [
    {
     "data": {
      "text/plain": [
       "array([[ 0,  0,  0,  1],\n",
       "       [ 2,  2,  2,  4],\n",
       "       [ 7,  3,  2, 12]])"
      ]
     },
     "execution_count": 30,
     "metadata": {},
     "output_type": "execute_result"
    }
   ],
   "source": [
    "x2 = np.random.randint(10, size=(3, 4))\n",
    "x2[2,3] = 12\n",
    "x2[0:2,:][:,0:3] = np.array([[0,0,0],[2,2,2]])\n",
    "x2"
   ]
  },
  {
   "cell_type": "markdown",
   "metadata": {
    "id": "bXpCrda7pnEf"
   },
   "source": [
    "값을 배열 단위로 입력하는 것도 가능하나 전체를 제외한 범위 지정의 경우 한 차원에서만 가능함"
   ]
  },
  {
   "cell_type": "markdown",
   "metadata": {
    "id": "8_-mSeGEpqpg"
   },
   "source": [
    "**주의. list와 달리 NumPy 배열은 고정 타입을 가진다.**\n",
    "- 값의 유형이 같아야 한다는 의미\n"
   ]
  },
  {
   "cell_type": "code",
   "execution_count": null,
   "metadata": {
    "colab": {
     "base_uri": "https://localhost:8080/"
    },
    "executionInfo": {
     "elapsed": 377,
     "status": "ok",
     "timestamp": 1725240787432,
     "user": {
      "displayName": "김광수",
      "userId": "04260902725982947063"
     },
     "user_tz": -540
    },
    "id": "XhgvOzYBpqpg",
    "outputId": "1e0a03c4-b8a8-4b6f-8586-38f8a453a7de"
   },
   "outputs": [
    {
     "name": "stdout",
     "output_type": "stream",
     "text": [
      "[2 3 4]\n",
      "[4 3 4]\n"
     ]
    }
   ],
   "source": [
    "import numpy as np\n",
    "x1 = np.array([2,3,4])\n",
    "print(x1)\n",
    "\n",
    "x2 = x1\n",
    "x2[0] = 4\n",
    "print(x2)"
   ]
  },
  {
   "cell_type": "markdown",
   "metadata": {
    "id": "wcecxfDNpqpg"
   },
   "source": [
    "## 배열 슬라이싱: 하위 배열에 접근하기"
   ]
  },
  {
   "cell_type": "markdown",
   "metadata": {
    "id": "-3wuWV76pqpg"
   },
   "source": [
    "기본 접근 방법은 아래와 같다.\n",
    "``` python\n",
    "x[start:stop:step] start:시작, stop-start:길이, step:잘라낼 배수\n"
   ]
  },
  {
   "cell_type": "markdown",
   "metadata": {
    "id": "LcmYPwUKpqpg"
   },
   "source": [
    "### 1차원 하위 배열"
   ]
  },
  {
   "cell_type": "code",
   "execution_count": null,
   "metadata": {
    "colab": {
     "base_uri": "https://localhost:8080/"
    },
    "executionInfo": {
     "elapsed": 383,
     "status": "ok",
     "timestamp": 1725240822777,
     "user": {
      "displayName": "김광수",
      "userId": "04260902725982947063"
     },
     "user_tz": -540
    },
    "id": "9ULxX6vfpqph",
    "outputId": "fae0094f-b468-4916-cb20-1d8d337986f2"
   },
   "outputs": [
    {
     "data": {
      "text/plain": [
       "array([0, 1, 2, 3, 4, 5, 6, 7, 8, 9])"
      ]
     },
     "execution_count": 39,
     "metadata": {},
     "output_type": "execute_result"
    }
   ],
   "source": [
    "x = np.arange(10)\n",
    "x"
   ]
  },
  {
   "cell_type": "code",
   "execution_count": null,
   "metadata": {
    "colab": {
     "base_uri": "https://localhost:8080/"
    },
    "executionInfo": {
     "elapsed": 383,
     "status": "ok",
     "timestamp": 1725240826195,
     "user": {
      "displayName": "김광수",
      "userId": "04260902725982947063"
     },
     "user_tz": -540
    },
    "id": "sklrAwVMpqph",
    "outputId": "cfa193e1-2d80-4358-c68b-b0b5d3792024"
   },
   "outputs": [
    {
     "data": {
      "text/plain": [
       "array([0, 1, 2, 3, 4])"
      ]
     },
     "execution_count": 40,
     "metadata": {},
     "output_type": "execute_result"
    }
   ],
   "source": [
    "x[:5]"
   ]
  },
  {
   "cell_type": "code",
   "execution_count": null,
   "metadata": {
    "colab": {
     "base_uri": "https://localhost:8080/"
    },
    "executionInfo": {
     "elapsed": 401,
     "status": "ok",
     "timestamp": 1725240836824,
     "user": {
      "displayName": "김광수",
      "userId": "04260902725982947063"
     },
     "user_tz": -540
    },
    "id": "MIf7tRTWpqph",
    "outputId": "0faf45c0-4e74-4a1c-882b-058b66d15862"
   },
   "outputs": [
    {
     "data": {
      "text/plain": [
       "array([5, 6, 7, 8, 9])"
      ]
     },
     "execution_count": 41,
     "metadata": {},
     "output_type": "execute_result"
    }
   ],
   "source": [
    "x[5:]"
   ]
  },
  {
   "cell_type": "code",
   "execution_count": null,
   "metadata": {
    "colab": {
     "base_uri": "https://localhost:8080/"
    },
    "executionInfo": {
     "elapsed": 400,
     "status": "ok",
     "timestamp": 1725240841916,
     "user": {
      "displayName": "김광수",
      "userId": "04260902725982947063"
     },
     "user_tz": -540
    },
    "id": "pu9D-zL0pqph",
    "outputId": "60a8606d-072f-4abf-b2f9-8ed344819cc0"
   },
   "outputs": [
    {
     "data": {
      "text/plain": [
       "array([4, 5, 6])"
      ]
     },
     "execution_count": 42,
     "metadata": {},
     "output_type": "execute_result"
    }
   ],
   "source": [
    "x[4:7]"
   ]
  },
  {
   "cell_type": "code",
   "execution_count": null,
   "metadata": {
    "colab": {
     "base_uri": "https://localhost:8080/"
    },
    "executionInfo": {
     "elapsed": 383,
     "status": "ok",
     "timestamp": 1725240851579,
     "user": {
      "displayName": "김광수",
      "userId": "04260902725982947063"
     },
     "user_tz": -540
    },
    "id": "thtRPs_8pqph",
    "outputId": "0611d65f-d0a3-4510-dd49-62ac61e1a1fc"
   },
   "outputs": [
    {
     "data": {
      "text/plain": [
       "array([0, 2, 4, 6, 8])"
      ]
     },
     "execution_count": 43,
     "metadata": {},
     "output_type": "execute_result"
    }
   ],
   "source": [
    "x[::2] # 2칸씩 뛰어서 반환"
   ]
  },
  {
   "cell_type": "code",
   "execution_count": null,
   "metadata": {
    "colab": {
     "base_uri": "https://localhost:8080/"
    },
    "executionInfo": {
     "elapsed": 397,
     "status": "ok",
     "timestamp": 1725240858226,
     "user": {
      "displayName": "김광수",
      "userId": "04260902725982947063"
     },
     "user_tz": -540
    },
    "id": "dtUhT1vWpqph",
    "outputId": "c9124174-5bee-48f5-a950-f2b91cf56cad"
   },
   "outputs": [
    {
     "data": {
      "text/plain": [
       "array([1, 3, 5, 7, 9])"
      ]
     },
     "execution_count": 44,
     "metadata": {},
     "output_type": "execute_result"
    }
   ],
   "source": [
    "x[1::2] #시작점을 첨자 1로 해서 2칸씩 뛰어서 반환"
   ]
  },
  {
   "cell_type": "markdown",
   "metadata": {
    "id": "u2WTYjTIpqph"
   },
   "source": [
    "``step``이 음수일 때는 ``start``와 ``stop``이 기본값이 서로 바뀐다.\n",
    "\n",
    "시작점에서 뒤로 가는 것으로 이해해도 됨.\n",
    "\n"
   ]
  },
  {
   "cell_type": "code",
   "execution_count": null,
   "metadata": {
    "colab": {
     "base_uri": "https://localhost:8080/"
    },
    "executionInfo": {
     "elapsed": 411,
     "status": "ok",
     "timestamp": 1725240884934,
     "user": {
      "displayName": "김광수",
      "userId": "04260902725982947063"
     },
     "user_tz": -540
    },
    "id": "ATWCz_3Apqpi",
    "outputId": "a090ec34-9202-4b0f-d2e0-331b7992d963"
   },
   "outputs": [
    {
     "data": {
      "text/plain": [
       "array([9, 8, 7, 6, 5, 4, 3, 2, 1, 0])"
      ]
     },
     "execution_count": 45,
     "metadata": {},
     "output_type": "execute_result"
    }
   ],
   "source": [
    "x[::-1]"
   ]
  },
  {
   "cell_type": "code",
   "execution_count": null,
   "metadata": {
    "colab": {
     "base_uri": "https://localhost:8080/"
    },
    "executionInfo": {
     "elapsed": 367,
     "status": "ok",
     "timestamp": 1725240924100,
     "user": {
      "displayName": "김광수",
      "userId": "04260902725982947063"
     },
     "user_tz": -540
    },
    "id": "9cTAVJm3pqpi",
    "outputId": "55482a38-c09e-4728-a927-178bd2170a3a"
   },
   "outputs": [
    {
     "data": {
      "text/plain": [
       "array([5, 3, 1])"
      ]
     },
     "execution_count": 46,
     "metadata": {},
     "output_type": "execute_result"
    }
   ],
   "source": [
    "x[5::-2] #첨자 5에서 시작해서 뒤로 감 (-2배수로 자름)"
   ]
  },
  {
   "cell_type": "markdown",
   "metadata": {
    "id": "Os1e4VHopqpi"
   },
   "source": [
    "### 다차원 하위 배열"
   ]
  },
  {
   "cell_type": "code",
   "execution_count": null,
   "metadata": {
    "colab": {
     "base_uri": "https://localhost:8080/"
    },
    "executionInfo": {
     "elapsed": 407,
     "status": "ok",
     "timestamp": 1725240943534,
     "user": {
      "displayName": "김광수",
      "userId": "04260902725982947063"
     },
     "user_tz": -540
    },
    "id": "mBcwnP00pqpi",
    "outputId": "8a3d4ba6-61fb-4245-86d6-840e345b3bb7"
   },
   "outputs": [
    {
     "name": "stdout",
     "output_type": "stream",
     "text": [
      "[[5 0 3 3]\n",
      " [7 9 3 5]\n",
      " [2 4 7 6]]\n"
     ]
    }
   ],
   "source": [
    "np.random.seed(0)  # 재현 가능성을 위한 시드 값\n",
    "\n",
    "x2 = np.random.randint(10, size=(3, 4))\n",
    "print(x2)"
   ]
  },
  {
   "cell_type": "code",
   "execution_count": null,
   "metadata": {
    "colab": {
     "base_uri": "https://localhost:8080/"
    },
    "executionInfo": {
     "elapsed": 414,
     "status": "ok",
     "timestamp": 1725240963936,
     "user": {
      "displayName": "김광수",
      "userId": "04260902725982947063"
     },
     "user_tz": -540
    },
    "id": "EFhYRFYOpqpi",
    "outputId": "a8408314-c752-4dc9-9991-fcea4aac7d32"
   },
   "outputs": [
    {
     "data": {
      "text/plain": [
       "array([[5, 0, 3],\n",
       "       [7, 9, 3]])"
      ]
     },
     "execution_count": 48,
     "metadata": {},
     "output_type": "execute_result"
    }
   ],
   "source": [
    "x2[:2, :3]"
   ]
  },
  {
   "cell_type": "markdown",
   "metadata": {
    "id": "mtHqtqdpsdwW"
   },
   "source": [
    "슬라이싱이 범위로 되는 것은 :을 사용했기 때문임"
   ]
  },
  {
   "cell_type": "code",
   "execution_count": null,
   "metadata": {
    "colab": {
     "base_uri": "https://localhost:8080/"
    },
    "executionInfo": {
     "elapsed": 405,
     "status": "ok",
     "timestamp": 1725240975118,
     "user": {
      "displayName": "김광수",
      "userId": "04260902725982947063"
     },
     "user_tz": -540
    },
    "id": "fxrTQrg7pqpi",
    "outputId": "86ce7a7c-38c0-4361-9723-f4e66b209e94"
   },
   "outputs": [
    {
     "data": {
      "text/plain": [
       "array([[5, 3],\n",
       "       [7, 3],\n",
       "       [2, 7]])"
      ]
     },
     "execution_count": 50,
     "metadata": {},
     "output_type": "execute_result"
    }
   ],
   "source": [
    "x2[:3, ::2]"
   ]
  },
  {
   "cell_type": "markdown",
   "metadata": {
    "id": "dhErY0dJsjxu"
   },
   "source": [
    "첫번째 첨자는 0에서 시작해 2까지, 두번째 처음부터 끝까지 가되 2배씩 자름"
   ]
  },
  {
   "cell_type": "code",
   "execution_count": null,
   "metadata": {
    "colab": {
     "base_uri": "https://localhost:8080/"
    },
    "executionInfo": {
     "elapsed": 420,
     "status": "ok",
     "timestamp": 1725240980742,
     "user": {
      "displayName": "김광수",
      "userId": "04260902725982947063"
     },
     "user_tz": -540
    },
    "id": "SainIY6Vpqpi",
    "outputId": "cc08bbff-1ea6-4a9d-d057-e4f092c4c28a"
   },
   "outputs": [
    {
     "data": {
      "text/plain": [
       "array([[6, 7, 4, 2],\n",
       "       [5, 3, 9, 7],\n",
       "       [3, 3, 0, 5]])"
      ]
     },
     "execution_count": 51,
     "metadata": {},
     "output_type": "execute_result"
    }
   ],
   "source": [
    "x2[::-1, ::-1]\n",
    "#1차원, 2차원 모드 끝에서 앞으로 정렬"
   ]
  },
  {
   "cell_type": "markdown",
   "metadata": {
    "id": "nzOGk7kwpqpj"
   },
   "source": [
    "#### 배열의 행과 열에 접근하기"
   ]
  },
  {
   "cell_type": "code",
   "execution_count": null,
   "metadata": {
    "colab": {
     "base_uri": "https://localhost:8080/"
    },
    "executionInfo": {
     "elapsed": 394,
     "status": "ok",
     "timestamp": 1725241087092,
     "user": {
      "displayName": "김광수",
      "userId": "04260902725982947063"
     },
     "user_tz": -540
    },
    "id": "GuWBhE4tpqpj",
    "outputId": "50dec16c-7507-4436-dabb-8e6014797057"
   },
   "outputs": [
    {
     "name": "stdout",
     "output_type": "stream",
     "text": [
      "(3,)\n"
     ]
    }
   ],
   "source": [
    "print(x2[:, 0].shape)"
   ]
  },
  {
   "cell_type": "code",
   "execution_count": null,
   "metadata": {
    "colab": {
     "base_uri": "https://localhost:8080/"
    },
    "executionInfo": {
     "elapsed": 394,
     "status": "ok",
     "timestamp": 1725241089513,
     "user": {
      "displayName": "김광수",
      "userId": "04260902725982947063"
     },
     "user_tz": -540
    },
    "id": "gQWe_ysfpqpj",
    "outputId": "93caf7e0-3421-4de7-908b-9de34e1be817"
   },
   "outputs": [
    {
     "name": "stdout",
     "output_type": "stream",
     "text": [
      "[5 0 3 3]\n"
     ]
    }
   ],
   "source": [
    "print(x2[0, :])"
   ]
  },
  {
   "cell_type": "code",
   "execution_count": null,
   "metadata": {
    "colab": {
     "base_uri": "https://localhost:8080/"
    },
    "executionInfo": {
     "elapsed": 415,
     "status": "ok",
     "timestamp": 1725241095260,
     "user": {
      "displayName": "김광수",
      "userId": "04260902725982947063"
     },
     "user_tz": -540
    },
    "id": "FLfhvuCNpqpj",
    "outputId": "589731e7-a1a8-4d3c-b41d-be39c41c0390"
   },
   "outputs": [
    {
     "name": "stdout",
     "output_type": "stream",
     "text": [
      "(4,)\n"
     ]
    }
   ],
   "source": [
    "print(x2[0].shape)  # == x2[0, :]"
   ]
  },
  {
   "cell_type": "markdown",
   "metadata": {
    "id": "z6OvvPG5pqpj"
   },
   "source": [
    "### 사본이 아닌 뷰로서의 하위 배열"
   ]
  },
  {
   "cell_type": "code",
   "execution_count": null,
   "metadata": {
    "colab": {
     "base_uri": "https://localhost:8080/"
    },
    "executionInfo": {
     "elapsed": 401,
     "status": "ok",
     "timestamp": 1725241120245,
     "user": {
      "displayName": "김광수",
      "userId": "04260902725982947063"
     },
     "user_tz": -540
    },
    "id": "fjcjMwvppqpj",
    "outputId": "59b7848e-6876-4799-e2b0-8ce3903b5ff2"
   },
   "outputs": [
    {
     "name": "stdout",
     "output_type": "stream",
     "text": [
      "[[99  0  3  3]\n",
      " [ 7  9  3  5]\n",
      " [ 2  4  7  6]]\n"
     ]
    }
   ],
   "source": [
    "print(x2)"
   ]
  },
  {
   "cell_type": "code",
   "execution_count": null,
   "metadata": {
    "colab": {
     "base_uri": "https://localhost:8080/"
    },
    "executionInfo": {
     "elapsed": 374,
     "status": "ok",
     "timestamp": 1725241121895,
     "user": {
      "displayName": "김광수",
      "userId": "04260902725982947063"
     },
     "user_tz": -540
    },
    "id": "ZycX8n-9pqpk",
    "outputId": "cdb3e578-8976-40c4-f1d6-faea56d0dc47"
   },
   "outputs": [
    {
     "name": "stdout",
     "output_type": "stream",
     "text": [
      "[[99  0]\n",
      " [ 7  9]]\n"
     ]
    }
   ],
   "source": [
    "x2_sub = x2[:2, :2]\n",
    "print(x2_sub)"
   ]
  },
  {
   "cell_type": "code",
   "execution_count": null,
   "metadata": {
    "colab": {
     "base_uri": "https://localhost:8080/"
    },
    "executionInfo": {
     "elapsed": 404,
     "status": "ok",
     "timestamp": 1725241124962,
     "user": {
      "displayName": "김광수",
      "userId": "04260902725982947063"
     },
     "user_tz": -540
    },
    "id": "49R7MXzupqpk",
    "outputId": "aa4bbc7a-790f-40fa-bb23-7c290983a1d5"
   },
   "outputs": [
    {
     "name": "stdout",
     "output_type": "stream",
     "text": [
      "[[99  0]\n",
      " [ 7  9]]\n"
     ]
    }
   ],
   "source": [
    "x2_sub[0, 0] = 99\n",
    "print(x2_sub)"
   ]
  },
  {
   "cell_type": "code",
   "execution_count": null,
   "metadata": {
    "colab": {
     "base_uri": "https://localhost:8080/"
    },
    "executionInfo": {
     "elapsed": 392,
     "status": "ok",
     "timestamp": 1725241129549,
     "user": {
      "displayName": "김광수",
      "userId": "04260902725982947063"
     },
     "user_tz": -540
    },
    "id": "_5HnRiC1pqpk",
    "outputId": "913a4959-810c-4b3b-b585-1181ea455c83"
   },
   "outputs": [
    {
     "name": "stdout",
     "output_type": "stream",
     "text": [
      "[[99  0  3  3]\n",
      " [ 7  9  3  5]\n",
      " [ 2  4  7  6]]\n"
     ]
    }
   ],
   "source": [
    "print(x2)"
   ]
  },
  {
   "cell_type": "markdown",
   "metadata": {
    "id": "RusWedaOtMoS"
   },
   "source": [
    "여기에서 사본의 값이 바뀌는 것이 원래 배열에도 영향을 줌"
   ]
  },
  {
   "cell_type": "markdown",
   "metadata": {
    "id": "acFdh6h3pqpk"
   },
   "source": [
    "### 배열의 사본 만들기"
   ]
  },
  {
   "cell_type": "code",
   "execution_count": null,
   "metadata": {
    "colab": {
     "base_uri": "https://localhost:8080/"
    },
    "executionInfo": {
     "elapsed": 399,
     "status": "ok",
     "timestamp": 1725241133698,
     "user": {
      "displayName": "김광수",
      "userId": "04260902725982947063"
     },
     "user_tz": -540
    },
    "id": "XPylAZQ7pqpk",
    "outputId": "89963d3c-c5c3-407f-bca7-4d32bf4d3f3e"
   },
   "outputs": [
    {
     "name": "stdout",
     "output_type": "stream",
     "text": [
      "[[99  0]\n",
      " [ 7  9]]\n"
     ]
    }
   ],
   "source": [
    "x2_sub_copy = x2[:2, :2].copy()\n",
    "print(x2_sub_copy)"
   ]
  },
  {
   "cell_type": "code",
   "execution_count": null,
   "metadata": {
    "colab": {
     "base_uri": "https://localhost:8080/"
    },
    "executionInfo": {
     "elapsed": 402,
     "status": "ok",
     "timestamp": 1725241136312,
     "user": {
      "displayName": "김광수",
      "userId": "04260902725982947063"
     },
     "user_tz": -540
    },
    "id": "8jqHVtjupqpk",
    "outputId": "4c43c803-c2f5-4a8a-a5f7-2627b1c38b87"
   },
   "outputs": [
    {
     "name": "stdout",
     "output_type": "stream",
     "text": [
      "[[42  0]\n",
      " [ 7  9]]\n"
     ]
    }
   ],
   "source": [
    "x2_sub_copy[0, 0] = 42\n",
    "print(x2_sub_copy)"
   ]
  },
  {
   "cell_type": "code",
   "execution_count": null,
   "metadata": {
    "colab": {
     "base_uri": "https://localhost:8080/"
    },
    "executionInfo": {
     "elapsed": 398,
     "status": "ok",
     "timestamp": 1725241139577,
     "user": {
      "displayName": "김광수",
      "userId": "04260902725982947063"
     },
     "user_tz": -540
    },
    "id": "yOAdwpZ2pqpl",
    "outputId": "424017ce-b954-4c7b-f68c-cb7bc3950184"
   },
   "outputs": [
    {
     "name": "stdout",
     "output_type": "stream",
     "text": [
      "[[99  0  3  3]\n",
      " [ 7  9  3  5]\n",
      " [ 2  4  7  6]]\n"
     ]
    }
   ],
   "source": [
    "print(x2)"
   ]
  },
  {
   "cell_type": "markdown",
   "metadata": {
    "id": "K2fLapCOtWS1"
   },
   "source": [
    "이제 더이상 사본 배열이 원 배열에 영향을 안 줌"
   ]
  },
  {
   "cell_type": "markdown",
   "metadata": {
    "id": "YjterjYqpqpl"
   },
   "source": [
    "## 배열 재구조화\n",
    "\n",
    "``reshape`` 메소드와 ``newaxis`` 메소드를 이용하여 배열의 구조를 바꿀 수 있다."
   ]
  },
  {
   "cell_type": "code",
   "execution_count": null,
   "metadata": {
    "colab": {
     "base_uri": "https://localhost:8080/"
    },
    "executionInfo": {
     "elapsed": 393,
     "status": "ok",
     "timestamp": 1725241149715,
     "user": {
      "displayName": "김광수",
      "userId": "04260902725982947063"
     },
     "user_tz": -540
    },
    "id": "oAdXzTpqpqpl",
    "outputId": "1322d270-b6bc-4023-a512-5ccf51db38d2"
   },
   "outputs": [
    {
     "name": "stdout",
     "output_type": "stream",
     "text": [
      "[[1 2 3]\n",
      " [4 5 6]\n",
      " [7 8 9]]\n"
     ]
    }
   ],
   "source": [
    "grid = np.arange(1, 10).reshape((3, 3))\n",
    "print(grid)"
   ]
  },
  {
   "cell_type": "markdown",
   "metadata": {
    "id": "mJTeaX_4txGv"
   },
   "source": [
    "기본 방식은 꺽쇠의 위치를 바꾸는 방식임에 유의"
   ]
  },
  {
   "cell_type": "code",
   "execution_count": null,
   "metadata": {
    "colab": {
     "base_uri": "https://localhost:8080/"
    },
    "executionInfo": {
     "elapsed": 409,
     "status": "ok",
     "timestamp": 1725241153586,
     "user": {
      "displayName": "김광수",
      "userId": "04260902725982947063"
     },
     "user_tz": -540
    },
    "id": "Om_BGvq4pqpl",
    "outputId": "c734c4c2-14f6-40f0-f5e5-f942137bbd6c"
   },
   "outputs": [
    {
     "name": "stdout",
     "output_type": "stream",
     "text": [
      "[1 2 3]\n"
     ]
    },
    {
     "data": {
      "text/plain": [
       "(3,)"
      ]
     },
     "execution_count": 67,
     "metadata": {},
     "output_type": "execute_result"
    }
   ],
   "source": [
    "x = np.array([1, 2, 3])\n",
    "print(x)\n",
    "x.shape"
   ]
  },
  {
   "cell_type": "code",
   "execution_count": null,
   "metadata": {
    "colab": {
     "base_uri": "https://localhost:8080/"
    },
    "executionInfo": {
     "elapsed": 378,
     "status": "ok",
     "timestamp": 1725241159927,
     "user": {
      "displayName": "김광수",
      "userId": "04260902725982947063"
     },
     "user_tz": -540
    },
    "id": "3INa3x9Lpqpl",
    "outputId": "c54440ed-d80b-4731-f2d4-4ad9295bd88a"
   },
   "outputs": [
    {
     "data": {
      "text/plain": [
       "array([[1, 2, 3]])"
      ]
     },
     "execution_count": 68,
     "metadata": {},
     "output_type": "execute_result"
    }
   ],
   "source": [
    "# 행 벡터\n",
    "x.reshape((1, 3))"
   ]
  },
  {
   "cell_type": "code",
   "execution_count": null,
   "metadata": {
    "colab": {
     "base_uri": "https://localhost:8080/"
    },
    "executionInfo": {
     "elapsed": 402,
     "status": "ok",
     "timestamp": 1725241166665,
     "user": {
      "displayName": "김광수",
      "userId": "04260902725982947063"
     },
     "user_tz": -540
    },
    "id": "OSQIJci8pqpl",
    "outputId": "140f8219-5101-454f-dcc1-27b85c169245"
   },
   "outputs": [
    {
     "name": "stdout",
     "output_type": "stream",
     "text": [
      "(1, 3)\n"
     ]
    }
   ],
   "source": [
    "# newaxis을 이용한 행 벡터\n",
    "print(x[np.newaxis, :].shape)"
   ]
  },
  {
   "cell_type": "code",
   "execution_count": null,
   "metadata": {
    "colab": {
     "base_uri": "https://localhost:8080/"
    },
    "executionInfo": {
     "elapsed": 381,
     "status": "ok",
     "timestamp": 1725241172397,
     "user": {
      "displayName": "김광수",
      "userId": "04260902725982947063"
     },
     "user_tz": -540
    },
    "id": "drcru8wFpqpl",
    "outputId": "bacb025f-af11-4596-9a98-00eb4d2f7569"
   },
   "outputs": [
    {
     "data": {
      "text/plain": [
       "array([[1],\n",
       "       [2],\n",
       "       [3]])"
      ]
     },
     "execution_count": 70,
     "metadata": {},
     "output_type": "execute_result"
    }
   ],
   "source": [
    "# 열 벡터\n",
    "x.reshape((3, 1))"
   ]
  },
  {
   "cell_type": "code",
   "execution_count": null,
   "metadata": {
    "colab": {
     "base_uri": "https://localhost:8080/"
    },
    "executionInfo": {
     "elapsed": 390,
     "status": "ok",
     "timestamp": 1725241174848,
     "user": {
      "displayName": "김광수",
      "userId": "04260902725982947063"
     },
     "user_tz": -540
    },
    "id": "4kRVo2y9pqpm",
    "outputId": "d2f4d507-5624-40a6-d754-941ce75d36d0"
   },
   "outputs": [
    {
     "data": {
      "text/plain": [
       "array([[1],\n",
       "       [2],\n",
       "       [3]])"
      ]
     },
     "execution_count": 71,
     "metadata": {},
     "output_type": "execute_result"
    }
   ],
   "source": [
    "# newaxis을 이용한 열 벡터\n",
    "x[:, np.newaxis]"
   ]
  },
  {
   "cell_type": "markdown",
   "metadata": {
    "id": "lkh639FYpqpm"
   },
   "source": [
    "## 배열 연결 및 분할\n",
    "\n",
    "여러 배열을 하나로 결합(**배열 연결**)하거나 그 반대로 하나의 배열을 여러 개의 배열로 분할(**배열 분할**)할 수 있다."
   ]
  },
  {
   "cell_type": "markdown",
   "metadata": {
    "id": "dNyEdFSupqpm"
   },
   "source": [
    "### 배열 연결\n",
    "\n",
    "배열 연결은 ``concatenate``, ``vstack``(vertical stack), ``hstack``(horizontal stack)메소드를 이용하여 할 수 있다."
   ]
  },
  {
   "cell_type": "code",
   "execution_count": null,
   "metadata": {
    "colab": {
     "base_uri": "https://localhost:8080/"
    },
    "executionInfo": {
     "elapsed": 390,
     "status": "ok",
     "timestamp": 1725241179731,
     "user": {
      "displayName": "김광수",
      "userId": "04260902725982947063"
     },
     "user_tz": -540
    },
    "id": "qPZhPykfpqpm",
    "outputId": "78fc154b-e8b0-4c8b-ce6f-3d0c998584eb"
   },
   "outputs": [
    {
     "data": {
      "text/plain": [
       "array([1, 2, 3, 3, 2, 1])"
      ]
     },
     "execution_count": 72,
     "metadata": {},
     "output_type": "execute_result"
    }
   ],
   "source": [
    "import numpy as np\n",
    "x = np.array([1, 2, 3])\n",
    "y = np.array([3, 2, 1])\n",
    "np.concatenate([x, y])"
   ]
  },
  {
   "cell_type": "markdown",
   "metadata": {
    "id": "yb4MUsteucSC"
   },
   "source": [
    "배열을 합칠때 최소 차원의 일치성이 필요함"
   ]
  },
  {
   "cell_type": "code",
   "execution_count": null,
   "metadata": {
    "colab": {
     "base_uri": "https://localhost:8080/"
    },
    "executionInfo": {
     "elapsed": 397,
     "status": "ok",
     "timestamp": 1725241183095,
     "user": {
      "displayName": "김광수",
      "userId": "04260902725982947063"
     },
     "user_tz": -540
    },
    "id": "LTTN1k1Xpqpm",
    "outputId": "59f612f8-7938-4e0d-cf22-186742caa171"
   },
   "outputs": [
    {
     "name": "stdout",
     "output_type": "stream",
     "text": [
      "[ 1  2  3  3  2  1 99 99 99]\n"
     ]
    }
   ],
   "source": [
    "z = [99, 99, 99]\n",
    "print(np.concatenate([x, y, z]))"
   ]
  },
  {
   "cell_type": "code",
   "execution_count": null,
   "metadata": {
    "colab": {
     "base_uri": "https://localhost:8080/"
    },
    "executionInfo": {
     "elapsed": 383,
     "status": "ok",
     "timestamp": 1725241185618,
     "user": {
      "displayName": "김광수",
      "userId": "04260902725982947063"
     },
     "user_tz": -540
    },
    "id": "FBs6uLftpqpm",
    "outputId": "8f7ddc47-abc4-4850-dfd3-ca9de6d7e327"
   },
   "outputs": [
    {
     "name": "stdout",
     "output_type": "stream",
     "text": [
      "[[1 2 3]\n",
      " [4 5 6]]\n"
     ]
    }
   ],
   "source": [
    "grid = np.array([[1, 2, 3],\n",
    "                 [4, 5, 6]])\n",
    "print(grid)"
   ]
  },
  {
   "cell_type": "code",
   "execution_count": null,
   "metadata": {
    "colab": {
     "base_uri": "https://localhost:8080/"
    },
    "executionInfo": {
     "elapsed": 379,
     "status": "ok",
     "timestamp": 1725241190888,
     "user": {
      "displayName": "김광수",
      "userId": "04260902725982947063"
     },
     "user_tz": -540
    },
    "id": "CvB141wlpqpn",
    "outputId": "b89b70b3-0c44-4b71-f34b-2f6b4b298725"
   },
   "outputs": [
    {
     "data": {
      "text/plain": [
       "array([[1, 2, 3],\n",
       "       [4, 5, 6],\n",
       "       [1, 2, 3],\n",
       "       [4, 5, 6]])"
      ]
     },
     "execution_count": 75,
     "metadata": {},
     "output_type": "execute_result"
    }
   ],
   "source": [
    "# 첫 번째 축: 두개의 배열을 합칠때 0(첫번째) 첨자를 늘림\n",
    "np.concatenate([grid, grid], axis=0)"
   ]
  },
  {
   "cell_type": "code",
   "execution_count": null,
   "metadata": {
    "colab": {
     "base_uri": "https://localhost:8080/"
    },
    "executionInfo": {
     "elapsed": 385,
     "status": "ok",
     "timestamp": 1725241203099,
     "user": {
      "displayName": "김광수",
      "userId": "04260902725982947063"
     },
     "user_tz": -540
    },
    "id": "LM8o0oLKpqpn",
    "outputId": "8db07232-8078-4aa1-ccad-20bed9b3789d"
   },
   "outputs": [
    {
     "data": {
      "text/plain": [
       "array([[1, 2, 3, 1, 2, 3],\n",
       "       [4, 5, 6, 4, 5, 6]])"
      ]
     },
     "execution_count": 77,
     "metadata": {},
     "output_type": "execute_result"
    }
   ],
   "source": [
    "# 두 번째 축: 두개의 배열을 합칠때 1(두번째) 첨자를 늘림\n",
    "np.concatenate([grid, grid], axis=1)"
   ]
  },
  {
   "cell_type": "markdown",
   "metadata": {
    "id": "pgirndQMpqpn"
   },
   "source": [
    "혼합된 차원 배열"
   ]
  },
  {
   "cell_type": "code",
   "execution_count": null,
   "metadata": {
    "colab": {
     "base_uri": "https://localhost:8080/"
    },
    "executionInfo": {
     "elapsed": 407,
     "status": "ok",
     "timestamp": 1725241234652,
     "user": {
      "displayName": "김광수",
      "userId": "04260902725982947063"
     },
     "user_tz": -540
    },
    "id": "euyJfKKcpqpn",
    "outputId": "37a687ac-a1aa-4939-b03d-2ed0d19f3269"
   },
   "outputs": [
    {
     "data": {
      "text/plain": [
       "array([[1, 2, 3],\n",
       "       [9, 8, 7],\n",
       "       [6, 5, 4]])"
      ]
     },
     "execution_count": 78,
     "metadata": {},
     "output_type": "execute_result"
    }
   ],
   "source": [
    "x = np.array([1, 2, 3])\n",
    "grid = np.array([[9, 8, 7],\n",
    "                 [6, 5, 4]])\n",
    "\n",
    "np.vstack([x, grid])"
   ]
  },
  {
   "cell_type": "markdown",
   "metadata": {
    "id": "fYYy9Qr6u5Ge"
   },
   "source": [
    "수직축으로 통합, 0번 축을 늘림"
   ]
  },
  {
   "cell_type": "code",
   "execution_count": null,
   "metadata": {
    "colab": {
     "base_uri": "https://localhost:8080/"
    },
    "executionInfo": {
     "elapsed": 372,
     "status": "ok",
     "timestamp": 1725241241185,
     "user": {
      "displayName": "김광수",
      "userId": "04260902725982947063"
     },
     "user_tz": -540
    },
    "id": "PhaMXVZDpqpn",
    "outputId": "41fc37dd-606d-45a2-d419-25b36893f970"
   },
   "outputs": [
    {
     "data": {
      "text/plain": [
       "array([[ 9,  8,  7, 99],\n",
       "       [ 6,  5,  4, 99]])"
      ]
     },
     "execution_count": 79,
     "metadata": {},
     "output_type": "execute_result"
    }
   ],
   "source": [
    "y = np.array([[99],\n",
    "              [99]])\n",
    "np.hstack([grid, y])"
   ]
  },
  {
   "cell_type": "markdown",
   "metadata": {
    "id": "dhBtmzgcvAAL"
   },
   "source": [
    "수평축으로 통합, 1번축을 늘림"
   ]
  },
  {
   "cell_type": "markdown",
   "metadata": {
    "id": "AYNlHVN6pqpn"
   },
   "source": [
    "### 배열 분할\n",
    "\n",
    "배열 분할은 ``split``, ``vsplit``, ``hsplit``메소드를 이용한다."
   ]
  },
  {
   "cell_type": "code",
   "execution_count": null,
   "metadata": {
    "colab": {
     "base_uri": "https://localhost:8080/"
    },
    "executionInfo": {
     "elapsed": 391,
     "status": "ok",
     "timestamp": 1725241278172,
     "user": {
      "displayName": "김광수",
      "userId": "04260902725982947063"
     },
     "user_tz": -540
    },
    "id": "5QznMUcApqpn",
    "outputId": "a84e2b13-63fd-4d1e-9b35-a09b83b72df1"
   },
   "outputs": [
    {
     "name": "stdout",
     "output_type": "stream",
     "text": [
      "[1 2] [ 3 99 99] [3 2 1]\n"
     ]
    }
   ],
   "source": [
    "x = [1, 2, 3, 99, 99, 3, 2, 1]\n",
    "x1, x2, x3 = np.split(x, [2, 5])\n",
    "print(x1, x2, x3)"
   ]
  },
  {
   "cell_type": "markdown",
   "metadata": {
    "id": "XLhU-c2Vvn4Y"
   },
   "source": [
    "2번째 위치, 5번째 위치가 분할점이 됨"
   ]
  },
  {
   "cell_type": "code",
   "execution_count": null,
   "metadata": {
    "colab": {
     "base_uri": "https://localhost:8080/"
    },
    "executionInfo": {
     "elapsed": 404,
     "status": "ok",
     "timestamp": 1725241282871,
     "user": {
      "displayName": "김광수",
      "userId": "04260902725982947063"
     },
     "user_tz": -540
    },
    "id": "D4s2ISLnpqpn",
    "outputId": "e091b961-1de9-497c-c2d3-5175c91c0d05"
   },
   "outputs": [
    {
     "data": {
      "text/plain": [
       "array([[ 0,  1,  2,  3],\n",
       "       [ 4,  5,  6,  7],\n",
       "       [ 8,  9, 10, 11],\n",
       "       [12, 13, 14, 15]])"
      ]
     },
     "execution_count": 83,
     "metadata": {},
     "output_type": "execute_result"
    }
   ],
   "source": [
    "grid = np.arange(16).reshape((4, 4))\n",
    "grid"
   ]
  },
  {
   "cell_type": "code",
   "execution_count": null,
   "metadata": {
    "colab": {
     "base_uri": "https://localhost:8080/"
    },
    "executionInfo": {
     "elapsed": 378,
     "status": "ok",
     "timestamp": 1725241294572,
     "user": {
      "displayName": "김광수",
      "userId": "04260902725982947063"
     },
     "user_tz": -540
    },
    "id": "TRmv4FVspqpo",
    "outputId": "87ff5a0f-936f-40bf-e7d9-7e2a43422a82"
   },
   "outputs": [
    {
     "name": "stdout",
     "output_type": "stream",
     "text": [
      "[[0 1 2 3]\n",
      " [4 5 6 7]]\n",
      "[[ 8  9 10 11]\n",
      " [12 13 14 15]]\n"
     ]
    }
   ],
   "source": [
    "upper, lower = np.vsplit(grid, [2])\n",
    "print(upper)\n",
    "print(lower)"
   ]
  },
  {
   "cell_type": "markdown",
   "metadata": {
    "id": "0-_oAkfVv2_a"
   },
   "source": [
    "수직축으로 2개로 쪼갬"
   ]
  },
  {
   "cell_type": "code",
   "execution_count": null,
   "metadata": {
    "colab": {
     "base_uri": "https://localhost:8080/"
    },
    "executionInfo": {
     "elapsed": 376,
     "status": "ok",
     "timestamp": 1725241302578,
     "user": {
      "displayName": "김광수",
      "userId": "04260902725982947063"
     },
     "user_tz": -540
    },
    "id": "A0Jzj4HNpqpo",
    "outputId": "27009510-25cd-4eac-e004-68b64c8e478f"
   },
   "outputs": [
    {
     "name": "stdout",
     "output_type": "stream",
     "text": [
      "[[ 0  1]\n",
      " [ 4  5]\n",
      " [ 8  9]\n",
      " [12 13]]\n",
      "[[ 2  3]\n",
      " [ 6  7]\n",
      " [10 11]\n",
      " [14 15]]\n"
     ]
    }
   ],
   "source": [
    "left, right = np.hsplit(grid, [2])\n",
    "print(left)\n",
    "print(right)"
   ]
  },
  {
   "cell_type": "markdown",
   "metadata": {
    "id": "bpxDaDl5v79H"
   },
   "source": [
    "수평축으로 두개로 쪼갬"
   ]
  },
  {
   "cell_type": "markdown",
   "metadata": {
    "id": "X_NtJFMZpqpo"
   },
   "source": [
    "## NumPy 배열 연산: 유니버설 함수\n",
    "\n",
    "인터프리터 언어에서 루프(반복문)를 이용한 연산은 매우 느리게 수행될 수 있다. 따라서 연산을 빠르게 하기 위해서는 벡터화(vectorized)연산을 사용해야 한다. 일반적으로 **Python**의 **NumPy**는 유니버설 함수(universal function, ufuncs)을 통해 구현된다.   "
   ]
  },
  {
   "cell_type": "markdown",
   "metadata": {
    "id": "mTVFHdJMpqpo"
   },
   "source": [
    "### UFuncs  소개"
   ]
  },
  {
   "cell_type": "code",
   "execution_count": null,
   "metadata": {
    "id": "sqB3TWTGpqpo"
   },
   "outputs": [],
   "source": [
    "import numpy as np\n",
    "\n",
    "def compute_reciprocals(values):\n",
    "    output = np.empty(len(values)) #메모리 값을 불러옴#\n",
    "    for i in range(len(values)):\n",
    "        output[i] = 1.0 / values[i] #받은 배열 값의 역수를 계산\n",
    "    return output"
   ]
  },
  {
   "cell_type": "code",
   "execution_count": null,
   "metadata": {
    "colab": {
     "base_uri": "https://localhost:8080/"
    },
    "executionInfo": {
     "elapsed": 393,
     "status": "ok",
     "timestamp": 1725241318729,
     "user": {
      "displayName": "김광수",
      "userId": "04260902725982947063"
     },
     "user_tz": -540
    },
    "id": "c3x5e5LNpqpo",
    "outputId": "2dcc44df-4859-4f2a-cb26-fe43ba32c724"
   },
   "outputs": [
    {
     "name": "stdout",
     "output_type": "stream",
     "text": [
      "[6 1 4 4 8]\n"
     ]
    }
   ],
   "source": [
    "np.random.seed(0)\n",
    "\n",
    "values = np.random.randint(1, 10, size=5)\n",
    "print(values)"
   ]
  },
  {
   "cell_type": "code",
   "execution_count": null,
   "metadata": {
    "colab": {
     "base_uri": "https://localhost:8080/"
    },
    "executionInfo": {
     "elapsed": 420,
     "status": "ok",
     "timestamp": 1725241322813,
     "user": {
      "displayName": "김광수",
      "userId": "04260902725982947063"
     },
     "user_tz": -540
    },
    "id": "Bi9qQEzSpqpo",
    "outputId": "2a577857-69a0-4a69-9849-21bf30306444"
   },
   "outputs": [
    {
     "name": "stdout",
     "output_type": "stream",
     "text": [
      "[0.16666667 1.         0.25       0.25       0.125     ]\n",
      "[0.16666667 1.         0.25       0.25       0.125     ]\n"
     ]
    }
   ],
   "source": [
    "print(compute_reciprocals(values))\n",
    "print(1.0 / values) # 역수를 확인"
   ]
  },
  {
   "cell_type": "code",
   "execution_count": null,
   "metadata": {
    "colab": {
     "base_uri": "https://localhost:8080/"
    },
    "executionInfo": {
     "elapsed": 380,
     "status": "ok",
     "timestamp": 1725241326559,
     "user": {
      "displayName": "김광수",
      "userId": "04260902725982947063"
     },
     "user_tz": -540
    },
    "id": "GCZkaUgIpqpp",
    "outputId": "0fee4225-d93a-4c0e-9ccb-b1ba1bece24d"
   },
   "outputs": [
    {
     "data": {
      "text/plain": [
       "array([0.        , 0.5       , 0.66666667, 0.75      , 0.8       ])"
      ]
     },
     "execution_count": 89,
     "metadata": {},
     "output_type": "execute_result"
    }
   ],
   "source": [
    "np.arange(5) / np.arange(1, 6)\n",
    "# 각 원소별로 연산이 이루어짐"
   ]
  },
  {
   "cell_type": "code",
   "execution_count": null,
   "metadata": {
    "colab": {
     "base_uri": "https://localhost:8080/"
    },
    "executionInfo": {
     "elapsed": 2,
     "status": "ok",
     "timestamp": 1725241327552,
     "user": {
      "displayName": "김광수",
      "userId": "04260902725982947063"
     },
     "user_tz": -540
    },
    "id": "MTa1cit1pqpp",
    "outputId": "83cf6f3e-38f4-4454-b5e1-ad1ed2d12206"
   },
   "outputs": [
    {
     "name": "stdout",
     "output_type": "stream",
     "text": [
      "[[0 1 2]\n",
      " [3 4 5]\n",
      " [6 7 8]]\n"
     ]
    },
    {
     "data": {
      "text/plain": [
       "array([[  1,   2,   4],\n",
       "       [  8,  16,  32],\n",
       "       [ 64, 128, 256]])"
      ]
     },
     "execution_count": 90,
     "metadata": {},
     "output_type": "execute_result"
    }
   ],
   "source": [
    "x = np.arange(9).reshape((3, 3))\n",
    "print(x)\n",
    "2 ** x"
   ]
  },
  {
   "cell_type": "markdown",
   "metadata": {
    "id": "k4gEidoQpqpp"
   },
   "source": [
    "### NumPy의 다양한 유니버설 함수"
   ]
  },
  {
   "cell_type": "markdown",
   "metadata": {
    "id": "MuSns91Lpqpp"
   },
   "source": [
    "#### 배열 산술 연산\n",
    "\n",
    "**NumPy**의 **ufuncs**는 **Python**의 기본 산술 연산자를 사용한다."
   ]
  },
  {
   "cell_type": "code",
   "execution_count": null,
   "metadata": {
    "colab": {
     "base_uri": "https://localhost:8080/"
    },
    "executionInfo": {
     "elapsed": 384,
     "status": "ok",
     "timestamp": 1725241332174,
     "user": {
      "displayName": "김광수",
      "userId": "04260902725982947063"
     },
     "user_tz": -540
    },
    "id": "NHuA_jytpqpp",
    "outputId": "cb8e6b03-e5ba-4f89-a931-55db176bd7f9"
   },
   "outputs": [
    {
     "name": "stdout",
     "output_type": "stream",
     "text": [
      "x     = [0 1 2 3]\n",
      "x + 5 = [5 6 7 8]\n",
      "x - 5 = [-5 -4 -3 -2]\n",
      "x * 2 = [0 2 4 6]\n",
      "x / 2 = [0.  0.5 1.  1.5]\n",
      "x // 2 = [0 0 1 1]\n"
     ]
    }
   ],
   "source": [
    "x = np.arange(4)\n",
    "print(\"x     =\", x)\n",
    "print(\"x + 5 =\", x + 5)\n",
    "print(\"x - 5 =\", x - 5)\n",
    "print(\"x * 2 =\", x * 2)\n",
    "print(\"x / 2 =\", x / 2)\n",
    "print(\"x // 2 =\", x // 2)  # floor division (나누고 나서 값을 버림, 3.45 -> 3)"
   ]
  },
  {
   "cell_type": "code",
   "execution_count": null,
   "metadata": {
    "colab": {
     "base_uri": "https://localhost:8080/"
    },
    "executionInfo": {
     "elapsed": 403,
     "status": "ok",
     "timestamp": 1725241336841,
     "user": {
      "displayName": "김광수",
      "userId": "04260902725982947063"
     },
     "user_tz": -540
    },
    "id": "AFCEQSyBpqpp",
    "outputId": "8846e6d7-8adc-4037-f548-edfb4d1ffb13"
   },
   "outputs": [
    {
     "name": "stdout",
     "output_type": "stream",
     "text": [
      "-x     =  [ 0 -1 -2 -3]\n",
      "x ** 2 =  [0 1 4 9]\n",
      "x % 2  =  [0 1 0 1]\n"
     ]
    }
   ],
   "source": [
    "print(\"-x     = \", -x)\n",
    "print(\"x ** 2 = \", x ** 2)\n",
    "print(\"x % 2  = \", x % 2)   # remainder (나누고 나서 남은 값을 반환, 5/4 ->1)"
   ]
  },
  {
   "cell_type": "code",
   "execution_count": null,
   "metadata": {
    "colab": {
     "base_uri": "https://localhost:8080/"
    },
    "executionInfo": {
     "elapsed": 2,
     "status": "ok",
     "timestamp": 1725241338258,
     "user": {
      "displayName": "김광수",
      "userId": "04260902725982947063"
     },
     "user_tz": -540
    },
    "id": "Dy-m1vjFpqpp",
    "outputId": "2673491e-5927-422a-ff87-7faf6625ca9e"
   },
   "outputs": [
    {
     "data": {
      "text/plain": [
       "array([-1.  , -2.25, -4.  , -6.25])"
      ]
     },
     "execution_count": 93,
     "metadata": {},
     "output_type": "execute_result"
    }
   ],
   "source": [
    "-(0.5*x + 1) ** 2"
   ]
  },
  {
   "cell_type": "markdown",
   "metadata": {
    "id": "Fw0ucsaIpqpq"
   },
   "source": [
    "다음은 **NumPy**에 구현된 산술 연산자이다.\n",
    "\n",
    "| Operator\t    | Equivalent ufunc    | Description                           |\n",
    "|---------------|---------------------|---------------------------------------|\n",
    "|``+``          |``np.add``           |Addition (e.g., ``1 + 1 = 2``)         |\n",
    "|``-``          |``np.subtract``      |Subtraction (e.g., ``3 - 2 = 1``)      |\n",
    "|``-``          |``np.negative``      |Unary negation (e.g., ``-2``)          |\n",
    "|``*``          |``np.multiply``      |Multiplication (e.g., ``2 * 3 = 6``)   |\n",
    "|``/``          |``np.divide``        |Division (e.g., ``3 / 2 = 1.5``)       |\n",
    "|``//``         |``np.floor_divide``  |Floor division (e.g., ``3 // 2 = 1``)  |\n",
    "|``**``         |``np.power``         |Exponentiation (e.g., ``2 ** 3 = 8``)  |\n",
    "|``%``          |``np.mod``           |Modulus/remainder (e.g., ``9 % 4 = 1``)|\n",
    "\n"
   ]
  },
  {
   "cell_type": "markdown",
   "metadata": {
    "id": "wZbghBZKpqpq"
   },
   "source": [
    "#### 절댓값 함수\n",
    "\n",
    "**Python**에 내장된 절대값 함수 ``abs``도 사용할 수 있다."
   ]
  },
  {
   "cell_type": "code",
   "execution_count": null,
   "metadata": {
    "colab": {
     "base_uri": "https://localhost:8080/"
    },
    "executionInfo": {
     "elapsed": 465,
     "status": "ok",
     "timestamp": 1725241343116,
     "user": {
      "displayName": "김광수",
      "userId": "04260902725982947063"
     },
     "user_tz": -540
    },
    "id": "qJnwUUK0pqpq",
    "outputId": "7a730c95-6da7-48e1-91f1-3c1bb0974715"
   },
   "outputs": [
    {
     "data": {
      "text/plain": [
       "array([2, 1, 0, 1, 2])"
      ]
     },
     "execution_count": 94,
     "metadata": {},
     "output_type": "execute_result"
    }
   ],
   "source": [
    "x = np.array([-2, -1, 0, 1, 2])\n",
    "abs(x)"
   ]
  },
  {
   "cell_type": "code",
   "execution_count": null,
   "metadata": {
    "colab": {
     "base_uri": "https://localhost:8080/"
    },
    "executionInfo": {
     "elapsed": 2,
     "status": "ok",
     "timestamp": 1725241343643,
     "user": {
      "displayName": "김광수",
      "userId": "04260902725982947063"
     },
     "user_tz": -540
    },
    "id": "cJapViLqpqpq",
    "outputId": "d549aa04-0bf8-42bd-ff25-193429d315cf"
   },
   "outputs": [
    {
     "data": {
      "text/plain": [
       "array([2, 1, 0, 1, 2])"
      ]
     },
     "execution_count": 95,
     "metadata": {},
     "output_type": "execute_result"
    }
   ],
   "source": [
    "np.absolute(x)"
   ]
  },
  {
   "cell_type": "code",
   "execution_count": null,
   "metadata": {
    "colab": {
     "base_uri": "https://localhost:8080/"
    },
    "executionInfo": {
     "elapsed": 541,
     "status": "ok",
     "timestamp": 1725241346363,
     "user": {
      "displayName": "김광수",
      "userId": "04260902725982947063"
     },
     "user_tz": -540
    },
    "id": "JQeZzmd7pqpq",
    "outputId": "0de3fb8c-4c9b-4f18-d1f1-61225df527d5"
   },
   "outputs": [
    {
     "data": {
      "text/plain": [
       "array([2, 1, 0, 1, 2])"
      ]
     },
     "execution_count": 96,
     "metadata": {},
     "output_type": "execute_result"
    }
   ],
   "source": [
    "np.abs(x)"
   ]
  },
  {
   "cell_type": "markdown",
   "metadata": {
    "id": "cZNu1Z4tpqpr"
   },
   "source": [
    "#### 삼각함수"
   ]
  },
  {
   "cell_type": "code",
   "execution_count": null,
   "metadata": {
    "id": "7ExzHfe6pqpr"
   },
   "outputs": [],
   "source": [
    "theta = np.linspace(0, np.pi, 3)"
   ]
  },
  {
   "cell_type": "code",
   "execution_count": null,
   "metadata": {
    "colab": {
     "base_uri": "https://localhost:8080/"
    },
    "executionInfo": {
     "elapsed": 1,
     "status": "ok",
     "timestamp": 1725241347722,
     "user": {
      "displayName": "김광수",
      "userId": "04260902725982947063"
     },
     "user_tz": -540
    },
    "id": "mROFFtvqpqpr",
    "outputId": "7a97edbe-4830-4ed3-af78-450bda141664"
   },
   "outputs": [
    {
     "name": "stdout",
     "output_type": "stream",
     "text": [
      "theta      =  [0.         1.57079633 3.14159265]\n",
      "sin(theta) =  [0.0000000e+00 1.0000000e+00 1.2246468e-16]\n",
      "cos(theta) =  [ 1.000000e+00  6.123234e-17 -1.000000e+00]\n",
      "tan(theta) =  [ 0.00000000e+00  1.63312394e+16 -1.22464680e-16]\n"
     ]
    }
   ],
   "source": [
    "print(\"theta      = \", theta)\n",
    "print(\"sin(theta) = \", np.sin(theta))\n",
    "print(\"cos(theta) = \", np.cos(theta))\n",
    "print(\"tan(theta) = \", np.tan(theta))"
   ]
  },
  {
   "cell_type": "code",
   "execution_count": null,
   "metadata": {
    "colab": {
     "base_uri": "https://localhost:8080/"
    },
    "executionInfo": {
     "elapsed": 399,
     "status": "ok",
     "timestamp": 1725241350459,
     "user": {
      "displayName": "김광수",
      "userId": "04260902725982947063"
     },
     "user_tz": -540
    },
    "id": "iSGgbFrQpqpr",
    "outputId": "097911a6-ee92-43fa-fd3d-149cfa94aad0"
   },
   "outputs": [
    {
     "name": "stdout",
     "output_type": "stream",
     "text": [
      "x         =  [-1, 0, 1]\n",
      "arcsin(x) =  [-1.57079633  0.          1.57079633]\n",
      "arccos(x) =  [3.14159265 1.57079633 0.        ]\n",
      "arctan(x) =  [-0.78539816  0.          0.78539816]\n"
     ]
    }
   ],
   "source": [
    "x = [-1, 0, 1]\n",
    "print(\"x         = \", x)\n",
    "print(\"arcsin(x) = \", np.arcsin(x))\n",
    "print(\"arccos(x) = \", np.arccos(x))\n",
    "print(\"arctan(x) = \", np.arctan(x))"
   ]
  },
  {
   "cell_type": "markdown",
   "metadata": {
    "id": "rwbpQTTHpqpr"
   },
   "source": [
    "#### 지수와 로그"
   ]
  },
  {
   "cell_type": "code",
   "execution_count": null,
   "metadata": {
    "colab": {
     "base_uri": "https://localhost:8080/"
    },
    "executionInfo": {
     "elapsed": 498,
     "status": "ok",
     "timestamp": 1725241353294,
     "user": {
      "displayName": "김광수",
      "userId": "04260902725982947063"
     },
     "user_tz": -540
    },
    "id": "QftTGPuFpqpr",
    "outputId": "82162fde-ccd6-4a50-a07e-f10edf85d38e"
   },
   "outputs": [
    {
     "name": "stdout",
     "output_type": "stream",
     "text": [
      "x     = [1, 2, 3]\n",
      "e^x   = [ 2.71828183  7.3890561  20.08553692]\n",
      "2^x   = [2 4 8]\n",
      "3^x   = [ 3  9 27]\n"
     ]
    }
   ],
   "source": [
    "x = [1, 2, 3]\n",
    "print(\"x     =\", x)\n",
    "print(\"e^x   =\", np.exp(x))\n",
    "print(\"2^x   =\", np.power(2, x))\n",
    "print(\"3^x   =\", np.power(3, x))"
   ]
  },
  {
   "cell_type": "code",
   "execution_count": null,
   "metadata": {
    "colab": {
     "base_uri": "https://localhost:8080/"
    },
    "executionInfo": {
     "elapsed": 623,
     "status": "ok",
     "timestamp": 1725241354430,
     "user": {
      "displayName": "김광수",
      "userId": "04260902725982947063"
     },
     "user_tz": -540
    },
    "id": "HAhAP5S1pqps",
    "outputId": "b65317fd-5cf1-43ac-b68c-0f123a1514ee"
   },
   "outputs": [
    {
     "name": "stdout",
     "output_type": "stream",
     "text": [
      "x        = [1, 2, 4, 10]\n",
      "ln(x)    = [0.         0.69314718 1.38629436 2.30258509]\n",
      "log2(x)  = [0.         1.         2.         3.32192809]\n",
      "log10(x) = [0.         0.30103    0.60205999 1.        ]\n"
     ]
    }
   ],
   "source": [
    "x = [1, 2, 4, 10]\n",
    "print(\"x        =\", x)\n",
    "print(\"ln(x)    =\", np.log(x))\n",
    "print(\"log2(x)  =\", np.log2(x))\n",
    "print(\"log10(x) =\", np.log10(x))"
   ]
  },
  {
   "cell_type": "markdown",
   "metadata": {
    "id": "m9bBfqR4pqps"
   },
   "source": [
    "#### 특화된 유니버설 함수\n",
    "\n",
    "통계학에서 자주 사용되는 전문적인 함수는 **scipy**패키지의 **special**모듈을 사용해서 계산할 수 있다."
   ]
  },
  {
   "cell_type": "code",
   "execution_count": null,
   "metadata": {
    "id": "avnS5tPLpqps"
   },
   "outputs": [],
   "source": [
    "from scipy import special"
   ]
  },
  {
   "cell_type": "code",
   "execution_count": null,
   "metadata": {
    "colab": {
     "base_uri": "https://localhost:8080/"
    },
    "executionInfo": {
     "elapsed": 562,
     "status": "ok",
     "timestamp": 1725241360668,
     "user": {
      "displayName": "김광수",
      "userId": "04260902725982947063"
     },
     "user_tz": -540
    },
    "id": "8CEGljfjpqpt",
    "outputId": "f64bb0a0-45f1-4d58-afa7-ecdd9801e085"
   },
   "outputs": [
    {
     "name": "stdout",
     "output_type": "stream",
     "text": [
      "gamma(x)     = [1.0000e+00 2.4000e+01 3.6288e+05]\n",
      "ln|gamma(x)| = [ 0.          3.17805383 12.80182748]\n",
      "beta(x, 2)   = [0.5        0.03333333 0.00909091]\n"
     ]
    }
   ],
   "source": [
    "x = [1, 5, 10]\n",
    "print(\"gamma(x)     =\", special.gamma(x))\n",
    "print(\"ln|gamma(x)| =\", special.gammaln(x))\n",
    "print(\"beta(x, 2)   =\", special.beta(x, 2))"
   ]
  },
  {
   "cell_type": "markdown",
   "metadata": {
    "id": "1GHsTZU9pqpt"
   },
   "source": [
    "## 요약 통계량 계산\n",
    "\n",
    "자료의 특성을 파악하는 첫 번째 단계는 요약 통계를 계산하는 것이다. **NumPy**에서는 다양한 내장 집계 함수를 제공한다."
   ]
  },
  {
   "cell_type": "markdown",
   "metadata": {
    "id": "zPxq-cJZpqpt"
   },
   "source": [
    "### 배열의 합\n",
    "\n",
    "배열의 합은 내장함수 ``sum``을 이용해서도 구할 수 있다."
   ]
  },
  {
   "cell_type": "code",
   "execution_count": null,
   "metadata": {
    "colab": {
     "base_uri": "https://localhost:8080/"
    },
    "executionInfo": {
     "elapsed": 384,
     "status": "ok",
     "timestamp": 1725241365298,
     "user": {
      "displayName": "김광수",
      "userId": "04260902725982947063"
     },
     "user_tz": -540
    },
    "id": "w2lnEB_Apqpt",
    "outputId": "3a47bcfb-cc9e-4b32-b0ef-40dbc750ce84"
   },
   "outputs": [
    {
     "name": "stdout",
     "output_type": "stream",
     "text": [
      "[4.17022005e-01 7.20324493e-01 1.14374817e-04 3.02332573e-01\n",
      " 1.46755891e-01 9.23385948e-02 1.86260211e-01 3.45560727e-01\n",
      " 3.96767474e-01 5.38816734e-01 4.19194514e-01 6.85219500e-01\n",
      " 2.04452250e-01 8.78117436e-01 2.73875932e-02 6.70467510e-01\n",
      " 4.17304802e-01 5.58689828e-01 1.40386939e-01 1.98101489e-01\n",
      " 8.00744569e-01 9.68261576e-01 3.13424178e-01 6.92322616e-01\n",
      " 8.76389152e-01 8.94606664e-01 8.50442114e-02 3.90547832e-02\n",
      " 1.69830420e-01 8.78142503e-01 9.83468338e-02 4.21107625e-01\n",
      " 9.57889530e-01 5.33165285e-01 6.91877114e-01 3.15515631e-01\n",
      " 6.86500928e-01 8.34625672e-01 1.82882773e-02 7.50144315e-01\n",
      " 9.88861089e-01 7.48165654e-01 2.80443992e-01 7.89279328e-01\n",
      " 1.03226007e-01 4.47893526e-01 9.08595503e-01 2.93614148e-01\n",
      " 2.87775339e-01 1.30028572e-01 1.93669579e-02 6.78835533e-01\n",
      " 2.11628116e-01 2.65546659e-01 4.91573159e-01 5.33625451e-02\n",
      " 5.74117605e-01 1.46728575e-01 5.89305537e-01 6.99758360e-01\n",
      " 1.02334429e-01 4.14055988e-01 6.94400158e-01 4.14179270e-01\n",
      " 4.99534589e-02 5.35896406e-01 6.63794645e-01 5.14889112e-01\n",
      " 9.44594756e-01 5.86555041e-01 9.03401915e-01 1.37474704e-01\n",
      " 1.39276347e-01 8.07391289e-01 3.97676837e-01 1.65354197e-01\n",
      " 9.27508580e-01 3.47765860e-01 7.50812103e-01 7.25997985e-01\n",
      " 8.83306091e-01 6.23672207e-01 7.50942434e-01 3.48898342e-01\n",
      " 2.69927892e-01 8.95886218e-01 4.28091190e-01 9.64840047e-01\n",
      " 6.63441498e-01 6.21695720e-01 1.14745973e-01 9.49489259e-01\n",
      " 4.49912133e-01 5.78389614e-01 4.08136803e-01 2.37026980e-01\n",
      " 9.03379521e-01 5.73679487e-01 2.87032703e-03 6.17144914e-01]\n"
     ]
    },
    {
     "data": {
      "text/plain": [
       "48.58779276001459"
      ]
     },
     "execution_count": 104,
     "metadata": {},
     "output_type": "execute_result"
    }
   ],
   "source": [
    "np.random.seed(1)\n",
    "\n",
    "L = np.random.random(100)\n",
    "print(L)\n",
    "sum(L)"
   ]
  },
  {
   "cell_type": "code",
   "execution_count": null,
   "metadata": {
    "colab": {
     "base_uri": "https://localhost:8080/"
    },
    "executionInfo": {
     "elapsed": 385,
     "status": "ok",
     "timestamp": 1725241369543,
     "user": {
      "displayName": "김광수",
      "userId": "04260902725982947063"
     },
     "user_tz": -540
    },
    "id": "BrbWRDDjpqpt",
    "outputId": "fd3dab71-3e99-4153-baa9-16e97ac7573a"
   },
   "outputs": [
    {
     "data": {
      "text/plain": [
       "48.587792760014565"
      ]
     },
     "execution_count": 105,
     "metadata": {},
     "output_type": "execute_result"
    }
   ],
   "source": [
    "np.sum(L)"
   ]
  },
  {
   "cell_type": "markdown",
   "metadata": {
    "id": "GImk-e16xJpz"
   },
   "source": [
    "합, 합연산은 배열의 차원과 관계없이 전체 원소의 합을 반환"
   ]
  },
  {
   "cell_type": "markdown",
   "metadata": {
    "id": "pa3t-FU5pqpu"
   },
   "source": [
    "**NumPy**의 경우 연산이 컴파일된 코드에서 계산되기\n",
    "때문에 계산시간을 단축할 수 있다."
   ]
  },
  {
   "cell_type": "code",
   "execution_count": null,
   "metadata": {
    "colab": {
     "base_uri": "https://localhost:8080/"
    },
    "executionInfo": {
     "elapsed": 13627,
     "status": "ok",
     "timestamp": 1725241445010,
     "user": {
      "displayName": "김광수",
      "userId": "04260902725982947063"
     },
     "user_tz": -540
    },
    "id": "zqeuNILIpqpu",
    "outputId": "173bf53d-61e3-48b2-e9c1-f7a411a8aeb4"
   },
   "outputs": [
    {
     "name": "stdout",
     "output_type": "stream",
     "text": [
      "11.3 µs ± 636 ns per loop (mean ± std. dev. of 7 runs, 100000 loops each)\n",
      "4.74 µs ± 1.45 µs per loop (mean ± std. dev. of 7 runs, 100000 loops each)\n"
     ]
    }
   ],
   "source": [
    "np.random.seed(2)\n",
    "\n",
    "big_array = np.random.rand(100)\n",
    "%timeit sum(big_array)\n",
    "%timeit np.sum(big_array)"
   ]
  },
  {
   "cell_type": "markdown",
   "metadata": {
    "id": "tBNzVZ9-x6q2"
   },
   "source": [
    "시간이 훨씬 적게 걸림을 확인할 수 있음"
   ]
  },
  {
   "cell_type": "code",
   "execution_count": null,
   "metadata": {
    "colab": {
     "base_uri": "https://localhost:8080/"
    },
    "executionInfo": {
     "elapsed": 2,
     "status": "ok",
     "timestamp": 1725241446346,
     "user": {
      "displayName": "김광수",
      "userId": "04260902725982947063"
     },
     "user_tz": -540
    },
    "id": "B4lZzSzSpqpv",
    "outputId": "0c68d414-3cf8-4199-cffd-aeb496119307"
   },
   "outputs": [
    {
     "data": {
      "text/plain": [
       "(0.01301733669455063, 0.9938520114212729)"
      ]
     },
     "execution_count": 111,
     "metadata": {},
     "output_type": "execute_result"
    }
   ],
   "source": [
    "min(big_array), max(big_array)"
   ]
  },
  {
   "cell_type": "code",
   "execution_count": null,
   "metadata": {
    "colab": {
     "base_uri": "https://localhost:8080/"
    },
    "executionInfo": {
     "elapsed": 11414,
     "status": "ok",
     "timestamp": 1725241459157,
     "user": {
      "displayName": "김광수",
      "userId": "04260902725982947063"
     },
     "user_tz": -540
    },
    "id": "X6oMpPFbpqpv",
    "outputId": "6246038a-dc12-4c3f-c4b2-08c507b4d299"
   },
   "outputs": [
    {
     "name": "stdout",
     "output_type": "stream",
     "text": [
      "9.38 µs ± 2.94 µs per loop (mean ± std. dev. of 7 runs, 100000 loops each)\n",
      "4.24 µs ± 495 ns per loop (mean ± std. dev. of 7 runs, 100000 loops each)\n"
     ]
    }
   ],
   "source": [
    "%timeit min(big_array)\n",
    "%timeit np.min(big_array)"
   ]
  },
  {
   "cell_type": "markdown",
   "metadata": {
    "id": "pKZE8XwSpqpv"
   },
   "source": [
    "**NumPy** 배열의 객체는 자체 메서드를 가지고 있다.  "
   ]
  },
  {
   "cell_type": "code",
   "execution_count": null,
   "metadata": {
    "colab": {
     "base_uri": "https://localhost:8080/"
    },
    "executionInfo": {
     "elapsed": 383,
     "status": "ok",
     "timestamp": 1725241470279,
     "user": {
      "displayName": "김광수",
      "userId": "04260902725982947063"
     },
     "user_tz": -540
    },
    "id": "8-1rcgTRpqpw",
    "outputId": "136ef2ff-6774-499b-eefd-7815eeb78ddb"
   },
   "outputs": [
    {
     "name": "stdout",
     "output_type": "stream",
     "text": [
      "0.01301733669455063 0.9938520114212729 46.002824535219375\n"
     ]
    }
   ],
   "source": [
    "print(big_array.min(), big_array.max(), big_array.sum())"
   ]
  },
  {
   "cell_type": "markdown",
   "metadata": {
    "id": "woFiKeecyIvd"
   },
   "source": [
    "일반적으로 .ftn 형태를 가지게 됨"
   ]
  },
  {
   "cell_type": "markdown",
   "metadata": {
    "id": "6GDPt_5Fpqpw"
   },
   "source": [
    "### 다차원 요약 통계량"
   ]
  },
  {
   "cell_type": "code",
   "execution_count": null,
   "metadata": {
    "colab": {
     "base_uri": "https://localhost:8080/"
    },
    "executionInfo": {
     "elapsed": 406,
     "status": "ok",
     "timestamp": 1725241486237,
     "user": {
      "displayName": "김광수",
      "userId": "04260902725982947063"
     },
     "user_tz": -540
    },
    "id": "kI7CKe-opqpw",
    "outputId": "c8ae1e9e-d126-40ab-876e-1f453b74c40e"
   },
   "outputs": [
    {
     "name": "stdout",
     "output_type": "stream",
     "text": [
      "[[4.17022005e-01 7.20324493e-01 1.14374817e-04 3.02332573e-01]\n",
      " [1.46755891e-01 9.23385948e-02 1.86260211e-01 3.45560727e-01]\n",
      " [3.96767474e-01 5.38816734e-01 4.19194514e-01 6.85219500e-01]]\n"
     ]
    }
   ],
   "source": [
    "np.random.seed(1)\n",
    "M = np.random.random((3, 4)) # 3*4 차원 #\n",
    "print(M)"
   ]
  },
  {
   "cell_type": "code",
   "execution_count": null,
   "metadata": {
    "colab": {
     "base_uri": "https://localhost:8080/"
    },
    "executionInfo": {
     "elapsed": 383,
     "status": "ok",
     "timestamp": 1725241489317,
     "user": {
      "displayName": "김광수",
      "userId": "04260902725982947063"
     },
     "user_tz": -540
    },
    "id": "nflZSYOKpqpw",
    "outputId": "3fb20fb8-4ce9-4437-8588-e54fda8346ce"
   },
   "outputs": [
    {
     "data": {
      "text/plain": [
       "4.250707092634627"
      ]
     },
     "execution_count": 115,
     "metadata": {},
     "output_type": "execute_result"
    }
   ],
   "source": [
    "M.sum()"
   ]
  },
  {
   "cell_type": "markdown",
   "metadata": {
    "id": "W_o9b14Qpqpx"
   },
   "source": [
    "축의 지정을 통해 열별 계산을 할 수 있다. 열에 대한 축 지정은 ``axis=0``를 이용한다."
   ]
  },
  {
   "cell_type": "code",
   "execution_count": null,
   "metadata": {
    "colab": {
     "base_uri": "https://localhost:8080/"
    },
    "executionInfo": {
     "elapsed": 389,
     "status": "ok",
     "timestamp": 1725241492253,
     "user": {
      "displayName": "김광수",
      "userId": "04260902725982947063"
     },
     "user_tz": -540
    },
    "id": "c12ldwLvpqpx",
    "outputId": "2d4f1425-ac0a-4c01-8172-28301d41720a"
   },
   "outputs": [
    {
     "data": {
      "text/plain": [
       "array([1.46755891e-01, 9.23385948e-02, 1.14374817e-04, 3.02332573e-01])"
      ]
     },
     "execution_count": 116,
     "metadata": {},
     "output_type": "execute_result"
    }
   ],
   "source": [
    "M.min(axis=0)"
   ]
  },
  {
   "cell_type": "markdown",
   "metadata": {
    "id": "-3to40tNyWMN"
   },
   "source": [
    "axis 지정은 연산이 이루어지는 축임, 이는 R과 규칙이 다름"
   ]
  },
  {
   "cell_type": "markdown",
   "metadata": {
    "id": "DnARueblpqpx"
   },
   "source": [
    "행별 계산은 ``axis=1``을 이용한다."
   ]
  },
  {
   "cell_type": "code",
   "execution_count": null,
   "metadata": {
    "colab": {
     "base_uri": "https://localhost:8080/"
    },
    "executionInfo": {
     "elapsed": 475,
     "status": "ok",
     "timestamp": 1725241496068,
     "user": {
      "displayName": "김광수",
      "userId": "04260902725982947063"
     },
     "user_tz": -540
    },
    "id": "F8_8LrmOpqpx",
    "outputId": "f932bb0d-3ff0-4067-f6fe-148a95fc23ae"
   },
   "outputs": [
    {
     "data": {
      "text/plain": [
       "array([0.72032449, 0.34556073, 0.6852195 ])"
      ]
     },
     "execution_count": 117,
     "metadata": {},
     "output_type": "execute_result"
    }
   ],
   "source": [
    "M.max(axis=1)"
   ]
  },
  {
   "cell_type": "markdown",
   "metadata": {
    "id": "ynGLVB28pqpx"
   },
   "source": [
    "### 기타 요약 통계량 함수\n",
    "\n",
    "\n",
    "다음은 **NumPy**에서 사용할 수 있는 함수의 목록을 나타낸다.\n",
    "\n",
    "|Function Name      |   NaN-safe Version  | Description                                   |\n",
    "|-------------------|---------------------|-----------------------------------------------|\n",
    "| ``np.sum``        | ``np.nansum``       | Compute sum of elements                       |\n",
    "| ``np.prod``       | ``np.nanprod``      | Compute product of elements                   |\n",
    "| ``np.mean``       | ``np.nanmean``      | Compute mean of elements                      |\n",
    "| ``np.std``        | ``np.nanstd``       | Compute standard deviation                    |\n",
    "| ``np.var``        | ``np.nanvar``       | Compute variance                              |\n",
    "| ``np.min``        | ``np.nanmin``       | Find minimum value                            |\n",
    "| ``np.max``        | ``np.nanmax``       | Find maximum value                            |\n",
    "| ``np.argmin``     | ``np.nanargmin``    | Find index of minimum value                   |\n",
    "| ``np.argmax``     | ``np.nanargmax``    | Find index of maximum value                   |\n",
    "| ``np.median``     | ``np.nanmedian``    | Compute median of elements                    |\n",
    "| ``np.percentile`` | ``np.nanpercentile``| Compute rank-based statistics of elements     |\n",
    "| ``np.any``        | N/A                 | Evaluate whether any elements are true        |\n",
    "| ``np.all``        | N/A                 | Evaluate whether all elements are true        |\n",
    "\n"
   ]
  },
  {
   "cell_type": "code",
   "execution_count": null,
   "metadata": {
    "colab": {
     "base_uri": "https://localhost:8080/"
    },
    "executionInfo": {
     "elapsed": 379,
     "status": "ok",
     "timestamp": 1725241524185,
     "user": {
      "displayName": "김광수",
      "userId": "04260902725982947063"
     },
     "user_tz": -540
    },
    "id": "po83TzX2yzIR",
    "outputId": "836467ec-882b-459d-d41b-307cbb8cdd0a"
   },
   "outputs": [
    {
     "name": "stdout",
     "output_type": "stream",
     "text": [
      "[[          -inf 7.20324493e-01 1.14374817e-04 3.02332573e-01]\n",
      " [1.46755891e-01 9.23385948e-02 1.86260211e-01 3.45560727e-01]\n",
      " [3.96767474e-01 5.38816734e-01 4.19194514e-01 6.85219500e-01]]\n",
      "[[          -inf 7.20324493e-01 1.14374817e-04 3.02332573e-01]\n",
      " [1.46755891e-01 9.23385948e-02 1.86260211e-01 3.45560727e-01]\n",
      " [3.96767474e-01 5.38816734e-01 4.19194514e-01 6.85219500e-01]]\n"
     ]
    },
    {
     "name": "stderr",
     "output_type": "stream",
     "text": [
      "<ipython-input-120-769d1e2e1366>:2: RuntimeWarning: divide by zero encountered in log\n",
      "  M[0,0] = np.log(0)\n"
     ]
    },
    {
     "data": {
      "text/plain": [
       "array([0.39676747, 0.72032449, 0.41919451, 0.6852195 ])"
      ]
     },
     "execution_count": 120,
     "metadata": {},
     "output_type": "execute_result"
    }
   ],
   "source": [
    "print(M)\n",
    "M[0,0] = np.log(0)\n",
    "print(M)\n",
    "np.max(M,axis=0)\n",
    "# -Inf 로 오류가 발생하지는 않으나 오류 발생시 np.nanmax 이용"
   ]
  },
  {
   "cell_type": "markdown",
   "metadata": {
    "id": "fE1FFQhvpqpy"
   },
   "source": [
    "## 배열연산 : Broadcasting"
   ]
  },
  {
   "cell_type": "markdown",
   "metadata": {
    "id": "rCT630f7pqpy"
   },
   "source": [
    "**Broadcasting**은 다른 크기의 배열에 이항 ufuncs함수(덧셈, 뺄셈, 곱셈등)를 적용하기 위한 규칙의 집합이다."
   ]
  },
  {
   "cell_type": "markdown",
   "metadata": {
    "id": "0r52H30xpqpy"
   },
   "source": [
    "### Broadcasting 소개"
   ]
  },
  {
   "cell_type": "markdown",
   "metadata": {
    "id": "XQHQMo3kpqpy"
   },
   "source": [
    "일차원 배열"
   ]
  },
  {
   "cell_type": "code",
   "execution_count": null,
   "metadata": {
    "colab": {
     "base_uri": "https://localhost:8080/"
    },
    "executionInfo": {
     "elapsed": 385,
     "status": "ok",
     "timestamp": 1725241528403,
     "user": {
      "displayName": "김광수",
      "userId": "04260902725982947063"
     },
     "user_tz": -540
    },
    "id": "mnxYpkrwpqpy",
    "outputId": "45e9f22b-c34d-412b-930a-948f934fc579"
   },
   "outputs": [
    {
     "name": "stdout",
     "output_type": "stream",
     "text": [
      "[0 1 2]\n",
      "[5 5 5]\n",
      "[5 6 7]\n"
     ]
    }
   ],
   "source": [
    "a = np.array([0, 1, 2])\n",
    "b = np.array([5, 5, 5])\n",
    "print(a)\n",
    "print(b)\n",
    "print(a + b)"
   ]
  },
  {
   "cell_type": "code",
   "execution_count": null,
   "metadata": {
    "colab": {
     "base_uri": "https://localhost:8080/"
    },
    "executionInfo": {
     "elapsed": 385,
     "status": "ok",
     "timestamp": 1725241535652,
     "user": {
      "displayName": "김광수",
      "userId": "04260902725982947063"
     },
     "user_tz": -540
    },
    "id": "ao4htGZppqpy",
    "outputId": "ae5bc664-76b8-45ba-b9ac-b259ead1e329"
   },
   "outputs": [
    {
     "data": {
      "text/plain": [
       "array([5, 6, 7])"
      ]
     },
     "execution_count": 122,
     "metadata": {},
     "output_type": "execute_result"
    }
   ],
   "source": [
    "a + 5 #배열과 상수의 연산은 각 원소와 상수의 연산으로 됨"
   ]
  },
  {
   "cell_type": "markdown",
   "metadata": {
    "id": "rQE2uGdJpqpy"
   },
   "source": [
    "이차원 배열"
   ]
  },
  {
   "cell_type": "code",
   "execution_count": null,
   "metadata": {
    "colab": {
     "base_uri": "https://localhost:8080/"
    },
    "executionInfo": {
     "elapsed": 370,
     "status": "ok",
     "timestamp": 1725241558789,
     "user": {
      "displayName": "김광수",
      "userId": "04260902725982947063"
     },
     "user_tz": -540
    },
    "id": "s3oZesQmpqpz",
    "outputId": "099bfe29-69f4-4abf-dcef-70d911f113a2"
   },
   "outputs": [
    {
     "data": {
      "text/plain": [
       "array([[1., 1., 1.],\n",
       "       [1., 1., 1.],\n",
       "       [1., 1., 1.]])"
      ]
     },
     "execution_count": 124,
     "metadata": {},
     "output_type": "execute_result"
    }
   ],
   "source": [
    "M = np.ones((3, 3))\n",
    "M"
   ]
  },
  {
   "cell_type": "code",
   "execution_count": null,
   "metadata": {
    "colab": {
     "base_uri": "https://localhost:8080/",
     "height": 275
    },
    "executionInfo": {
     "elapsed": 5,
     "status": "error",
     "timestamp": 1725241559762,
     "user": {
      "displayName": "김광수",
      "userId": "04260902725982947063"
     },
     "user_tz": -540
    },
    "id": "PL1fnx9ypqpz",
    "outputId": "4238842f-59fb-40cd-d163-69f7d071dea2"
   },
   "outputs": [
    {
     "name": "stdout",
     "output_type": "stream",
     "text": [
      "(3, 3)\n",
      "(2,)\n",
      "[[1. 2. 3.]\n",
      " [1. 2. 3.]\n",
      " [1. 2. 3.]]\n"
     ]
    },
    {
     "ename": "ValueError",
     "evalue": "operands could not be broadcast together with shapes (3,3) (2,) ",
     "output_type": "error",
     "traceback": [
      "\u001b[0;31m---------------------------------------------------------------------------\u001b[0m",
      "\u001b[0;31mValueError\u001b[0m                                Traceback (most recent call last)",
      "\u001b[0;32m<ipython-input-125-2d77659103c9>\u001b[0m in \u001b[0;36m<cell line: 4>\u001b[0;34m()\u001b[0m\n\u001b[1;32m      2\u001b[0m \u001b[0mprint\u001b[0m\u001b[0;34m(\u001b[0m\u001b[0ma\u001b[0m\u001b[0;34m[\u001b[0m\u001b[0;36m0\u001b[0m\u001b[0;34m:\u001b[0m\u001b[0;36m2\u001b[0m\u001b[0;34m]\u001b[0m\u001b[0;34m.\u001b[0m\u001b[0mshape\u001b[0m\u001b[0;34m)\u001b[0m\u001b[0;34m\u001b[0m\u001b[0;34m\u001b[0m\u001b[0m\n\u001b[1;32m      3\u001b[0m \u001b[0mprint\u001b[0m\u001b[0;34m(\u001b[0m\u001b[0mM\u001b[0m\u001b[0;34m+\u001b[0m\u001b[0ma\u001b[0m\u001b[0;34m)\u001b[0m\u001b[0;34m\u001b[0m\u001b[0;34m\u001b[0m\u001b[0m\n\u001b[0;32m----> 4\u001b[0;31m \u001b[0mprint\u001b[0m\u001b[0;34m(\u001b[0m\u001b[0mM\u001b[0m\u001b[0;34m+\u001b[0m\u001b[0ma\u001b[0m\u001b[0;34m[\u001b[0m\u001b[0;36m0\u001b[0m\u001b[0;34m:\u001b[0m\u001b[0;36m2\u001b[0m\u001b[0;34m]\u001b[0m\u001b[0;34m)\u001b[0m\u001b[0;34m\u001b[0m\u001b[0;34m\u001b[0m\u001b[0m\n\u001b[0m",
      "\u001b[0;31mValueError\u001b[0m: operands could not be broadcast together with shapes (3,3) (2,) "
     ]
    }
   ],
   "source": [
    "print(M.shape)\n",
    "print(a[0:2].shape)\n",
    "print(M+a)\n",
    "print(M+a[0:2])"
   ]
  },
  {
   "cell_type": "code",
   "execution_count": null,
   "metadata": {
    "colab": {
     "base_uri": "https://localhost:8080/"
    },
    "executionInfo": {
     "elapsed": 401,
     "status": "ok",
     "timestamp": 1725241602225,
     "user": {
      "displayName": "김광수",
      "userId": "04260902725982947063"
     },
     "user_tz": -540
    },
    "id": "vfub5ipDpqpz",
    "outputId": "fc688180-a521-4705-9846-f57675be8a47"
   },
   "outputs": [
    {
     "name": "stdout",
     "output_type": "stream",
     "text": [
      "[0 1 2]\n",
      "[[0]\n",
      " [1]\n",
      " [2]]\n"
     ]
    }
   ],
   "source": [
    "a = np.arange(3)\n",
    "b = np.arange(3)[:,np.newaxis]\n",
    "print(a)\n",
    "print(b)"
   ]
  },
  {
   "cell_type": "markdown",
   "metadata": {
    "id": "bn0zRLXl0np9"
   },
   "source": [
    "1차원으로 (d,)와 2차원으로 (d,1)은 엄격히 구분됨"
   ]
  },
  {
   "cell_type": "code",
   "execution_count": null,
   "metadata": {
    "colab": {
     "base_uri": "https://localhost:8080/"
    },
    "executionInfo": {
     "elapsed": 374,
     "status": "ok",
     "timestamp": 1725241672603,
     "user": {
      "displayName": "김광수",
      "userId": "04260902725982947063"
     },
     "user_tz": -540
    },
    "id": "Mk7nqcjhpqpz",
    "outputId": "5ba90dc8-0fb6-4894-f004-3871ef7e0667"
   },
   "outputs": [
    {
     "data": {
      "text/plain": [
       "array([[0, 1, 2],\n",
       "       [1, 2, 3],\n",
       "       [2, 3, 4]])"
      ]
     },
     "execution_count": 129,
     "metadata": {},
     "output_type": "execute_result"
    }
   ],
   "source": [
    "a + b\n",
    "# 이 경우 외적의 형태로 연산\n",
    "# a의 모든 원소와 b의 모든 원소들 간의 연산이 이루어짐"
   ]
  },
  {
   "cell_type": "code",
   "execution_count": null,
   "metadata": {
    "colab": {
     "base_uri": "https://localhost:8080/"
    },
    "executionInfo": {
     "elapsed": 361,
     "status": "ok",
     "timestamp": 1725241698383,
     "user": {
      "displayName": "김광수",
      "userId": "04260902725982947063"
     },
     "user_tz": -540
    },
    "id": "f_hMP6sG1CUr",
    "outputId": "676866e0-e784-4e42-85fb-86c026f1dd11"
   },
   "outputs": [
    {
     "name": "stdout",
     "output_type": "stream",
     "text": [
      "[[0]\n",
      " [1]\n",
      " [2]]\n",
      "[0]\n"
     ]
    }
   ],
   "source": [
    "a = np.arange(3)\n",
    "aa = a[:,np.newaxis]\n",
    "print(aa)\n",
    "print(np.min(aa,axis=0))"
   ]
  },
  {
   "cell_type": "markdown",
   "metadata": {
    "id": "8HnC_NYDpqp0"
   },
   "source": [
    "### Broadcasting 규칙\n",
    "\n",
    "- 규칙 1: 두 배열의 차원 수가 다르면 더 작은 수의 차원을 가진 배열 형상의 차원 수를 늘린다 (이 때 1차원의 수를 1로 한다).\n",
    "- 규칙 2: 두 배열의 형상이 어떤 차원에서도 일치하지 않는다면 해당 차원의 형상이 1인 배열이 다른 형상과 일치하도록 늘린다.\n",
    "- 규칙 3: 임의의 차원에서 크기가 일치하지 않고 1도 아니라면 오류가 발생한다."
   ]
  },
  {
   "cell_type": "markdown",
   "metadata": {
    "id": "kte9cC1spqp0"
   },
   "source": [
    "#### Broadcasting 예제 1\n",
    "\n",
    "1차원 배열에 2차원 배열 더하기"
   ]
  },
  {
   "cell_type": "code",
   "execution_count": null,
   "metadata": {
    "colab": {
     "base_uri": "https://localhost:8080/"
    },
    "executionInfo": {
     "elapsed": 374,
     "status": "ok",
     "timestamp": 1725241730982,
     "user": {
      "displayName": "김광수",
      "userId": "04260902725982947063"
     },
     "user_tz": -540
    },
    "id": "9j0MVSP9pqp0",
    "outputId": "b3961365-072a-4159-ccfd-4780e7beb608"
   },
   "outputs": [
    {
     "name": "stdout",
     "output_type": "stream",
     "text": [
      "[[1. 1. 1.]\n",
      " [1. 1. 1.]]\n",
      "[0 1 2]\n"
     ]
    }
   ],
   "source": [
    "M = np.ones((2, 3))\n",
    "a = np.arange(3)\n",
    "\n",
    "print(M)\n",
    "print(a)"
   ]
  },
  {
   "cell_type": "markdown",
   "metadata": {
    "id": "WcwbzQvLpqp0"
   },
   "source": [
    "배열의 형상:\n",
    "\n",
    "- ``M.shape = (2, 3)``\n",
    "- ``a.shape = (3,)``\n",
    "\n",
    "규칙 1을 따라 배열 a가 더 작은 차원을 가지므로 왼쪽을 1로 채운다:\n",
    "\n",
    "- ``M.shape -> (2, 3)``\n",
    "- ``a.shape -> (1, 3)``\n",
    "\n",
    "규칙 2에 따라 첫 번째 차원이 일치하지 않으므로 차원을 일치하도록 늘린다:\n",
    "\n",
    "- ``M.shape -> (2, 3)``\n",
    "- ``a.shape -> (2, 3)``"
   ]
  },
  {
   "cell_type": "code",
   "execution_count": null,
   "metadata": {
    "colab": {
     "base_uri": "https://localhost:8080/"
    },
    "executionInfo": {
     "elapsed": 381,
     "status": "ok",
     "timestamp": 1725241736331,
     "user": {
      "displayName": "김광수",
      "userId": "04260902725982947063"
     },
     "user_tz": -540
    },
    "id": "A29thI6cpqp0",
    "outputId": "2e4a3bf4-0fdc-4349-eace-1370cd635a82"
   },
   "outputs": [
    {
     "name": "stdout",
     "output_type": "stream",
     "text": [
      "[[1. 1. 1.]\n",
      " [1. 1. 1.]]\n",
      "[0 1 2]\n",
      "[[1. 2. 3.]\n",
      " [1. 2. 3.]]\n"
     ]
    }
   ],
   "source": [
    "print(M)\n",
    "print(a)\n",
    "print(M+a)"
   ]
  },
  {
   "cell_type": "markdown",
   "metadata": {
    "id": "zCbap0jU60Mw"
   },
   "source": [
    "[0,1,2]가 반복될 때, 열 단위로 반복됨에 주의"
   ]
  },
  {
   "cell_type": "markdown",
   "metadata": {
    "id": "D2cE7cHApqp0"
   },
   "source": [
    "#### Broadcasting 예제 2\n",
    "\n",
    "두 배열 모두 broadcasting이 필요한 예제"
   ]
  },
  {
   "cell_type": "code",
   "execution_count": null,
   "metadata": {
    "colab": {
     "base_uri": "https://localhost:8080/"
    },
    "executionInfo": {
     "elapsed": 365,
     "status": "ok",
     "timestamp": 1725241747090,
     "user": {
      "displayName": "김광수",
      "userId": "04260902725982947063"
     },
     "user_tz": -540
    },
    "id": "9gw1b7k0pqp1",
    "outputId": "23cc2c05-4ddb-473b-80ef-e393ea35ffe0"
   },
   "outputs": [
    {
     "name": "stdout",
     "output_type": "stream",
     "text": [
      "[[0]\n",
      " [1]\n",
      " [2]]\n",
      "[0 1 2]\n"
     ]
    }
   ],
   "source": [
    "a = np.arange(3).reshape((3, 1))\n",
    "b = np.arange(3)\n",
    "\n",
    "print(a)\n",
    "print(b)"
   ]
  },
  {
   "cell_type": "markdown",
   "metadata": {
    "id": "p0fjXrr6pqp1"
   },
   "source": [
    "배열의 형상:\n",
    "- ``a.shape = (3, 1)``\n",
    "- ``b.shape = (3,)``\n",
    "\n",
    "규칙 1을 따라 ``b``의 형상에 1을 덧붙여야 한다:\n",
    "\n",
    "- ``a.shape -> (3, 1)``\n",
    "- ``b.shape -> (1, 3)``\n",
    "\n",
    "규칙 2을 따라 각 차원을 그에 대응하는 다른 배열의 크기에 일치하도록 늘린다:\n",
    "\n",
    "- ``a.shape -> (3, 3)``\n",
    "- ``b.shape -> (3, 3)``"
   ]
  },
  {
   "cell_type": "code",
   "execution_count": null,
   "metadata": {
    "colab": {
     "base_uri": "https://localhost:8080/"
    },
    "executionInfo": {
     "elapsed": 385,
     "status": "ok",
     "timestamp": 1725241751812,
     "user": {
      "displayName": "김광수",
      "userId": "04260902725982947063"
     },
     "user_tz": -540
    },
    "id": "UHNksD3Fpqp1",
    "outputId": "b5282d2e-e587-4592-8f43-705e2626b650"
   },
   "outputs": [
    {
     "data": {
      "text/plain": [
       "array([[0, 1, 2],\n",
       "       [1, 2, 3],\n",
       "       [2, 3, 4]])"
      ]
     },
     "execution_count": 136,
     "metadata": {},
     "output_type": "execute_result"
    }
   ],
   "source": [
    "a + b"
   ]
  },
  {
   "cell_type": "markdown",
   "metadata": {
    "id": "KN40OMki8fb7"
   },
   "source": [
    "확장은 열 단위로 이루어짐"
   ]
  },
  {
   "cell_type": "markdown",
   "metadata": {
    "id": "dqGP5FYhpqp1"
   },
   "source": [
    "#### Broadcasting 예제 3\n",
    "\n",
    "두 개의 배열이 호환되지 않는 경우"
   ]
  },
  {
   "cell_type": "code",
   "execution_count": null,
   "metadata": {
    "colab": {
     "base_uri": "https://localhost:8080/"
    },
    "executionInfo": {
     "elapsed": 405,
     "status": "ok",
     "timestamp": 1725241771600,
     "user": {
      "displayName": "김광수",
      "userId": "04260902725982947063"
     },
     "user_tz": -540
    },
    "id": "8ZguMbhLpqp1",
    "outputId": "12822c69-4cef-4524-9978-281e0412f271"
   },
   "outputs": [
    {
     "name": "stdout",
     "output_type": "stream",
     "text": [
      "[[1. 1.]\n",
      " [1. 1.]\n",
      " [1. 1.]]\n",
      "[0 1 2]\n"
     ]
    }
   ],
   "source": [
    "M = np.ones((3, 2))\n",
    "a = np.arange(3)\n",
    "\n",
    "print(M)\n",
    "print(a)"
   ]
  },
  {
   "cell_type": "markdown",
   "metadata": {
    "id": "BY07P4-Fpqp2"
   },
   "source": [
    "배열 형상:\n",
    "\n",
    "- ``M.shape = (3, 2)``\n",
    "- ``a.shape = (3,)``\n",
    "\n",
    "규칙 1:\n",
    "\n",
    "- ``M.shape -> (3, 2)``\n",
    "- ``a.shape -> (1, 3)``\n",
    "\n",
    "규칙 2:\n",
    "\n",
    "- ``M.shape -> (3, 2)``\n",
    "- ``a.shape -> (3, 3)``\n",
    "\n",
    "규칙 3:"
   ]
  },
  {
   "cell_type": "code",
   "execution_count": null,
   "metadata": {
    "colab": {
     "base_uri": "https://localhost:8080/",
     "height": 147
    },
    "executionInfo": {
     "elapsed": 382,
     "status": "error",
     "timestamp": 1725241781688,
     "user": {
      "displayName": "김광수",
      "userId": "04260902725982947063"
     },
     "user_tz": -540
    },
    "id": "62wJigvmpqp2",
    "outputId": "230948cc-bb87-4912-d169-28e35aebef6e"
   },
   "outputs": [
    {
     "ename": "ValueError",
     "evalue": "operands could not be broadcast together with shapes (3,2) (3,) ",
     "output_type": "error",
     "traceback": [
      "\u001b[0;31m---------------------------------------------------------------------------\u001b[0m",
      "\u001b[0;31mValueError\u001b[0m                                Traceback (most recent call last)",
      "\u001b[0;32m<ipython-input-138-8cac1d547906>\u001b[0m in \u001b[0;36m<cell line: 1>\u001b[0;34m()\u001b[0m\n\u001b[0;32m----> 1\u001b[0;31m \u001b[0mM\u001b[0m \u001b[0;34m+\u001b[0m \u001b[0ma\u001b[0m\u001b[0;34m\u001b[0m\u001b[0;34m\u001b[0m\u001b[0m\n\u001b[0m",
      "\u001b[0;31mValueError\u001b[0m: operands could not be broadcast together with shapes (3,2) (3,) "
     ]
    }
   ],
   "source": [
    "M + a"
   ]
  },
  {
   "cell_type": "markdown",
   "metadata": {
    "id": "X_kKkVb8pqp2"
   },
   "source": [
    " ``np.newaxis`` 를 이용한 형상 변경:"
   ]
  },
  {
   "cell_type": "code",
   "execution_count": null,
   "metadata": {
    "colab": {
     "base_uri": "https://localhost:8080/"
    },
    "executionInfo": {
     "elapsed": 363,
     "status": "ok",
     "timestamp": 1725241802002,
     "user": {
      "displayName": "김광수",
      "userId": "04260902725982947063"
     },
     "user_tz": -540
    },
    "id": "oWPexbh1pqp2",
    "outputId": "80dba502-20f7-4720-9c75-2380913d0a41"
   },
   "outputs": [
    {
     "name": "stdout",
     "output_type": "stream",
     "text": [
      "(3, 1)\n"
     ]
    },
    {
     "data": {
      "text/plain": [
       "(3, 2)"
      ]
     },
     "execution_count": 139,
     "metadata": {},
     "output_type": "execute_result"
    }
   ],
   "source": [
    "print(a[:, np.newaxis].shape)\n",
    "M.shape"
   ]
  },
  {
   "cell_type": "markdown",
   "metadata": {
    "id": "uxD0FNBQ9a5A"
   },
   "source": [
    "a: (3, ) -> (3,1) -> (3,2)\n",
    "b: (3, 2)"
   ]
  },
  {
   "cell_type": "code",
   "execution_count": null,
   "metadata": {
    "colab": {
     "base_uri": "https://localhost:8080/"
    },
    "executionInfo": {
     "elapsed": 362,
     "status": "ok",
     "timestamp": 1725241809115,
     "user": {
      "displayName": "김광수",
      "userId": "04260902725982947063"
     },
     "user_tz": -540
    },
    "id": "hSu9xxoZpqp2",
    "outputId": "92f05ef9-812a-4bfe-f695-37cca0018564"
   },
   "outputs": [
    {
     "name": "stdout",
     "output_type": "stream",
     "text": [
      "[[1. 1.]\n",
      " [1. 1.]\n",
      " [1. 1.]]\n",
      "[[0]\n",
      " [1]\n",
      " [2]]\n"
     ]
    },
    {
     "data": {
      "text/plain": [
       "array([[1., 1.],\n",
       "       [2., 2.],\n",
       "       [3., 3.]])"
      ]
     },
     "execution_count": 140,
     "metadata": {},
     "output_type": "execute_result"
    }
   ],
   "source": [
    "print(M)\n",
    "print(a[:, np.newaxis])\n",
    "M + a[:, np.newaxis]"
   ]
  },
  {
   "cell_type": "code",
   "execution_count": null,
   "metadata": {
    "colab": {
     "base_uri": "https://localhost:8080/"
    },
    "executionInfo": {
     "elapsed": 351,
     "status": "ok",
     "timestamp": 1725241819505,
     "user": {
      "displayName": "김광수",
      "userId": "04260902725982947063"
     },
     "user_tz": -540
    },
    "id": "A-C8qymRpqp2",
    "outputId": "0170451b-24a3-422a-e68f-fc0768067f0b"
   },
   "outputs": [
    {
     "data": {
      "text/plain": [
       "array([[0],\n",
       "       [1],\n",
       "       [2]])"
      ]
     },
     "execution_count": 141,
     "metadata": {},
     "output_type": "execute_result"
    }
   ],
   "source": [
    "a[:, np.newaxis]"
   ]
  },
  {
   "cell_type": "markdown",
   "metadata": {
    "id": "oeidchpNpqp3"
   },
   "source": [
    "참고. broadcasting 규칙은 모든 이항 ufunc에 적용이 된다."
   ]
  },
  {
   "cell_type": "markdown",
   "metadata": {
    "id": "JCOCo4U1pqp3"
   },
   "source": [
    "### 실전 Broadcasting\n",
    "\n",
    "다음의 예는 통계학에서 자주 사용되는 배열을 표준화(Standardization)하는 것이다.\n",
    "$$ Z = \\frac{X - \\bar{X}}{S},$$\n",
    "식에서 $\\bar{X}$는 평균, $S$는 표준편차를 나타낸다."
   ]
  },
  {
   "cell_type": "code",
   "execution_count": null,
   "metadata": {
    "colab": {
     "base_uri": "https://localhost:8080/"
    },
    "executionInfo": {
     "elapsed": 527,
     "status": "ok",
     "timestamp": 1725241842077,
     "user": {
      "displayName": "김광수",
      "userId": "04260902725982947063"
     },
     "user_tz": -540
    },
    "id": "WfrH1hGepqp3",
    "outputId": "fdbbe612-4afb-43fc-86a4-4b9f703cf345"
   },
   "outputs": [
    {
     "name": "stdout",
     "output_type": "stream",
     "text": [
      "[[4.17022005e-01 7.20324493e-01 1.14374817e-04]\n",
      " [3.02332573e-01 1.46755891e-01 9.23385948e-02]\n",
      " [1.86260211e-01 3.45560727e-01 3.96767474e-01]\n",
      " [5.38816734e-01 4.19194514e-01 6.85219500e-01]\n",
      " [2.04452250e-01 8.78117436e-01 2.73875932e-02]\n",
      " [6.70467510e-01 4.17304802e-01 5.58689828e-01]\n",
      " [1.40386939e-01 1.98101489e-01 8.00744569e-01]\n",
      " [9.68261576e-01 3.13424178e-01 6.92322616e-01]\n",
      " [8.76389152e-01 8.94606664e-01 8.50442114e-02]\n",
      " [3.90547832e-02 1.69830420e-01 8.78142503e-01]]\n"
     ]
    }
   ],
   "source": [
    "import numpy as np\n",
    "np.random.seed(1)\n",
    "\n",
    "X = np.random.random((10, 3))\n",
    "print(X)"
   ]
  },
  {
   "cell_type": "code",
   "execution_count": null,
   "metadata": {
    "colab": {
     "base_uri": "https://localhost:8080/"
    },
    "executionInfo": {
     "elapsed": 405,
     "status": "ok",
     "timestamp": 1725241844874,
     "user": {
      "displayName": "김광수",
      "userId": "04260902725982947063"
     },
     "user_tz": -540
    },
    "id": "Fa7sSf8xpqp3",
    "outputId": "20f783fd-a7c5-4b74-fcc7-e7bb2832ab5c"
   },
   "outputs": [
    {
     "data": {
      "text/plain": [
       "array([0.43434437, 0.45032206, 0.42167713])"
      ]
     },
     "execution_count": 143,
     "metadata": {},
     "output_type": "execute_result"
    }
   ],
   "source": [
    "Xmean = X.mean(0)\n",
    "Xmean"
   ]
  },
  {
   "cell_type": "code",
   "execution_count": null,
   "metadata": {
    "id": "aYm8AcOqpqp3"
   },
   "outputs": [],
   "source": [
    "X_centered = X - Xmean"
   ]
  },
  {
   "cell_type": "code",
   "execution_count": null,
   "metadata": {
    "colab": {
     "base_uri": "https://localhost:8080/"
    },
    "id": "wyvMx6QOpqp3",
    "outputId": "4f9fd59f-2af3-449f-86ed-a626a8945e14"
   },
   "outputs": [
    {
     "data": {
      "text/plain": [
       "array([ 3.33066907e-17, -4.44089210e-17, -1.11022302e-17])"
      ]
     },
     "execution_count": 6,
     "metadata": {},
     "output_type": "execute_result"
    }
   ],
   "source": [
    "X_centered.mean(0)"
   ]
  },
  {
   "cell_type": "code",
   "execution_count": null,
   "metadata": {
    "colab": {
     "base_uri": "https://localhost:8080/"
    },
    "executionInfo": {
     "elapsed": 389,
     "status": "ok",
     "timestamp": 1725241855496,
     "user": {
      "displayName": "김광수",
      "userId": "04260902725982947063"
     },
     "user_tz": -540
    },
    "id": "Qz1upmxdpqp4",
    "outputId": "a8443250-7395-41d8-81db-12f59d16b1a2"
   },
   "outputs": [
    {
     "data": {
      "text/plain": [
       "array([0.30363266, 0.26823818, 0.32697313])"
      ]
     },
     "execution_count": 145,
     "metadata": {},
     "output_type": "execute_result"
    }
   ],
   "source": [
    "Xstd = X.std(0)\n",
    "Xstd"
   ]
  },
  {
   "cell_type": "code",
   "execution_count": null,
   "metadata": {
    "id": "a0Eqh72lpqp4"
   },
   "outputs": [],
   "source": [
    "Xstand = X_centered/Xstd"
   ]
  },
  {
   "cell_type": "code",
   "execution_count": null,
   "metadata": {
    "colab": {
     "base_uri": "https://localhost:8080/"
    },
    "executionInfo": {
     "elapsed": 385,
     "status": "ok",
     "timestamp": 1725241861919,
     "user": {
      "displayName": "김광수",
      "userId": "04260902725982947063"
     },
     "user_tz": -540
    },
    "id": "5tgurOtdpqp4",
    "outputId": "384942e8-efc8-48fc-ee62-b9d6952a4941"
   },
   "outputs": [
    {
     "data": {
      "text/plain": [
       "array([1., 1., 1.])"
      ]
     },
     "execution_count": 147,
     "metadata": {},
     "output_type": "execute_result"
    }
   ],
   "source": [
    "Xstand.std(0)"
   ]
  },
  {
   "cell_type": "code",
   "execution_count": null,
   "metadata": {
    "colab": {
     "base_uri": "https://localhost:8080/"
    },
    "executionInfo": {
     "elapsed": 2,
     "status": "ok",
     "timestamp": 1725241863206,
     "user": {
      "displayName": "김광수",
      "userId": "04260902725982947063"
     },
     "user_tz": -540
    },
    "id": "zjzBNvI4pqp4",
    "outputId": "d9cbbb5e-7169-4ca2-e72e-802c03e66727"
   },
   "outputs": [
    {
     "data": {
      "text/plain": [
       "array([ 1.33226763e-16, -1.77635684e-16,  2.22044605e-17])"
      ]
     },
     "execution_count": 148,
     "metadata": {},
     "output_type": "execute_result"
    }
   ],
   "source": [
    "Xstand.mean(0)"
   ]
  },
  {
   "cell_type": "markdown",
   "metadata": {
    "id": "r_aXgp58pqp4"
   },
   "source": [
    "## 비교, 마스크, 부울 로직\n",
    "\n",
    "**NumPy**는 배열 내의 값을 검사하고 조작하는 데 부울 마스크를 사용한다. 여기서, 마스킹은 특정 기준에 따라 배열의 값을 추출하거나 수정, 계산, 조작하는 것을 의미한다."
   ]
  },
  {
   "cell_type": "markdown",
   "metadata": {
    "id": "7XuoUoBDpqp4"
   },
   "source": [
    "### ufuncs으로서의 비교 연산자"
   ]
  },
  {
   "cell_type": "code",
   "execution_count": null,
   "metadata": {
    "colab": {
     "base_uri": "https://localhost:8080/"
    },
    "executionInfo": {
     "elapsed": 374,
     "status": "ok",
     "timestamp": 1725241917427,
     "user": {
      "displayName": "김광수",
      "userId": "04260902725982947063"
     },
     "user_tz": -540
    },
    "id": "mVLGGN-5pqp5",
    "outputId": "8d011c5f-a23e-4c20-a324-20a077719799"
   },
   "outputs": [
    {
     "name": "stdout",
     "output_type": "stream",
     "text": [
      "[1 2 3 4 5]\n"
     ]
    }
   ],
   "source": [
    "x = np.array([1, 2, 3, 4, 5])\n",
    "print(x)"
   ]
  },
  {
   "cell_type": "code",
   "execution_count": null,
   "metadata": {
    "colab": {
     "base_uri": "https://localhost:8080/"
    },
    "executionInfo": {
     "elapsed": 372,
     "status": "ok",
     "timestamp": 1725241920463,
     "user": {
      "displayName": "김광수",
      "userId": "04260902725982947063"
     },
     "user_tz": -540
    },
    "id": "oIqb3IDPpqp5",
    "outputId": "7798dcd5-f9af-4015-fd42-4cb13f3e5358"
   },
   "outputs": [
    {
     "data": {
      "text/plain": [
       "array([ True,  True, False, False, False])"
      ]
     },
     "execution_count": 150,
     "metadata": {},
     "output_type": "execute_result"
    }
   ],
   "source": [
    "x < 3  # less than"
   ]
  },
  {
   "cell_type": "code",
   "execution_count": null,
   "metadata": {
    "colab": {
     "base_uri": "https://localhost:8080/"
    },
    "executionInfo": {
     "elapsed": 671,
     "status": "ok",
     "timestamp": 1725241921561,
     "user": {
      "displayName": "김광수",
      "userId": "04260902725982947063"
     },
     "user_tz": -540
    },
    "id": "wdg_l5cEpqp5",
    "outputId": "42d4f98c-ce03-4ac4-85f2-aa1e11c30ecc"
   },
   "outputs": [
    {
     "data": {
      "text/plain": [
       "array([False, False, False,  True,  True])"
      ]
     },
     "execution_count": 151,
     "metadata": {},
     "output_type": "execute_result"
    }
   ],
   "source": [
    "x > 3  # greater than"
   ]
  },
  {
   "cell_type": "code",
   "execution_count": null,
   "metadata": {
    "colab": {
     "base_uri": "https://localhost:8080/"
    },
    "id": "4QL3f1WEpqp5",
    "outputId": "b62266de-242f-4312-b943-cfcb2110dcf3"
   },
   "outputs": [
    {
     "data": {
      "text/plain": [
       "array([ True,  True,  True, False, False])"
      ]
     },
     "execution_count": 14,
     "metadata": {},
     "output_type": "execute_result"
    }
   ],
   "source": [
    "x <= 3  # less than or equal"
   ]
  },
  {
   "cell_type": "code",
   "execution_count": null,
   "metadata": {
    "colab": {
     "base_uri": "https://localhost:8080/"
    },
    "executionInfo": {
     "elapsed": 402,
     "status": "ok",
     "timestamp": 1725241924126,
     "user": {
      "displayName": "김광수",
      "userId": "04260902725982947063"
     },
     "user_tz": -540
    },
    "id": "igm58JJvpqp5",
    "outputId": "d2c6653f-58a2-4b55-a087-432682f72459"
   },
   "outputs": [
    {
     "data": {
      "text/plain": [
       "array([False, False,  True,  True,  True])"
      ]
     },
     "execution_count": 152,
     "metadata": {},
     "output_type": "execute_result"
    }
   ],
   "source": [
    "x >= 3  # greater than or equal"
   ]
  },
  {
   "cell_type": "code",
   "execution_count": null,
   "metadata": {
    "colab": {
     "base_uri": "https://localhost:8080/"
    },
    "executionInfo": {
     "elapsed": 2,
     "status": "ok",
     "timestamp": 1725241924509,
     "user": {
      "displayName": "김광수",
      "userId": "04260902725982947063"
     },
     "user_tz": -540
    },
    "id": "I5vWB4JQpqp6",
    "outputId": "fbf834c0-0989-4b37-8fab-600f8ae127c5"
   },
   "outputs": [
    {
     "data": {
      "text/plain": [
       "array([ True,  True, False,  True,  True])"
      ]
     },
     "execution_count": 153,
     "metadata": {},
     "output_type": "execute_result"
    }
   ],
   "source": [
    "x != 3  # not equal"
   ]
  },
  {
   "cell_type": "code",
   "execution_count": null,
   "metadata": {
    "colab": {
     "base_uri": "https://localhost:8080/"
    },
    "executionInfo": {
     "elapsed": 3,
     "status": "ok",
     "timestamp": 1725241925450,
     "user": {
      "displayName": "김광수",
      "userId": "04260902725982947063"
     },
     "user_tz": -540
    },
    "id": "vGXuUFcfpqp6",
    "outputId": "f83c5040-8bfa-470e-f705-f68e1b440830"
   },
   "outputs": [
    {
     "data": {
      "text/plain": [
       "array([False, False,  True, False, False])"
      ]
     },
     "execution_count": 154,
     "metadata": {},
     "output_type": "execute_result"
    }
   ],
   "source": [
    "x == 3  # equal"
   ]
  },
  {
   "cell_type": "markdown",
   "metadata": {
    "id": "op9MA5-Fpqp6"
   },
   "source": [
    "두 배열을 항목별로 비교할 수 있으며 복합 표현식을 적용할 수도 있다."
   ]
  },
  {
   "cell_type": "code",
   "execution_count": null,
   "metadata": {
    "colab": {
     "base_uri": "https://localhost:8080/"
    },
    "executionInfo": {
     "elapsed": 387,
     "status": "ok",
     "timestamp": 1725241929194,
     "user": {
      "displayName": "김광수",
      "userId": "04260902725982947063"
     },
     "user_tz": -540
    },
    "id": "kL5eE0mCpqp6",
    "outputId": "ebd8bf1f-525f-4329-c644-f9c140033e8b"
   },
   "outputs": [
    {
     "data": {
      "text/plain": [
       "array([False,  True, False, False, False])"
      ]
     },
     "execution_count": 155,
     "metadata": {},
     "output_type": "execute_result"
    }
   ],
   "source": [
    "(2 * x) == (x ** 2)"
   ]
  },
  {
   "cell_type": "markdown",
   "metadata": {
    "id": "hRgO5hK3pqp6"
   },
   "source": [
    "비교 연산자와 그에 대응하는 ``ufunc``함수:\n",
    "\n",
    "| Operator\t    | Equivalent ufunc    || Operator\t   | Equivalent ufunc    |\n",
    "|---------------|---------------------||---------------|---------------------|\n",
    "|``==``         |``np.equal``         ||``!=``         |``np.not_equal``     |\n",
    "|``<``          |``np.less``          ||``<=``         |``np.less_equal``    |\n",
    "|``>``          |``np.greater``       ||``>=``         |``np.greater_equal`` |"
   ]
  },
  {
   "cell_type": "markdown",
   "metadata": {
    "id": "7s0Z4Bsbpqp6"
   },
   "source": [
    "2차원 예제:"
   ]
  },
  {
   "cell_type": "code",
   "execution_count": null,
   "metadata": {
    "colab": {
     "base_uri": "https://localhost:8080/"
    },
    "executionInfo": {
     "elapsed": 416,
     "status": "ok",
     "timestamp": 1725241932012,
     "user": {
      "displayName": "김광수",
      "userId": "04260902725982947063"
     },
     "user_tz": -540
    },
    "id": "QjK5ONxzpqp6",
    "outputId": "64edd305-6375-4cec-dfc0-b3e815e3fe23"
   },
   "outputs": [
    {
     "data": {
      "text/plain": [
       "array([[8, 8, 3, 7],\n",
       "       [7, 0, 4, 2],\n",
       "       [5, 2, 2, 2]])"
      ]
     },
     "execution_count": 156,
     "metadata": {},
     "output_type": "execute_result"
    }
   ],
   "source": [
    "rng = np.random.RandomState(100) # random seed 와 비슷하게 기능 #\n",
    "x = rng.randint(10, size=(3, 4))\n",
    "x"
   ]
  },
  {
   "cell_type": "code",
   "execution_count": null,
   "metadata": {
    "colab": {
     "base_uri": "https://localhost:8080/"
    },
    "executionInfo": {
     "elapsed": 445,
     "status": "ok",
     "timestamp": 1725241936339,
     "user": {
      "displayName": "김광수",
      "userId": "04260902725982947063"
     },
     "user_tz": -540
    },
    "id": "0dxzcjokpqp7",
    "outputId": "6d7e1c2b-f316-4998-a7bc-1a6043cc4011"
   },
   "outputs": [
    {
     "data": {
      "text/plain": [
       "array([[False, False,  True, False],\n",
       "       [False,  True,  True,  True],\n",
       "       [ True,  True,  True,  True]])"
      ]
     },
     "execution_count": 157,
     "metadata": {},
     "output_type": "execute_result"
    }
   ],
   "source": [
    "x < 6"
   ]
  },
  {
   "cell_type": "markdown",
   "metadata": {
    "id": "oanXPf9Tpqp7"
   },
   "source": [
    "### 부울 배열을 이용한 작업"
   ]
  },
  {
   "cell_type": "markdown",
   "metadata": {
    "id": "HimeYIkMpqp7"
   },
   "source": [
    "부울 배열에서 참인 요소의 개수를 셀 수 있다."
   ]
  },
  {
   "cell_type": "code",
   "execution_count": null,
   "metadata": {
    "colab": {
     "base_uri": "https://localhost:8080/"
    },
    "executionInfo": {
     "elapsed": 395,
     "status": "ok",
     "timestamp": 1725241938815,
     "user": {
      "displayName": "김광수",
      "userId": "04260902725982947063"
     },
     "user_tz": -540
    },
    "id": "AQaSvTO3pqp7",
    "outputId": "b1e5cab1-51b4-4cb1-cd3d-479500220da3"
   },
   "outputs": [
    {
     "data": {
      "text/plain": [
       "8"
      ]
     },
     "execution_count": 158,
     "metadata": {},
     "output_type": "execute_result"
    }
   ],
   "source": [
    "# how many values less than 6?\n",
    "np.count_nonzero(x < 6)"
   ]
  },
  {
   "cell_type": "code",
   "execution_count": null,
   "metadata": {
    "colab": {
     "base_uri": "https://localhost:8080/"
    },
    "executionInfo": {
     "elapsed": 369,
     "status": "ok",
     "timestamp": 1725241946982,
     "user": {
      "displayName": "김광수",
      "userId": "04260902725982947063"
     },
     "user_tz": -540
    },
    "id": "g7_9ev_Hpqp7",
    "outputId": "23bdde9e-53b3-4eea-8fc5-3240a429bbab"
   },
   "outputs": [
    {
     "data": {
      "text/plain": [
       "8"
      ]
     },
     "execution_count": 159,
     "metadata": {},
     "output_type": "execute_result"
    }
   ],
   "source": [
    "np.sum(x < 6)"
   ]
  },
  {
   "cell_type": "code",
   "execution_count": null,
   "metadata": {
    "colab": {
     "base_uri": "https://localhost:8080/"
    },
    "executionInfo": {
     "elapsed": 360,
     "status": "ok",
     "timestamp": 1725242048187,
     "user": {
      "displayName": "김광수",
      "userId": "04260902725982947063"
     },
     "user_tz": -540
    },
    "id": "WMr6XzbLpqp7",
    "outputId": "ecd1c922-74f8-44ff-d341-c650f2c02b2f"
   },
   "outputs": [
    {
     "name": "stdout",
     "output_type": "stream",
     "text": [
      "[1 3 4]\n",
      "[[False False  True False]\n",
      " [False  True  True  True]\n",
      " [ True  True  True  True]]\n"
     ]
    }
   ],
   "source": [
    "# 각 행별로 6보다 작은 값들을 세어봄 (연산은 열단위로 이루어짐)\n",
    "print(np.sum(x < 6, axis=1))\n",
    "print(x<6)"
   ]
  },
  {
   "cell_type": "code",
   "execution_count": null,
   "metadata": {
    "colab": {
     "base_uri": "https://localhost:8080/"
    },
    "executionInfo": {
     "elapsed": 377,
     "status": "ok",
     "timestamp": 1725241971204,
     "user": {
      "displayName": "김광수",
      "userId": "04260902725982947063"
     },
     "user_tz": -540
    },
    "id": "4EUhASXQ9SbU",
    "outputId": "d80efbec-3ebf-497f-e80e-90906c455be0"
   },
   "outputs": [
    {
     "data": {
      "text/plain": [
       "array([[False, False, False, False],\n",
       "       [False, False, False, False],\n",
       "       [False, False, False, False]])"
      ]
     },
     "execution_count": 162,
     "metadata": {},
     "output_type": "execute_result"
    }
   ],
   "source": [
    "x == 6"
   ]
  },
  {
   "cell_type": "markdown",
   "metadata": {
    "id": "p2ZVDQcNpqp7"
   },
   "source": [
    "값 중 하나라도 참이 있는 지나 모든 값이 참인지 빠르게 확인할 수 있다."
   ]
  },
  {
   "cell_type": "code",
   "execution_count": null,
   "metadata": {
    "colab": {
     "base_uri": "https://localhost:8080/"
    },
    "id": "GUv-ax4qpqp8",
    "outputId": "16044ef2-25a1-4598-8602-502ecfbdd4d0"
   },
   "outputs": [
    {
     "data": {
      "text/plain": [
       "False"
      ]
     },
     "execution_count": 26,
     "metadata": {},
     "output_type": "execute_result"
    }
   ],
   "source": [
    "# are there any values greater than 8?\n",
    "np.any(x > 8)"
   ]
  },
  {
   "cell_type": "code",
   "execution_count": null,
   "metadata": {
    "colab": {
     "base_uri": "https://localhost:8080/"
    },
    "id": "IwIsBbajpqp8",
    "outputId": "1b44911d-28de-4ecb-bc9b-f06999736de7"
   },
   "outputs": [
    {
     "data": {
      "text/plain": [
       "False"
      ]
     },
     "execution_count": 27,
     "metadata": {},
     "output_type": "execute_result"
    }
   ],
   "source": [
    "# are there any values less than zero?\n",
    "np.any(x < 0)"
   ]
  },
  {
   "cell_type": "code",
   "execution_count": null,
   "metadata": {
    "colab": {
     "base_uri": "https://localhost:8080/"
    },
    "id": "uJZiH0L_pqp8",
    "outputId": "bb4c506b-a824-4e86-f716-6916617280a8"
   },
   "outputs": [
    {
     "data": {
      "text/plain": [
       "True"
      ]
     },
     "execution_count": 28,
     "metadata": {},
     "output_type": "execute_result"
    }
   ],
   "source": [
    "# are all values less than 10?\n",
    "np.all(x < 10)"
   ]
  },
  {
   "cell_type": "code",
   "execution_count": null,
   "metadata": {
    "colab": {
     "base_uri": "https://localhost:8080/"
    },
    "id": "bTg-qvpipqp8",
    "outputId": "185b791b-e58e-46bd-a1f2-a3fea12ef4bc"
   },
   "outputs": [
    {
     "data": {
      "text/plain": [
       "False"
      ]
     },
     "execution_count": 29,
     "metadata": {},
     "output_type": "execute_result"
    }
   ],
   "source": [
    "# are all values equal to 6?\n",
    "np.all(x == 6)"
   ]
  },
  {
   "cell_type": "code",
   "execution_count": null,
   "metadata": {
    "colab": {
     "base_uri": "https://localhost:8080/"
    },
    "id": "NHTu3flupqp9",
    "outputId": "b409300d-d239-489b-960a-a83fd97e5807"
   },
   "outputs": [
    {
     "data": {
      "text/plain": [
       "array([False,  True,  True])"
      ]
     },
     "execution_count": 30,
     "metadata": {},
     "output_type": "execute_result"
    }
   ],
   "source": [
    "# are all values in each row less than 8?\n",
    "np.all(x < 8, axis=1)"
   ]
  },
  {
   "cell_type": "markdown",
   "metadata": {
    "id": "zZJ-nFLvpqp9"
   },
   "source": [
    "부울연산자는 동시에 여러식을 비교할때 사용하는 연산자이다."
   ]
  },
  {
   "cell_type": "code",
   "execution_count": null,
   "metadata": {
    "colab": {
     "base_uri": "https://localhost:8080/"
    },
    "executionInfo": {
     "elapsed": 406,
     "status": "ok",
     "timestamp": 1725242103856,
     "user": {
      "displayName": "김광수",
      "userId": "04260902725982947063"
     },
     "user_tz": -540
    },
    "id": "usSGPzgVpqp9",
    "outputId": "6892cef4-89b1-42a7-953d-aed8a5caf474"
   },
   "outputs": [
    {
     "data": {
      "text/plain": [
       "4"
      ]
     },
     "execution_count": 166,
     "metadata": {},
     "output_type": "execute_result"
    }
   ],
   "source": [
    "np.sum((x > 3) & (x < 8))"
   ]
  },
  {
   "cell_type": "markdown",
   "metadata": {
    "id": "CUMJy2m4pqp9"
   },
   "source": [
    "다음은 부울 연산자와 그에 상응하는 ``ufuncs``이다."
   ]
  },
  {
   "cell_type": "markdown",
   "metadata": {
    "id": "IkTs6nEApqp9"
   },
   "source": [
    "| Operator\t    | Equivalent ufunc    || Operator\t    | Equivalent ufunc    |\n",
    "|---------------|---------------------||---------------|---------------------|\n",
    "|``&``          |``np.bitwise_and``   ||&#124;         |``np.bitwise_or``    |\n",
    "|``^``          |``np.bitwise_xor``   ||``~``          |``np.bitwise_not``   |"
   ]
  },
  {
   "cell_type": "markdown",
   "metadata": {
    "id": "V-UDw0U1pqp9"
   },
   "source": [
    "### 마스크로서의 부울 배열\n",
    "\n",
    "부울 배열을 마스크로 사용해 데이터 자체의 특정 부분 집합을 선택할 수 있다."
   ]
  },
  {
   "cell_type": "code",
   "execution_count": null,
   "metadata": {
    "colab": {
     "base_uri": "https://localhost:8080/"
    },
    "executionInfo": {
     "elapsed": 538,
     "status": "ok",
     "timestamp": 1725242106218,
     "user": {
      "displayName": "김광수",
      "userId": "04260902725982947063"
     },
     "user_tz": -540
    },
    "id": "QoarZ4cvpqp9",
    "outputId": "4a640873-7b07-460c-d148-29654837a8c6"
   },
   "outputs": [
    {
     "data": {
      "text/plain": [
       "array([[8, 8, 3, 7],\n",
       "       [7, 0, 4, 2],\n",
       "       [5, 2, 2, 2]])"
      ]
     },
     "execution_count": 167,
     "metadata": {},
     "output_type": "execute_result"
    }
   ],
   "source": [
    "x"
   ]
  },
  {
   "cell_type": "code",
   "execution_count": null,
   "metadata": {
    "colab": {
     "base_uri": "https://localhost:8080/"
    },
    "executionInfo": {
     "elapsed": 397,
     "status": "ok",
     "timestamp": 1725242107051,
     "user": {
      "displayName": "김광수",
      "userId": "04260902725982947063"
     },
     "user_tz": -540
    },
    "id": "-P9dnbq3pqp9",
    "outputId": "2bcfd819-2acd-4b5f-faa8-23123d5fcb3a"
   },
   "outputs": [
    {
     "data": {
      "text/plain": [
       "array([[False, False,  True, False],\n",
       "       [False,  True,  True,  True],\n",
       "       [False,  True,  True,  True]])"
      ]
     },
     "execution_count": 168,
     "metadata": {},
     "output_type": "execute_result"
    }
   ],
   "source": [
    "x < 5"
   ]
  },
  {
   "cell_type": "markdown",
   "metadata": {
    "id": "Trjn34yDpqp9"
   },
   "source": [
    "부울 배열을 인덱스로 사용 (마스킹 연산):"
   ]
  },
  {
   "cell_type": "code",
   "execution_count": null,
   "metadata": {
    "colab": {
     "base_uri": "https://localhost:8080/"
    },
    "executionInfo": {
     "elapsed": 374,
     "status": "ok",
     "timestamp": 1725242109225,
     "user": {
      "displayName": "김광수",
      "userId": "04260902725982947063"
     },
     "user_tz": -540
    },
    "id": "WqId6aqSpqp-",
    "outputId": "05012698-929b-4900-91a5-9b639e347ebb"
   },
   "outputs": [
    {
     "data": {
      "text/plain": [
       "array([3, 0, 4, 2, 2, 2, 2])"
      ]
     },
     "execution_count": 169,
     "metadata": {},
     "output_type": "execute_result"
    }
   ],
   "source": [
    "x[x < 5]"
   ]
  },
  {
   "cell_type": "markdown",
   "metadata": {
    "id": "dgL6AD25pqp-"
   },
   "source": [
    "### 키워드 and/or vs 연산자 &/|"
   ]
  },
  {
   "cell_type": "markdown",
   "metadata": {
    "id": "HoeQmg80pqp-"
   },
   "source": [
    "\n",
    "``and/or``는 전체 객체에 대해 단일 부울 평가를 수행한다."
   ]
  },
  {
   "cell_type": "code",
   "execution_count": null,
   "metadata": {
    "colab": {
     "base_uri": "https://localhost:8080/"
    },
    "executionInfo": {
     "elapsed": 2,
     "status": "ok",
     "timestamp": 1725242110200,
     "user": {
      "displayName": "김광수",
      "userId": "04260902725982947063"
     },
     "user_tz": -540
    },
    "id": "98vTaLe2pqp-",
    "outputId": "03ba73a7-04c1-4dc6-a58a-f5f96a497d32"
   },
   "outputs": [
    {
     "data": {
      "text/plain": [
       "(True, False)"
      ]
     },
     "execution_count": 170,
     "metadata": {},
     "output_type": "execute_result"
    }
   ],
   "source": [
    "bool(42), bool(0)"
   ]
  },
  {
   "cell_type": "markdown",
   "metadata": {
    "id": "wRhIFeo8_lRs"
   },
   "source": [
    "bool 문은 0이 거짓, 양수는 참으로 반환"
   ]
  },
  {
   "cell_type": "code",
   "execution_count": null,
   "metadata": {
    "colab": {
     "base_uri": "https://localhost:8080/"
    },
    "executionInfo": {
     "elapsed": 378,
     "status": "ok",
     "timestamp": 1725242113076,
     "user": {
      "displayName": "김광수",
      "userId": "04260902725982947063"
     },
     "user_tz": -540
    },
    "id": "W1RiXq4Lpqp-",
    "outputId": "ed7413e1-3393-418a-c2e4-d54a06a6bf83"
   },
   "outputs": [
    {
     "data": {
      "text/plain": [
       "False"
      ]
     },
     "execution_count": 171,
     "metadata": {},
     "output_type": "execute_result"
    }
   ],
   "source": [
    "bool(42 and 0)"
   ]
  },
  {
   "cell_type": "code",
   "execution_count": null,
   "metadata": {
    "colab": {
     "base_uri": "https://localhost:8080/"
    },
    "executionInfo": {
     "elapsed": 406,
     "status": "ok",
     "timestamp": 1725242116762,
     "user": {
      "displayName": "김광수",
      "userId": "04260902725982947063"
     },
     "user_tz": -540
    },
    "id": "73kos1Igpqp-",
    "outputId": "a12e2614-1702-4359-e703-d3cd668fbab2"
   },
   "outputs": [
    {
     "data": {
      "text/plain": [
       "True"
      ]
     },
     "execution_count": 172,
     "metadata": {},
     "output_type": "execute_result"
    }
   ],
   "source": [
    "bool(42 or 0)"
   ]
  },
  {
   "cell_type": "markdown",
   "metadata": {
    "id": "k8nNBtugpqp-"
   },
   "source": [
    "``&/|``는 객체의 내용에 대해 여러 번 부울 평가를 수행한다."
   ]
  },
  {
   "cell_type": "code",
   "execution_count": null,
   "metadata": {
    "colab": {
     "base_uri": "https://localhost:8080/",
     "height": 35
    },
    "executionInfo": {
     "elapsed": 390,
     "status": "ok",
     "timestamp": 1725242180333,
     "user": {
      "displayName": "김광수",
      "userId": "04260902725982947063"
     },
     "user_tz": -540
    },
    "id": "c5r2I2uOpqp-",
    "outputId": "e132857b-7ee7-45dd-dcc7-315973ada6bc"
   },
   "outputs": [
    {
     "data": {
      "application/vnd.google.colaboratory.intrinsic+json": {
       "type": "string"
      },
      "text/plain": [
       "'0b101010'"
      ]
     },
     "execution_count": 177,
     "metadata": {},
     "output_type": "execute_result"
    }
   ],
   "source": [
    "bin(42)"
   ]
  },
  {
   "cell_type": "code",
   "execution_count": null,
   "metadata": {
    "colab": {
     "base_uri": "https://localhost:8080/",
     "height": 35
    },
    "executionInfo": {
     "elapsed": 368,
     "status": "ok",
     "timestamp": 1725242122025,
     "user": {
      "displayName": "김광수",
      "userId": "04260902725982947063"
     },
     "user_tz": -540
    },
    "id": "zMale4g1pqp-",
    "outputId": "34fb9cfa-d915-4cc0-bc67-24d5734632da"
   },
   "outputs": [
    {
     "data": {
      "application/vnd.google.colaboratory.intrinsic+json": {
       "type": "string"
      },
      "text/plain": [
       "'0b111011'"
      ]
     },
     "execution_count": 174,
     "metadata": {},
     "output_type": "execute_result"
    }
   ],
   "source": [
    "bin(59)"
   ]
  },
  {
   "cell_type": "code",
   "execution_count": null,
   "metadata": {
    "colab": {
     "base_uri": "https://localhost:8080/",
     "height": 35
    },
    "executionInfo": {
     "elapsed": 373,
     "status": "ok",
     "timestamp": 1725242124128,
     "user": {
      "displayName": "김광수",
      "userId": "04260902725982947063"
     },
     "user_tz": -540
    },
    "id": "Q4Ey9vtQpqp-",
    "outputId": "bc1a7155-1e31-41b1-913f-fd194939e954"
   },
   "outputs": [
    {
     "data": {
      "application/vnd.google.colaboratory.intrinsic+json": {
       "type": "string"
      },
      "text/plain": [
       "'0b101010'"
      ]
     },
     "execution_count": 175,
     "metadata": {},
     "output_type": "execute_result"
    }
   ],
   "source": [
    "bin(42 & 59) # 각 원소별로 평가"
   ]
  },
  {
   "cell_type": "code",
   "execution_count": null,
   "metadata": {
    "colab": {
     "base_uri": "https://localhost:8080/",
     "height": 35
    },
    "executionInfo": {
     "elapsed": 357,
     "status": "ok",
     "timestamp": 1725242127746,
     "user": {
      "displayName": "김광수",
      "userId": "04260902725982947063"
     },
     "user_tz": -540
    },
    "id": "9ROacBkBpqp_",
    "outputId": "332f94d1-5858-4864-fd72-dd50afd56e38"
   },
   "outputs": [
    {
     "data": {
      "application/vnd.google.colaboratory.intrinsic+json": {
       "type": "string"
      },
      "text/plain": [
       "'0b111011'"
      ]
     },
     "execution_count": 176,
     "metadata": {},
     "output_type": "execute_result"
    }
   ],
   "source": [
    "bin(42 | 59) # 각 원소별로 평가"
   ]
  },
  {
   "cell_type": "code",
   "execution_count": null,
   "metadata": {
    "colab": {
     "base_uri": "https://localhost:8080/"
    },
    "executionInfo": {
     "elapsed": 405,
     "status": "ok",
     "timestamp": 1725242210579,
     "user": {
      "displayName": "김광수",
      "userId": "04260902725982947063"
     },
     "user_tz": -540
    },
    "id": "P79lzhwTpqp_",
    "outputId": "23520201-2f74-40b1-e94f-e0e2d75d085b"
   },
   "outputs": [
    {
     "data": {
      "text/plain": [
       "array([ True,  True,  True, False,  True,  True])"
      ]
     },
     "execution_count": 178,
     "metadata": {},
     "output_type": "execute_result"
    }
   ],
   "source": [
    "A = np.array([1, 0, 1, 0, 1, 0], dtype=bool)\n",
    "B = np.array([1, 1, 1, 0, 1, 1], dtype=bool)\n",
    "A | B"
   ]
  },
  {
   "cell_type": "code",
   "execution_count": null,
   "metadata": {
    "colab": {
     "base_uri": "https://localhost:8080/"
    },
    "executionInfo": {
     "elapsed": 367,
     "status": "ok",
     "timestamp": 1725242213729,
     "user": {
      "displayName": "김광수",
      "userId": "04260902725982947063"
     },
     "user_tz": -540
    },
    "id": "OyW3vuV6pqp_",
    "outputId": "bd40e097-2b51-4d98-c51c-c81ba420b775"
   },
   "outputs": [
    {
     "data": {
      "text/plain": [
       "array([False, False, False, False, False,  True,  True,  True, False,\n",
       "       False])"
      ]
     },
     "execution_count": 179,
     "metadata": {},
     "output_type": "execute_result"
    }
   ],
   "source": [
    "x = np.arange(10)\n",
    "(x > 4) & (x < 8)"
   ]
  },
  {
   "cell_type": "markdown",
   "metadata": {
    "id": "RTVEi20-pqp_"
   },
   "source": [
    "**주의. ``or``와 ``and``연산자는 전체 객체에 대해 단일 부울 평가를 수행한다.**"
   ]
  },
  {
   "cell_type": "code",
   "execution_count": null,
   "metadata": {
    "colab": {
     "base_uri": "https://localhost:8080/",
     "height": 147
    },
    "executionInfo": {
     "elapsed": 385,
     "status": "error",
     "timestamp": 1725242218564,
     "user": {
      "displayName": "김광수",
      "userId": "04260902725982947063"
     },
     "user_tz": -540
    },
    "id": "mifVNuWnpqp_",
    "outputId": "69383b17-8526-462b-f11f-7f6fb7f260c5"
   },
   "outputs": [
    {
     "ename": "ValueError",
     "evalue": "The truth value of an array with more than one element is ambiguous. Use a.any() or a.all()",
     "output_type": "error",
     "traceback": [
      "\u001b[0;31m---------------------------------------------------------------------------\u001b[0m",
      "\u001b[0;31mValueError\u001b[0m                                Traceback (most recent call last)",
      "\u001b[0;32m<ipython-input-180-ea2c97d9d9ee>\u001b[0m in \u001b[0;36m<cell line: 1>\u001b[0;34m()\u001b[0m\n\u001b[0;32m----> 1\u001b[0;31m \u001b[0mA\u001b[0m \u001b[0;32mor\u001b[0m \u001b[0mB\u001b[0m\u001b[0;34m\u001b[0m\u001b[0;34m\u001b[0m\u001b[0m\n\u001b[0m",
      "\u001b[0;31mValueError\u001b[0m: The truth value of an array with more than one element is ambiguous. Use a.any() or a.all()"
     ]
    }
   ],
   "source": [
    "A or B"
   ]
  },
  {
   "cell_type": "code",
   "execution_count": null,
   "metadata": {
    "colab": {
     "base_uri": "https://localhost:8080/"
    },
    "executionInfo": {
     "elapsed": 390,
     "status": "ok",
     "timestamp": 1725242229865,
     "user": {
      "displayName": "김광수",
      "userId": "04260902725982947063"
     },
     "user_tz": -540
    },
    "id": "bxXfuV30pqp_",
    "outputId": "482e014f-14ac-49c1-faa3-e783621a886c"
   },
   "outputs": [
    {
     "data": {
      "text/plain": [
       "array([False, False, False, False, False,  True,  True,  True, False,\n",
       "       False])"
      ]
     },
     "execution_count": 181,
     "metadata": {},
     "output_type": "execute_result"
    }
   ],
   "source": [
    "(x > 4) & (x < 8)"
   ]
  },
  {
   "cell_type": "markdown",
   "metadata": {
    "id": "ALahsFsfpqp_"
   },
   "source": [
    "## 펜시 인덱싱\n",
    "\n",
    "**NumPy** 배열의 팬시 인덱싱은 정수 리스트(혹은 배열)를 이용하여 여러 개를 동시에 선택하는 방식이다."
   ]
  },
  {
   "cell_type": "markdown",
   "metadata": {
    "id": "PZ3O-gYBpqp_"
   },
   "source": [
    "### 펜시 인덱싱 개념"
   ]
  },
  {
   "cell_type": "code",
   "execution_count": null,
   "metadata": {
    "colab": {
     "base_uri": "https://localhost:8080/"
    },
    "executionInfo": {
     "elapsed": 386,
     "status": "ok",
     "timestamp": 1725242240681,
     "user": {
      "displayName": "김광수",
      "userId": "04260902725982947063"
     },
     "user_tz": -540
    },
    "id": "yW7e__QSpqp_",
    "outputId": "957a0a79-1b60-4cfc-f6a3-699988e13589"
   },
   "outputs": [
    {
     "name": "stdout",
     "output_type": "stream",
     "text": [
      "[51 92 14 71 60 20 82 86 74 74]\n"
     ]
    }
   ],
   "source": [
    "rand = np.random.RandomState(42)\n",
    "x = rand.randint(100, size=10)\n",
    "print(x)"
   ]
  },
  {
   "cell_type": "markdown",
   "metadata": {
    "id": "J-k-dgnDpqqA"
   },
   "source": [
    "세 개의 다른 요소에 접근할 수 있다."
   ]
  },
  {
   "cell_type": "code",
   "execution_count": null,
   "metadata": {
    "colab": {
     "base_uri": "https://localhost:8080/"
    },
    "executionInfo": {
     "elapsed": 405,
     "status": "ok",
     "timestamp": 1725242244687,
     "user": {
      "displayName": "김광수",
      "userId": "04260902725982947063"
     },
     "user_tz": -540
    },
    "id": "WD-efR2apqqA",
    "outputId": "148c8273-b0d4-46f5-c1de-0777fa0fe217"
   },
   "outputs": [
    {
     "data": {
      "text/plain": [
       "[71, 86, 14]"
      ]
     },
     "execution_count": 183,
     "metadata": {},
     "output_type": "execute_result"
    }
   ],
   "source": [
    "[x[3], x[7], x[2]]"
   ]
  },
  {
   "cell_type": "markdown",
   "metadata": {
    "id": "b3yaJedVpqqA"
   },
   "source": [
    "인덱스의 단일 리스트나 배열을 전달해 접근할 수 있다."
   ]
  },
  {
   "cell_type": "code",
   "execution_count": null,
   "metadata": {
    "colab": {
     "base_uri": "https://localhost:8080/"
    },
    "executionInfo": {
     "elapsed": 412,
     "status": "ok",
     "timestamp": 1725242248260,
     "user": {
      "displayName": "김광수",
      "userId": "04260902725982947063"
     },
     "user_tz": -540
    },
    "id": "XsFuz4tRpqqA",
    "outputId": "19d383e2-01da-41c4-9e03-97604fd6cae7"
   },
   "outputs": [
    {
     "data": {
      "text/plain": [
       "array([92, 71, 82, 86, 74, 74])"
      ]
     },
     "execution_count": 184,
     "metadata": {},
     "output_type": "execute_result"
    }
   ],
   "source": [
    "x[x > 70]"
   ]
  },
  {
   "cell_type": "code",
   "execution_count": null,
   "metadata": {
    "colab": {
     "base_uri": "https://localhost:8080/"
    },
    "executionInfo": {
     "elapsed": 398,
     "status": "ok",
     "timestamp": 1725242249682,
     "user": {
      "displayName": "김광수",
      "userId": "04260902725982947063"
     },
     "user_tz": -540
    },
    "id": "RT0JbYP0pqqA",
    "outputId": "137263f5-28d8-40e9-8aeb-77878c7cd96b"
   },
   "outputs": [
    {
     "data": {
      "text/plain": [
       "array([1, 3, 6, 7, 8, 9])"
      ]
     },
     "execution_count": 185,
     "metadata": {},
     "output_type": "execute_result"
    }
   ],
   "source": [
    "ind = np.where(x>70)[0]\n",
    "ind"
   ]
  },
  {
   "cell_type": "code",
   "execution_count": null,
   "metadata": {
    "colab": {
     "base_uri": "https://localhost:8080/"
    },
    "executionInfo": {
     "elapsed": 477,
     "status": "ok",
     "timestamp": 1725242252785,
     "user": {
      "displayName": "김광수",
      "userId": "04260902725982947063"
     },
     "user_tz": -540
    },
    "id": "v7zfme7epqqA",
    "outputId": "7702fd64-303f-4b8f-8d58-315d4c2d3ef0"
   },
   "outputs": [
    {
     "data": {
      "text/plain": [
       "array([92, 71, 82, 86, 74, 74])"
      ]
     },
     "execution_count": 186,
     "metadata": {},
     "output_type": "execute_result"
    }
   ],
   "source": [
    "x[ind]"
   ]
  },
  {
   "cell_type": "code",
   "execution_count": null,
   "metadata": {
    "colab": {
     "base_uri": "https://localhost:8080/"
    },
    "executionInfo": {
     "elapsed": 1,
     "status": "ok",
     "timestamp": 1725242253777,
     "user": {
      "displayName": "김광수",
      "userId": "04260902725982947063"
     },
     "user_tz": -540
    },
    "id": "Xw6HlmrepqqB",
    "outputId": "0b6404c9-0a78-402d-b0ae-3c86f538962e"
   },
   "outputs": [
    {
     "data": {
      "text/plain": [
       "array([71, 86, 60])"
      ]
     },
     "execution_count": 187,
     "metadata": {},
     "output_type": "execute_result"
    }
   ],
   "source": [
    "ind = [3, 7, 4]\n",
    "x[ind]"
   ]
  },
  {
   "cell_type": "markdown",
   "metadata": {
    "id": "jFdtmad3pqqB"
   },
   "source": [
    "펜시 인덱싱을 이용하면 인덱스 배열의 형상을 반영할 수 있다."
   ]
  },
  {
   "cell_type": "code",
   "execution_count": null,
   "metadata": {
    "colab": {
     "base_uri": "https://localhost:8080/"
    },
    "executionInfo": {
     "elapsed": 387,
     "status": "ok",
     "timestamp": 1725242257411,
     "user": {
      "displayName": "김광수",
      "userId": "04260902725982947063"
     },
     "user_tz": -540
    },
    "id": "LBntDUsjpqqB",
    "outputId": "20ab8bb6-e551-45f6-ffef-7c48bf9d116d"
   },
   "outputs": [
    {
     "name": "stdout",
     "output_type": "stream",
     "text": [
      "[51 92 14 71 60 20 82 86 74 74]\n"
     ]
    },
    {
     "data": {
      "text/plain": [
       "array([[71, 86],\n",
       "       [60, 20]])"
      ]
     },
     "execution_count": 188,
     "metadata": {},
     "output_type": "execute_result"
    }
   ],
   "source": [
    "ind = np.array([[3, 7],\n",
    "                [4, 5]])\n",
    "print(x)\n",
    "x[ind]"
   ]
  },
  {
   "cell_type": "markdown",
   "metadata": {
    "id": "CaXe-kPSBJyk"
   },
   "source": [
    "index로 형상이 따라가게 됨"
   ]
  },
  {
   "cell_type": "markdown",
   "metadata": {
    "id": "PBnfkT76pqqB"
   },
   "source": [
    "다차원 예제:"
   ]
  },
  {
   "cell_type": "code",
   "execution_count": null,
   "metadata": {
    "colab": {
     "base_uri": "https://localhost:8080/"
    },
    "executionInfo": {
     "elapsed": 375,
     "status": "ok",
     "timestamp": 1725242268116,
     "user": {
      "displayName": "김광수",
      "userId": "04260902725982947063"
     },
     "user_tz": -540
    },
    "id": "QvqPwhFMpqqC",
    "outputId": "58372ab7-3e99-4e1b-ddfd-9e7362595b12"
   },
   "outputs": [
    {
     "data": {
      "text/plain": [
       "array([[ 0,  1,  2,  3],\n",
       "       [ 4,  5,  6,  7],\n",
       "       [ 8,  9, 10, 11]])"
      ]
     },
     "execution_count": 189,
     "metadata": {},
     "output_type": "execute_result"
    }
   ],
   "source": [
    "X = np.arange(12).reshape((3, 4))\n",
    "X"
   ]
  },
  {
   "cell_type": "code",
   "execution_count": null,
   "metadata": {
    "colab": {
     "base_uri": "https://localhost:8080/"
    },
    "executionInfo": {
     "elapsed": 375,
     "status": "ok",
     "timestamp": 1725242271387,
     "user": {
      "displayName": "김광수",
      "userId": "04260902725982947063"
     },
     "user_tz": -540
    },
    "id": "2RcHM3tVpqqC",
    "outputId": "b5b52a72-92c2-4180-f2cf-a2dfb365f317"
   },
   "outputs": [
    {
     "data": {
      "text/plain": [
       "array([ 2,  5, 11])"
      ]
     },
     "execution_count": 190,
     "metadata": {},
     "output_type": "execute_result"
    }
   ],
   "source": [
    "row = np.array([0, 1, 2])\n",
    "col = np.array([2, 1, 3])\n",
    "X[row, col]"
   ]
  },
  {
   "cell_type": "markdown",
   "metadata": {
    "id": "Ph2dweTGBkb7"
   },
   "source": [
    "2차원 인덱싱을 하고 있음에 유의"
   ]
  },
  {
   "cell_type": "code",
   "execution_count": null,
   "metadata": {
    "colab": {
     "base_uri": "https://localhost:8080/"
    },
    "executionInfo": {
     "elapsed": 386,
     "status": "ok",
     "timestamp": 1725242286250,
     "user": {
      "displayName": "김광수",
      "userId": "04260902725982947063"
     },
     "user_tz": -540
    },
    "id": "JcanNq9kpqqC",
    "outputId": "a8ed6f93-ddf9-4054-960e-72eb09f50029"
   },
   "outputs": [
    {
     "data": {
      "text/plain": [
       "array([[ 2,  1,  3],\n",
       "       [ 6,  5,  7],\n",
       "       [10,  9, 11]])"
      ]
     },
     "execution_count": 191,
     "metadata": {},
     "output_type": "execute_result"
    }
   ],
   "source": [
    "X[row[:,np.newaxis], col] #[0,1,2]^T [2,1,3]: 첨자행렬#"
   ]
  },
  {
   "cell_type": "markdown",
   "metadata": {
    "id": "4Kdqct7id26O"
   },
   "source": [
    "(0,0) 원소의 인텍싱은 (0,2), (2,2) 원소의 인텍싱은 (2,3)과 같이 됨"
   ]
  },
  {
   "cell_type": "code",
   "execution_count": null,
   "metadata": {
    "id": "hq01Q3e4d2vK"
   },
   "outputs": [],
   "source": []
  },
  {
   "cell_type": "code",
   "execution_count": null,
   "metadata": {
    "colab": {
     "base_uri": "https://localhost:8080/"
    },
    "executionInfo": {
     "elapsed": 414,
     "status": "ok",
     "timestamp": 1725242484287,
     "user": {
      "displayName": "김광수",
      "userId": "04260902725982947063"
     },
     "user_tz": -540
    },
    "id": "NlmNg6s_pqqF",
    "outputId": "2b9237d4-f7be-4ac4-b530-642b1f58df66"
   },
   "outputs": [
    {
     "name": "stdout",
     "output_type": "stream",
     "text": [
      "[0 1 2]\n"
     ]
    },
    {
     "data": {
      "text/plain": [
       "array([[0],\n",
       "       [1],\n",
       "       [2]])"
      ]
     },
     "execution_count": 193,
     "metadata": {},
     "output_type": "execute_result"
    }
   ],
   "source": [
    "print(row)\n",
    "row[:,np.newaxis]  #[0,1,2]^T [2,1,3]: 왼쪽#"
   ]
  },
  {
   "cell_type": "code",
   "execution_count": null,
   "metadata": {
    "colab": {
     "base_uri": "https://localhost:8080/"
    },
    "executionInfo": {
     "elapsed": 371,
     "status": "ok",
     "timestamp": 1725242486712,
     "user": {
      "displayName": "김광수",
      "userId": "04260902725982947063"
     },
     "user_tz": -540
    },
    "id": "tTOHs5GhpqqF",
    "outputId": "ba02d157-61c4-4e69-a551-58dbf07946d0"
   },
   "outputs": [
    {
     "data": {
      "text/plain": [
       "array([2, 1, 3])"
      ]
     },
     "execution_count": 194,
     "metadata": {},
     "output_type": "execute_result"
    }
   ],
   "source": [
    "col #[0,1,2]^T [2,1,3]: 오른쪽#"
   ]
  },
  {
   "cell_type": "markdown",
   "metadata": {
    "id": "6lLrTNtgpqqF"
   },
   "source": [
    "### 결합 인덱싱"
   ]
  },
  {
   "cell_type": "code",
   "execution_count": null,
   "metadata": {
    "colab": {
     "base_uri": "https://localhost:8080/"
    },
    "executionInfo": {
     "elapsed": 480,
     "status": "ok",
     "timestamp": 1725242554243,
     "user": {
      "displayName": "김광수",
      "userId": "04260902725982947063"
     },
     "user_tz": -540
    },
    "id": "qorpEq4BpqqG",
    "outputId": "4a82d371-dcc4-404d-9401-2d28e03f6b7b"
   },
   "outputs": [
    {
     "name": "stdout",
     "output_type": "stream",
     "text": [
      "[[ 0  1  2  3]\n",
      " [ 4  5  6  7]\n",
      " [ 8  9 10 11]]\n"
     ]
    }
   ],
   "source": [
    "print(X)"
   ]
  },
  {
   "cell_type": "code",
   "execution_count": null,
   "metadata": {
    "colab": {
     "base_uri": "https://localhost:8080/"
    },
    "executionInfo": {
     "elapsed": 2,
     "status": "ok",
     "timestamp": 1725242554776,
     "user": {
      "displayName": "김광수",
      "userId": "04260902725982947063"
     },
     "user_tz": -540
    },
    "id": "v9Eg_P3HpqqG",
    "outputId": "f5f8b4b5-5fdf-45e2-ebdc-973cbaf2c9bc"
   },
   "outputs": [
    {
     "data": {
      "text/plain": [
       "array([10,  8,  9])"
      ]
     },
     "execution_count": 196,
     "metadata": {},
     "output_type": "execute_result"
    }
   ],
   "source": [
    "X[2, [2, 0, 1]]"
   ]
  },
  {
   "cell_type": "code",
   "execution_count": null,
   "metadata": {
    "colab": {
     "base_uri": "https://localhost:8080/"
    },
    "executionInfo": {
     "elapsed": 392,
     "status": "ok",
     "timestamp": 1725242560617,
     "user": {
      "displayName": "김광수",
      "userId": "04260902725982947063"
     },
     "user_tz": -540
    },
    "id": "Kn6i3QxnpqqG",
    "outputId": "c96ade6f-ed91-40e7-89a6-ae2aa300018b"
   },
   "outputs": [
    {
     "data": {
      "text/plain": [
       "array([[ 6,  4,  5],\n",
       "       [10,  8,  9]])"
      ]
     },
     "execution_count": 197,
     "metadata": {},
     "output_type": "execute_result"
    }
   ],
   "source": [
    "X[1:, [2, 0, 1]]"
   ]
  },
  {
   "cell_type": "markdown",
   "metadata": {
    "id": "07dxedXECbwE"
   },
   "source": [
    "2차원 인덱싱 방법"
   ]
  },
  {
   "cell_type": "code",
   "execution_count": null,
   "metadata": {
    "colab": {
     "base_uri": "https://localhost:8080/"
    },
    "executionInfo": {
     "elapsed": 361,
     "status": "ok",
     "timestamp": 1725242618209,
     "user": {
      "displayName": "김광수",
      "userId": "04260902725982947063"
     },
     "user_tz": -540
    },
    "id": "UDMHWDUIpqqG",
    "outputId": "3889fe19-1e26-485c-b421-16fe3a4eaece"
   },
   "outputs": [
    {
     "name": "stdout",
     "output_type": "stream",
     "text": [
      "[[0]\n",
      " [1]\n",
      " [2]]\n",
      "[[ 0  1  2  3]\n",
      " [ 4  5  6  7]\n",
      " [ 8  9 10 11]]\n"
     ]
    },
    {
     "data": {
      "text/plain": [
       "array([[ 0,  2],\n",
       "       [ 4,  6],\n",
       "       [ 8, 10]])"
      ]
     },
     "execution_count": 200,
     "metadata": {},
     "output_type": "execute_result"
    }
   ],
   "source": [
    "row = np.array([0, 1, 2])\n",
    "print(row[:, np.newaxis])\n",
    "\n",
    "print(X)\n",
    "mask = np.array([1, 0, 1, 0], dtype=bool) # (0,2) 만 유효함\n",
    "X[row[:, np.newaxis], mask] #[0,1,2]^T [0,2]"
   ]
  },
  {
   "cell_type": "code",
   "execution_count": null,
   "metadata": {
    "colab": {
     "base_uri": "https://localhost:8080/"
    },
    "executionInfo": {
     "elapsed": 389,
     "status": "ok",
     "timestamp": 1725242658307,
     "user": {
      "displayName": "김광수",
      "userId": "04260902725982947063"
     },
     "user_tz": -540
    },
    "id": "1Xo-jc1wpqqG",
    "outputId": "dcdeace2-85e8-453a-99be-8e9e18026965"
   },
   "outputs": [
    {
     "data": {
      "text/plain": [
       "array([ True, False,  True, False])"
      ]
     },
     "execution_count": 201,
     "metadata": {},
     "output_type": "execute_result"
    }
   ],
   "source": [
    "mask #[0,2] 와 동일 #"
   ]
  },
  {
   "cell_type": "markdown",
   "metadata": {
    "id": "BB-z28YnpqqG"
   },
   "source": [
    "### 펜시 인덱싱으로 값 변경"
   ]
  },
  {
   "cell_type": "code",
   "execution_count": null,
   "metadata": {
    "colab": {
     "base_uri": "https://localhost:8080/"
    },
    "executionInfo": {
     "elapsed": 3,
     "status": "ok",
     "timestamp": 1725242670098,
     "user": {
      "displayName": "김광수",
      "userId": "04260902725982947063"
     },
     "user_tz": -540
    },
    "id": "ULdjquo3pqqG",
    "outputId": "951de917-f30b-40f0-d763-da68b29aa459"
   },
   "outputs": [
    {
     "name": "stdout",
     "output_type": "stream",
     "text": [
      "[ 0 99 99  3 99  5  6  7 99  9]\n"
     ]
    }
   ],
   "source": [
    "x = np.arange(10)\n",
    "i = np.array([2, 1, 8, 4])\n",
    "x[i] = 99\n",
    "print(x)"
   ]
  },
  {
   "cell_type": "code",
   "execution_count": null,
   "metadata": {
    "colab": {
     "base_uri": "https://localhost:8080/"
    },
    "executionInfo": {
     "elapsed": 365,
     "status": "ok",
     "timestamp": 1725242670973,
     "user": {
      "displayName": "김광수",
      "userId": "04260902725982947063"
     },
     "user_tz": -540
    },
    "id": "RCQWINF-pqqG",
    "outputId": "3ff24d0c-1409-46a4-cf18-e18f85d052ed"
   },
   "outputs": [
    {
     "name": "stdout",
     "output_type": "stream",
     "text": [
      "[ 0 89 89  3 89  5  6  7 89  9]\n"
     ]
    }
   ],
   "source": [
    "x[i] -= 10\n",
    "print(x)"
   ]
  },
  {
   "cell_type": "markdown",
   "metadata": {
    "id": "98D1ux5MpqqG"
   },
   "source": [
    "다음의 예는 반복되는 인덱스를 사용했을 때의 결과이다. 먼저 ``x[0] = 4``가 할당되고 ``x[1] = 6``이 할당된다."
   ]
  },
  {
   "cell_type": "code",
   "execution_count": null,
   "metadata": {
    "colab": {
     "base_uri": "https://localhost:8080/"
    },
    "executionInfo": {
     "elapsed": 2,
     "status": "ok",
     "timestamp": 1725242716969,
     "user": {
      "displayName": "김광수",
      "userId": "04260902725982947063"
     },
     "user_tz": -540
    },
    "id": "hfAls8YvpqqG",
    "outputId": "cb0b8c96-3353-48c7-ffc9-dd23d9196ac9"
   },
   "outputs": [
    {
     "name": "stdout",
     "output_type": "stream",
     "text": [
      "[4. 6. 0. 0. 0. 0. 0. 0. 0. 0.]\n"
     ]
    }
   ],
   "source": [
    "x = np.zeros(10)\n",
    "x[[0, 1]] = [4, 6]\n",
    "print(x)"
   ]
  },
  {
   "cell_type": "code",
   "execution_count": null,
   "metadata": {
    "colab": {
     "base_uri": "https://localhost:8080/"
    },
    "executionInfo": {
     "elapsed": 380,
     "status": "ok",
     "timestamp": 1725242720814,
     "user": {
      "displayName": "김광수",
      "userId": "04260902725982947063"
     },
     "user_tz": -540
    },
    "id": "tWQUhfE-pqqH",
    "outputId": "74a2b630-5000-45e2-f6e6-cc2a13088ea2"
   },
   "outputs": [
    {
     "name": "stdout",
     "output_type": "stream",
     "text": [
      "[4. 6. 1. 1. 1. 1. 0. 0. 0. 0.]\n"
     ]
    }
   ],
   "source": [
    "i = [2, 3, 3, 4, 4, 4, 5]\n",
    "x[i] += 1\n",
    "print(x)\n",
    "## 중복이 영향을 안줌 (위치만 확인하고 비중은 없음)"
   ]
  },
  {
   "cell_type": "code",
   "execution_count": null,
   "metadata": {
    "colab": {
     "base_uri": "https://localhost:8080/"
    },
    "executionInfo": {
     "elapsed": 374,
     "status": "ok",
     "timestamp": 1725242725960,
     "user": {
      "displayName": "김광수",
      "userId": "04260902725982947063"
     },
     "user_tz": -540
    },
    "id": "k_po4vXEpqqH",
    "outputId": "e4d95bb0-4f3b-43ae-ca4f-77dcf48b2525"
   },
   "outputs": [
    {
     "name": "stdout",
     "output_type": "stream",
     "text": [
      "[2, 3, 3, 4, 4, 4, 5]\n",
      "[0. 0. 1. 2. 3. 1. 0. 0. 0. 0.]\n"
     ]
    }
   ],
   "source": [
    "x = np.zeros(10)\n",
    "print(i)\n",
    "np.add.at(x, i, 1)\n",
    "print(x)\n",
    "# 중복이 영향을 주는 경우"
   ]
  },
  {
   "cell_type": "markdown",
   "metadata": {
    "id": "FSumm1tqpqqH"
   },
   "source": [
    "## 배열 정렬\n",
    "\n",
    "**NumPy**에서는 배열의 값을 정렬하는 알고리즘을 제공한다."
   ]
  },
  {
   "cell_type": "markdown",
   "metadata": {
    "id": "i3qiUj78pqqH"
   },
   "source": [
    "### 빠른 정렬 : ``np.sort`` and ``np.argsort``\n",
    "\n",
    "기본적으로 퀵 정렬(quick sorts) 알고리즘을 사용한다."
   ]
  },
  {
   "cell_type": "code",
   "execution_count": null,
   "metadata": {
    "colab": {
     "base_uri": "https://localhost:8080/"
    },
    "executionInfo": {
     "elapsed": 382,
     "status": "ok",
     "timestamp": 1725242738559,
     "user": {
      "displayName": "김광수",
      "userId": "04260902725982947063"
     },
     "user_tz": -540
    },
    "id": "NFlPVz_mpqqH",
    "outputId": "54e4d8a3-ff7e-4467-ad57-5fc31985153d"
   },
   "outputs": [
    {
     "data": {
      "text/plain": [
       "array([1, 2, 3, 4, 5])"
      ]
     },
     "execution_count": 210,
     "metadata": {},
     "output_type": "execute_result"
    }
   ],
   "source": [
    "x = np.array([2, 1, 4, 3, 5])\n",
    "np.sort(x)"
   ]
  },
  {
   "cell_type": "code",
   "execution_count": null,
   "metadata": {
    "colab": {
     "base_uri": "https://localhost:8080/"
    },
    "executionInfo": {
     "elapsed": 366,
     "status": "ok",
     "timestamp": 1725242741444,
     "user": {
      "displayName": "김광수",
      "userId": "04260902725982947063"
     },
     "user_tz": -540
    },
    "id": "CEa13v_DpqqH",
    "outputId": "7b7866e0-445f-4ca6-cae8-20bac7d50738"
   },
   "outputs": [
    {
     "name": "stdout",
     "output_type": "stream",
     "text": [
      "[1 2 3 4 5]\n"
     ]
    }
   ],
   "source": [
    "x.sort()\n",
    "print(x)"
   ]
  },
  {
   "cell_type": "markdown",
   "metadata": {
    "id": "dDRR0mUqpqqH"
   },
   "source": [
    "참고. 옵션을 사용하면 병합정렬(mergesort)와 힙정렬(heapsort)도 사용할 수 있다 (알고리즘의 구분)."
   ]
  },
  {
   "cell_type": "markdown",
   "metadata": {
    "id": "156mKlgvpqqH"
   },
   "source": [
    "정렬된 요소의 인덱스를 반환"
   ]
  },
  {
   "cell_type": "code",
   "execution_count": null,
   "metadata": {
    "colab": {
     "base_uri": "https://localhost:8080/"
    },
    "executionInfo": {
     "elapsed": 374,
     "status": "ok",
     "timestamp": 1725242747827,
     "user": {
      "displayName": "김광수",
      "userId": "04260902725982947063"
     },
     "user_tz": -540
    },
    "id": "0MIm2EbvpqqI",
    "outputId": "e7c430dc-f377-4aa2-cbfb-db3625972a28"
   },
   "outputs": [
    {
     "name": "stdout",
     "output_type": "stream",
     "text": [
      "[1 0 3 2 4]\n"
     ]
    }
   ],
   "source": [
    "x = np.array([2, 1, 4, 3, 5])\n",
    "i = np.argsort(x)\n",
    "print(i)"
   ]
  },
  {
   "cell_type": "code",
   "execution_count": null,
   "metadata": {
    "colab": {
     "base_uri": "https://localhost:8080/"
    },
    "executionInfo": {
     "elapsed": 375,
     "status": "ok",
     "timestamp": 1725242752261,
     "user": {
      "displayName": "김광수",
      "userId": "04260902725982947063"
     },
     "user_tz": -540
    },
    "id": "Qp14xLivpqqI",
    "outputId": "726a6f1c-e3d6-4515-9c17-97e54e69b12b"
   },
   "outputs": [
    {
     "data": {
      "text/plain": [
       "array([1, 2, 3, 4, 5])"
      ]
     },
     "execution_count": 213,
     "metadata": {},
     "output_type": "execute_result"
    }
   ],
   "source": [
    "x[i]"
   ]
  },
  {
   "cell_type": "markdown",
   "metadata": {
    "id": "sTLjy78ApqqI"
   },
   "source": [
    "### 행 혹은 열 기준 정렬"
   ]
  },
  {
   "cell_type": "code",
   "execution_count": null,
   "metadata": {
    "colab": {
     "base_uri": "https://localhost:8080/"
    },
    "executionInfo": {
     "elapsed": 390,
     "status": "ok",
     "timestamp": 1725242799746,
     "user": {
      "displayName": "김광수",
      "userId": "04260902725982947063"
     },
     "user_tz": -540
    },
    "id": "cfdIujAfpqqI",
    "outputId": "6c367e1e-6931-4e7e-dcf3-4d4cdbf817b9"
   },
   "outputs": [
    {
     "name": "stdout",
     "output_type": "stream",
     "text": [
      "[[6 3 7 4 6 9]\n",
      " [2 6 7 4 3 7]\n",
      " [7 2 5 4 1 7]\n",
      " [5 1 4 0 9 5]]\n"
     ]
    }
   ],
   "source": [
    "rand = np.random.RandomState(42)\n",
    "X = rand.randint(0, 10, (4, 6))\n",
    "print(X)"
   ]
  },
  {
   "cell_type": "code",
   "execution_count": null,
   "metadata": {
    "colab": {
     "base_uri": "https://localhost:8080/"
    },
    "executionInfo": {
     "elapsed": 375,
     "status": "ok",
     "timestamp": 1725242826766,
     "user": {
      "displayName": "김광수",
      "userId": "04260902725982947063"
     },
     "user_tz": -540
    },
    "id": "ZjATzCEBpqqI",
    "outputId": "81daf6da-1c94-4aaf-eaac-8b392c7af5cb"
   },
   "outputs": [
    {
     "data": {
      "text/plain": [
       "array([[2, 1, 4, 0, 1, 5],\n",
       "       [5, 2, 5, 4, 3, 7],\n",
       "       [6, 3, 7, 4, 6, 7],\n",
       "       [7, 6, 7, 4, 9, 9]])"
      ]
     },
     "execution_count": 215,
     "metadata": {},
     "output_type": "execute_result"
    }
   ],
   "source": [
    "# sort each column of X\n",
    "np.sort(X, axis=0)"
   ]
  },
  {
   "cell_type": "code",
   "execution_count": null,
   "metadata": {
    "colab": {
     "base_uri": "https://localhost:8080/"
    },
    "executionInfo": {
     "elapsed": 357,
     "status": "ok",
     "timestamp": 1725242838416,
     "user": {
      "displayName": "김광수",
      "userId": "04260902725982947063"
     },
     "user_tz": -540
    },
    "id": "iUaVzX1bpqqI",
    "outputId": "a96a6801-5006-4fd7-bcf2-885d968db76f"
   },
   "outputs": [
    {
     "data": {
      "text/plain": [
       "array([[3, 4, 6, 6, 7, 9],\n",
       "       [2, 3, 4, 6, 7, 7],\n",
       "       [1, 2, 4, 5, 7, 7],\n",
       "       [0, 1, 4, 5, 5, 9]])"
      ]
     },
     "execution_count": 216,
     "metadata": {},
     "output_type": "execute_result"
    }
   ],
   "source": [
    "# sort each row of X\n",
    "np.sort(X, axis=1)"
   ]
  },
  {
   "cell_type": "markdown",
   "metadata": {
    "id": "sEq443bppqqI"
   },
   "source": [
    "## 부분 정렬 : 파티션\n",
    "\n",
    "배열과 숫자 K를 취해 새로운 배열을 반환할 수 있다. 이때, K개의 가장 작은 값이 왼쪽에 있고 오른쪽에는 나머지 값이 채워진다. 순서는 임의로 정해진다."
   ]
  },
  {
   "cell_type": "code",
   "execution_count": null,
   "metadata": {
    "colab": {
     "base_uri": "https://localhost:8080/"
    },
    "executionInfo": {
     "elapsed": 373,
     "status": "ok",
     "timestamp": 1725242902256,
     "user": {
      "displayName": "김광수",
      "userId": "04260902725982947063"
     },
     "user_tz": -540
    },
    "id": "M4WCCDXwpqqI",
    "outputId": "729b1357-7cf2-4e27-c7cf-6e507ac586cc"
   },
   "outputs": [
    {
     "name": "stdout",
     "output_type": "stream",
     "text": [
      "[1 2 3 7 6 5 4]\n"
     ]
    }
   ],
   "source": [
    "x = np.array([7, 2, 3, 1, 6, 5, 4])\n",
    "print(np.partition(x, 2))"
   ]
  },
  {
   "cell_type": "markdown",
   "metadata": {
    "id": "ZwgJ8Nb0EAc0"
   },
   "source": [
    "(2,1,3) / (4,6,5,7) = (1,2,3) / (4,5,6,7)"
   ]
  },
  {
   "cell_type": "markdown",
   "metadata": {
    "id": "r3dWfBccpqqI"
   },
   "source": [
    "참고. 인덱스를 반환하는 ``np.argpartition`` 함수가 있다."
   ]
  }
 ],
 "metadata": {
  "anaconda-cloud": {},
  "colab": {
   "name": "",
   "version": ""
  },
  "kernelspec": {
   "display_name": "Python 3",
   "language": "python",
   "name": "python3"
  },
  "language_info": {
   "codemirror_mode": {
    "name": "ipython",
    "version": 3
   },
   "file_extension": ".py",
   "mimetype": "text/x-python",
   "name": "python",
   "nbconvert_exporter": "python",
   "pygments_lexer": "ipython3",
   "version": "3.7.3"
  }
 },
 "nbformat": 4,
 "nbformat_minor": 0
}
